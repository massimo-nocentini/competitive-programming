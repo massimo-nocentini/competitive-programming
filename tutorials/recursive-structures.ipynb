{
 "cells": [
  {
   "cell_type": "markdown",
   "metadata": {},
   "source": [
    "<div align=\"right\">\n",
    "Massimo Nocentini<br>\n",
    "<br>May 29, 2016: Linearization\n",
    "<br>May 28, 2016: Binary Forests, Sigmoids\n",
    "<br>May 27, 2016: Binary and Ternary Trees, Dick paths\n",
    "<br>May 26, 2016: structure generation\n",
    "</div>\n",
    "<br>\n",
    "<div align=\"center\">\n",
    "<b>Abstract</b><br>\n",
    "This document collect some examples about *recursively-defined structures*.\n",
    "</div>"
   ]
  },
  {
   "cell_type": "code",
   "execution_count": 383,
   "metadata": {
    "collapsed": true
   },
   "outputs": [],
   "source": [
    "%matplotlib inline\n",
    "%run ../python-libs/bits.py\n",
    "%run ../python-libs/timing.py\n",
    "%run ../python-libs/graycodes.py\n",
    "%run ../python-libs/symbols.py"
   ]
  },
  {
   "cell_type": "code",
   "execution_count": 455,
   "metadata": {
    "collapsed": false
   },
   "outputs": [],
   "source": [
    "from collections import namedtuple\n",
    "\n",
    "Anchor = namedtuple('Anchor', ['symbol', 'stars'])\n",
    "Star = namedtuple('Star', ['row', 'col', 'offsets', 'link', 'symbol'])\n",
    "\n",
    "# numbering and coordinates are inverses the one of the other                  \n",
    "def coordinates(group):\n",
    "    \n",
    "    def do(anchor):\n",
    "        c, r = divmod(anchor, group)\n",
    "        return r, c # simply flip them\n",
    "\n",
    "    return do\n",
    "\n",
    "def numbering(group):\n",
    "    \n",
    "    def do(coordinate):\n",
    "        r, c = coordinate\n",
    "        return r + group*c\n",
    "\n",
    "    return do\n",
    "\n",
    "#_______________________________________________________________\n",
    "\n",
    "def recursive_structures(shapes_spec, start_cell, locating):\n",
    "    \"Returns a generator of structures according `shapes` recursion schemas, starting at anchor `init`.\"\n",
    "    \n",
    "    from collections import defaultdict, deque\n",
    "    \n",
    "    shapes_descr, initial_shape = shapes_spec\n",
    "    coordinates, numbering = locating\n",
    "            \n",
    "    def gen(generation):\n",
    "\n",
    "        yield generation\n",
    "\n",
    "        next_generation = []\n",
    "        for anchors, stars, shapes, (anchors_table, stars_table) in generation:\n",
    "            while stars: # `stars` is an integer to be used as bitmask: 1 in position k \n",
    "                         # means that a ★ is present at cell numbered k\n",
    "                \n",
    "                anchor, stars = low_bit_and_clear(stars)\n",
    "                r, c = coordinates(anchor)\n",
    "                \n",
    "                # get the corresponding `shape` object\n",
    "                s = shapes.popleft()\n",
    "                anchor_tuple = s(r, c)\n",
    "            \n",
    "                current_anchors_table, current_stars_table = {}, {}\n",
    "                current_anchors_table.update(anchors_table)\n",
    "            \n",
    "                del stars_table[r, c]\n",
    "                current_stars_table.update(stars_table)\n",
    "                \n",
    "                # remember the anchor symbol\n",
    "                current_anchors_table[r, c] = anchor_tuple.symbol\n",
    "                \n",
    "                # preparing for looping on stars\n",
    "                augmented_stars = stars\n",
    "                new_shapes = deque()\n",
    "                \n",
    "                for star in anchor_tuple.stars:\n",
    "                    rs, cs, offsets = star.row, star.col, star.offsets\n",
    "                    \n",
    "                    if offsets:\n",
    "                        r_offset, c_offset = offsets\n",
    "                        translating_stars = ones_of(augmented_stars)\n",
    "                        augmented_stars = 0\n",
    "                        inner_stars_table = {}\n",
    "                        for ts in translating_stars:\n",
    "                            ts_r, ts_c = coordinates(ts)\n",
    "                            symbol = current_stars_table[ts_r, ts_c]\n",
    "                            translated = ts_r + r_offset, ts_c + c_offset\n",
    "                            augmented_stars = set_bit(augmented_stars, numbering(translated))\n",
    "                            inner_stars_table[translated]=symbol\n",
    "                        current_stars_table = inner_stars_table\n",
    "\n",
    "                    current_stars_table[rs, cs] = star.symbol\n",
    "                    new_shapes.append(shapes_descr[star.link])\n",
    "                    star_cell = numbering((rs,cs),)\n",
    "                    augmented_stars = set_bit(augmented_stars, star_cell)\n",
    "                \n",
    "                struct = (set_bit(anchors, anchor), augmented_stars, new_shapes + shapes, \n",
    "                          (current_anchors_table, current_stars_table))\n",
    "                next_generation.append(struct)\n",
    "\n",
    "        yield from gen(next_generation)\n",
    "                \n",
    "            \n",
    "    initial_structure = (0b0, 1 << start_cell, \n",
    "                         deque([shapes_descr[initial_shape]]), \n",
    "                         ({}, {coordinates(start_cell):'★'}))\n",
    "    \n",
    "    return gen([initial_structure])\n",
    "\n",
    "#________________________________________________________________________________________\n",
    "def make_pretty(dim, joiner=' '):\n",
    "    \n",
    "    def pretty(structures,):\n",
    "        from collections import defaultdict\n",
    "\n",
    "        rows, cols = dim\n",
    "\n",
    "        strings = []\n",
    "        for anchors, stars, shapes, (anchors_table, stars_table) in structures:\n",
    "\n",
    "            table = defaultdict(lambda: joiner)\n",
    "            \n",
    "            for k, v in anchors_table.items():\n",
    "                table[k] = table[k] + '|' + v if k in table else v\n",
    "\n",
    "            for k, v in stars_table.items():\n",
    "                table[k] = table[k] + '|' + v if k in table else v\n",
    "\n",
    "            s = ''\n",
    "            for r in range(rows):\n",
    "                s += joiner.join(table[r, c] for c in range(cols)) + '\\n'\n",
    "\n",
    "            strings.append(s)\n",
    "\n",
    "        return  ''.join(strings)\n",
    "    \n",
    "    return pretty"
   ]
  },
  {
   "cell_type": "markdown",
   "metadata": {},
   "source": [
    "# Triangulated polygons"
   ]
  },
  {
   "cell_type": "code",
   "execution_count": 436,
   "metadata": {
    "collapsed": true
   },
   "outputs": [],
   "source": [
    "# in the following, the symbol ★ has a generation power, \n",
    "# namely produces a new structure with the basic shape replacing it.\n",
    "\n",
    "\"\"\"\n",
    "★▲★  :nord\n",
    "\n",
    "★▲   :sw\n",
    " ★\n",
    " \n",
    "▲★   :se\n",
    "★\n",
    "\n",
    " ★\n",
    "★▼   :nw\n",
    "\n",
    "★\n",
    "▼★   :ne\n",
    "\n",
    "★▼★  :south\n",
    "\n",
    "\"\"\"\n",
    "shapes = {\n",
    "    'north': lambda r, c: Anchor(symbol='▲', stars=[\n",
    "                Star(row=r, col=c-1, offsets=None, link='nw', symbol='★'),\n",
    "                Star(row=r, col=c+1, offsets=None, link='ne', symbol='★'),]),\n",
    "    'sw':   lambda r, c: Anchor(symbol='▲', stars=[\n",
    "                Star(row=r, col=c-1, offsets=None, link='nw', symbol='★'),\n",
    "                Star(row=r+1, col=c, offsets=None, link='south', symbol='★'),]),\n",
    "    'se':   lambda r, c: Anchor(symbol='▲', stars=[\n",
    "                Star(row=r+1, col=c, offsets=None, link='south', symbol='★'),\n",
    "                Star(row=r, col=c+1, offsets=None, link='ne', symbol='★'),]),\n",
    "    'nw':   lambda r, c: Anchor(symbol='▼', stars=[\n",
    "                Star(row=r, col=c-1, offsets=None, link='sw', symbol='★'),\n",
    "                Star(row=r-1, col=c, offsets=None, link='north', symbol='★'),]),\n",
    "    'ne':   lambda r, c: Anchor(symbol='▼', stars=[\n",
    "                Star(row=r-1, col=c, offsets=None, link='north', symbol='★'),\n",
    "                Star(row=r, col=c+1, offsets=None, link='se', symbol='★'),]),\n",
    "    'south': lambda r, c: Anchor(symbol='▼', stars=[\n",
    "                Star(row=r, col=c-1, offsets=None, link='sw', symbol='★'),\n",
    "                Star(row=r, col=c+1, offsets=None, link='se', symbol='★'),]),\n",
    "}"
   ]
  },
  {
   "cell_type": "code",
   "execution_count": 373,
   "metadata": {
    "collapsed": true
   },
   "outputs": [],
   "source": [
    "# skip this, now the above pretty printer should work\n",
    "def make_pretty_old(dim, joiner=' '):\n",
    "    \n",
    "    from collections import defaultdict\n",
    "\n",
    "    rows, cols = dim\n",
    "    \n",
    "    def pretty(structures):\n",
    "        strings = []\n",
    "        for anchors, stars, shapes, (anchors_table, stars_table) in structures:\n",
    "            #print(anchors_table)\n",
    "            table = defaultdict(lambda: joiner)\n",
    "\n",
    "            for a in ones_of(anchors):\n",
    "                ca = coor(a)\n",
    "                table[ca] = table[ca] + '|' + anchors_table[ca] if ca in table else anchors_table[ca]\n",
    "\n",
    "            for s in ones_of(stars):\n",
    "                cs = coor(s)\n",
    "                table[cs] = table[cs] + '|★' if cs in table else '★'\n",
    "\n",
    "            s = ''\n",
    "            for r in range(rows):\n",
    "                s += joiner.join(table[r, c] for c in range(cols)) + '\\n'\n",
    "\n",
    "            strings.append(s)\n",
    "\n",
    "        return  ''.join(strings)\n",
    "    \n",
    "    return pretty"
   ]
  },
  {
   "cell_type": "code",
   "execution_count": 437,
   "metadata": {
    "collapsed": false
   },
   "outputs": [],
   "source": [
    "rows, cols = 8, 25\n",
    "coor, number = coordinates(rows), numbering(rows)\n",
    "\n",
    "# starts at the first cell of the 13th column\n",
    "bin_trees = recursive_structures((shapes, 'north'), rows*12+4, (coor, number))\n",
    "representations = map(make_pretty((rows, cols),), bin_trees)"
   ]
  },
  {
   "cell_type": "markdown",
   "metadata": {},
   "source": [
    "First generation contains only the *seed* symbol ★"
   ]
  },
  {
   "cell_type": "code",
   "execution_count": 438,
   "metadata": {
    "collapsed": false
   },
   "outputs": [
    {
     "name": "stdout",
     "output_type": "stream",
     "text": [
      "                                                 \n",
      "                                                 \n",
      "                                                 \n",
      "                                                 \n",
      "                        ★                        \n",
      "                                                 \n",
      "                                                 \n",
      "                                                 \n",
      "\n"
     ]
    }
   ],
   "source": [
    "print(next(representations))"
   ]
  },
  {
   "cell_type": "markdown",
   "metadata": {},
   "source": [
    "Next generation:"
   ]
  },
  {
   "cell_type": "code",
   "execution_count": 439,
   "metadata": {
    "collapsed": false
   },
   "outputs": [
    {
     "name": "stdout",
     "output_type": "stream",
     "text": [
      "                                                 \n",
      "                                                 \n",
      "                                                 \n",
      "                                                 \n",
      "                      ★ ▲ ★                      \n",
      "                                                 \n",
      "                                                 \n",
      "                                                 \n",
      "\n"
     ]
    }
   ],
   "source": [
    "print(next(representations))"
   ]
  },
  {
   "cell_type": "markdown",
   "metadata": {},
   "source": [
    "Next generation:"
   ]
  },
  {
   "cell_type": "code",
   "execution_count": 440,
   "metadata": {
    "collapsed": false
   },
   "outputs": [
    {
     "name": "stdout",
     "output_type": "stream",
     "text": [
      "                                                 \n",
      "                                                 \n",
      "                                                 \n",
      "                      ★                          \n",
      "                    ★ ▼ ▲ ★                      \n",
      "                                                 \n",
      "                                                 \n",
      "                                                 \n",
      "                                                 \n",
      "                                                 \n",
      "                                                 \n",
      "                          ★                      \n",
      "                        ▲ ▼ ★                    \n",
      "                                                 \n",
      "                                                 \n",
      "                                                 \n",
      "\n"
     ]
    }
   ],
   "source": [
    "print(next(representations))"
   ]
  },
  {
   "cell_type": "markdown",
   "metadata": {},
   "source": [
    "Next generation:"
   ]
  },
  {
   "cell_type": "code",
   "execution_count": 441,
   "metadata": {
    "collapsed": false
   },
   "outputs": [
    {
     "name": "stdout",
     "output_type": "stream",
     "text": [
      "                                                 \n",
      "                                                 \n",
      "                                                 \n",
      "                      ★                          \n",
      "                  ★ ▲ ▼ ▲ ★                      \n",
      "                    ★                            \n",
      "                                                 \n",
      "                                                 \n",
      "                                                 \n",
      "                                                 \n",
      "                                                 \n",
      "                    ★ ▲ ★                        \n",
      "                      ▼ ▲ ★                      \n",
      "                                                 \n",
      "                                                 \n",
      "                                                 \n",
      "                                                 \n",
      "                                                 \n",
      "                                                 \n",
      "                          ★                      \n",
      "                      ▼ ▲ ▼ ★                    \n",
      "                                                 \n",
      "                                                 \n",
      "                                                 \n",
      "                                                 \n",
      "                                                 \n",
      "                                                 \n",
      "                        ★ ▲ ★                    \n",
      "                        ▲ ▼ ★                    \n",
      "                                                 \n",
      "                                                 \n",
      "                                                 \n",
      "                                                 \n",
      "                                                 \n",
      "                                                 \n",
      "                                                 \n",
      "                        ▲ ▼ ▲ ★                  \n",
      "                            ★                    \n",
      "                                                 \n",
      "                                                 \n",
      "\n"
     ]
    }
   ],
   "source": [
    "print(next(representations))"
   ]
  },
  {
   "cell_type": "markdown",
   "metadata": {},
   "source": [
    "Next generation:"
   ]
  },
  {
   "cell_type": "code",
   "execution_count": 442,
   "metadata": {
    "collapsed": false
   },
   "outputs": [
    {
     "name": "stdout",
     "output_type": "stream",
     "text": [
      "                                                 \n",
      "                                                 \n",
      "                                                 \n",
      "                  ★   ★                          \n",
      "                ★ ▼ ▲ ▼ ▲ ★                      \n",
      "                    ★                            \n",
      "                                                 \n",
      "                                                 \n",
      "                                                 \n",
      "                                                 \n",
      "                                                 \n",
      "                      ★                          \n",
      "                    ▲ ▼ ▲ ★                      \n",
      "                  ★ ▼ ★                          \n",
      "                                                 \n",
      "                                                 \n",
      "                                                 \n",
      "                                                 \n",
      "                                                 \n",
      "                    ★ ▲ ★                        \n",
      "                    ▲ ▼ ▲ ★                      \n",
      "                                                 \n",
      "                                                 \n",
      "                                                 \n",
      "                                                 \n",
      "                                                 \n",
      "                                                 \n",
      "                          ★                      \n",
      "                    ▲ ▼ ▲ ▼ ★                    \n",
      "                                                 \n",
      "                                                 \n",
      "                                                 \n",
      "                                                 \n",
      "                                                 \n",
      "                    ★                            \n",
      "                  ★ ▼ ▲ ★                        \n",
      "                      ▼ ▲ ★                      \n",
      "                                                 \n",
      "                                                 \n",
      "                                                 \n",
      "                                                 \n",
      "                                                 \n",
      "                        ★                        \n",
      "                      ▲ ▼ ★                      \n",
      "                      ▼ ▲ ★                      \n",
      "                                                 \n",
      "                                                 \n",
      "                                                 \n",
      "                                                 \n",
      "                                                 \n",
      "                                                 \n",
      "                      ▲   ★                      \n",
      "                      ▼ ▲ ▼ ★                    \n",
      "                                                 \n",
      "                                                 \n",
      "                                                 \n",
      "                                                 \n",
      "                                                 \n",
      "                                                 \n",
      "                        ★ ▲ ★                    \n",
      "                      ▼ ▲ ▼ ★                    \n",
      "                                                 \n",
      "                                                 \n",
      "                                                 \n",
      "                                                 \n",
      "                                                 \n",
      "                                                 \n",
      "                                                 \n",
      "                      ▼ ▲ ▼ ▲ ★                  \n",
      "                            ★                    \n",
      "                                                 \n",
      "                                                 \n",
      "                                                 \n",
      "                                                 \n",
      "                        ★                        \n",
      "                      ★ ▼ ▲ ★                    \n",
      "                        ▲ ▼ ★                    \n",
      "                                                 \n",
      "                                                 \n",
      "                                                 \n",
      "                                                 \n",
      "                                                 \n",
      "                            ★                    \n",
      "                          ▲ ▼ ★                  \n",
      "                        ▲ ▼ ★                    \n",
      "                                                 \n",
      "                                                 \n",
      "                                                 \n",
      "                                                 \n",
      "                                                 \n",
      "                                                 \n",
      "                          ▲                      \n",
      "                        ▲ ▼ ▲ ★                  \n",
      "                            ★                    \n",
      "                                                 \n",
      "                                                 \n",
      "                                                 \n",
      "                                                 \n",
      "                                                 \n",
      "                                                 \n",
      "                        ▲ ▼ ▲ ★                  \n",
      "                          ★ ▼ ★                  \n",
      "                                                 \n",
      "                                                 \n",
      "                                                 \n",
      "                                                 \n",
      "                                                 \n",
      "                              ★                  \n",
      "                        ▲ ▼ ▲ ▼ ★                \n",
      "                                                 \n",
      "                                                 \n",
      "                                                 \n",
      "\n"
     ]
    }
   ],
   "source": [
    "print(next(representations))"
   ]
  },
  {
   "cell_type": "markdown",
   "metadata": {},
   "source": [
    "# Binary trees"
   ]
  },
  {
   "cell_type": "code",
   "execution_count": 456,
   "metadata": {
    "collapsed": true
   },
   "outputs": [],
   "source": [
    "# in the following, the symbol ★ has a generation power, \n",
    "# namely produces a new structure with the basic shape replacing it.\n",
    "\n",
    "\"\"\"\n",
    "  ●\n",
    "★ o ★  \n",
    "\"\"\"\n",
    "shapes = {\n",
    "    'bintree': lambda r, c: Anchor(symbol='●', stars=[\n",
    "                Star(row=r+1, col=c-1, offsets=None, link='bintree', symbol='★'),\n",
    "                Star(row=r+1, col=c+1, offsets=None, link='bintree', symbol='★'),]),\n",
    "    }"
   ]
  },
  {
   "cell_type": "code",
   "execution_count": 457,
   "metadata": {
    "collapsed": false
   },
   "outputs": [],
   "source": [
    "rows, cols = 8, 25\n",
    "coor, number = coordinates(rows), numbering(rows)\n",
    "\n",
    "# starts at the first cell of the 13th column\n",
    "bin_trees = recursive_structures((shapes, 'bintree'), rows*12, (coor, number))\n",
    "representations = map(make_pretty((rows, cols),), bin_trees)"
   ]
  },
  {
   "cell_type": "markdown",
   "metadata": {},
   "source": [
    "First generation contains only the *seed* symbol ★"
   ]
  },
  {
   "cell_type": "code",
   "execution_count": 458,
   "metadata": {
    "collapsed": false
   },
   "outputs": [
    {
     "name": "stdout",
     "output_type": "stream",
     "text": [
      "                        ★                        \n",
      "                                                 \n",
      "                                                 \n",
      "                                                 \n",
      "                                                 \n",
      "                                                 \n",
      "                                                 \n",
      "                                                 \n",
      "\n"
     ]
    }
   ],
   "source": [
    "print(next(representations))"
   ]
  },
  {
   "cell_type": "markdown",
   "metadata": {},
   "source": [
    "Next generation:"
   ]
  },
  {
   "cell_type": "code",
   "execution_count": 459,
   "metadata": {
    "collapsed": false
   },
   "outputs": [
    {
     "name": "stdout",
     "output_type": "stream",
     "text": [
      "                        ●                        \n",
      "                      ★   ★                      \n",
      "                                                 \n",
      "                                                 \n",
      "                                                 \n",
      "                                                 \n",
      "                                                 \n",
      "                                                 \n",
      "\n"
     ]
    }
   ],
   "source": [
    "print(next(representations))"
   ]
  },
  {
   "cell_type": "markdown",
   "metadata": {},
   "source": [
    "Next generation:"
   ]
  },
  {
   "cell_type": "code",
   "execution_count": 460,
   "metadata": {
    "collapsed": false
   },
   "outputs": [
    {
     "name": "stdout",
     "output_type": "stream",
     "text": [
      "                        ●                        \n",
      "                      ●   ★                      \n",
      "                    ★   ★                        \n",
      "                                                 \n",
      "                                                 \n",
      "                                                 \n",
      "                                                 \n",
      "                                                 \n",
      "                        ●                        \n",
      "                          ●                      \n",
      "                        ★   ★                    \n",
      "                                                 \n",
      "                                                 \n",
      "                                                 \n",
      "                                                 \n",
      "                                                 \n",
      "\n"
     ]
    }
   ],
   "source": [
    "print(next(representations))"
   ]
  },
  {
   "cell_type": "markdown",
   "metadata": {},
   "source": [
    "Next generation:"
   ]
  },
  {
   "cell_type": "code",
   "execution_count": 461,
   "metadata": {
    "collapsed": false
   },
   "outputs": [
    {
     "name": "stdout",
     "output_type": "stream",
     "text": [
      "                        ●                        \n",
      "                      ●   ★                      \n",
      "                    ●   ★                        \n",
      "                  ★   ★                          \n",
      "                                                 \n",
      "                                                 \n",
      "                                                 \n",
      "                                                 \n",
      "                        ●                        \n",
      "                      ●   ★                      \n",
      "                        ●                        \n",
      "                      ★   ★                      \n",
      "                                                 \n",
      "                                                 \n",
      "                                                 \n",
      "                                                 \n",
      "                        ●                        \n",
      "                      ●   ●                      \n",
      "                        ★   ★                    \n",
      "                                                 \n",
      "                                                 \n",
      "                                                 \n",
      "                                                 \n",
      "                                                 \n",
      "                        ●                        \n",
      "                          ●                      \n",
      "                        ●   ★                    \n",
      "                      ★   ★                      \n",
      "                                                 \n",
      "                                                 \n",
      "                                                 \n",
      "                                                 \n",
      "                        ●                        \n",
      "                          ●                      \n",
      "                            ●                    \n",
      "                          ★   ★                  \n",
      "                                                 \n",
      "                                                 \n",
      "                                                 \n",
      "                                                 \n",
      "\n"
     ]
    }
   ],
   "source": [
    "print(next(representations))"
   ]
  },
  {
   "cell_type": "markdown",
   "metadata": {},
   "source": [
    "Next generation:"
   ]
  },
  {
   "cell_type": "code",
   "execution_count": 462,
   "metadata": {
    "collapsed": false
   },
   "outputs": [
    {
     "name": "stdout",
     "output_type": "stream",
     "text": [
      "                        ●                        \n",
      "                      ●   ★                      \n",
      "                    ●   ★                        \n",
      "                  ●   ★                          \n",
      "                ★   ★                            \n",
      "                                                 \n",
      "                                                 \n",
      "                                                 \n",
      "                        ●                        \n",
      "                      ●   ★                      \n",
      "                    ●   ★                        \n",
      "                      ●                          \n",
      "                    ★   ★                        \n",
      "                                                 \n",
      "                                                 \n",
      "                                                 \n",
      "                        ●                        \n",
      "                      ●   ★                      \n",
      "                    ●   ●                        \n",
      "                      ★   ★                      \n",
      "                                                 \n",
      "                                                 \n",
      "                                                 \n",
      "                                                 \n",
      "                        ●                        \n",
      "                      ●   ●                      \n",
      "                    ●   ★   ★                    \n",
      "                                                 \n",
      "                                                 \n",
      "                                                 \n",
      "                                                 \n",
      "                                                 \n",
      "                        ●                        \n",
      "                      ●   ★                      \n",
      "                        ●                        \n",
      "                      ●   ★                      \n",
      "                    ★   ★                        \n",
      "                                                 \n",
      "                                                 \n",
      "                                                 \n",
      "                        ●                        \n",
      "                      ●   ●                      \n",
      "                        ●|★   ★                    \n",
      "                          ★                      \n",
      "                                                 \n",
      "                                                 \n",
      "                                                 \n",
      "                                                 \n",
      "                        ●                        \n",
      "                      ●                          \n",
      "                        ●                        \n",
      "                          ●                      \n",
      "                        ★   ★                    \n",
      "                                                 \n",
      "                                                 \n",
      "                                                 \n",
      "                        ●                        \n",
      "                      ●   ●                      \n",
      "                        ●   ★                    \n",
      "                      ★   ★                      \n",
      "                                                 \n",
      "                                                 \n",
      "                                                 \n",
      "                                                 \n",
      "                        ●                        \n",
      "                      ●   ●                      \n",
      "                            ●                    \n",
      "                          ★   ★                  \n",
      "                                                 \n",
      "                                                 \n",
      "                                                 \n",
      "                                                 \n",
      "                        ●                        \n",
      "                          ●                      \n",
      "                        ●   ★                    \n",
      "                      ●   ★                      \n",
      "                    ★   ★                        \n",
      "                                                 \n",
      "                                                 \n",
      "                                                 \n",
      "                        ●                        \n",
      "                          ●                      \n",
      "                        ●   ★                    \n",
      "                          ●                      \n",
      "                        ★   ★                    \n",
      "                                                 \n",
      "                                                 \n",
      "                                                 \n",
      "                        ●                        \n",
      "                          ●                      \n",
      "                        ●   ●                    \n",
      "                          ★   ★                  \n",
      "                                                 \n",
      "                                                 \n",
      "                                                 \n",
      "                                                 \n",
      "                        ●                        \n",
      "                          ●                      \n",
      "                            ●                    \n",
      "                          ●   ★                  \n",
      "                        ★   ★                    \n",
      "                                                 \n",
      "                                                 \n",
      "                                                 \n",
      "                        ●                        \n",
      "                          ●                      \n",
      "                            ●                    \n",
      "                              ●                  \n",
      "                            ★   ★                \n",
      "                                                 \n",
      "                                                 \n",
      "                                                 \n",
      "\n"
     ]
    }
   ],
   "source": [
    "print(next(representations))"
   ]
  },
  {
   "cell_type": "markdown",
   "metadata": {},
   "source": [
    "# Ternary trees"
   ]
  },
  {
   "cell_type": "code",
   "execution_count": 409,
   "metadata": {
    "collapsed": true
   },
   "outputs": [],
   "source": [
    "# in the following, the symbol ★ has a generation power, \n",
    "# namely produces a new structure with the basic shape replacing it.\n",
    "\n",
    "\"\"\"\n",
    "  ●\n",
    "★ ★ ★  \n",
    "\"\"\"\n",
    "threetree_shape = lambda r, c: [((r+1, c-1), (r+1, c), (r+1, c+1))]\n",
    "shapes = {\n",
    "    'threetree': lambda r, c: Anchor(symbol='●', stars=[\n",
    "                Star(row=r+1, col=c-1, offsets=None, link='threetree', symbol='★'),\n",
    "                Star(row=r+1, col=c, offsets=None, link='threetree', symbol='★'),\n",
    "                Star(row=r+1, col=c+1, offsets=None, link='threetree', symbol='★'),]),\n",
    "    }"
   ]
  },
  {
   "cell_type": "code",
   "execution_count": 416,
   "metadata": {
    "collapsed": true
   },
   "outputs": [],
   "source": [
    "rows, cols = 8, 25\n",
    "coor, number = coordinates(rows), numbering(rows)\n",
    "\n",
    "# starts at the first cell of the 13th column\n",
    "three_trees = recursive_structures((shapes, 'threetree'), rows*12, (coor, number))\n",
    "representations = map(make_pretty((rows, cols),), three_trees)"
   ]
  },
  {
   "cell_type": "markdown",
   "metadata": {},
   "source": [
    "First generation contains only the *seed* symbol ★"
   ]
  },
  {
   "cell_type": "code",
   "execution_count": 417,
   "metadata": {
    "collapsed": false
   },
   "outputs": [
    {
     "name": "stdout",
     "output_type": "stream",
     "text": [
      "                        ★                        \n",
      "                                                 \n",
      "                                                 \n",
      "                                                 \n",
      "                                                 \n",
      "                                                 \n",
      "                                                 \n",
      "                                                 \n",
      "\n"
     ]
    }
   ],
   "source": [
    "print(next(representations))"
   ]
  },
  {
   "cell_type": "markdown",
   "metadata": {},
   "source": [
    "Next generation:"
   ]
  },
  {
   "cell_type": "code",
   "execution_count": 418,
   "metadata": {
    "collapsed": false
   },
   "outputs": [
    {
     "name": "stdout",
     "output_type": "stream",
     "text": [
      "                        ●                        \n",
      "                      ★ ★ ★                      \n",
      "                                                 \n",
      "                                                 \n",
      "                                                 \n",
      "                                                 \n",
      "                                                 \n",
      "                                                 \n",
      "\n"
     ]
    }
   ],
   "source": [
    "print(next(representations))"
   ]
  },
  {
   "cell_type": "markdown",
   "metadata": {},
   "source": [
    "Next generation:"
   ]
  },
  {
   "cell_type": "code",
   "execution_count": 419,
   "metadata": {
    "collapsed": false
   },
   "outputs": [
    {
     "name": "stdout",
     "output_type": "stream",
     "text": [
      "                        ●                        \n",
      "                      ● ★ ★                      \n",
      "                    ★ ★ ★                        \n",
      "                                                 \n",
      "                                                 \n",
      "                                                 \n",
      "                                                 \n",
      "                                                 \n",
      "                        ●                        \n",
      "                        ● ★                      \n",
      "                      ★ ★ ★                      \n",
      "                                                 \n",
      "                                                 \n",
      "                                                 \n",
      "                                                 \n",
      "                                                 \n",
      "                        ●                        \n",
      "                          ●                      \n",
      "                        ★ ★ ★                    \n",
      "                                                 \n",
      "                                                 \n",
      "                                                 \n",
      "                                                 \n",
      "                                                 \n",
      "\n"
     ]
    }
   ],
   "source": [
    "print(next(representations))"
   ]
  },
  {
   "cell_type": "markdown",
   "metadata": {},
   "source": [
    "Next generation:"
   ]
  },
  {
   "cell_type": "code",
   "execution_count": 420,
   "metadata": {
    "collapsed": false
   },
   "outputs": [
    {
     "name": "stdout",
     "output_type": "stream",
     "text": [
      "                        ●                        \n",
      "                      ● ★ ★                      \n",
      "                    ● ★ ★                        \n",
      "                  ★ ★ ★                          \n",
      "                                                 \n",
      "                                                 \n",
      "                                                 \n",
      "                                                 \n",
      "                        ●                        \n",
      "                      ● ★ ★                      \n",
      "                      ● ★                        \n",
      "                    ★ ★ ★                        \n",
      "                                                 \n",
      "                                                 \n",
      "                                                 \n",
      "                                                 \n",
      "                        ●                        \n",
      "                      ● ● ★                      \n",
      "                      ★ ★ ★                      \n",
      "                                                 \n",
      "                                                 \n",
      "                                                 \n",
      "                                                 \n",
      "                                                 \n",
      "                        ●                        \n",
      "                      ●   ★                      \n",
      "                        ●                        \n",
      "                      ★ ★ ★                      \n",
      "                                                 \n",
      "                                                 \n",
      "                                                 \n",
      "                                                 \n",
      "                        ●                        \n",
      "                      ●   ●                      \n",
      "                        ★ ★ ★                    \n",
      "                                                 \n",
      "                                                 \n",
      "                                                 \n",
      "                                                 \n",
      "                                                 \n",
      "                        ●                        \n",
      "                        ● ★                      \n",
      "                      ● ★ ★                      \n",
      "                    ★ ★ ★                        \n",
      "                                                 \n",
      "                                                 \n",
      "                                                 \n",
      "                                                 \n",
      "                        ●                        \n",
      "                        ● ★                      \n",
      "                        ● ★                      \n",
      "                      ★ ★ ★                      \n",
      "                                                 \n",
      "                                                 \n",
      "                                                 \n",
      "                                                 \n",
      "                        ●                        \n",
      "                        ● ●                      \n",
      "                        ★ ★ ★                    \n",
      "                                                 \n",
      "                                                 \n",
      "                                                 \n",
      "                                                 \n",
      "                                                 \n",
      "                        ●                        \n",
      "                        ●                        \n",
      "                          ●                      \n",
      "                        ★ ★ ★                    \n",
      "                                                 \n",
      "                                                 \n",
      "                                                 \n",
      "                                                 \n",
      "                        ●                        \n",
      "                          ●                      \n",
      "                        ● ★ ★                    \n",
      "                      ★ ★ ★                      \n",
      "                                                 \n",
      "                                                 \n",
      "                                                 \n",
      "                                                 \n",
      "                        ●                        \n",
      "                          ●                      \n",
      "                          ● ★                    \n",
      "                        ★ ★ ★                    \n",
      "                                                 \n",
      "                                                 \n",
      "                                                 \n",
      "                                                 \n",
      "                        ●                        \n",
      "                          ●                      \n",
      "                            ●                    \n",
      "                          ★ ★ ★                  \n",
      "                                                 \n",
      "                                                 \n",
      "                                                 \n",
      "                                                 \n",
      "\n"
     ]
    }
   ],
   "source": [
    "print(next(representations))"
   ]
  },
  {
   "cell_type": "markdown",
   "metadata": {},
   "source": [
    "# Dick paths"
   ]
  },
  {
   "cell_type": "code",
   "execution_count": 463,
   "metadata": {
    "collapsed": true
   },
   "outputs": [],
   "source": [
    "# in the following, the symbol ★ has a generation power, \n",
    "# namely produces a new structure with the basic shape replacing it.\n",
    "\n",
    "\"\"\"\n",
    "  ★\n",
    "( o ★  \n",
    "\"\"\"\n",
    "shapes = {\n",
    "    'dick': lambda r, c: Anchor(symbol='(', stars=[\n",
    "                Star(row=r-1, col=c+1, offsets=(0, 2), link='dick', symbol='★'),\n",
    "                Star(row=r, col=c+2, offsets=None, link='dick', symbol='★'),]),\n",
    "    }"
   ]
  },
  {
   "cell_type": "code",
   "execution_count": 464,
   "metadata": {
    "collapsed": true
   },
   "outputs": [],
   "source": [
    "rows, cols = 8, 25\n",
    "coor, number = coordinates(rows), numbering(rows)\n",
    "\n",
    "# starts at the first cell of the 13th column\n",
    "dick_paths = recursive_structures((shapes, 'dick'), rows-1, (coor, number))\n",
    "representations = map(make_pretty((rows, cols),), dick_paths)"
   ]
  },
  {
   "cell_type": "markdown",
   "metadata": {},
   "source": [
    "First generation contains only the *seed* symbol ★"
   ]
  },
  {
   "cell_type": "code",
   "execution_count": 465,
   "metadata": {
    "collapsed": false
   },
   "outputs": [
    {
     "name": "stdout",
     "output_type": "stream",
     "text": [
      "                                                 \n",
      "                                                 \n",
      "                                                 \n",
      "                                                 \n",
      "                                                 \n",
      "                                                 \n",
      "                                                 \n",
      "★                                                \n",
      "\n"
     ]
    }
   ],
   "source": [
    "print(next(representations))"
   ]
  },
  {
   "cell_type": "markdown",
   "metadata": {},
   "source": [
    "Next generation:"
   ]
  },
  {
   "cell_type": "code",
   "execution_count": 466,
   "metadata": {
    "collapsed": false
   },
   "outputs": [
    {
     "name": "stdout",
     "output_type": "stream",
     "text": [
      "                                                 \n",
      "                                                 \n",
      "                                                 \n",
      "                                                 \n",
      "                                                 \n",
      "                                                 \n",
      "  ★                                              \n",
      "(   ★                                            \n",
      "\n"
     ]
    }
   ],
   "source": [
    "print(next(representations))"
   ]
  },
  {
   "cell_type": "markdown",
   "metadata": {},
   "source": [
    "Next generation:"
   ]
  },
  {
   "cell_type": "code",
   "execution_count": 467,
   "metadata": {
    "collapsed": false
   },
   "outputs": [
    {
     "name": "stdout",
     "output_type": "stream",
     "text": [
      "                                                 \n",
      "                                                 \n",
      "                                                 \n",
      "                                                 \n",
      "                                                 \n",
      "    ★                                            \n",
      "  (   ★                                          \n",
      "(       ★                                        \n",
      "                                                 \n",
      "                                                 \n",
      "                                                 \n",
      "                                                 \n",
      "                                                 \n",
      "                                                 \n",
      "      ★                                          \n",
      "(   (   ★                                        \n",
      "\n"
     ]
    }
   ],
   "source": [
    "print(next(representations))"
   ]
  },
  {
   "cell_type": "markdown",
   "metadata": {},
   "source": [
    "Next generation:"
   ]
  },
  {
   "cell_type": "code",
   "execution_count": 468,
   "metadata": {
    "collapsed": false
   },
   "outputs": [
    {
     "name": "stdout",
     "output_type": "stream",
     "text": [
      "                                                 \n",
      "                                                 \n",
      "                                                 \n",
      "                                                 \n",
      "      ★                                          \n",
      "    (   ★                                        \n",
      "  (       ★                                      \n",
      "(           ★                                    \n",
      "                                                 \n",
      "                                                 \n",
      "                                                 \n",
      "                                                 \n",
      "                                                 \n",
      "        ★                                        \n",
      "  (   (   ★                                      \n",
      "(           ★                                    \n",
      "                                                 \n",
      "                                                 \n",
      "                                                 \n",
      "                                                 \n",
      "                                                 \n",
      "                                                 \n",
      "  (       ★                                      \n",
      "(       (   ★                                    \n",
      "                                                 \n",
      "                                                 \n",
      "                                                 \n",
      "                                                 \n",
      "                                                 \n",
      "        ★                                        \n",
      "      (   ★                                      \n",
      "(   (       ★                                    \n",
      "                                                 \n",
      "                                                 \n",
      "                                                 \n",
      "                                                 \n",
      "                                                 \n",
      "                                                 \n",
      "          ★                                      \n",
      "(   (   (   ★                                    \n",
      "\n"
     ]
    }
   ],
   "source": [
    "print(next(representations))"
   ]
  },
  {
   "cell_type": "markdown",
   "metadata": {},
   "source": [
    "Next generation:"
   ]
  },
  {
   "cell_type": "code",
   "execution_count": 469,
   "metadata": {
    "collapsed": false
   },
   "outputs": [
    {
     "name": "stdout",
     "output_type": "stream",
     "text": [
      "                                                 \n",
      "                                                 \n",
      "                                                 \n",
      "        ★                                        \n",
      "      (   ★                                      \n",
      "    (       ★                                    \n",
      "  (           ★                                  \n",
      "(               ★                                \n",
      "                                                 \n",
      "                                                 \n",
      "                                                 \n",
      "                                                 \n",
      "          ★                                      \n",
      "    (   (   ★                                    \n",
      "  (           ★                                  \n",
      "(               ★                                \n",
      "                                                 \n",
      "                                                 \n",
      "                                                 \n",
      "                                                 \n",
      "                                                 \n",
      "    (       ★                                    \n",
      "  (       (   ★                                  \n",
      "(               ★                                \n",
      "                                                 \n",
      "                                                 \n",
      "                                                 \n",
      "                                                 \n",
      "                                                 \n",
      "    (                                            \n",
      "  (           ★                                  \n",
      "(           (   ★                                \n",
      "                                                 \n",
      "                                                 \n",
      "                                                 \n",
      "                                                 \n",
      "          ★                                      \n",
      "        (   ★                                    \n",
      "  (   (       ★                                  \n",
      "(               ★                                \n",
      "                                                 \n",
      "                                                 \n",
      "                                                 \n",
      "                                                 \n",
      "                                                 \n",
      "            ★                                    \n",
      "  (   (   (   ★                                  \n",
      "(               ★                                \n",
      "                                                 \n",
      "                                                 \n",
      "                                                 \n",
      "                                                 \n",
      "                                                 \n",
      "                                                 \n",
      "  (   (       ★                                  \n",
      "(           (   ★                                \n",
      "                                                 \n",
      "                                                 \n",
      "                                                 \n",
      "                                                 \n",
      "                                                 \n",
      "            ★                                    \n",
      "  (       (   ★                                  \n",
      "(       (       ★                                \n",
      "                                                 \n",
      "                                                 \n",
      "                                                 \n",
      "                                                 \n",
      "                                                 \n",
      "                                                 \n",
      "  (           ★                                  \n",
      "(       (   (   ★                                \n",
      "                                                 \n",
      "                                                 \n",
      "                                                 \n",
      "                                                 \n",
      "          ★                                      \n",
      "        (   ★                                    \n",
      "      (       ★                                  \n",
      "(   (           ★                                \n",
      "                                                 \n",
      "                                                 \n",
      "                                                 \n",
      "                                                 \n",
      "                                                 \n",
      "            ★                                    \n",
      "      (   (   ★                                  \n",
      "(   (           ★                                \n",
      "                                                 \n",
      "                                                 \n",
      "                                                 \n",
      "                                                 \n",
      "                                                 \n",
      "                                                 \n",
      "      (       ★                                  \n",
      "(   (       (   ★                                \n",
      "                                                 \n",
      "                                                 \n",
      "                                                 \n",
      "                                                 \n",
      "                                                 \n",
      "            ★                                    \n",
      "          (   ★                                  \n",
      "(   (   (       ★                                \n",
      "                                                 \n",
      "                                                 \n",
      "                                                 \n",
      "                                                 \n",
      "                                                 \n",
      "                                                 \n",
      "              ★                                  \n",
      "(   (   (   (   ★                                \n",
      "\n"
     ]
    }
   ],
   "source": [
    "print(next(representations))"
   ]
  },
  {
   "cell_type": "markdown",
   "metadata": {},
   "source": [
    "# Sigmoids"
   ]
  },
  {
   "cell_type": "code",
   "execution_count": 471,
   "metadata": {
    "collapsed": true
   },
   "outputs": [],
   "source": [
    "# in the following, the symbol ★ has a generation power, \n",
    "# namely produces a new structure with the basic shape replacing it.\n",
    "\n",
    "\"\"\"\n",
    "  ★\n",
    "― o o\n",
    "    ★\n",
    "\"\"\"\n",
    "shapes = {\n",
    "    'sigmoid': lambda r, c: Anchor(symbol='―', stars=[\n",
    "                Star(row=r-1, col=c+1, offsets=None, link='sigmoid', symbol='★'),\n",
    "                Star(row=r+1, col=c+2, offsets=None, link='sigmoid', symbol='★'),]),\n",
    "    }"
   ]
  },
  {
   "cell_type": "code",
   "execution_count": 472,
   "metadata": {
    "collapsed": true
   },
   "outputs": [],
   "source": [
    "rows, cols = 9, 25\n",
    "coor, number = coordinates(rows), numbering(rows)\n",
    "\n",
    "# starts at the first cell of the 13th column\n",
    "sigmoids = recursive_structures((shapes, 'sigmoid'), 4, (coor, number))\n",
    "representations = map(make_pretty((rows, cols),), sigmoids)"
   ]
  },
  {
   "cell_type": "markdown",
   "metadata": {},
   "source": [
    "First generation contains only the *seed* symbol ★"
   ]
  },
  {
   "cell_type": "code",
   "execution_count": 473,
   "metadata": {
    "collapsed": false
   },
   "outputs": [
    {
     "name": "stdout",
     "output_type": "stream",
     "text": [
      "                                                 \n",
      "                                                 \n",
      "                                                 \n",
      "                                                 \n",
      "★                                                \n",
      "                                                 \n",
      "                                                 \n",
      "                                                 \n",
      "                                                 \n",
      "\n"
     ]
    }
   ],
   "source": [
    "print(next(representations))"
   ]
  },
  {
   "cell_type": "markdown",
   "metadata": {},
   "source": [
    "Next generation:"
   ]
  },
  {
   "cell_type": "code",
   "execution_count": 474,
   "metadata": {
    "collapsed": false
   },
   "outputs": [
    {
     "name": "stdout",
     "output_type": "stream",
     "text": [
      "                                                 \n",
      "                                                 \n",
      "                                                 \n",
      "  ★                                              \n",
      "―                                                \n",
      "    ★                                            \n",
      "                                                 \n",
      "                                                 \n",
      "                                                 \n",
      "\n"
     ]
    }
   ],
   "source": [
    "print(next(representations))"
   ]
  },
  {
   "cell_type": "markdown",
   "metadata": {},
   "source": [
    "Next generation:"
   ]
  },
  {
   "cell_type": "code",
   "execution_count": 475,
   "metadata": {
    "collapsed": false
   },
   "outputs": [
    {
     "name": "stdout",
     "output_type": "stream",
     "text": [
      "                                                 \n",
      "                                                 \n",
      "    ★                                            \n",
      "  ―                                              \n",
      "―     ★                                          \n",
      "    ★                                            \n",
      "                                                 \n",
      "                                                 \n",
      "                                                 \n",
      "                                                 \n",
      "                                                 \n",
      "                                                 \n",
      "                                                 \n",
      "―     ★                                          \n",
      "    ―                                            \n",
      "        ★                                        \n",
      "                                                 \n",
      "                                                 \n",
      "\n"
     ]
    }
   ],
   "source": [
    "print(next(representations))"
   ]
  },
  {
   "cell_type": "markdown",
   "metadata": {},
   "source": [
    "Next generation:"
   ]
  },
  {
   "cell_type": "code",
   "execution_count": 476,
   "metadata": {
    "collapsed": false
   },
   "outputs": [
    {
     "name": "stdout",
     "output_type": "stream",
     "text": [
      "                                                 \n",
      "      ★                                          \n",
      "    ―                                            \n",
      "  ―     ★                                        \n",
      "―     ★                                          \n",
      "    ★                                            \n",
      "                                                 \n",
      "                                                 \n",
      "                                                 \n",
      "                                                 \n",
      "                                                 \n",
      "                                                 \n",
      "  ―                                              \n",
      "―     ★                                          \n",
      "    ―                                            \n",
      "        ★                                        \n",
      "                                                 \n",
      "                                                 \n",
      "                                                 \n",
      "                                                 \n",
      "                                                 \n",
      "  ―     ★                                        \n",
      "―     ―                                          \n",
      "          ★                                      \n",
      "                                                 \n",
      "                                                 \n",
      "                                                 \n",
      "                                                 \n",
      "                                                 \n",
      "                                                 \n",
      "        ★                                        \n",
      "―     ―                                          \n",
      "    ―     ★                                      \n",
      "        ★                                        \n",
      "                                                 \n",
      "                                                 \n",
      "                                                 \n",
      "                                                 \n",
      "                                                 \n",
      "                                                 \n",
      "―                                                \n",
      "    ―     ★                                      \n",
      "        ―                                        \n",
      "            ★                                    \n",
      "                                                 \n",
      "\n"
     ]
    }
   ],
   "source": [
    "print(next(representations))"
   ]
  },
  {
   "cell_type": "markdown",
   "metadata": {},
   "source": [
    "Next generation:"
   ]
  },
  {
   "cell_type": "code",
   "execution_count": 477,
   "metadata": {
    "collapsed": false
   },
   "outputs": [
    {
     "name": "stdout",
     "output_type": "stream",
     "text": [
      "                                                 \n",
      "      ★                                          \n",
      "    ―                                            \n",
      "  ―     ★                                        \n",
      "―     ★                                          \n",
      "    ―                                            \n",
      "        ★                                        \n",
      "                                                 \n",
      "                                                 \n",
      "        ★                                        \n",
      "      ―                                          \n",
      "    ―     ★                                      \n",
      "  ―     ★                                        \n",
      "―     ★                                          \n",
      "                                                 \n",
      "                                                 \n",
      "                                                 \n",
      "                                                 \n",
      "                                                 \n",
      "                                                 \n",
      "    ―                                            \n",
      "  ―     ★                                        \n",
      "―     ―                                          \n",
      "          ★                                      \n",
      "                                                 \n",
      "                                                 \n",
      "                                                 \n",
      "                                                 \n",
      "                                                 \n",
      "    ―     ★                                      \n",
      "  ―     ―                                        \n",
      "―           ★                                    \n",
      "                                                 \n",
      "                                                 \n",
      "                                                 \n",
      "                                                 \n",
      "                                                 \n",
      "                                                 \n",
      "                                                 \n",
      "  ―     ★                                        \n",
      "―     ―                                          \n",
      "    ―     ★                                      \n",
      "        ★                                        \n",
      "                                                 \n",
      "                                                 \n",
      "                                                 \n",
      "                                                 \n",
      "                                                 \n",
      "  ―                                              \n",
      "―                                                \n",
      "    ―     ★                                      \n",
      "        ―                                        \n",
      "            ★                                    \n",
      "                                                 \n",
      "                                                 \n",
      "                                                 \n",
      "          ★                                      \n",
      "  ―     ―                                        \n",
      "―     ―     ★                                    \n",
      "          ★                                      \n",
      "                                                 \n",
      "                                                 \n",
      "                                                 \n",
      "                                                 \n",
      "                                                 \n",
      "                                                 \n",
      "  ―                                              \n",
      "―     ―     ★                                    \n",
      "          ―                                      \n",
      "              ★                                  \n",
      "                                                 \n",
      "                                                 \n",
      "                                                 \n",
      "                                                 \n",
      "          ★                                      \n",
      "        ―                                        \n",
      "―     ―     ★                                    \n",
      "    ―     ★                                      \n",
      "        ★                                        \n",
      "                                                 \n",
      "                                                 \n",
      "                                                 \n",
      "                                                 \n",
      "                                                 \n",
      "                                                 \n",
      "―     ―                                          \n",
      "    ―     ★                                      \n",
      "        ―                                        \n",
      "            ★                                    \n",
      "                                                 \n",
      "                                                 \n",
      "                                                 \n",
      "                                                 \n",
      "                                                 \n",
      "―     ―     ★                                    \n",
      "    ―     ―                                      \n",
      "              ★                                  \n",
      "                                                 \n",
      "                                                 \n",
      "                                                 \n",
      "                                                 \n",
      "                                                 \n",
      "                                                 \n",
      "―           ★                                    \n",
      "    ―     ―                                      \n",
      "        ―     ★                                  \n",
      "            ★                                    \n",
      "                                                 \n",
      "                                                 \n",
      "                                                 \n",
      "                                                 \n",
      "                                                 \n",
      "―                                                \n",
      "    ―                                            \n",
      "        ―     ★                                  \n",
      "            ―                                    \n",
      "                ★                                \n",
      "\n"
     ]
    }
   ],
   "source": [
    "print(next(representations))"
   ]
  },
  {
   "cell_type": "markdown",
   "metadata": {},
   "source": [
    "# Linearization"
   ]
  },
  {
   "cell_type": "code",
   "execution_count": 479,
   "metadata": {
    "collapsed": true
   },
   "outputs": [],
   "source": [
    "# in the following, the symbol ★ has a generation power, \n",
    "# namely produces a new structure with the basic shape replacing it.\n",
    "\n",
    "\"\"\" \n",
    "● ★ ★  \n",
    "\"\"\"\n",
    "shapes = {\n",
    "    'linear': lambda r, c: Anchor(symbol='●', stars=[\n",
    "                Star(row=r, col=c+1, offsets=(0,2), link='linear', symbol='★'),\n",
    "                Star(row=r, col=c+2, offsets=None, link='linear', symbol='★'),]),\n",
    "    }"
   ]
  },
  {
   "cell_type": "code",
   "execution_count": 480,
   "metadata": {
    "collapsed": true
   },
   "outputs": [],
   "source": [
    "rows, cols = 3, 25\n",
    "coor, number = coordinates(rows), numbering(rows)\n",
    "\n",
    "linears = recursive_structures((shapes, 'linear'), 1, (coor, number))\n",
    "representations = map(make_pretty((rows, cols),), linears)"
   ]
  },
  {
   "cell_type": "markdown",
   "metadata": {},
   "source": [
    "First generation contains only the *seed* symbol ★"
   ]
  },
  {
   "cell_type": "code",
   "execution_count": 481,
   "metadata": {
    "collapsed": false
   },
   "outputs": [
    {
     "name": "stdout",
     "output_type": "stream",
     "text": [
      "                                                 \n",
      "★                                                \n",
      "                                                 \n",
      "\n"
     ]
    }
   ],
   "source": [
    "print(next(representations))"
   ]
  },
  {
   "cell_type": "markdown",
   "metadata": {},
   "source": [
    "Next generation:"
   ]
  },
  {
   "cell_type": "code",
   "execution_count": 482,
   "metadata": {
    "collapsed": false
   },
   "outputs": [
    {
     "name": "stdout",
     "output_type": "stream",
     "text": [
      "                                                 \n",
      "● ★ ★                                            \n",
      "                                                 \n",
      "\n"
     ]
    }
   ],
   "source": [
    "print(next(representations))"
   ]
  },
  {
   "cell_type": "markdown",
   "metadata": {},
   "source": [
    "Next generation:"
   ]
  },
  {
   "cell_type": "code",
   "execution_count": 483,
   "metadata": {
    "collapsed": false
   },
   "outputs": [
    {
     "name": "stdout",
     "output_type": "stream",
     "text": [
      "                                                 \n",
      "● ● ★ ★ ★                                        \n",
      "                                                 \n",
      "                                                 \n",
      "●   ● ★ ★                                        \n",
      "                                                 \n",
      "\n"
     ]
    }
   ],
   "source": [
    "print(next(representations))"
   ]
  },
  {
   "cell_type": "markdown",
   "metadata": {},
   "source": [
    "Next generation:"
   ]
  },
  {
   "cell_type": "code",
   "execution_count": 484,
   "metadata": {
    "collapsed": false
   },
   "outputs": [
    {
     "name": "stdout",
     "output_type": "stream",
     "text": [
      "                                                 \n",
      "● ● ● ★ ★ ★ ★                                    \n",
      "                                                 \n",
      "                                                 \n",
      "● ●   ● ★ ★ ★                                    \n",
      "                                                 \n",
      "                                                 \n",
      "● ●     ● ★ ★                                    \n",
      "                                                 \n",
      "                                                 \n",
      "●   ● ● ★ ★ ★                                    \n",
      "                                                 \n",
      "                                                 \n",
      "●   ●   ● ★ ★                                    \n",
      "                                                 \n",
      "\n"
     ]
    }
   ],
   "source": [
    "print(next(representations))"
   ]
  },
  {
   "cell_type": "markdown",
   "metadata": {},
   "source": [
    "Next generation:"
   ]
  },
  {
   "cell_type": "code",
   "execution_count": 485,
   "metadata": {
    "collapsed": false
   },
   "outputs": [
    {
     "name": "stdout",
     "output_type": "stream",
     "text": [
      "                                                 \n",
      "● ● ● ● ★ ★ ★ ★ ★                                \n",
      "                                                 \n",
      "                                                 \n",
      "● ● ●   ● ★ ★ ★ ★                                \n",
      "                                                 \n",
      "                                                 \n",
      "● ● ●     ● ★ ★ ★                                \n",
      "                                                 \n",
      "                                                 \n",
      "● ● ●       ● ★ ★                                \n",
      "                                                 \n",
      "                                                 \n",
      "● ●   ● ● ★ ★ ★ ★                                \n",
      "                                                 \n",
      "                                                 \n",
      "● ●   ●   ● ★ ★ ★                                \n",
      "                                                 \n",
      "                                                 \n",
      "● ●   ●     ● ★ ★                                \n",
      "                                                 \n",
      "                                                 \n",
      "● ●     ● ● ★ ★ ★                                \n",
      "                                                 \n",
      "                                                 \n",
      "● ●     ●   ● ★ ★                                \n",
      "                                                 \n",
      "                                                 \n",
      "●   ● ● ● ★ ★ ★ ★                                \n",
      "                                                 \n",
      "                                                 \n",
      "●   ● ●   ● ★ ★ ★                                \n",
      "                                                 \n",
      "                                                 \n",
      "●   ● ●     ● ★ ★                                \n",
      "                                                 \n",
      "                                                 \n",
      "●   ●   ● ● ★ ★ ★                                \n",
      "                                                 \n",
      "                                                 \n",
      "●   ●   ●   ● ★ ★                                \n",
      "                                                 \n",
      "\n"
     ]
    }
   ],
   "source": [
    "print(next(representations))"
   ]
  },
  {
   "cell_type": "markdown",
   "metadata": {},
   "source": [
    "---\n",
    "<a rel=\"license\" href=\"http://creativecommons.org/licenses/by-nc/4.0/\"><img alt=\"Creative Commons License\" style=\"border-width:0\" src=\"https://i.creativecommons.org/l/by-nc/4.0/88x31.png\" /></a><br /><span xmlns:dct=\"http://purl.org/dc/terms/\" property=\"dct:title\">Recursive Structures tutorial</span> by <a xmlns:cc=\"http://creativecommons.org/ns#\" href=\"massimo.nocentini@unifi.it\" property=\"cc:attributionName\" rel=\"cc:attributionURL\">Massimo Nocentini</a> is licensed under a <a rel=\"license\" href=\"http://creativecommons.org/licenses/by-nc/4.0/\">Creative Commons Attribution-NonCommercial 4.0 International License</a>.<br />Based on a work at <a xmlns:dct=\"http://purl.org/dc/terms/\" href=\"https://github.com/massimo-nocentini/competitive-programming/blob/master/tutorials/recursive-structures.ipynb\" rel=\"dct:source\">https://github.com/massimo-nocentini/competitive-programming/blob/master/tutorials/recursive-structures.ipynb</a>."
   ]
  }
 ],
 "metadata": {
  "kernelspec": {
   "display_name": "Python 3",
   "language": "python",
   "name": "python3"
  },
  "language_info": {
   "codemirror_mode": {
    "name": "ipython",
    "version": 3
   },
   "file_extension": ".py",
   "mimetype": "text/x-python",
   "name": "python",
   "nbconvert_exporter": "python",
   "pygments_lexer": "ipython3",
   "version": "3.5.1"
  }
 },
 "nbformat": 4,
 "nbformat_minor": 0
}
