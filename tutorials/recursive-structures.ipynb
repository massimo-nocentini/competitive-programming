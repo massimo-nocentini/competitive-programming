{
 "cells": [
  {
   "cell_type": "markdown",
   "metadata": {},
   "source": [
    "<div align=\"right\">\n",
    "Massimo Nocentini<br>\n",
    "<br>May 30, 2016: Balanced parens, Steep parallelograms\n",
    "<br>May 29, 2016: Plane trees, Blocks\n",
    "<br>May 28, 2016: Sigmoids, Linearization\n",
    "<br>May 27, 2016: Binary and Ternary Trees, Dick paths\n",
    "<br>May 26, 2016: structure generation\n",
    "</div>\n",
    "<br>\n",
    "<div align=\"center\">\n",
    "<b>Abstract</b><br>\n",
    "This document collect some examples about <i>recursively-defined structures</i>.\n",
    "</div>"
   ]
  },
  {
   "cell_type": "code",
   "execution_count": 1,
   "metadata": {
    "collapsed": true
   },
   "outputs": [],
   "source": [
    "%matplotlib inline\n",
    "%run ../python-libs/bits.py\n",
    "%run ../python-libs/timing.py\n",
    "%run ../python-libs/graycodes.py\n",
    "%run ../python-libs/symbols.py"
   ]
  },
  {
   "cell_type": "code",
   "execution_count": 258,
   "metadata": {
    "collapsed": false
   },
   "outputs": [],
   "source": [
    "from collections import namedtuple\n",
    "from contextlib import contextmanager\n",
    "\n",
    "Anchor = namedtuple('Anchor', ['symbol', 'stars'])\n",
    "Star = namedtuple('Star', ['row', 'col', 'offsets', 'link', 'symbol'])\n",
    "Structure = namedtuple('Structure', ['anchors', 'stars', 'shapes', 'tables'])\n",
    "\n",
    "# numbering and coordinates are inverses the one of the other                  \n",
    "def coordinates(group):\n",
    "    \n",
    "    def do(anchor):\n",
    "        c, r = divmod(anchor, group)\n",
    "        return r, c # simply flip them\n",
    "\n",
    "    return do\n",
    "\n",
    "def numbering(group):\n",
    "    \n",
    "    def do(coordinate):\n",
    "        r, c = coordinate\n",
    "        return r + group*c\n",
    "\n",
    "    return do\n",
    "\n",
    "#_______________________________________________________________\n",
    "\n",
    "@contextmanager\n",
    "def extract_star(stars, structure, locating):\n",
    "    \n",
    "    coordinates, numbering = locating\n",
    "    \n",
    "    anchor, stars = low_bit_and_clear(stars)\n",
    "    r, c = coordinates(anchor)\n",
    "    \n",
    "    anchors_table, stars_table = structure.tables\n",
    "    del stars_table[r, c]\n",
    "\n",
    "    # get the corresponding `shape` object\n",
    "    s = structure.shapes[r, c]\n",
    "    del structure.shapes[r, c]\n",
    "    \n",
    "    # and \"place\" it, namely cell at position (r, c) will be occupied by a new anchor object.\n",
    "    anchor_tuple = s(r, c)\n",
    "\n",
    "    current_anchors_table, current_stars_table = dict(anchors_table), dict(stars_table)\n",
    "\n",
    "    # remember the anchor symbol\n",
    "    current_anchors_table[r, c] = anchor_tuple.symbol\n",
    "    \n",
    "    yield (anchor, stars), anchor_tuple, (current_anchors_table, current_stars_table)\n",
    "\n",
    "\n",
    "#_______________________________________________________________\n",
    "\n",
    "def recursive_structures(shapes_spec, start_cell, locating):\n",
    "    \"Returns a generator of structures according `shapes` recursion schemas, starting at anchor `init`.\"\n",
    "    \n",
    "    from collections import defaultdict, deque\n",
    "    \n",
    "    shapes_descr, initial_shape = shapes_spec\n",
    "    coordinates, numbering = locating\n",
    "            \n",
    "    def gen(generation):\n",
    "\n",
    "        yield generation\n",
    "\n",
    "        next_generation = []\n",
    "        \n",
    "        for structure in generation:\n",
    "            \n",
    "            anchors, stars, shapes, (anchors_table, stars_table) = structure\n",
    "            \n",
    "            while stars: # `stars` is an integer to be used as bitmask: 1 in position k \n",
    "                         # means that a ★ is present at cell numbered k\n",
    "                \n",
    "                with extract_star(stars, structure, locating) as (\n",
    "                    (anchor, stars), anchor_tuple, (current_anchors_table, current_stars_table)):\n",
    "\n",
    "                    # preparing for looping on stars and collecting new stars positions\n",
    "                    augmented_stars, new_shapes = stars, dict(shapes)\n",
    "\n",
    "                    for star in anchor_tuple.stars:\n",
    "                        rs, cs, offsets = star.row, star.col, star.offsets\n",
    "\n",
    "                        if (rs, cs) in anchors_table:\n",
    "                            pass\n",
    "                            #raise ValueError(\"Attempt to place a star in a cell already occupied by an anchor.\")\n",
    "                        \n",
    "                        if offsets:\n",
    "                            r_offset, c_offset = offsets\n",
    "                            translating_stars = ones_of(augmented_stars)\n",
    "                            augmented_stars = 0\n",
    "                            inner_stars_table = {}\n",
    "                            inner_shapes = {}\n",
    "                            for ts in translating_stars:\n",
    "                                ts_r, ts_c = coordinates(ts)\n",
    "                                symbol = current_stars_table[ts_r, ts_c]\n",
    "                                shape = new_shapes[ts_r, ts_c]\n",
    "                                translated = ts_r + r_offset, ts_c + c_offset\n",
    "                                augmented_stars = set_bit(augmented_stars, numbering(translated))\n",
    "                                inner_stars_table[translated] = symbol\n",
    "                                inner_shapes[translated] = shape\n",
    "                                \n",
    "                            current_stars_table = inner_stars_table\n",
    "                            new_shapes = inner_shapes\n",
    "\n",
    "                        current_stars_table[rs, cs] = star.symbol\n",
    "                        new_shapes[rs, cs] = shapes_descr[star.link]\n",
    "                        star_cell = numbering((rs,cs),)\n",
    "                        augmented_stars = set_bit(augmented_stars, star_cell)\n",
    "\n",
    "\n",
    "                    next_generation.append(Structure(anchors=set_bit(anchors, anchor), \n",
    "                                                     stars=augmented_stars, \n",
    "                                                     shapes=new_shapes, \n",
    "                                                     tables=(current_anchors_table, current_stars_table)))\n",
    "\n",
    "        yield from gen(next_generation)\n",
    "                \n",
    "            \n",
    "    initial_structure = Structure(anchors=0b0, \n",
    "                                  stars=1 << start_cell, \n",
    "                                  shapes={coordinates(start_cell):shapes_descr[initial_shape]}, \n",
    "                                  tables=({}, {coordinates(start_cell):'★'}))\n",
    "    \n",
    "    return gen([initial_structure])\n",
    "\n",
    "#________________________________________________________________________________________\n",
    "def make_pretty(dim, joiner='', separator=',', empty=' '):\n",
    "    \n",
    "    def pretty(structures,):\n",
    "        from collections import defaultdict\n",
    "\n",
    "        rows, cols = dim\n",
    "\n",
    "        strings = []\n",
    "        for anchors, stars, shapes, (anchors_table, stars_table) in structures:\n",
    "\n",
    "            table = defaultdict(lambda: empty)\n",
    "            \n",
    "            for k, v in anchors_table.items():\n",
    "                table[k] = table[k] + separator + v if k in table else v\n",
    "\n",
    "            for k, v in stars_table.items():\n",
    "                table[k] = table[k] + separator + v if k in table else v\n",
    "\n",
    "            s = ''\n",
    "            for r in range(rows):\n",
    "                s += joiner.join(table[r, c] for c in range(cols)) + '\\n'\n",
    "\n",
    "            strings.append(s)\n",
    "\n",
    "        return  ''.join(strings)\n",
    "    \n",
    "    return pretty"
   ]
  },
  {
   "cell_type": "markdown",
   "metadata": {},
   "source": [
    "# Triangulated polygons"
   ]
  },
  {
   "cell_type": "code",
   "execution_count": 173,
   "metadata": {
    "collapsed": true
   },
   "outputs": [],
   "source": [
    "# in the following, the symbol ★ has a generation power, \n",
    "# namely produces a new structure with the basic shape replacing it.\n",
    "\n",
    "\"\"\"\n",
    "★▲★  :nord\n",
    "\n",
    "★▲   :sw\n",
    " ★\n",
    " \n",
    "▲★   :se\n",
    "★\n",
    "\n",
    " ★\n",
    "★▼   :nw\n",
    "\n",
    "★\n",
    "▼★   :ne\n",
    "\n",
    "★▼★  :south\n",
    "\n",
    "\"\"\"\n",
    "shapes = {\n",
    "    'north': lambda r, c: Anchor(symbol='▲', stars=[\n",
    "                Star(row=r, col=c-1, offsets=None, link='nw', symbol='★'),\n",
    "                Star(row=r, col=c+1, offsets=None, link='ne', symbol='★'),]),\n",
    "    'sw':   lambda r, c: Anchor(symbol='▲', stars=[\n",
    "                Star(row=r, col=c-1, offsets=None, link='nw', symbol='★'),\n",
    "                Star(row=r+1, col=c, offsets=None, link='south', symbol='★'),]),\n",
    "    'se':   lambda r, c: Anchor(symbol='▲', stars=[\n",
    "                Star(row=r+1, col=c, offsets=None, link='south', symbol='★'),\n",
    "                Star(row=r, col=c+1, offsets=None, link='ne', symbol='★'),]),\n",
    "    'nw':   lambda r, c: Anchor(symbol='▼', stars=[\n",
    "                Star(row=r, col=c-1, offsets=None, link='sw', symbol='★'),\n",
    "                Star(row=r-1, col=c, offsets=None, link='north', symbol='★'),]),\n",
    "    'ne':   lambda r, c: Anchor(symbol='▼', stars=[\n",
    "                Star(row=r-1, col=c, offsets=None, link='north', symbol='★'),\n",
    "                Star(row=r, col=c+1, offsets=None, link='se', symbol='★'),]),\n",
    "    'south': lambda r, c: Anchor(symbol='▼', stars=[\n",
    "                Star(row=r, col=c-1, offsets=None, link='sw', symbol='★'),\n",
    "                Star(row=r, col=c+1, offsets=None, link='se', symbol='★'),]),\n",
    "}"
   ]
  },
  {
   "cell_type": "code",
   "execution_count": 174,
   "metadata": {
    "collapsed": true
   },
   "outputs": [],
   "source": [
    "# skip this, now the above pretty printer should work\n",
    "def make_pretty_old(dim, joiner=' ', separator=','):\n",
    "    \n",
    "    from collections import defaultdict\n",
    "\n",
    "    rows, cols = dim\n",
    "    \n",
    "    def pretty(structures):\n",
    "        strings = []\n",
    "        for anchors, stars, shapes, (anchors_table, stars_table) in structures:\n",
    "            #print(anchors_table)\n",
    "            table = defaultdict(lambda: joiner)\n",
    "\n",
    "            for a in ones_of(anchors):\n",
    "                ca = coor(a)\n",
    "                table[ca] = table[ca] + separator + anchors_table[ca] if ca in table else anchors_table[ca]\n",
    "\n",
    "            for s in ones_of(stars):\n",
    "                cs = coor(s)\n",
    "                table[cs] = table[cs] + separator if cs in table else '★'\n",
    "\n",
    "            s = ''\n",
    "            for r in range(rows):\n",
    "                s += joiner.join(table[r, c] for c in range(cols)) + '\\n'\n",
    "\n",
    "            strings.append(s)\n",
    "\n",
    "        return  ''.join(strings)\n",
    "    \n",
    "    return pretty"
   ]
  },
  {
   "cell_type": "code",
   "execution_count": 175,
   "metadata": {
    "collapsed": false
   },
   "outputs": [],
   "source": [
    "rows, cols = 8, 25\n",
    "coor, number = coordinates(rows), numbering(rows)\n",
    "\n",
    "# starts at the first cell of the 13th column\n",
    "bin_trees = recursive_structures((shapes, 'north'), rows*12+4, (coor, number))\n",
    "representations = map(make_pretty((rows, cols),), bin_trees)"
   ]
  },
  {
   "cell_type": "markdown",
   "metadata": {},
   "source": [
    "First generation contains only the *seed* symbol ★"
   ]
  },
  {
   "cell_type": "code",
   "execution_count": 176,
   "metadata": {
    "collapsed": false
   },
   "outputs": [
    {
     "name": "stdout",
     "output_type": "stream",
     "text": [
      "                         \n",
      "                         \n",
      "                         \n",
      "                         \n",
      "            ★            \n",
      "                         \n",
      "                         \n",
      "                         \n",
      "\n"
     ]
    }
   ],
   "source": [
    "print(next(representations))"
   ]
  },
  {
   "cell_type": "markdown",
   "metadata": {},
   "source": [
    "Next generation:"
   ]
  },
  {
   "cell_type": "code",
   "execution_count": 177,
   "metadata": {
    "collapsed": false
   },
   "outputs": [
    {
     "name": "stdout",
     "output_type": "stream",
     "text": [
      "                         \n",
      "                         \n",
      "                         \n",
      "                         \n",
      "           ★▲★           \n",
      "                         \n",
      "                         \n",
      "                         \n",
      "\n"
     ]
    }
   ],
   "source": [
    "print(next(representations))"
   ]
  },
  {
   "cell_type": "markdown",
   "metadata": {},
   "source": [
    "Next generation:"
   ]
  },
  {
   "cell_type": "code",
   "execution_count": 178,
   "metadata": {
    "collapsed": false
   },
   "outputs": [
    {
     "name": "stdout",
     "output_type": "stream",
     "text": [
      "                         \n",
      "                         \n",
      "                         \n",
      "           ★             \n",
      "          ★▼▲★           \n",
      "                         \n",
      "                         \n",
      "                         \n",
      "                         \n",
      "                         \n",
      "                         \n",
      "             ★           \n",
      "            ▲▼★          \n",
      "                         \n",
      "                         \n",
      "                         \n",
      "\n"
     ]
    }
   ],
   "source": [
    "print(next(representations))"
   ]
  },
  {
   "cell_type": "markdown",
   "metadata": {},
   "source": [
    "Next generation:"
   ]
  },
  {
   "cell_type": "code",
   "execution_count": 179,
   "metadata": {
    "collapsed": false
   },
   "outputs": [
    {
     "name": "stdout",
     "output_type": "stream",
     "text": [
      "                         \n",
      "                         \n",
      "                         \n",
      "           ★             \n",
      "         ★▲▼▲★           \n",
      "          ★              \n",
      "                         \n",
      "                         \n",
      "                         \n",
      "                         \n",
      "                         \n",
      "          ★▲★            \n",
      "           ▼▲★           \n",
      "                         \n",
      "                         \n",
      "                         \n",
      "                         \n",
      "                         \n",
      "                         \n",
      "             ★           \n",
      "           ▼▲▼★          \n",
      "                         \n",
      "                         \n",
      "                         \n",
      "                         \n",
      "                         \n",
      "                         \n",
      "            ★▲★          \n",
      "            ▲▼★          \n",
      "                         \n",
      "                         \n",
      "                         \n",
      "                         \n",
      "                         \n",
      "                         \n",
      "                         \n",
      "            ▲▼▲★         \n",
      "              ★          \n",
      "                         \n",
      "                         \n",
      "\n"
     ]
    }
   ],
   "source": [
    "print(next(representations))"
   ]
  },
  {
   "cell_type": "markdown",
   "metadata": {},
   "source": [
    "Next generation:"
   ]
  },
  {
   "cell_type": "code",
   "execution_count": 180,
   "metadata": {
    "collapsed": false
   },
   "outputs": [
    {
     "name": "stdout",
     "output_type": "stream",
     "text": [
      "                         \n",
      "                         \n",
      "                         \n",
      "         ★ ★             \n",
      "        ★▼▲▼▲★           \n",
      "          ★              \n",
      "                         \n",
      "                         \n",
      "                         \n",
      "                         \n",
      "                         \n",
      "           ★             \n",
      "          ▲▼▲★           \n",
      "         ★▼★             \n",
      "                         \n",
      "                         \n",
      "                         \n",
      "                         \n",
      "                         \n",
      "          ★▲★            \n",
      "          ▲▼▲★           \n",
      "                         \n",
      "                         \n",
      "                         \n",
      "                         \n",
      "                         \n",
      "                         \n",
      "             ★           \n",
      "          ▲▼▲▼★          \n",
      "                         \n",
      "                         \n",
      "                         \n",
      "                         \n",
      "                         \n",
      "          ★              \n",
      "         ★▼▲★            \n",
      "           ▼▲★           \n",
      "                         \n",
      "                         \n",
      "                         \n",
      "                         \n",
      "                         \n",
      "            ★            \n",
      "           ▲▼★           \n",
      "           ▼▲★           \n",
      "                         \n",
      "                         \n",
      "                         \n",
      "                         \n",
      "                         \n",
      "                         \n",
      "           ▲ ★           \n",
      "           ▼▲▼★          \n",
      "                         \n",
      "                         \n",
      "                         \n",
      "                         \n",
      "                         \n",
      "                         \n",
      "            ★▲★          \n",
      "           ▼▲▼★          \n",
      "                         \n",
      "                         \n",
      "                         \n",
      "                         \n",
      "                         \n",
      "                         \n",
      "                         \n",
      "           ▼▲▼▲★         \n",
      "              ★          \n",
      "                         \n",
      "                         \n",
      "                         \n",
      "                         \n",
      "            ★            \n",
      "           ★▼▲★          \n",
      "            ▲▼★          \n",
      "                         \n",
      "                         \n",
      "                         \n",
      "                         \n",
      "                         \n",
      "              ★          \n",
      "             ▲▼★         \n",
      "            ▲▼★          \n",
      "                         \n",
      "                         \n",
      "                         \n",
      "                         \n",
      "                         \n",
      "                         \n",
      "             ▲           \n",
      "            ▲▼▲★         \n",
      "              ★          \n",
      "                         \n",
      "                         \n",
      "                         \n",
      "                         \n",
      "                         \n",
      "                         \n",
      "            ▲▼▲★         \n",
      "             ★▼★         \n",
      "                         \n",
      "                         \n",
      "                         \n",
      "                         \n",
      "                         \n",
      "               ★         \n",
      "            ▲▼▲▼★        \n",
      "                         \n",
      "                         \n",
      "                         \n",
      "\n"
     ]
    }
   ],
   "source": [
    "print(next(representations))"
   ]
  },
  {
   "cell_type": "markdown",
   "metadata": {},
   "source": [
    "# Binary trees"
   ]
  },
  {
   "cell_type": "code",
   "execution_count": 314,
   "metadata": {
    "collapsed": true
   },
   "outputs": [],
   "source": [
    "# in the following, the symbol ★ has a generation power, \n",
    "# namely produces a new structure with the basic shape replacing it.\n",
    "\n",
    "\"\"\"\n",
    "  ●\n",
    "★ o ★  \n",
    "\"\"\"\n",
    "shapes = {\n",
    "    'bintree': lambda r, c: Anchor(symbol='●', stars=[\n",
    "                Star(row=r+1, col=c-1, offsets=None, link='bintree', symbol='★'),\n",
    "                Star(row=r+1, col=c+1, offsets=None, link='bintree', symbol='★'),]),\n",
    "    }"
   ]
  },
  {
   "cell_type": "code",
   "execution_count": 321,
   "metadata": {
    "collapsed": false
   },
   "outputs": [],
   "source": [
    "rows, cols = 8, 25\n",
    "coor, number = coordinates(rows), numbering(rows)\n",
    "\n",
    "# starts at the first cell of the 13th column\n",
    "bin_trees = recursive_structures((shapes, 'bintree'), rows*12, (coor, number))\n",
    "representations = map(make_pretty((rows, cols),), bin_trees)"
   ]
  },
  {
   "cell_type": "markdown",
   "metadata": {},
   "source": [
    "First generation contains only the *seed* symbol ★"
   ]
  },
  {
   "cell_type": "code",
   "execution_count": 322,
   "metadata": {
    "collapsed": false
   },
   "outputs": [
    {
     "name": "stdout",
     "output_type": "stream",
     "text": [
      "            ★            \n",
      "                         \n",
      "                         \n",
      "                         \n",
      "                         \n",
      "                         \n",
      "                         \n",
      "                         \n",
      "\n"
     ]
    }
   ],
   "source": [
    "print(next(representations))"
   ]
  },
  {
   "cell_type": "markdown",
   "metadata": {},
   "source": [
    "Next generation:"
   ]
  },
  {
   "cell_type": "code",
   "execution_count": 323,
   "metadata": {
    "collapsed": false
   },
   "outputs": [
    {
     "name": "stdout",
     "output_type": "stream",
     "text": [
      "            ●            \n",
      "           ★ ★           \n",
      "                         \n",
      "                         \n",
      "                         \n",
      "                         \n",
      "                         \n",
      "                         \n",
      "\n"
     ]
    }
   ],
   "source": [
    "print(next(representations))"
   ]
  },
  {
   "cell_type": "markdown",
   "metadata": {},
   "source": [
    "Next generation:"
   ]
  },
  {
   "cell_type": "code",
   "execution_count": 324,
   "metadata": {
    "collapsed": false
   },
   "outputs": [
    {
     "name": "stdout",
     "output_type": "stream",
     "text": [
      "            ●            \n",
      "           ● ★           \n",
      "          ★ ★            \n",
      "                         \n",
      "                         \n",
      "                         \n",
      "                         \n",
      "                         \n",
      "            ●            \n",
      "             ●           \n",
      "            ★ ★          \n",
      "                         \n",
      "                         \n",
      "                         \n",
      "                         \n",
      "                         \n",
      "\n"
     ]
    }
   ],
   "source": [
    "print(next(representations))"
   ]
  },
  {
   "cell_type": "markdown",
   "metadata": {},
   "source": [
    "Next generation:"
   ]
  },
  {
   "cell_type": "code",
   "execution_count": 325,
   "metadata": {
    "collapsed": false
   },
   "outputs": [
    {
     "name": "stdout",
     "output_type": "stream",
     "text": [
      "            ●            \n",
      "           ● ★           \n",
      "          ● ★            \n",
      "         ★ ★             \n",
      "                         \n",
      "                         \n",
      "                         \n",
      "                         \n",
      "            ●            \n",
      "           ● ★           \n",
      "            ●            \n",
      "           ★ ★           \n",
      "                         \n",
      "                         \n",
      "                         \n",
      "                         \n",
      "            ●            \n",
      "           ● ●           \n",
      "            ★ ★          \n",
      "                         \n",
      "                         \n",
      "                         \n",
      "                         \n",
      "                         \n",
      "            ●            \n",
      "             ●           \n",
      "            ● ★          \n",
      "           ★ ★           \n",
      "                         \n",
      "                         \n",
      "                         \n",
      "                         \n",
      "            ●            \n",
      "             ●           \n",
      "              ●          \n",
      "             ★ ★         \n",
      "                         \n",
      "                         \n",
      "                         \n",
      "                         \n",
      "\n"
     ]
    }
   ],
   "source": [
    "print(next(representations))"
   ]
  },
  {
   "cell_type": "markdown",
   "metadata": {},
   "source": [
    "Next generation:"
   ]
  },
  {
   "cell_type": "code",
   "execution_count": 326,
   "metadata": {
    "collapsed": false
   },
   "outputs": [
    {
     "name": "stdout",
     "output_type": "stream",
     "text": [
      "            ●            \n",
      "           ● ★           \n",
      "          ● ★            \n",
      "         ● ★             \n",
      "        ★ ★              \n",
      "                         \n",
      "                         \n",
      "                         \n",
      "            ●            \n",
      "           ● ★           \n",
      "          ● ★            \n",
      "           ●             \n",
      "          ★ ★            \n",
      "                         \n",
      "                         \n",
      "                         \n",
      "            ●            \n",
      "           ● ★           \n",
      "          ● ●            \n",
      "           ★ ★           \n",
      "                         \n",
      "                         \n",
      "                         \n",
      "                         \n",
      "            ●            \n",
      "           ● ●           \n",
      "          ● ★ ★          \n",
      "                         \n",
      "                         \n",
      "                         \n",
      "                         \n",
      "                         \n",
      "            ●            \n",
      "           ● ★           \n",
      "            ●            \n",
      "           ● ★           \n",
      "          ★ ★            \n",
      "                         \n",
      "                         \n",
      "                         \n",
      "            ●            \n",
      "           ● ●           \n",
      "            ●,★ ★          \n",
      "             ★           \n",
      "                         \n",
      "                         \n",
      "                         \n",
      "                         \n",
      "            ●            \n",
      "           ●             \n",
      "            ●            \n",
      "             ●           \n",
      "            ★ ★          \n",
      "                         \n",
      "                         \n",
      "                         \n",
      "            ●            \n",
      "           ● ●           \n",
      "            ● ★          \n",
      "           ★ ★           \n",
      "                         \n",
      "                         \n",
      "                         \n",
      "                         \n",
      "            ●            \n",
      "           ● ●           \n",
      "              ●          \n",
      "             ★ ★         \n",
      "                         \n",
      "                         \n",
      "                         \n",
      "                         \n",
      "            ●            \n",
      "             ●           \n",
      "            ● ★          \n",
      "           ● ★           \n",
      "          ★ ★            \n",
      "                         \n",
      "                         \n",
      "                         \n",
      "            ●            \n",
      "             ●           \n",
      "            ● ★          \n",
      "             ●           \n",
      "            ★ ★          \n",
      "                         \n",
      "                         \n",
      "                         \n",
      "            ●            \n",
      "             ●           \n",
      "            ● ●          \n",
      "             ★ ★         \n",
      "                         \n",
      "                         \n",
      "                         \n",
      "                         \n",
      "            ●            \n",
      "             ●           \n",
      "              ●          \n",
      "             ● ★         \n",
      "            ★ ★          \n",
      "                         \n",
      "                         \n",
      "                         \n",
      "            ●            \n",
      "             ●           \n",
      "              ●          \n",
      "               ●         \n",
      "              ★ ★        \n",
      "                         \n",
      "                         \n",
      "                         \n",
      "\n"
     ]
    }
   ],
   "source": [
    "print(next(representations))"
   ]
  },
  {
   "cell_type": "markdown",
   "metadata": {},
   "source": [
    "# Ternary trees"
   ]
  },
  {
   "cell_type": "code",
   "execution_count": 188,
   "metadata": {
    "collapsed": true
   },
   "outputs": [],
   "source": [
    "# in the following, the symbol ★ has a generation power, \n",
    "# namely produces a new structure with the basic shape replacing it.\n",
    "\n",
    "\"\"\"\n",
    "  ●\n",
    "★ ★ ★  \n",
    "\"\"\"\n",
    "threetree_shape = lambda r, c: [((r+1, c-1), (r+1, c), (r+1, c+1))]\n",
    "shapes = {\n",
    "    'threetree': lambda r, c: Anchor(symbol='●', stars=[\n",
    "                Star(row=r+1, col=c-1, offsets=None, link='threetree', symbol='★'),\n",
    "                Star(row=r+1, col=c, offsets=None, link='threetree', symbol='★'),\n",
    "                Star(row=r+1, col=c+1, offsets=None, link='threetree', symbol='★'),]),\n",
    "    }"
   ]
  },
  {
   "cell_type": "code",
   "execution_count": 189,
   "metadata": {
    "collapsed": true
   },
   "outputs": [],
   "source": [
    "rows, cols = 8, 25\n",
    "coor, number = coordinates(rows), numbering(rows)\n",
    "\n",
    "# starts at the first cell of the 13th column\n",
    "three_trees = recursive_structures((shapes, 'threetree'), rows*12, (coor, number))\n",
    "representations = map(make_pretty((rows, cols),), three_trees)"
   ]
  },
  {
   "cell_type": "markdown",
   "metadata": {},
   "source": [
    "First generation contains only the *seed* symbol ★"
   ]
  },
  {
   "cell_type": "code",
   "execution_count": 190,
   "metadata": {
    "collapsed": false
   },
   "outputs": [
    {
     "name": "stdout",
     "output_type": "stream",
     "text": [
      "            ★            \n",
      "                         \n",
      "                         \n",
      "                         \n",
      "                         \n",
      "                         \n",
      "                         \n",
      "                         \n",
      "\n"
     ]
    }
   ],
   "source": [
    "print(next(representations))"
   ]
  },
  {
   "cell_type": "markdown",
   "metadata": {},
   "source": [
    "Next generation:"
   ]
  },
  {
   "cell_type": "code",
   "execution_count": 191,
   "metadata": {
    "collapsed": false
   },
   "outputs": [
    {
     "name": "stdout",
     "output_type": "stream",
     "text": [
      "            ●            \n",
      "           ★★★           \n",
      "                         \n",
      "                         \n",
      "                         \n",
      "                         \n",
      "                         \n",
      "                         \n",
      "\n"
     ]
    }
   ],
   "source": [
    "print(next(representations))"
   ]
  },
  {
   "cell_type": "markdown",
   "metadata": {},
   "source": [
    "Next generation:"
   ]
  },
  {
   "cell_type": "code",
   "execution_count": 192,
   "metadata": {
    "collapsed": false
   },
   "outputs": [
    {
     "name": "stdout",
     "output_type": "stream",
     "text": [
      "            ●            \n",
      "           ●★★           \n",
      "          ★★★            \n",
      "                         \n",
      "                         \n",
      "                         \n",
      "                         \n",
      "                         \n",
      "            ●            \n",
      "            ●★           \n",
      "           ★★★           \n",
      "                         \n",
      "                         \n",
      "                         \n",
      "                         \n",
      "                         \n",
      "            ●            \n",
      "             ●           \n",
      "            ★★★          \n",
      "                         \n",
      "                         \n",
      "                         \n",
      "                         \n",
      "                         \n",
      "\n"
     ]
    }
   ],
   "source": [
    "print(next(representations))"
   ]
  },
  {
   "cell_type": "markdown",
   "metadata": {},
   "source": [
    "Next generation:"
   ]
  },
  {
   "cell_type": "code",
   "execution_count": 193,
   "metadata": {
    "collapsed": false
   },
   "outputs": [
    {
     "name": "stdout",
     "output_type": "stream",
     "text": [
      "            ●            \n",
      "           ●★★           \n",
      "          ●★★            \n",
      "         ★★★             \n",
      "                         \n",
      "                         \n",
      "                         \n",
      "                         \n",
      "            ●            \n",
      "           ●★★           \n",
      "           ●★            \n",
      "          ★★★            \n",
      "                         \n",
      "                         \n",
      "                         \n",
      "                         \n",
      "            ●            \n",
      "           ●●★           \n",
      "           ★★★           \n",
      "                         \n",
      "                         \n",
      "                         \n",
      "                         \n",
      "                         \n",
      "            ●            \n",
      "           ● ★           \n",
      "            ●            \n",
      "           ★★★           \n",
      "                         \n",
      "                         \n",
      "                         \n",
      "                         \n",
      "            ●            \n",
      "           ● ●           \n",
      "            ★★★          \n",
      "                         \n",
      "                         \n",
      "                         \n",
      "                         \n",
      "                         \n",
      "            ●            \n",
      "            ●★           \n",
      "           ●★★           \n",
      "          ★★★            \n",
      "                         \n",
      "                         \n",
      "                         \n",
      "                         \n",
      "            ●            \n",
      "            ●★           \n",
      "            ●★           \n",
      "           ★★★           \n",
      "                         \n",
      "                         \n",
      "                         \n",
      "                         \n",
      "            ●            \n",
      "            ●●           \n",
      "            ★★★          \n",
      "                         \n",
      "                         \n",
      "                         \n",
      "                         \n",
      "                         \n",
      "            ●            \n",
      "            ●            \n",
      "             ●           \n",
      "            ★★★          \n",
      "                         \n",
      "                         \n",
      "                         \n",
      "                         \n",
      "            ●            \n",
      "             ●           \n",
      "            ●★★          \n",
      "           ★★★           \n",
      "                         \n",
      "                         \n",
      "                         \n",
      "                         \n",
      "            ●            \n",
      "             ●           \n",
      "             ●★          \n",
      "            ★★★          \n",
      "                         \n",
      "                         \n",
      "                         \n",
      "                         \n",
      "            ●            \n",
      "             ●           \n",
      "              ●          \n",
      "             ★★★         \n",
      "                         \n",
      "                         \n",
      "                         \n",
      "                         \n",
      "\n"
     ]
    }
   ],
   "source": [
    "print(next(representations))"
   ]
  },
  {
   "cell_type": "markdown",
   "metadata": {},
   "source": [
    "# Dick paths"
   ]
  },
  {
   "cell_type": "code",
   "execution_count": 194,
   "metadata": {
    "collapsed": true
   },
   "outputs": [],
   "source": [
    "# in the following, the symbol ★ has a generation power, \n",
    "# namely produces a new structure with the basic shape replacing it.\n",
    "\n",
    "\"\"\"\n",
    "  ★\n",
    "( o ★  \n",
    "\"\"\"\n",
    "shapes = {\n",
    "    'dick': lambda r, c: Anchor(symbol='(', stars=[\n",
    "                Star(row=r-1, col=c+1, offsets=(0, 2), link='dick', symbol='★'),\n",
    "                Star(row=r, col=c+2, offsets=None, link='dick', symbol='★'),]),\n",
    "    }"
   ]
  },
  {
   "cell_type": "code",
   "execution_count": 195,
   "metadata": {
    "collapsed": true
   },
   "outputs": [],
   "source": [
    "rows, cols = 8, 25\n",
    "coor, number = coordinates(rows), numbering(rows)\n",
    "\n",
    "# starts at the first cell of the 13th column\n",
    "dick_paths = recursive_structures((shapes, 'dick'), rows-1, (coor, number))\n",
    "representations = map(make_pretty((rows, cols),), dick_paths)"
   ]
  },
  {
   "cell_type": "markdown",
   "metadata": {},
   "source": [
    "First generation contains only the *seed* symbol ★"
   ]
  },
  {
   "cell_type": "code",
   "execution_count": 196,
   "metadata": {
    "collapsed": false
   },
   "outputs": [
    {
     "name": "stdout",
     "output_type": "stream",
     "text": [
      "                         \n",
      "                         \n",
      "                         \n",
      "                         \n",
      "                         \n",
      "                         \n",
      "                         \n",
      "★                        \n",
      "\n"
     ]
    }
   ],
   "source": [
    "print(next(representations))"
   ]
  },
  {
   "cell_type": "markdown",
   "metadata": {},
   "source": [
    "Next generation:"
   ]
  },
  {
   "cell_type": "code",
   "execution_count": 197,
   "metadata": {
    "collapsed": false
   },
   "outputs": [
    {
     "name": "stdout",
     "output_type": "stream",
     "text": [
      "                         \n",
      "                         \n",
      "                         \n",
      "                         \n",
      "                         \n",
      "                         \n",
      " ★                       \n",
      "( ★                      \n",
      "\n"
     ]
    }
   ],
   "source": [
    "print(next(representations))"
   ]
  },
  {
   "cell_type": "markdown",
   "metadata": {},
   "source": [
    "Next generation:"
   ]
  },
  {
   "cell_type": "code",
   "execution_count": 198,
   "metadata": {
    "collapsed": false
   },
   "outputs": [
    {
     "name": "stdout",
     "output_type": "stream",
     "text": [
      "                         \n",
      "                         \n",
      "                         \n",
      "                         \n",
      "                         \n",
      "  ★                      \n",
      " ( ★                     \n",
      "(   ★                    \n",
      "                         \n",
      "                         \n",
      "                         \n",
      "                         \n",
      "                         \n",
      "                         \n",
      "   ★                     \n",
      "( ( ★                    \n",
      "\n"
     ]
    }
   ],
   "source": [
    "print(next(representations))"
   ]
  },
  {
   "cell_type": "markdown",
   "metadata": {},
   "source": [
    "Next generation:"
   ]
  },
  {
   "cell_type": "code",
   "execution_count": 199,
   "metadata": {
    "collapsed": false
   },
   "outputs": [
    {
     "name": "stdout",
     "output_type": "stream",
     "text": [
      "                         \n",
      "                         \n",
      "                         \n",
      "                         \n",
      "   ★                     \n",
      "  ( ★                    \n",
      " (   ★                   \n",
      "(     ★                  \n",
      "                         \n",
      "                         \n",
      "                         \n",
      "                         \n",
      "                         \n",
      "    ★                    \n",
      " ( ( ★                   \n",
      "(     ★                  \n",
      "                         \n",
      "                         \n",
      "                         \n",
      "                         \n",
      "                         \n",
      "                         \n",
      " (   ★                   \n",
      "(   ( ★                  \n",
      "                         \n",
      "                         \n",
      "                         \n",
      "                         \n",
      "                         \n",
      "    ★                    \n",
      "   ( ★                   \n",
      "( (   ★                  \n",
      "                         \n",
      "                         \n",
      "                         \n",
      "                         \n",
      "                         \n",
      "                         \n",
      "     ★                   \n",
      "( ( ( ★                  \n",
      "\n"
     ]
    }
   ],
   "source": [
    "print(next(representations))"
   ]
  },
  {
   "cell_type": "markdown",
   "metadata": {},
   "source": [
    "Next generation:"
   ]
  },
  {
   "cell_type": "code",
   "execution_count": 200,
   "metadata": {
    "collapsed": false
   },
   "outputs": [
    {
     "name": "stdout",
     "output_type": "stream",
     "text": [
      "                         \n",
      "                         \n",
      "                         \n",
      "    ★                    \n",
      "   ( ★                   \n",
      "  (   ★                  \n",
      " (     ★                 \n",
      "(       ★                \n",
      "                         \n",
      "                         \n",
      "                         \n",
      "                         \n",
      "     ★                   \n",
      "  ( ( ★                  \n",
      " (     ★                 \n",
      "(       ★                \n",
      "                         \n",
      "                         \n",
      "                         \n",
      "                         \n",
      "                         \n",
      "  (   ★                  \n",
      " (   ( ★                 \n",
      "(       ★                \n",
      "                         \n",
      "                         \n",
      "                         \n",
      "                         \n",
      "                         \n",
      "  (                      \n",
      " (     ★                 \n",
      "(     ( ★                \n",
      "                         \n",
      "                         \n",
      "                         \n",
      "                         \n",
      "     ★                   \n",
      "    ( ★                  \n",
      " ( (   ★                 \n",
      "(       ★                \n",
      "                         \n",
      "                         \n",
      "                         \n",
      "                         \n",
      "                         \n",
      "      ★                  \n",
      " ( ( ( ★                 \n",
      "(       ★                \n",
      "                         \n",
      "                         \n",
      "                         \n",
      "                         \n",
      "                         \n",
      "                         \n",
      " ( (   ★                 \n",
      "(     ( ★                \n",
      "                         \n",
      "                         \n",
      "                         \n",
      "                         \n",
      "                         \n",
      "      ★                  \n",
      " (   ( ★                 \n",
      "(   (   ★                \n",
      "                         \n",
      "                         \n",
      "                         \n",
      "                         \n",
      "                         \n",
      "                         \n",
      " (     ★                 \n",
      "(   ( ( ★                \n",
      "                         \n",
      "                         \n",
      "                         \n",
      "                         \n",
      "     ★                   \n",
      "    ( ★                  \n",
      "   (   ★                 \n",
      "( (     ★                \n",
      "                         \n",
      "                         \n",
      "                         \n",
      "                         \n",
      "                         \n",
      "      ★                  \n",
      "   ( ( ★                 \n",
      "( (     ★                \n",
      "                         \n",
      "                         \n",
      "                         \n",
      "                         \n",
      "                         \n",
      "                         \n",
      "   (   ★                 \n",
      "( (   ( ★                \n",
      "                         \n",
      "                         \n",
      "                         \n",
      "                         \n",
      "                         \n",
      "      ★                  \n",
      "     ( ★                 \n",
      "( ( (   ★                \n",
      "                         \n",
      "                         \n",
      "                         \n",
      "                         \n",
      "                         \n",
      "                         \n",
      "       ★                 \n",
      "( ( ( ( ★                \n",
      "\n"
     ]
    }
   ],
   "source": [
    "print(next(representations))"
   ]
  },
  {
   "cell_type": "markdown",
   "metadata": {},
   "source": [
    "# Sigmoids"
   ]
  },
  {
   "cell_type": "code",
   "execution_count": 201,
   "metadata": {
    "collapsed": true
   },
   "outputs": [],
   "source": [
    "# in the following, the symbol ★ has a generation power, \n",
    "# namely produces a new structure with the basic shape replacing it.\n",
    "\n",
    "\"\"\"\n",
    "  ★\n",
    "― o o\n",
    "    ★\n",
    "\"\"\"\n",
    "shapes = {\n",
    "    'sigmoid': lambda r, c: Anchor(symbol='―', stars=[\n",
    "                Star(row=r-1, col=c+1, offsets=None, link='sigmoid', symbol='★'),\n",
    "                Star(row=r+1, col=c+2, offsets=None, link='sigmoid', symbol='★'),]),\n",
    "    }"
   ]
  },
  {
   "cell_type": "code",
   "execution_count": 202,
   "metadata": {
    "collapsed": true
   },
   "outputs": [],
   "source": [
    "rows, cols = 9, 25\n",
    "coor, number = coordinates(rows), numbering(rows)\n",
    "\n",
    "# starts at the first cell of the 13th column\n",
    "sigmoids = recursive_structures((shapes, 'sigmoid'), 4, (coor, number))\n",
    "representations = map(make_pretty((rows, cols),), sigmoids)"
   ]
  },
  {
   "cell_type": "markdown",
   "metadata": {},
   "source": [
    "First generation contains only the *seed* symbol ★"
   ]
  },
  {
   "cell_type": "code",
   "execution_count": 203,
   "metadata": {
    "collapsed": false
   },
   "outputs": [
    {
     "name": "stdout",
     "output_type": "stream",
     "text": [
      "                         \n",
      "                         \n",
      "                         \n",
      "                         \n",
      "★                        \n",
      "                         \n",
      "                         \n",
      "                         \n",
      "                         \n",
      "\n"
     ]
    }
   ],
   "source": [
    "print(next(representations))"
   ]
  },
  {
   "cell_type": "markdown",
   "metadata": {},
   "source": [
    "Next generation:"
   ]
  },
  {
   "cell_type": "code",
   "execution_count": 204,
   "metadata": {
    "collapsed": false
   },
   "outputs": [
    {
     "name": "stdout",
     "output_type": "stream",
     "text": [
      "                         \n",
      "                         \n",
      "                         \n",
      " ★                       \n",
      "―                        \n",
      "  ★                      \n",
      "                         \n",
      "                         \n",
      "                         \n",
      "\n"
     ]
    }
   ],
   "source": [
    "print(next(representations))"
   ]
  },
  {
   "cell_type": "markdown",
   "metadata": {},
   "source": [
    "Next generation:"
   ]
  },
  {
   "cell_type": "code",
   "execution_count": 205,
   "metadata": {
    "collapsed": false
   },
   "outputs": [
    {
     "name": "stdout",
     "output_type": "stream",
     "text": [
      "                         \n",
      "                         \n",
      "  ★                      \n",
      " ―                       \n",
      "―  ★                     \n",
      "  ★                      \n",
      "                         \n",
      "                         \n",
      "                         \n",
      "                         \n",
      "                         \n",
      "                         \n",
      "                         \n",
      "―  ★                     \n",
      "  ―                      \n",
      "    ★                    \n",
      "                         \n",
      "                         \n",
      "\n"
     ]
    }
   ],
   "source": [
    "print(next(representations))"
   ]
  },
  {
   "cell_type": "markdown",
   "metadata": {},
   "source": [
    "Next generation:"
   ]
  },
  {
   "cell_type": "code",
   "execution_count": 206,
   "metadata": {
    "collapsed": false
   },
   "outputs": [
    {
     "name": "stdout",
     "output_type": "stream",
     "text": [
      "                         \n",
      "   ★                     \n",
      "  ―                      \n",
      " ―  ★                    \n",
      "―  ★                     \n",
      "  ★                      \n",
      "                         \n",
      "                         \n",
      "                         \n",
      "                         \n",
      "                         \n",
      "                         \n",
      " ―                       \n",
      "―  ★                     \n",
      "  ―                      \n",
      "    ★                    \n",
      "                         \n",
      "                         \n",
      "                         \n",
      "                         \n",
      "                         \n",
      " ―  ★                    \n",
      "―  ―                     \n",
      "     ★                   \n",
      "                         \n",
      "                         \n",
      "                         \n",
      "                         \n",
      "                         \n",
      "                         \n",
      "    ★                    \n",
      "―  ―                     \n",
      "  ―  ★                   \n",
      "    ★                    \n",
      "                         \n",
      "                         \n",
      "                         \n",
      "                         \n",
      "                         \n",
      "                         \n",
      "―                        \n",
      "  ―  ★                   \n",
      "    ―                    \n",
      "      ★                  \n",
      "                         \n",
      "\n"
     ]
    }
   ],
   "source": [
    "print(next(representations))"
   ]
  },
  {
   "cell_type": "markdown",
   "metadata": {},
   "source": [
    "Next generation:"
   ]
  },
  {
   "cell_type": "code",
   "execution_count": 207,
   "metadata": {
    "collapsed": false
   },
   "outputs": [
    {
     "name": "stdout",
     "output_type": "stream",
     "text": [
      "                         \n",
      "   ★                     \n",
      "  ―                      \n",
      " ―  ★                    \n",
      "―  ★                     \n",
      "  ―                      \n",
      "    ★                    \n",
      "                         \n",
      "                         \n",
      "    ★                    \n",
      "   ―                     \n",
      "  ―  ★                   \n",
      " ―  ★                    \n",
      "―  ★                     \n",
      "                         \n",
      "                         \n",
      "                         \n",
      "                         \n",
      "                         \n",
      "                         \n",
      "  ―                      \n",
      " ―  ★                    \n",
      "―  ―                     \n",
      "     ★                   \n",
      "                         \n",
      "                         \n",
      "                         \n",
      "                         \n",
      "                         \n",
      "  ―  ★                   \n",
      " ―  ―                    \n",
      "―     ★                  \n",
      "                         \n",
      "                         \n",
      "                         \n",
      "                         \n",
      "                         \n",
      "                         \n",
      "                         \n",
      " ―  ★                    \n",
      "―  ―                     \n",
      "  ―  ★                   \n",
      "    ★                    \n",
      "                         \n",
      "                         \n",
      "                         \n",
      "                         \n",
      "                         \n",
      " ―                       \n",
      "―                        \n",
      "  ―  ★                   \n",
      "    ―                    \n",
      "      ★                  \n",
      "                         \n",
      "                         \n",
      "                         \n",
      "     ★                   \n",
      " ―  ―                    \n",
      "―  ―  ★                  \n",
      "     ★                   \n",
      "                         \n",
      "                         \n",
      "                         \n",
      "                         \n",
      "                         \n",
      "                         \n",
      " ―                       \n",
      "―  ―  ★                  \n",
      "     ―                   \n",
      "       ★                 \n",
      "                         \n",
      "                         \n",
      "                         \n",
      "                         \n",
      "     ★                   \n",
      "    ―                    \n",
      "―  ―  ★                  \n",
      "  ―  ★                   \n",
      "    ★                    \n",
      "                         \n",
      "                         \n",
      "                         \n",
      "                         \n",
      "                         \n",
      "                         \n",
      "―  ―                     \n",
      "  ―  ★                   \n",
      "    ―                    \n",
      "      ★                  \n",
      "                         \n",
      "                         \n",
      "                         \n",
      "                         \n",
      "                         \n",
      "―  ―  ★                  \n",
      "  ―  ―                   \n",
      "       ★                 \n",
      "                         \n",
      "                         \n",
      "                         \n",
      "                         \n",
      "                         \n",
      "                         \n",
      "―     ★                  \n",
      "  ―  ―                   \n",
      "    ―  ★                 \n",
      "      ★                  \n",
      "                         \n",
      "                         \n",
      "                         \n",
      "                         \n",
      "                         \n",
      "―                        \n",
      "  ―                      \n",
      "    ―  ★                 \n",
      "      ―                  \n",
      "        ★                \n",
      "\n"
     ]
    }
   ],
   "source": [
    "print(next(representations))"
   ]
  },
  {
   "cell_type": "markdown",
   "metadata": {},
   "source": [
    "# Linearization"
   ]
  },
  {
   "cell_type": "code",
   "execution_count": 208,
   "metadata": {
    "collapsed": true
   },
   "outputs": [],
   "source": [
    "# in the following, the symbol ★ has a generation power, \n",
    "# namely produces a new structure with the basic shape replacing it.\n",
    "\n",
    "\"\"\" \n",
    "● ★ ★  \n",
    "\"\"\"\n",
    "shapes = {\n",
    "    'linear': lambda r, c: Anchor(symbol='●', stars=[\n",
    "                Star(row=r, col=c+1, offsets=(0,2), link='linear', symbol='★'),\n",
    "                Star(row=r, col=c+2, offsets=None, link='linear', symbol='★'),]),\n",
    "    }"
   ]
  },
  {
   "cell_type": "code",
   "execution_count": 209,
   "metadata": {
    "collapsed": true
   },
   "outputs": [],
   "source": [
    "rows, cols = 3, 25\n",
    "coor, number = coordinates(rows), numbering(rows)\n",
    "\n",
    "linears = recursive_structures((shapes, 'linear'), 1, (coor, number))\n",
    "representations = map(make_pretty((rows, cols),), linears)"
   ]
  },
  {
   "cell_type": "markdown",
   "metadata": {},
   "source": [
    "First generation contains only the *seed* symbol ★"
   ]
  },
  {
   "cell_type": "code",
   "execution_count": 210,
   "metadata": {
    "collapsed": false
   },
   "outputs": [
    {
     "name": "stdout",
     "output_type": "stream",
     "text": [
      "                         \n",
      "★                        \n",
      "                         \n",
      "\n"
     ]
    }
   ],
   "source": [
    "print(next(representations))"
   ]
  },
  {
   "cell_type": "markdown",
   "metadata": {},
   "source": [
    "Next generation:"
   ]
  },
  {
   "cell_type": "code",
   "execution_count": 211,
   "metadata": {
    "collapsed": false
   },
   "outputs": [
    {
     "name": "stdout",
     "output_type": "stream",
     "text": [
      "                         \n",
      "●★★                      \n",
      "                         \n",
      "\n"
     ]
    }
   ],
   "source": [
    "print(next(representations))"
   ]
  },
  {
   "cell_type": "markdown",
   "metadata": {},
   "source": [
    "Next generation:"
   ]
  },
  {
   "cell_type": "code",
   "execution_count": 212,
   "metadata": {
    "collapsed": false
   },
   "outputs": [
    {
     "name": "stdout",
     "output_type": "stream",
     "text": [
      "                         \n",
      "●●★★★                    \n",
      "                         \n",
      "                         \n",
      "● ●★★                    \n",
      "                         \n",
      "\n"
     ]
    }
   ],
   "source": [
    "print(next(representations))"
   ]
  },
  {
   "cell_type": "markdown",
   "metadata": {},
   "source": [
    "Next generation:"
   ]
  },
  {
   "cell_type": "code",
   "execution_count": 213,
   "metadata": {
    "collapsed": false
   },
   "outputs": [
    {
     "name": "stdout",
     "output_type": "stream",
     "text": [
      "                         \n",
      "●●●★★★★                  \n",
      "                         \n",
      "                         \n",
      "●● ●★★★                  \n",
      "                         \n",
      "                         \n",
      "●●  ●★★                  \n",
      "                         \n",
      "                         \n",
      "● ●●★★★                  \n",
      "                         \n",
      "                         \n",
      "● ● ●★★                  \n",
      "                         \n",
      "\n"
     ]
    }
   ],
   "source": [
    "print(next(representations))"
   ]
  },
  {
   "cell_type": "markdown",
   "metadata": {},
   "source": [
    "Next generation:"
   ]
  },
  {
   "cell_type": "code",
   "execution_count": 214,
   "metadata": {
    "collapsed": false
   },
   "outputs": [
    {
     "name": "stdout",
     "output_type": "stream",
     "text": [
      "                         \n",
      "●●●●★★★★★                \n",
      "                         \n",
      "                         \n",
      "●●● ●★★★★                \n",
      "                         \n",
      "                         \n",
      "●●●  ●★★★                \n",
      "                         \n",
      "                         \n",
      "●●●   ●★★                \n",
      "                         \n",
      "                         \n",
      "●● ●●★★★★                \n",
      "                         \n",
      "                         \n",
      "●● ● ●★★★                \n",
      "                         \n",
      "                         \n",
      "●● ●  ●★★                \n",
      "                         \n",
      "                         \n",
      "●●  ●●★★★                \n",
      "                         \n",
      "                         \n",
      "●●  ● ●★★                \n",
      "                         \n",
      "                         \n",
      "● ●●●★★★★                \n",
      "                         \n",
      "                         \n",
      "● ●● ●★★★                \n",
      "                         \n",
      "                         \n",
      "● ●●  ●★★                \n",
      "                         \n",
      "                         \n",
      "● ● ●●★★★                \n",
      "                         \n",
      "                         \n",
      "● ● ● ●★★                \n",
      "                         \n",
      "\n"
     ]
    }
   ],
   "source": [
    "print(next(representations))"
   ]
  },
  {
   "cell_type": "markdown",
   "metadata": {},
   "source": [
    "# Balanced parens"
   ]
  },
  {
   "cell_type": "code",
   "execution_count": 215,
   "metadata": {
    "collapsed": true
   },
   "outputs": [],
   "source": [
    "# in the following, the symbol ★ has a generation power, \n",
    "# namely produces a new structure with the basic shape replacing it.\n",
    "\n",
    "\"\"\" \n",
    "( ★ ) ★  \n",
    "\"\"\"\n",
    "shapes = {\n",
    "    'parens': lambda r, c: Anchor(symbol='(', stars=[\n",
    "                Star(row=r, col=c+1, offsets=(0,3), link='parens', symbol='★'),\n",
    "                Star(row=r, col=c+3, offsets=None, link='parens', symbol='★'),]),\n",
    "    }"
   ]
  },
  {
   "cell_type": "code",
   "execution_count": 221,
   "metadata": {
    "collapsed": false
   },
   "outputs": [],
   "source": [
    "rows, cols = 3, 32\n",
    "coor, number = coordinates(rows), numbering(rows)\n",
    "\n",
    "parens = recursive_structures((shapes, 'parens'), 1, (coor, number))\n",
    "representations = map(make_pretty((rows, cols),), parens)"
   ]
  },
  {
   "cell_type": "markdown",
   "metadata": {},
   "source": [
    "First generation contains only the *seed* symbol ★"
   ]
  },
  {
   "cell_type": "code",
   "execution_count": 222,
   "metadata": {
    "collapsed": false
   },
   "outputs": [
    {
     "name": "stdout",
     "output_type": "stream",
     "text": [
      "                                \n",
      "★                               \n",
      "                                \n",
      "\n"
     ]
    }
   ],
   "source": [
    "print(next(representations))"
   ]
  },
  {
   "cell_type": "markdown",
   "metadata": {},
   "source": [
    "Next generation:"
   ]
  },
  {
   "cell_type": "code",
   "execution_count": 223,
   "metadata": {
    "collapsed": false
   },
   "outputs": [
    {
     "name": "stdout",
     "output_type": "stream",
     "text": [
      "                                \n",
      "(★ ★                            \n",
      "                                \n",
      "\n"
     ]
    }
   ],
   "source": [
    "print(next(representations))"
   ]
  },
  {
   "cell_type": "markdown",
   "metadata": {},
   "source": [
    "Next generation:"
   ]
  },
  {
   "cell_type": "code",
   "execution_count": 224,
   "metadata": {
    "collapsed": false
   },
   "outputs": [
    {
     "name": "stdout",
     "output_type": "stream",
     "text": [
      "                                \n",
      "((★ ★ ★                         \n",
      "                                \n",
      "                                \n",
      "(  (★ ★                         \n",
      "                                \n",
      "\n"
     ]
    }
   ],
   "source": [
    "print(next(representations))"
   ]
  },
  {
   "cell_type": "markdown",
   "metadata": {},
   "source": [
    "Next generation:"
   ]
  },
  {
   "cell_type": "code",
   "execution_count": 225,
   "metadata": {
    "collapsed": false
   },
   "outputs": [
    {
     "name": "stdout",
     "output_type": "stream",
     "text": [
      "                                \n",
      "(((★ ★ ★ ★                      \n",
      "                                \n",
      "                                \n",
      "((  (★ ★ ★                      \n",
      "                                \n",
      "                                \n",
      "((    (★ ★                      \n",
      "                                \n",
      "                                \n",
      "(  ((★ ★ ★                      \n",
      "                                \n",
      "                                \n",
      "(  (  (★ ★                      \n",
      "                                \n",
      "\n"
     ]
    }
   ],
   "source": [
    "print(next(representations))"
   ]
  },
  {
   "cell_type": "markdown",
   "metadata": {},
   "source": [
    "Next generation:"
   ]
  },
  {
   "cell_type": "code",
   "execution_count": 226,
   "metadata": {
    "collapsed": false
   },
   "outputs": [
    {
     "name": "stdout",
     "output_type": "stream",
     "text": [
      "                                \n",
      "((((★ ★ ★ ★ ★                   \n",
      "                                \n",
      "                                \n",
      "(((  (★ ★ ★ ★                   \n",
      "                                \n",
      "                                \n",
      "(((    (★ ★ ★                   \n",
      "                                \n",
      "                                \n",
      "(((      (★ ★                   \n",
      "                                \n",
      "                                \n",
      "((  ((★ ★ ★ ★                   \n",
      "                                \n",
      "                                \n",
      "((  (  (★ ★ ★                   \n",
      "                                \n",
      "                                \n",
      "((  (    (★ ★                   \n",
      "                                \n",
      "                                \n",
      "((    ((★ ★ ★                   \n",
      "                                \n",
      "                                \n",
      "((    (  (★ ★                   \n",
      "                                \n",
      "                                \n",
      "(  (((★ ★ ★ ★                   \n",
      "                                \n",
      "                                \n",
      "(  ((  (★ ★ ★                   \n",
      "                                \n",
      "                                \n",
      "(  ((    (★ ★                   \n",
      "                                \n",
      "                                \n",
      "(  (  ((★ ★ ★                   \n",
      "                                \n",
      "                                \n",
      "(  (  (  (★ ★                   \n",
      "                                \n",
      "\n"
     ]
    }
   ],
   "source": [
    "print(next(representations))"
   ]
  },
  {
   "cell_type": "markdown",
   "metadata": {},
   "source": [
    "# Splitters"
   ]
  },
  {
   "cell_type": "code",
   "execution_count": 300,
   "metadata": {
    "collapsed": true
   },
   "outputs": [],
   "source": [
    "# in the following, the symbol ★ has a generation power, \n",
    "# namely produces a new structure with the basic shape replacing it.\n",
    "\n",
    "\"\"\"\n",
    "★\n",
    "─  :horizontal\n",
    "★\n",
    "\n",
    "★ │ ★   :vertical\n",
    " \n",
    "\"\"\"\n",
    "shapes = {\n",
    "    'horizontal': lambda r, c: Anchor(symbol='─', stars=[\n",
    "                Star(row=r-1, col=c, offsets=None, link='vertical', symbol='★'),\n",
    "                Star(row=r+1, col=c, offsets=None, link='vertical', symbol='★'),]),\n",
    "    'vertical': lambda r, c: Anchor(symbol='│', stars=[\n",
    "                Star(row=r, col=c-1, offsets=None, link='horizontal', symbol='★'),\n",
    "                Star(row=r, col=c+1, offsets=None, link='horizontal', symbol='★'),]),\n",
    "}"
   ]
  },
  {
   "cell_type": "code",
   "execution_count": 307,
   "metadata": {
    "collapsed": false
   },
   "outputs": [],
   "source": [
    "rows, cols = 8, 25\n",
    "coor, number = coordinates(rows), numbering(rows)\n",
    "\n",
    "# starts at the first cell of the 13th column\n",
    "fractals = recursive_structures((shapes, 'vertical'), rows*12+4, (coor, number))\n",
    "representations = map(make_pretty((rows, cols),), fractals)"
   ]
  },
  {
   "cell_type": "markdown",
   "metadata": {},
   "source": [
    "First generation contains only the *seed* symbol ★"
   ]
  },
  {
   "cell_type": "code",
   "execution_count": 308,
   "metadata": {
    "collapsed": false
   },
   "outputs": [
    {
     "name": "stdout",
     "output_type": "stream",
     "text": [
      "                         \n",
      "                         \n",
      "                         \n",
      "                         \n",
      "            ★            \n",
      "                         \n",
      "                         \n",
      "                         \n",
      "\n"
     ]
    }
   ],
   "source": [
    "print(next(representations))"
   ]
  },
  {
   "cell_type": "markdown",
   "metadata": {},
   "source": [
    "Next generation:"
   ]
  },
  {
   "cell_type": "code",
   "execution_count": 309,
   "metadata": {
    "collapsed": false
   },
   "outputs": [
    {
     "name": "stdout",
     "output_type": "stream",
     "text": [
      "                         \n",
      "                         \n",
      "                         \n",
      "                         \n",
      "           ★│★           \n",
      "                         \n",
      "                         \n",
      "                         \n",
      "\n"
     ]
    }
   ],
   "source": [
    "print(next(representations))"
   ]
  },
  {
   "cell_type": "markdown",
   "metadata": {},
   "source": [
    "Next generation:"
   ]
  },
  {
   "cell_type": "code",
   "execution_count": 310,
   "metadata": {
    "collapsed": false
   },
   "outputs": [
    {
     "name": "stdout",
     "output_type": "stream",
     "text": [
      "                         \n",
      "                         \n",
      "                         \n",
      "           ★             \n",
      "           ─│★           \n",
      "           ★             \n",
      "                         \n",
      "                         \n",
      "                         \n",
      "                         \n",
      "                         \n",
      "             ★           \n",
      "            │─           \n",
      "             ★           \n",
      "                         \n",
      "                         \n",
      "\n"
     ]
    }
   ],
   "source": [
    "print(next(representations))"
   ]
  },
  {
   "cell_type": "markdown",
   "metadata": {},
   "source": [
    "Next generation:"
   ]
  },
  {
   "cell_type": "code",
   "execution_count": 311,
   "metadata": {
    "collapsed": false
   },
   "outputs": [
    {
     "name": "stdout",
     "output_type": "stream",
     "text": [
      "                         \n",
      "                         \n",
      "                         \n",
      "          ★│★            \n",
      "           ─│★           \n",
      "           ★             \n",
      "                         \n",
      "                         \n",
      "                         \n",
      "                         \n",
      "                         \n",
      "                         \n",
      "           ─│★           \n",
      "          ★│★            \n",
      "                         \n",
      "                         \n",
      "                         \n",
      "                         \n",
      "                         \n",
      "             ★           \n",
      "           ─│─           \n",
      "             ★           \n",
      "                         \n",
      "                         \n",
      "                         \n",
      "                         \n",
      "                         \n",
      "            ★│★          \n",
      "            │─           \n",
      "             ★           \n",
      "                         \n",
      "                         \n",
      "                         \n",
      "                         \n",
      "                         \n",
      "                         \n",
      "            │─           \n",
      "            ★│★          \n",
      "                         \n",
      "                         \n",
      "\n"
     ]
    }
   ],
   "source": [
    "print(next(representations))"
   ]
  },
  {
   "cell_type": "markdown",
   "metadata": {},
   "source": [
    "Next generation:"
   ]
  },
  {
   "cell_type": "code",
   "execution_count": 312,
   "metadata": {
    "collapsed": false
   },
   "outputs": [
    {
     "name": "stdout",
     "output_type": "stream",
     "text": [
      "                         \n",
      "                         \n",
      "          ★              \n",
      "          ─│★            \n",
      "          ★─│★           \n",
      "           ★             \n",
      "                         \n",
      "                         \n",
      "                         \n",
      "                         \n",
      "                         \n",
      "           │★            \n",
      "           ─│★           \n",
      "          ★│★            \n",
      "                         \n",
      "                         \n",
      "                         \n",
      "                         \n",
      "            ★            \n",
      "           │─            \n",
      "           ─│,★★           \n",
      "                         \n",
      "                         \n",
      "                         \n",
      "                         \n",
      "                         \n",
      "                         \n",
      "           │ ★           \n",
      "           ─│─           \n",
      "             ★           \n",
      "                         \n",
      "                         \n",
      "                         \n",
      "                         \n",
      "                         \n",
      "                         \n",
      "          ★─│★           \n",
      "          ─│★            \n",
      "          ★              \n",
      "                         \n",
      "                         \n",
      "                         \n",
      "                         \n",
      "                         \n",
      "           ─│,★★           \n",
      "           │─            \n",
      "            ★            \n",
      "                         \n",
      "                         \n",
      "                         \n",
      "                         \n",
      "             ★           \n",
      "           ─│─           \n",
      "           │ ★           \n",
      "                         \n",
      "                         \n",
      "                         \n",
      "                         \n",
      "                         \n",
      "            ★│★          \n",
      "           ─│─           \n",
      "             ★           \n",
      "                         \n",
      "                         \n",
      "                         \n",
      "                         \n",
      "                         \n",
      "                         \n",
      "           ─│─           \n",
      "            ★│★          \n",
      "                         \n",
      "                         \n",
      "                         \n",
      "                         \n",
      "            ★            \n",
      "            ─│★          \n",
      "            │,★─           \n",
      "             ★           \n",
      "                         \n",
      "                         \n",
      "                         \n",
      "                         \n",
      "                         \n",
      "             │★          \n",
      "            │─           \n",
      "            ★│★          \n",
      "                         \n",
      "                         \n",
      "                         \n",
      "                         \n",
      "              ★          \n",
      "             │─          \n",
      "            │─★          \n",
      "                         \n",
      "                         \n",
      "                         \n",
      "                         \n",
      "                         \n",
      "                         \n",
      "                         \n",
      "            │,★─           \n",
      "            ─│★          \n",
      "            ★            \n",
      "                         \n",
      "                         \n",
      "                         \n",
      "                         \n",
      "                         \n",
      "            │─★          \n",
      "             │─          \n",
      "              ★          \n",
      "                         \n",
      "\n"
     ]
    }
   ],
   "source": [
    "print(next(representations))"
   ]
  },
  {
   "cell_type": "markdown",
   "metadata": {},
   "source": [
    "# Plane trees"
   ]
  },
  {
   "cell_type": "code",
   "execution_count": 266,
   "metadata": {
    "collapsed": true
   },
   "outputs": [],
   "source": [
    "# in the following, the symbol ★ has a generation power, \n",
    "# namely produces a new structure with the basic shape replacing it.\n",
    "\n",
    "\"\"\" \n",
    "★\n",
    "Λ\n",
    " ★  \n",
    "\"\"\"\n",
    "shapes = {\n",
    "    'plane': lambda r, c: Anchor(symbol='Λ', stars=[\n",
    "                Star(row=r-1, col=c, offsets=None, link='plane', symbol='★'),\n",
    "                Star(row=r+1, col=c+1, offsets=None, link='plane', symbol='★'),]),\n",
    "    }"
   ]
  },
  {
   "cell_type": "code",
   "execution_count": 267,
   "metadata": {
    "collapsed": true
   },
   "outputs": [],
   "source": [
    "rows, cols = 10, 25\n",
    "coor, number = coordinates(rows), numbering(rows)\n",
    "\n",
    "plane_trees = recursive_structures((shapes, 'plane'), 4, (coor, number))\n",
    "representations = map(make_pretty((rows, cols),), plane_trees)"
   ]
  },
  {
   "cell_type": "markdown",
   "metadata": {},
   "source": [
    "First generation contains only the *seed* symbol ★"
   ]
  },
  {
   "cell_type": "code",
   "execution_count": 268,
   "metadata": {
    "collapsed": false
   },
   "outputs": [
    {
     "name": "stdout",
     "output_type": "stream",
     "text": [
      "                         \n",
      "                         \n",
      "                         \n",
      "                         \n",
      "★                        \n",
      "                         \n",
      "                         \n",
      "                         \n",
      "                         \n",
      "                         \n",
      "\n"
     ]
    }
   ],
   "source": [
    "print(next(representations))"
   ]
  },
  {
   "cell_type": "markdown",
   "metadata": {},
   "source": [
    "Next generation:"
   ]
  },
  {
   "cell_type": "code",
   "execution_count": 269,
   "metadata": {
    "collapsed": false
   },
   "outputs": [
    {
     "name": "stdout",
     "output_type": "stream",
     "text": [
      "                         \n",
      "                         \n",
      "                         \n",
      "★                        \n",
      "Λ                        \n",
      " ★                       \n",
      "                         \n",
      "                         \n",
      "                         \n",
      "                         \n",
      "\n"
     ]
    }
   ],
   "source": [
    "print(next(representations))"
   ]
  },
  {
   "cell_type": "markdown",
   "metadata": {},
   "source": [
    "Next generation:"
   ]
  },
  {
   "cell_type": "code",
   "execution_count": 270,
   "metadata": {
    "collapsed": false
   },
   "outputs": [
    {
     "name": "stdout",
     "output_type": "stream",
     "text": [
      "                         \n",
      "                         \n",
      "★                        \n",
      "Λ                        \n",
      "Λ★                       \n",
      " ★                       \n",
      "                         \n",
      "                         \n",
      "                         \n",
      "                         \n",
      "                         \n",
      "                         \n",
      "                         \n",
      "                         \n",
      "Λ★                       \n",
      " Λ                       \n",
      "  ★                      \n",
      "                         \n",
      "                         \n",
      "                         \n",
      "\n"
     ]
    }
   ],
   "source": [
    "print(next(representations))"
   ]
  },
  {
   "cell_type": "markdown",
   "metadata": {},
   "source": [
    "Next generation:"
   ]
  },
  {
   "cell_type": "code",
   "execution_count": 271,
   "metadata": {
    "collapsed": false
   },
   "outputs": [
    {
     "name": "stdout",
     "output_type": "stream",
     "text": [
      "                         \n",
      "★                        \n",
      "Λ                        \n",
      "Λ★                       \n",
      "Λ★                       \n",
      " ★                       \n",
      "                         \n",
      "                         \n",
      "                         \n",
      "                         \n",
      "                         \n",
      "                         \n",
      "                         \n",
      "Λ★                       \n",
      "ΛΛ                       \n",
      " ★★                      \n",
      "                         \n",
      "                         \n",
      "                         \n",
      "                         \n",
      "                         \n",
      "                         \n",
      "                         \n",
      "Λ                        \n",
      "Λ★                       \n",
      " Λ                       \n",
      "  ★                      \n",
      "                         \n",
      "                         \n",
      "                         \n",
      "                         \n",
      "                         \n",
      "                         \n",
      " ★                       \n",
      "ΛΛ                       \n",
      " Λ★                      \n",
      "  ★                      \n",
      "                         \n",
      "                         \n",
      "                         \n",
      "                         \n",
      "                         \n",
      "                         \n",
      "                         \n",
      "Λ                        \n",
      " Λ★                      \n",
      "  Λ                      \n",
      "   ★                     \n",
      "                         \n",
      "                         \n",
      "\n"
     ]
    }
   ],
   "source": [
    "print(next(representations))"
   ]
  },
  {
   "cell_type": "markdown",
   "metadata": {},
   "source": [
    "Next generation:"
   ]
  },
  {
   "cell_type": "code",
   "execution_count": 272,
   "metadata": {
    "collapsed": false
   },
   "outputs": [
    {
     "name": "stdout",
     "output_type": "stream",
     "text": [
      "★                        \n",
      "Λ                        \n",
      "Λ★                       \n",
      "Λ★                       \n",
      "Λ★                       \n",
      " ★                       \n",
      "                         \n",
      "                         \n",
      "                         \n",
      "                         \n",
      "                         \n",
      "                         \n",
      "Λ★                       \n",
      "ΛΛ                       \n",
      "Λ★★                      \n",
      " ★                       \n",
      "                         \n",
      "                         \n",
      "                         \n",
      "                         \n",
      "                         \n",
      "                         \n",
      "Λ                        \n",
      "Λ★                       \n",
      "ΛΛ                       \n",
      " ★★                      \n",
      "                         \n",
      "                         \n",
      "                         \n",
      "                         \n",
      "                         \n",
      "                         \n",
      "Λ                        \n",
      "Λ                        \n",
      "Λ★                       \n",
      " Λ                       \n",
      "  ★                      \n",
      "                         \n",
      "                         \n",
      "                         \n",
      "                         \n",
      "                         \n",
      " ★                       \n",
      "ΛΛ                       \n",
      "ΛΛ★                      \n",
      " ★★                      \n",
      "                         \n",
      "                         \n",
      "                         \n",
      "                         \n",
      "                         \n",
      "                         \n",
      "                         \n",
      "Λ                        \n",
      "ΛΛ,★                       \n",
      " Λ★                      \n",
      "  ★                      \n",
      "                         \n",
      "                         \n",
      "                         \n",
      "                         \n",
      "                         \n",
      "                         \n",
      "Λ                        \n",
      "ΛΛ★                      \n",
      "  Λ                      \n",
      "   ★                     \n",
      "                         \n",
      "                         \n",
      "                         \n",
      "                         \n",
      "                         \n",
      "                         \n",
      "Λ★                       \n",
      "ΛΛ                       \n",
      " Λ★                      \n",
      "  ★                      \n",
      "                         \n",
      "                         \n",
      "                         \n",
      "                         \n",
      "                         \n",
      "                         \n",
      "Λ                        \n",
      "Λ                        \n",
      " Λ★                      \n",
      "  Λ                      \n",
      "   ★                     \n",
      "                         \n",
      "                         \n",
      "                         \n",
      "                         \n",
      " ★                       \n",
      " Λ                       \n",
      "ΛΛ★                      \n",
      " Λ★                      \n",
      "  ★                      \n",
      "                         \n",
      "                         \n",
      "                         \n",
      "                         \n",
      "                         \n",
      "                         \n",
      "                         \n",
      "ΛΛ★                      \n",
      " ΛΛ                      \n",
      "  ★★                     \n",
      "                         \n",
      "                         \n",
      "                         \n",
      "                         \n",
      "                         \n",
      "                         \n",
      "                         \n",
      "ΛΛ                       \n",
      " Λ★                      \n",
      "  Λ                      \n",
      "   ★                     \n",
      "                         \n",
      "                         \n",
      "                         \n",
      "                         \n",
      "                         \n",
      "                         \n",
      "Λ ★                      \n",
      " ΛΛ                      \n",
      "  Λ★                     \n",
      "   ★                     \n",
      "                         \n",
      "                         \n",
      "                         \n",
      "                         \n",
      "                         \n",
      "                         \n",
      "Λ                        \n",
      " Λ                       \n",
      "  Λ★                     \n",
      "   Λ                     \n",
      "    ★                    \n",
      "                         \n",
      "\n"
     ]
    }
   ],
   "source": [
    "print(next(representations))"
   ]
  },
  {
   "cell_type": "markdown",
   "metadata": {},
   "source": [
    "# Blocks"
   ]
  },
  {
   "cell_type": "code",
   "execution_count": 259,
   "metadata": {
    "collapsed": true
   },
   "outputs": [],
   "source": [
    "# in the following, the symbol ★ has a generation power, \n",
    "# namely produces a new structure with the basic shape replacing it.\n",
    "\n",
    "\"\"\" \n",
    "★\n",
    "▢ ★ \n",
    "\"\"\"\n",
    "shapes = {\n",
    "    'block': lambda r, c: Anchor(symbol='▢', stars=[\n",
    "                Star(row=r-1, col=c, offsets=None, link='block', symbol='★'),\n",
    "                Star(row=r, col=c+1, offsets=None, link='block', symbol='★'),]),\n",
    "    }"
   ]
  },
  {
   "cell_type": "code",
   "execution_count": 260,
   "metadata": {
    "collapsed": true
   },
   "outputs": [],
   "source": [
    "rows, cols = 10, 25\n",
    "coor, number = coordinates(rows), numbering(rows)\n",
    "\n",
    "blocks = recursive_structures((shapes, 'block'), 4, (coor, number))\n",
    "representations = map(make_pretty((rows, cols), joiner=' '), blocks)"
   ]
  },
  {
   "cell_type": "markdown",
   "metadata": {},
   "source": [
    "First generation contains only the *seed* symbol ★"
   ]
  },
  {
   "cell_type": "code",
   "execution_count": 261,
   "metadata": {
    "collapsed": false
   },
   "outputs": [
    {
     "name": "stdout",
     "output_type": "stream",
     "text": [
      "                                                 \n",
      "                                                 \n",
      "                                                 \n",
      "                                                 \n",
      "★                                                \n",
      "                                                 \n",
      "                                                 \n",
      "                                                 \n",
      "                                                 \n",
      "                                                 \n",
      "\n"
     ]
    }
   ],
   "source": [
    "print(next(representations))"
   ]
  },
  {
   "cell_type": "markdown",
   "metadata": {},
   "source": [
    "Next generation:"
   ]
  },
  {
   "cell_type": "code",
   "execution_count": 262,
   "metadata": {
    "collapsed": false
   },
   "outputs": [
    {
     "name": "stdout",
     "output_type": "stream",
     "text": [
      "                                                 \n",
      "                                                 \n",
      "                                                 \n",
      "★                                                \n",
      "▢ ★                                              \n",
      "                                                 \n",
      "                                                 \n",
      "                                                 \n",
      "                                                 \n",
      "                                                 \n",
      "\n"
     ]
    }
   ],
   "source": [
    "print(next(representations))"
   ]
  },
  {
   "cell_type": "markdown",
   "metadata": {},
   "source": [
    "Next generation:"
   ]
  },
  {
   "cell_type": "code",
   "execution_count": 263,
   "metadata": {
    "collapsed": false
   },
   "outputs": [
    {
     "name": "stdout",
     "output_type": "stream",
     "text": [
      "                                                 \n",
      "                                                 \n",
      "★                                                \n",
      "▢ ★                                              \n",
      "▢ ★                                              \n",
      "                                                 \n",
      "                                                 \n",
      "                                                 \n",
      "                                                 \n",
      "                                                 \n",
      "                                                 \n",
      "                                                 \n",
      "                                                 \n",
      "  ★                                              \n",
      "▢ ▢ ★                                            \n",
      "                                                 \n",
      "                                                 \n",
      "                                                 \n",
      "                                                 \n",
      "                                                 \n",
      "\n"
     ]
    }
   ],
   "source": [
    "print(next(representations))"
   ]
  },
  {
   "cell_type": "markdown",
   "metadata": {},
   "source": [
    "Next generation:"
   ]
  },
  {
   "cell_type": "code",
   "execution_count": 264,
   "metadata": {
    "collapsed": false
   },
   "outputs": [
    {
     "name": "stdout",
     "output_type": "stream",
     "text": [
      "                                                 \n",
      "★                                                \n",
      "▢ ★                                              \n",
      "▢ ★                                              \n",
      "▢ ★                                              \n",
      "                                                 \n",
      "                                                 \n",
      "                                                 \n",
      "                                                 \n",
      "                                                 \n",
      "                                                 \n",
      "                                                 \n",
      "  ★                                              \n",
      "▢ ▢ ★                                            \n",
      "▢ ★                                              \n",
      "                                                 \n",
      "                                                 \n",
      "                                                 \n",
      "                                                 \n",
      "                                                 \n",
      "                                                 \n",
      "                                                 \n",
      "                                                 \n",
      "▢ ★                                              \n",
      "▢ ▢ ★                                            \n",
      "                                                 \n",
      "                                                 \n",
      "                                                 \n",
      "                                                 \n",
      "                                                 \n",
      "                                                 \n",
      "                                                 \n",
      "  ★                                              \n",
      "  ▢ ★                                            \n",
      "▢ ▢ ★                                            \n",
      "                                                 \n",
      "                                                 \n",
      "                                                 \n",
      "                                                 \n",
      "                                                 \n",
      "                                                 \n",
      "                                                 \n",
      "                                                 \n",
      "    ★                                            \n",
      "▢ ▢ ▢ ★                                          \n",
      "                                                 \n",
      "                                                 \n",
      "                                                 \n",
      "                                                 \n",
      "                                                 \n",
      "\n"
     ]
    }
   ],
   "source": [
    "print(next(representations))"
   ]
  },
  {
   "cell_type": "markdown",
   "metadata": {},
   "source": [
    "Next generation:"
   ]
  },
  {
   "cell_type": "code",
   "execution_count": 265,
   "metadata": {
    "collapsed": false
   },
   "outputs": [
    {
     "name": "stdout",
     "output_type": "stream",
     "text": [
      "★                                                \n",
      "▢ ★                                              \n",
      "▢ ★                                              \n",
      "▢ ★                                              \n",
      "▢ ★                                              \n",
      "                                                 \n",
      "                                                 \n",
      "                                                 \n",
      "                                                 \n",
      "                                                 \n",
      "                                                 \n",
      "  ★                                              \n",
      "▢ ▢ ★                                            \n",
      "▢ ★                                              \n",
      "▢ ★                                              \n",
      "                                                 \n",
      "                                                 \n",
      "                                                 \n",
      "                                                 \n",
      "                                                 \n",
      "                                                 \n",
      "                                                 \n",
      "▢ ★                                              \n",
      "▢ ▢ ★                                            \n",
      "▢ ★                                              \n",
      "                                                 \n",
      "                                                 \n",
      "                                                 \n",
      "                                                 \n",
      "                                                 \n",
      "                                                 \n",
      "                                                 \n",
      "▢                                                \n",
      "▢ ★                                              \n",
      "▢ ▢ ★                                            \n",
      "                                                 \n",
      "                                                 \n",
      "                                                 \n",
      "                                                 \n",
      "                                                 \n",
      "                                                 \n",
      "  ★                                              \n",
      "  ▢ ★                                            \n",
      "▢ ▢ ★                                            \n",
      "▢ ★                                              \n",
      "                                                 \n",
      "                                                 \n",
      "                                                 \n",
      "                                                 \n",
      "                                                 \n",
      "                                                 \n",
      "                                                 \n",
      "                                                 \n",
      "▢ ▢,★ ★                                            \n",
      "▢ ▢ ★                                            \n",
      "                                                 \n",
      "                                                 \n",
      "                                                 \n",
      "                                                 \n",
      "                                                 \n",
      "                                                 \n",
      "                                                 \n",
      "    ★                                            \n",
      "▢ ▢ ▢ ★                                          \n",
      "▢                                                \n",
      "                                                 \n",
      "                                                 \n",
      "                                                 \n",
      "                                                 \n",
      "                                                 \n",
      "                                                 \n",
      "                                                 \n",
      "  ★                                              \n",
      "▢ ▢ ★                                            \n",
      "▢ ▢ ★                                            \n",
      "                                                 \n",
      "                                                 \n",
      "                                                 \n",
      "                                                 \n",
      "                                                 \n",
      "                                                 \n",
      "                                                 \n",
      "                                                 \n",
      "▢   ★                                            \n",
      "▢ ▢ ▢ ★                                          \n",
      "                                                 \n",
      "                                                 \n",
      "                                                 \n",
      "                                                 \n",
      "                                                 \n",
      "                                                 \n",
      "  ★                                              \n",
      "  ▢ ★                                            \n",
      "  ▢ ★                                            \n",
      "▢ ▢ ★                                            \n",
      "                                                 \n",
      "                                                 \n",
      "                                                 \n",
      "                                                 \n",
      "                                                 \n",
      "                                                 \n",
      "                                                 \n",
      "    ★                                            \n",
      "  ▢ ▢ ★                                          \n",
      "▢ ▢ ★                                            \n",
      "                                                 \n",
      "                                                 \n",
      "                                                 \n",
      "                                                 \n",
      "                                                 \n",
      "                                                 \n",
      "                                                 \n",
      "                                                 \n",
      "  ▢ ★                                            \n",
      "▢ ▢ ▢ ★                                          \n",
      "                                                 \n",
      "                                                 \n",
      "                                                 \n",
      "                                                 \n",
      "                                                 \n",
      "                                                 \n",
      "                                                 \n",
      "    ★                                            \n",
      "    ▢ ★                                          \n",
      "▢ ▢ ▢ ★                                          \n",
      "                                                 \n",
      "                                                 \n",
      "                                                 \n",
      "                                                 \n",
      "                                                 \n",
      "                                                 \n",
      "                                                 \n",
      "                                                 \n",
      "      ★                                          \n",
      "▢ ▢ ▢ ▢ ★                                        \n",
      "                                                 \n",
      "                                                 \n",
      "                                                 \n",
      "                                                 \n",
      "                                                 \n",
      "\n"
     ]
    }
   ],
   "source": [
    "print(next(representations))"
   ]
  },
  {
   "cell_type": "markdown",
   "metadata": {},
   "source": [
    "# Steep Parallelograms"
   ]
  },
  {
   "cell_type": "code",
   "execution_count": 285,
   "metadata": {
    "collapsed": true
   },
   "outputs": [],
   "source": [
    "# in the following, the symbol ★ has a generation power, \n",
    "# namely produces a new structure with the basic shape replacing it.\n",
    "\n",
    "\"\"\" \n",
    "☆\n",
    "▢ \n",
    "\n",
    "☆\n",
    "▢ ★ \n",
    "\"\"\"\n",
    "shapes = {\n",
    "    'one_star': lambda r, c: Anchor(symbol='▢', stars=[\n",
    "                Star(row=r-1, col=c, offsets=None, link='two_stars', symbol='☆'),]),\n",
    "    'two_stars': lambda r, c: Anchor(symbol='▢', stars=[\n",
    "                Star(row=r-1, col=c, offsets=None, link='two_stars', symbol='☆'),\n",
    "                Star(row=r, col=c+1, offsets=None, link='one_star', symbol='★'),]),\n",
    "\n",
    "    }"
   ]
  },
  {
   "cell_type": "code",
   "execution_count": 293,
   "metadata": {
    "collapsed": true
   },
   "outputs": [],
   "source": [
    "rows, cols = 14, 25\n",
    "coor, number = coordinates(rows), numbering(rows)\n",
    "\n",
    "steep_parallelograms = recursive_structures((shapes, 'one_star'), 7, (coor, number))\n",
    "representations = map(make_pretty((rows, cols), joiner=' '), steep_parallelograms)"
   ]
  },
  {
   "cell_type": "markdown",
   "metadata": {},
   "source": [
    "First generation contains only the *seed* symbol ★"
   ]
  },
  {
   "cell_type": "code",
   "execution_count": 294,
   "metadata": {
    "collapsed": false
   },
   "outputs": [
    {
     "name": "stdout",
     "output_type": "stream",
     "text": [
      "                                                 \n",
      "                                                 \n",
      "                                                 \n",
      "                                                 \n",
      "                                                 \n",
      "                                                 \n",
      "                                                 \n",
      "★                                                \n",
      "                                                 \n",
      "                                                 \n",
      "                                                 \n",
      "                                                 \n",
      "                                                 \n",
      "                                                 \n",
      "\n"
     ]
    }
   ],
   "source": [
    "print(next(representations))"
   ]
  },
  {
   "cell_type": "markdown",
   "metadata": {},
   "source": [
    "Next generation:"
   ]
  },
  {
   "cell_type": "code",
   "execution_count": 295,
   "metadata": {
    "collapsed": false
   },
   "outputs": [
    {
     "name": "stdout",
     "output_type": "stream",
     "text": [
      "                                                 \n",
      "                                                 \n",
      "                                                 \n",
      "                                                 \n",
      "                                                 \n",
      "                                                 \n",
      "☆                                                \n",
      "▢                                                \n",
      "                                                 \n",
      "                                                 \n",
      "                                                 \n",
      "                                                 \n",
      "                                                 \n",
      "                                                 \n",
      "\n"
     ]
    }
   ],
   "source": [
    "print(next(representations))"
   ]
  },
  {
   "cell_type": "markdown",
   "metadata": {},
   "source": [
    "Next generation:"
   ]
  },
  {
   "cell_type": "code",
   "execution_count": 296,
   "metadata": {
    "collapsed": false
   },
   "outputs": [
    {
     "name": "stdout",
     "output_type": "stream",
     "text": [
      "                                                 \n",
      "                                                 \n",
      "                                                 \n",
      "                                                 \n",
      "                                                 \n",
      "☆                                                \n",
      "▢ ★                                              \n",
      "▢                                                \n",
      "                                                 \n",
      "                                                 \n",
      "                                                 \n",
      "                                                 \n",
      "                                                 \n",
      "                                                 \n",
      "\n"
     ]
    }
   ],
   "source": [
    "print(next(representations))"
   ]
  },
  {
   "cell_type": "markdown",
   "metadata": {},
   "source": [
    "Next generation:"
   ]
  },
  {
   "cell_type": "code",
   "execution_count": 297,
   "metadata": {
    "collapsed": false
   },
   "outputs": [
    {
     "name": "stdout",
     "output_type": "stream",
     "text": [
      "                                                 \n",
      "                                                 \n",
      "                                                 \n",
      "                                                 \n",
      "☆                                                \n",
      "▢ ★                                              \n",
      "▢ ★                                              \n",
      "▢                                                \n",
      "                                                 \n",
      "                                                 \n",
      "                                                 \n",
      "                                                 \n",
      "                                                 \n",
      "                                                 \n",
      "                                                 \n",
      "                                                 \n",
      "                                                 \n",
      "                                                 \n",
      "                                                 \n",
      "  ☆                                              \n",
      "▢ ▢                                              \n",
      "▢                                                \n",
      "                                                 \n",
      "                                                 \n",
      "                                                 \n",
      "                                                 \n",
      "                                                 \n",
      "                                                 \n",
      "\n"
     ]
    }
   ],
   "source": [
    "print(next(representations))"
   ]
  },
  {
   "cell_type": "markdown",
   "metadata": {},
   "source": [
    "Next generation:"
   ]
  },
  {
   "cell_type": "code",
   "execution_count": 298,
   "metadata": {
    "collapsed": false
   },
   "outputs": [
    {
     "name": "stdout",
     "output_type": "stream",
     "text": [
      "                                                 \n",
      "                                                 \n",
      "                                                 \n",
      "☆                                                \n",
      "▢ ★                                              \n",
      "▢ ★                                              \n",
      "▢ ★                                              \n",
      "▢                                                \n",
      "                                                 \n",
      "                                                 \n",
      "                                                 \n",
      "                                                 \n",
      "                                                 \n",
      "                                                 \n",
      "                                                 \n",
      "                                                 \n",
      "                                                 \n",
      "                                                 \n",
      "  ☆                                              \n",
      "▢ ▢                                              \n",
      "▢ ★                                              \n",
      "▢                                                \n",
      "                                                 \n",
      "                                                 \n",
      "                                                 \n",
      "                                                 \n",
      "                                                 \n",
      "                                                 \n",
      "                                                 \n",
      "                                                 \n",
      "                                                 \n",
      "                                                 \n",
      "                                                 \n",
      "▢ ☆                                              \n",
      "▢ ▢                                              \n",
      "▢                                                \n",
      "                                                 \n",
      "                                                 \n",
      "                                                 \n",
      "                                                 \n",
      "                                                 \n",
      "                                                 \n",
      "                                                 \n",
      "                                                 \n",
      "                                                 \n",
      "                                                 \n",
      "  ☆                                              \n",
      "  ▢ ★                                            \n",
      "▢ ▢                                              \n",
      "▢                                                \n",
      "                                                 \n",
      "                                                 \n",
      "                                                 \n",
      "                                                 \n",
      "                                                 \n",
      "                                                 \n",
      "\n"
     ]
    }
   ],
   "source": [
    "print(next(representations))"
   ]
  },
  {
   "cell_type": "markdown",
   "metadata": {},
   "source": [
    "Next generation:"
   ]
  },
  {
   "cell_type": "code",
   "execution_count": 299,
   "metadata": {
    "collapsed": false
   },
   "outputs": [
    {
     "name": "stdout",
     "output_type": "stream",
     "text": [
      "                                                 \n",
      "                                                 \n",
      "☆                                                \n",
      "▢ ★                                              \n",
      "▢ ★                                              \n",
      "▢ ★                                              \n",
      "▢ ★                                              \n",
      "▢                                                \n",
      "                                                 \n",
      "                                                 \n",
      "                                                 \n",
      "                                                 \n",
      "                                                 \n",
      "                                                 \n",
      "                                                 \n",
      "                                                 \n",
      "                                                 \n",
      "  ☆                                              \n",
      "▢ ▢                                              \n",
      "▢ ★                                              \n",
      "▢ ★                                              \n",
      "▢                                                \n",
      "                                                 \n",
      "                                                 \n",
      "                                                 \n",
      "                                                 \n",
      "                                                 \n",
      "                                                 \n",
      "                                                 \n",
      "                                                 \n",
      "                                                 \n",
      "                                                 \n",
      "▢ ☆                                              \n",
      "▢ ▢                                              \n",
      "▢ ★                                              \n",
      "▢                                                \n",
      "                                                 \n",
      "                                                 \n",
      "                                                 \n",
      "                                                 \n",
      "                                                 \n",
      "                                                 \n",
      "                                                 \n",
      "                                                 \n",
      "                                                 \n",
      "                                                 \n",
      "▢                                                \n",
      "▢ ☆                                              \n",
      "▢ ▢                                              \n",
      "▢                                                \n",
      "                                                 \n",
      "                                                 \n",
      "                                                 \n",
      "                                                 \n",
      "                                                 \n",
      "                                                 \n",
      "                                                 \n",
      "                                                 \n",
      "                                                 \n",
      "  ☆                                              \n",
      "  ▢ ★                                            \n",
      "▢ ▢                                              \n",
      "▢ ★                                              \n",
      "▢                                                \n",
      "                                                 \n",
      "                                                 \n",
      "                                                 \n",
      "                                                 \n",
      "                                                 \n",
      "                                                 \n",
      "                                                 \n",
      "                                                 \n",
      "                                                 \n",
      "                                                 \n",
      "                                                 \n",
      "▢ ▢,☆                                              \n",
      "▢ ▢                                              \n",
      "▢                                                \n",
      "                                                 \n",
      "                                                 \n",
      "                                                 \n",
      "                                                 \n",
      "                                                 \n",
      "                                                 \n",
      "                                                 \n",
      "                                                 \n",
      "                                                 \n",
      "                                                 \n",
      "  ☆                                              \n",
      "▢ ▢ ★                                            \n",
      "▢ ▢                                              \n",
      "▢                                                \n",
      "                                                 \n",
      "                                                 \n",
      "                                                 \n",
      "                                                 \n",
      "                                                 \n",
      "                                                 \n",
      "                                                 \n",
      "                                                 \n",
      "                                                 \n",
      "  ☆                                              \n",
      "  ▢ ★                                            \n",
      "  ▢ ★                                            \n",
      "▢ ▢                                              \n",
      "▢                                                \n",
      "                                                 \n",
      "                                                 \n",
      "                                                 \n",
      "                                                 \n",
      "                                                 \n",
      "                                                 \n",
      "                                                 \n",
      "                                                 \n",
      "                                                 \n",
      "                                                 \n",
      "    ☆                                            \n",
      "  ▢ ▢                                            \n",
      "▢ ▢                                              \n",
      "▢                                                \n",
      "                                                 \n",
      "                                                 \n",
      "                                                 \n",
      "                                                 \n",
      "                                                 \n",
      "                                                 \n",
      "\n"
     ]
    }
   ],
   "source": [
    "print(next(representations))"
   ]
  },
  {
   "cell_type": "markdown",
   "metadata": {},
   "source": [
    "---\n",
    "<a rel=\"license\" href=\"http://creativecommons.org/licenses/by-nc/4.0/\"><img alt=\"Creative Commons License\" style=\"border-width:0\" src=\"https://i.creativecommons.org/l/by-nc/4.0/88x31.png\" /></a><br /><span xmlns:dct=\"http://purl.org/dc/terms/\" property=\"dct:title\">Recursive Structures tutorial</span> by <a xmlns:cc=\"http://creativecommons.org/ns#\" href=\"massimo.nocentini@unifi.it\" property=\"cc:attributionName\" rel=\"cc:attributionURL\">Massimo Nocentini</a> is licensed under a <a rel=\"license\" href=\"http://creativecommons.org/licenses/by-nc/4.0/\">Creative Commons Attribution-NonCommercial 4.0 International License</a>.<br />Based on a work at <a xmlns:dct=\"http://purl.org/dc/terms/\" href=\"https://github.com/massimo-nocentini/competitive-programming/blob/master/tutorials/recursive-structures.ipynb\" rel=\"dct:source\">https://github.com/massimo-nocentini/competitive-programming/blob/master/tutorials/recursive-structures.ipynb</a>."
   ]
  }
 ],
 "metadata": {
  "kernelspec": {
   "display_name": "Python 3",
   "language": "python",
   "name": "python3"
  },
  "language_info": {
   "codemirror_mode": {
    "name": "ipython",
    "version": 3
   },
   "file_extension": ".py",
   "mimetype": "text/x-python",
   "name": "python",
   "nbconvert_exporter": "python",
   "pygments_lexer": "ipython3",
   "version": "3.5.1"
  }
 },
 "nbformat": 4,
 "nbformat_minor": 0
}
