{
 "cells": [
  {
   "cell_type": "markdown",
   "metadata": {},
   "source": [
    "<div align=\"right\">\n",
    "Massimo Nocentini<br>\n",
    "<br>May 29, 2016: Linearization\n",
    "<br>May 28, 2016: Binary Forests, Sigmoids\n",
    "<br>May 27, 2016: Binary and Ternary Trees, Dick paths\n",
    "<br>May 26, 2016: structure generation\n",
    "</div>\n",
    "<br>\n",
    "<div align=\"center\">\n",
    "<b>Abstract</b><br>\n",
    "This document collect some examples about *recursively-defined structures*.\n",
    "</div>"
   ]
  },
  {
   "cell_type": "code",
   "execution_count": 1,
   "metadata": {
    "collapsed": true
   },
   "outputs": [],
   "source": [
    "%matplotlib inline\n",
    "%run ../python-libs/bits.py\n",
    "%run ../python-libs/timing.py\n",
    "%run ../python-libs/graycodes.py\n",
    "%run ../python-libs/symbols.py"
   ]
  },
  {
   "cell_type": "code",
   "execution_count": 2,
   "metadata": {
    "collapsed": true
   },
   "outputs": [],
   "source": [
    "# numbering and coordinates are inverses the one of the other                  \n",
    "def coordinates(group):\n",
    "    \n",
    "    def do(anchor):\n",
    "        c, r = divmod(anchor, group)\n",
    "        return r, c # simply flip them\n",
    "\n",
    "    return do\n",
    "\n",
    "def numbering(group):\n",
    "    \n",
    "    def do(coordinate):\n",
    "        r, c = coordinate\n",
    "        return r + group*c\n",
    "\n",
    "    return do\n",
    "\n",
    "#_______________________________________________________________\n",
    "\n",
    "def recursive_structures(shapes, start_cell, locating, handle_multiplicities=False):\n",
    "    \"Returns a generator of structures according `shapes` recursion schemas, starting at anchor `init`.\"\n",
    "    \n",
    "    from collections import defaultdict\n",
    "    \n",
    "    coordinates, numbering = locating\n",
    "            \n",
    "    def gen(generation):\n",
    "\n",
    "        yield generation\n",
    "\n",
    "        next_generation = []\n",
    "        for anchors, stars in generation:\n",
    "            while stars: # `stars` is an integer to be used as bitmask: 1 in position k \n",
    "                         # means that a ★ is present at cell numbered k\n",
    "                anchor, stars = low_bit_and_clear(stars)\n",
    "                r, c = coordinates(anchor)\n",
    "                for s in shapes:\n",
    "                    for orientation in s(r, c):\n",
    "                        augmented_stars = stars\n",
    "                        multiplicities = 1 # are really necessary?\n",
    "                        \n",
    "                        for star in orientation:\n",
    "                            rs, cs, *offsets = star\n",
    "                            if offsets:\n",
    "                                r_offset, c_offset = offsets\n",
    "                                translating_stars = ones_of(augmented_stars)\n",
    "                                augmented_stars = 0\n",
    "                                for ts in translating_stars:\n",
    "                                    ts_r, ts_c = coordinates(ts)\n",
    "                                    translated = ts_r + r_offset, ts_c + c_offset\n",
    "                                    augmented_stars = set_bit(augmented_stars, numbering(translated))\n",
    "                            \n",
    "                            star_cell = numbering((rs,cs),)\n",
    "                            multiplicities += 1 * is_on(augmented_stars, star_cell, return_int=True) * int(handle_multiplicities)\n",
    "                            augmented_stars = set_bit(augmented_stars, star_cell)\n",
    "                            \n",
    "                        struct = set_bit(anchors, anchor), augmented_stars\n",
    "                        next_generation.extend([struct]*multiplicities)\n",
    "\n",
    "        yield from gen(next_generation)\n",
    "                \n",
    "    init_structure = 0b0, 1 << start_cell\n",
    "    \n",
    "    return gen([init_structure])"
   ]
  },
  {
   "cell_type": "markdown",
   "metadata": {},
   "source": [
    "# Binary trees"
   ]
  },
  {
   "cell_type": "code",
   "execution_count": 43,
   "metadata": {
    "collapsed": true
   },
   "outputs": [],
   "source": [
    "# in the following, the symbol ★ has a generation power, \n",
    "# namely produces a new structure with the basic shape replacing it.\n",
    "\n",
    "\"\"\"\n",
    "  ●\n",
    "★ o ★  \n",
    "\"\"\"\n",
    "bintree_shape = lambda r, c: [((r+1, c-1), (r+1, c+1))]"
   ]
  },
  {
   "cell_type": "code",
   "execution_count": 44,
   "metadata": {
    "collapsed": true
   },
   "outputs": [],
   "source": [
    "shapes = [bintree_shape]"
   ]
  },
  {
   "cell_type": "code",
   "execution_count": 3,
   "metadata": {
    "collapsed": true
   },
   "outputs": [],
   "source": [
    "def pretty(structures):\n",
    "    \n",
    "    from collections import defaultdict\n",
    "\n",
    "    strings = []\n",
    "    for anchors, stars in structures:\n",
    "    \n",
    "        table = defaultdict(lambda: ' ')\n",
    "    \n",
    "        for a in ones_of(anchors):\n",
    "            ca = coor(a)\n",
    "            table[ca] = table[ca] + '|●' if ca in table else '●'\n",
    "        \n",
    "        for s in ones_of(stars):\n",
    "            cs = coor(s)\n",
    "            table[cs] = table[cs] + '|★' if cs in table else '★'\n",
    "        \n",
    "        s = ''\n",
    "        for r in range(rows):\n",
    "            s += ' '.join(table[r, c] for c in range(cols)) + '\\n'\n",
    "        \n",
    "        strings.append(s)\n",
    "    \n",
    "    return  ''.join(strings)"
   ]
  },
  {
   "cell_type": "code",
   "execution_count": 46,
   "metadata": {
    "collapsed": true
   },
   "outputs": [],
   "source": [
    "rows, cols = 8, 25\n",
    "coor, number = coordinates(rows), numbering(rows)\n",
    "\n",
    "# starts at the first cell of the 13th column\n",
    "bin_trees = recursive_structures(shapes, rows*12, (coor, number))\n",
    "representations = map(pretty, bin_trees)"
   ]
  },
  {
   "cell_type": "markdown",
   "metadata": {},
   "source": [
    "First generation contains only the *seed* symbol ★"
   ]
  },
  {
   "cell_type": "code",
   "execution_count": 47,
   "metadata": {
    "collapsed": false
   },
   "outputs": [
    {
     "name": "stdout",
     "output_type": "stream",
     "text": [
      "                        ★                        \n",
      "                                                 \n",
      "                                                 \n",
      "                                                 \n",
      "                                                 \n",
      "                                                 \n",
      "                                                 \n",
      "                                                 \n",
      "\n"
     ]
    }
   ],
   "source": [
    "print(next(representations))"
   ]
  },
  {
   "cell_type": "markdown",
   "metadata": {},
   "source": [
    "Next generation:"
   ]
  },
  {
   "cell_type": "code",
   "execution_count": 48,
   "metadata": {
    "collapsed": false
   },
   "outputs": [
    {
     "name": "stdout",
     "output_type": "stream",
     "text": [
      "                        ●                        \n",
      "                      ★   ★                      \n",
      "                                                 \n",
      "                                                 \n",
      "                                                 \n",
      "                                                 \n",
      "                                                 \n",
      "                                                 \n",
      "\n"
     ]
    }
   ],
   "source": [
    "print(next(representations))"
   ]
  },
  {
   "cell_type": "markdown",
   "metadata": {},
   "source": [
    "Next generation:"
   ]
  },
  {
   "cell_type": "code",
   "execution_count": 49,
   "metadata": {
    "collapsed": false
   },
   "outputs": [
    {
     "name": "stdout",
     "output_type": "stream",
     "text": [
      "                        ●                        \n",
      "                      ●   ★                      \n",
      "                    ★   ★                        \n",
      "                                                 \n",
      "                                                 \n",
      "                                                 \n",
      "                                                 \n",
      "                                                 \n",
      "                        ●                        \n",
      "                          ●                      \n",
      "                        ★   ★                    \n",
      "                                                 \n",
      "                                                 \n",
      "                                                 \n",
      "                                                 \n",
      "                                                 \n",
      "\n"
     ]
    }
   ],
   "source": [
    "print(next(representations))"
   ]
  },
  {
   "cell_type": "markdown",
   "metadata": {},
   "source": [
    "Next generation:"
   ]
  },
  {
   "cell_type": "code",
   "execution_count": 50,
   "metadata": {
    "collapsed": false
   },
   "outputs": [
    {
     "name": "stdout",
     "output_type": "stream",
     "text": [
      "                        ●                        \n",
      "                      ●   ★                      \n",
      "                    ●   ★                        \n",
      "                  ★   ★                          \n",
      "                                                 \n",
      "                                                 \n",
      "                                                 \n",
      "                                                 \n",
      "                        ●                        \n",
      "                      ●   ★                      \n",
      "                        ●                        \n",
      "                      ★   ★                      \n",
      "                                                 \n",
      "                                                 \n",
      "                                                 \n",
      "                                                 \n",
      "                        ●                        \n",
      "                      ●   ●                      \n",
      "                        ★   ★                    \n",
      "                                                 \n",
      "                                                 \n",
      "                                                 \n",
      "                                                 \n",
      "                                                 \n",
      "                        ●                        \n",
      "                          ●                      \n",
      "                        ●   ★                    \n",
      "                      ★   ★                      \n",
      "                                                 \n",
      "                                                 \n",
      "                                                 \n",
      "                                                 \n",
      "                        ●                        \n",
      "                          ●                      \n",
      "                            ●                    \n",
      "                          ★   ★                  \n",
      "                                                 \n",
      "                                                 \n",
      "                                                 \n",
      "                                                 \n",
      "\n"
     ]
    }
   ],
   "source": [
    "print(next(representations))"
   ]
  },
  {
   "cell_type": "markdown",
   "metadata": {},
   "source": [
    "Next generation:"
   ]
  },
  {
   "cell_type": "code",
   "execution_count": 11,
   "metadata": {
    "collapsed": false
   },
   "outputs": [
    {
     "name": "stdout",
     "output_type": "stream",
     "text": [
      "                        ●                        \n",
      "                      ●   ★                      \n",
      "                    ●   ★                        \n",
      "                  ●   ★                          \n",
      "                ★   ★                            \n",
      "                                                 \n",
      "                                                 \n",
      "                                                 \n",
      "                        ●                        \n",
      "                      ●   ★                      \n",
      "                    ●   ★                        \n",
      "                      ●                          \n",
      "                    ★   ★                        \n",
      "                                                 \n",
      "                                                 \n",
      "                                                 \n",
      "                        ●                        \n",
      "                      ●   ★                      \n",
      "                    ●   ●                        \n",
      "                      ★   ★                      \n",
      "                                                 \n",
      "                                                 \n",
      "                                                 \n",
      "                                                 \n",
      "                        ●                        \n",
      "                      ●   ●                      \n",
      "                    ●   ★   ★                    \n",
      "                                                 \n",
      "                                                 \n",
      "                                                 \n",
      "                                                 \n",
      "                                                 \n",
      "                        ●                        \n",
      "                      ●   ★                      \n",
      "                        ●                        \n",
      "                      ●   ★                      \n",
      "                    ★   ★                        \n",
      "                                                 \n",
      "                                                 \n",
      "                                                 \n",
      "                        ●                        \n",
      "                      ●   ●                      \n",
      "                        ●|★   ★                    \n",
      "                          ★                      \n",
      "                                                 \n",
      "                                                 \n",
      "                                                 \n",
      "                                                 \n",
      "                        ●                        \n",
      "                      ●                          \n",
      "                        ●                        \n",
      "                          ●                      \n",
      "                        ★   ★                    \n",
      "                                                 \n",
      "                                                 \n",
      "                                                 \n",
      "                        ●                        \n",
      "                      ●   ●                      \n",
      "                        ●   ★                    \n",
      "                      ★   ★                      \n",
      "                                                 \n",
      "                                                 \n",
      "                                                 \n",
      "                                                 \n",
      "                        ●                        \n",
      "                      ●   ●                      \n",
      "                            ●                    \n",
      "                          ★   ★                  \n",
      "                                                 \n",
      "                                                 \n",
      "                                                 \n",
      "                                                 \n",
      "                        ●                        \n",
      "                          ●                      \n",
      "                        ●   ★                    \n",
      "                      ●   ★                      \n",
      "                    ★   ★                        \n",
      "                                                 \n",
      "                                                 \n",
      "                                                 \n",
      "                        ●                        \n",
      "                          ●                      \n",
      "                        ●   ★                    \n",
      "                          ●                      \n",
      "                        ★   ★                    \n",
      "                                                 \n",
      "                                                 \n",
      "                                                 \n",
      "                        ●                        \n",
      "                          ●                      \n",
      "                        ●   ●                    \n",
      "                          ★   ★                  \n",
      "                                                 \n",
      "                                                 \n",
      "                                                 \n",
      "                                                 \n",
      "                        ●                        \n",
      "                          ●                      \n",
      "                            ●                    \n",
      "                          ●   ★                  \n",
      "                        ★   ★                    \n",
      "                                                 \n",
      "                                                 \n",
      "                                                 \n",
      "                        ●                        \n",
      "                          ●                      \n",
      "                            ●                    \n",
      "                              ●                  \n",
      "                            ★   ★                \n",
      "                                                 \n",
      "                                                 \n",
      "                                                 \n",
      "\n"
     ]
    }
   ],
   "source": [
    "print(next(representations))"
   ]
  },
  {
   "cell_type": "markdown",
   "metadata": {},
   "source": [
    "# Ternary trees"
   ]
  },
  {
   "cell_type": "code",
   "execution_count": 25,
   "metadata": {
    "collapsed": true
   },
   "outputs": [],
   "source": [
    "# in the following, the symbol ★ has a generation power, \n",
    "# namely produces a new structure with the basic shape replacing it.\n",
    "\n",
    "\"\"\"\n",
    "  ●\n",
    "★ ★ ★  \n",
    "\"\"\"\n",
    "threetree_shape = lambda r, c: [((r+1, c-1), (r+1, c), (r+1, c+1))]"
   ]
  },
  {
   "cell_type": "code",
   "execution_count": 26,
   "metadata": {
    "collapsed": true
   },
   "outputs": [],
   "source": [
    "shapes = [threetree_shape]"
   ]
  },
  {
   "cell_type": "code",
   "execution_count": 28,
   "metadata": {
    "collapsed": true
   },
   "outputs": [],
   "source": [
    "rows, cols = 8, 25\n",
    "coor, number = coordinates(rows), numbering(rows)\n",
    "\n",
    "# starts at the first cell of the 13th column\n",
    "three_trees = recursive_structures(shapes, rows*12, (coor, number))\n",
    "representations = map(pretty, three_trees)"
   ]
  },
  {
   "cell_type": "markdown",
   "metadata": {},
   "source": [
    "First generation contains only the *seed* symbol ★"
   ]
  },
  {
   "cell_type": "code",
   "execution_count": 29,
   "metadata": {
    "collapsed": false
   },
   "outputs": [
    {
     "name": "stdout",
     "output_type": "stream",
     "text": [
      "                        ★                        \n",
      "                                                 \n",
      "                                                 \n",
      "                                                 \n",
      "                                                 \n",
      "                                                 \n",
      "                                                 \n",
      "                                                 \n",
      "\n"
     ]
    }
   ],
   "source": [
    "print(next(representations))"
   ]
  },
  {
   "cell_type": "markdown",
   "metadata": {},
   "source": [
    "Next generation:"
   ]
  },
  {
   "cell_type": "code",
   "execution_count": 30,
   "metadata": {
    "collapsed": false
   },
   "outputs": [
    {
     "name": "stdout",
     "output_type": "stream",
     "text": [
      "                        ●                        \n",
      "                      ★ ★ ★                      \n",
      "                                                 \n",
      "                                                 \n",
      "                                                 \n",
      "                                                 \n",
      "                                                 \n",
      "                                                 \n",
      "\n"
     ]
    }
   ],
   "source": [
    "print(next(representations))"
   ]
  },
  {
   "cell_type": "markdown",
   "metadata": {},
   "source": [
    "Next generation:"
   ]
  },
  {
   "cell_type": "code",
   "execution_count": 31,
   "metadata": {
    "collapsed": false
   },
   "outputs": [
    {
     "name": "stdout",
     "output_type": "stream",
     "text": [
      "                        ●                        \n",
      "                      ● ★ ★                      \n",
      "                    ★ ★ ★                        \n",
      "                                                 \n",
      "                                                 \n",
      "                                                 \n",
      "                                                 \n",
      "                                                 \n",
      "                        ●                        \n",
      "                        ● ★                      \n",
      "                      ★ ★ ★                      \n",
      "                                                 \n",
      "                                                 \n",
      "                                                 \n",
      "                                                 \n",
      "                                                 \n",
      "                        ●                        \n",
      "                          ●                      \n",
      "                        ★ ★ ★                    \n",
      "                                                 \n",
      "                                                 \n",
      "                                                 \n",
      "                                                 \n",
      "                                                 \n",
      "\n"
     ]
    }
   ],
   "source": [
    "print(next(representations))"
   ]
  },
  {
   "cell_type": "markdown",
   "metadata": {},
   "source": [
    "Next generation:"
   ]
  },
  {
   "cell_type": "code",
   "execution_count": 32,
   "metadata": {
    "collapsed": false
   },
   "outputs": [
    {
     "name": "stdout",
     "output_type": "stream",
     "text": [
      "                        ●                        \n",
      "                      ● ★ ★                      \n",
      "                    ● ★ ★                        \n",
      "                  ★ ★ ★                          \n",
      "                                                 \n",
      "                                                 \n",
      "                                                 \n",
      "                                                 \n",
      "                        ●                        \n",
      "                      ● ★ ★                      \n",
      "                      ● ★                        \n",
      "                    ★ ★ ★                        \n",
      "                                                 \n",
      "                                                 \n",
      "                                                 \n",
      "                                                 \n",
      "                        ●                        \n",
      "                      ● ● ★                      \n",
      "                      ★ ★ ★                      \n",
      "                                                 \n",
      "                                                 \n",
      "                                                 \n",
      "                                                 \n",
      "                                                 \n",
      "                        ●                        \n",
      "                      ●   ★                      \n",
      "                        ●                        \n",
      "                      ★ ★ ★                      \n",
      "                                                 \n",
      "                                                 \n",
      "                                                 \n",
      "                                                 \n",
      "                        ●                        \n",
      "                      ●   ●                      \n",
      "                        ★ ★ ★                    \n",
      "                                                 \n",
      "                                                 \n",
      "                                                 \n",
      "                                                 \n",
      "                                                 \n",
      "                        ●                        \n",
      "                        ● ★                      \n",
      "                      ● ★ ★                      \n",
      "                    ★ ★ ★                        \n",
      "                                                 \n",
      "                                                 \n",
      "                                                 \n",
      "                                                 \n",
      "                        ●                        \n",
      "                        ● ★                      \n",
      "                        ● ★                      \n",
      "                      ★ ★ ★                      \n",
      "                                                 \n",
      "                                                 \n",
      "                                                 \n",
      "                                                 \n",
      "                        ●                        \n",
      "                        ● ●                      \n",
      "                        ★ ★ ★                    \n",
      "                                                 \n",
      "                                                 \n",
      "                                                 \n",
      "                                                 \n",
      "                                                 \n",
      "                        ●                        \n",
      "                        ●                        \n",
      "                          ●                      \n",
      "                        ★ ★ ★                    \n",
      "                                                 \n",
      "                                                 \n",
      "                                                 \n",
      "                                                 \n",
      "                        ●                        \n",
      "                          ●                      \n",
      "                        ● ★ ★                    \n",
      "                      ★ ★ ★                      \n",
      "                                                 \n",
      "                                                 \n",
      "                                                 \n",
      "                                                 \n",
      "                        ●                        \n",
      "                          ●                      \n",
      "                          ● ★                    \n",
      "                        ★ ★ ★                    \n",
      "                                                 \n",
      "                                                 \n",
      "                                                 \n",
      "                                                 \n",
      "                        ●                        \n",
      "                          ●                      \n",
      "                            ●                    \n",
      "                          ★ ★ ★                  \n",
      "                                                 \n",
      "                                                 \n",
      "                                                 \n",
      "                                                 \n",
      "\n"
     ]
    }
   ],
   "source": [
    "print(next(representations))"
   ]
  },
  {
   "cell_type": "markdown",
   "metadata": {},
   "source": [
    "Next generation:"
   ]
  },
  {
   "cell_type": "code",
   "execution_count": 33,
   "metadata": {
    "collapsed": false
   },
   "outputs": [
    {
     "name": "stdout",
     "output_type": "stream",
     "text": [
      "                        ●                        \n",
      "                      ● ★ ★                      \n",
      "                    ● ★ ★                        \n",
      "                  ● ★ ★                          \n",
      "                ★ ★ ★                            \n",
      "                                                 \n",
      "                                                 \n",
      "                                                 \n",
      "                        ●                        \n",
      "                      ● ★ ★                      \n",
      "                    ● ★ ★                        \n",
      "                    ● ★                          \n",
      "                  ★ ★ ★                          \n",
      "                                                 \n",
      "                                                 \n",
      "                                                 \n",
      "                        ●                        \n",
      "                      ● ★ ★                      \n",
      "                    ● ● ★                        \n",
      "                    ★ ★ ★                        \n",
      "                                                 \n",
      "                                                 \n",
      "                                                 \n",
      "                                                 \n",
      "                        ●                        \n",
      "                      ● ★ ★                      \n",
      "                    ●   ★                        \n",
      "                      ●                          \n",
      "                    ★ ★ ★                        \n",
      "                                                 \n",
      "                                                 \n",
      "                                                 \n",
      "                        ●                        \n",
      "                      ● ● ★                      \n",
      "                    ● ★ ★ ★                      \n",
      "                                                 \n",
      "                                                 \n",
      "                                                 \n",
      "                                                 \n",
      "                                                 \n",
      "                        ●                        \n",
      "                      ●   ★                      \n",
      "                    ●   ●                        \n",
      "                      ★ ★ ★                      \n",
      "                                                 \n",
      "                                                 \n",
      "                                                 \n",
      "                                                 \n",
      "                        ●                        \n",
      "                      ●   ●                      \n",
      "                    ●   ★ ★ ★                    \n",
      "                                                 \n",
      "                                                 \n",
      "                                                 \n",
      "                                                 \n",
      "                                                 \n",
      "                        ●                        \n",
      "                      ● ★ ★                      \n",
      "                      ● ★                        \n",
      "                    ● ★ ★                        \n",
      "                  ★ ★ ★                          \n",
      "                                                 \n",
      "                                                 \n",
      "                                                 \n",
      "                        ●                        \n",
      "                      ● ★ ★                      \n",
      "                      ● ★                        \n",
      "                      ● ★                        \n",
      "                    ★ ★ ★                        \n",
      "                                                 \n",
      "                                                 \n",
      "                                                 \n",
      "                        ●                        \n",
      "                      ● ● ★                      \n",
      "                      ●|★ ★ ★                      \n",
      "                        ★                        \n",
      "                                                 \n",
      "                                                 \n",
      "                                                 \n",
      "                                                 \n",
      "                        ●                        \n",
      "                      ●   ★                      \n",
      "                      ● ●                        \n",
      "                      ★ ★ ★                      \n",
      "                                                 \n",
      "                                                 \n",
      "                                                 \n",
      "                                                 \n",
      "                        ●                        \n",
      "                      ●   ★                      \n",
      "                      ●                          \n",
      "                        ●                        \n",
      "                      ★ ★ ★                      \n",
      "                                                 \n",
      "                                                 \n",
      "                                                 \n",
      "                        ●                        \n",
      "                      ●   ●                      \n",
      "                      ● ★ ★ ★                    \n",
      "                                                 \n",
      "                                                 \n",
      "                                                 \n",
      "                                                 \n",
      "                                                 \n",
      "                        ●                        \n",
      "                      ● ● ★                      \n",
      "                      ● ★ ★                      \n",
      "                    ★ ★ ★                        \n",
      "                                                 \n",
      "                                                 \n",
      "                                                 \n",
      "                                                 \n",
      "                        ●                        \n",
      "                      ● ● ★                      \n",
      "                        ● ★                      \n",
      "                      ★ ★ ★                      \n",
      "                                                 \n",
      "                                                 \n",
      "                                                 \n",
      "                                                 \n",
      "                        ●                        \n",
      "                      ● ● ●                      \n",
      "                        ★ ★ ★                    \n",
      "                                                 \n",
      "                                                 \n",
      "                                                 \n",
      "                                                 \n",
      "                                                 \n",
      "                        ●                        \n",
      "                      ● ●                        \n",
      "                          ●                      \n",
      "                        ★ ★ ★                    \n",
      "                                                 \n",
      "                                                 \n",
      "                                                 \n",
      "                                                 \n",
      "                        ●                        \n",
      "                      ●   ★                      \n",
      "                        ●                        \n",
      "                      ● ★ ★                      \n",
      "                    ★ ★ ★                        \n",
      "                                                 \n",
      "                                                 \n",
      "                                                 \n",
      "                        ●                        \n",
      "                      ●   ★                      \n",
      "                        ●                        \n",
      "                        ● ★                      \n",
      "                      ★ ★ ★                      \n",
      "                                                 \n",
      "                                                 \n",
      "                                                 \n",
      "                        ●                        \n",
      "                      ●   ●                      \n",
      "                        ●|★ ★ ★                    \n",
      "                          ★                      \n",
      "                                                 \n",
      "                                                 \n",
      "                                                 \n",
      "                                                 \n",
      "                        ●                        \n",
      "                      ●                          \n",
      "                        ●                        \n",
      "                          ●                      \n",
      "                        ★ ★ ★                    \n",
      "                                                 \n",
      "                                                 \n",
      "                                                 \n",
      "                        ●                        \n",
      "                      ●   ●                      \n",
      "                        ● ★ ★                    \n",
      "                      ★ ★ ★                      \n",
      "                                                 \n",
      "                                                 \n",
      "                                                 \n",
      "                                                 \n",
      "                        ●                        \n",
      "                      ●   ●                      \n",
      "                          ● ★                    \n",
      "                        ★ ★ ★                    \n",
      "                                                 \n",
      "                                                 \n",
      "                                                 \n",
      "                                                 \n",
      "                        ●                        \n",
      "                      ●   ●                      \n",
      "                            ●                    \n",
      "                          ★ ★ ★                  \n",
      "                                                 \n",
      "                                                 \n",
      "                                                 \n",
      "                                                 \n",
      "                        ●                        \n",
      "                        ● ★                      \n",
      "                      ● ★ ★                      \n",
      "                    ● ★ ★                        \n",
      "                  ★ ★ ★                          \n",
      "                                                 \n",
      "                                                 \n",
      "                                                 \n",
      "                        ●                        \n",
      "                        ● ★                      \n",
      "                      ● ★ ★                      \n",
      "                      ● ★                        \n",
      "                    ★ ★ ★                        \n",
      "                                                 \n",
      "                                                 \n",
      "                                                 \n",
      "                        ●                        \n",
      "                        ● ★                      \n",
      "                      ● ● ★                      \n",
      "                      ★ ★ ★                      \n",
      "                                                 \n",
      "                                                 \n",
      "                                                 \n",
      "                                                 \n",
      "                        ●                        \n",
      "                        ● ★                      \n",
      "                      ●   ★                      \n",
      "                        ●                        \n",
      "                      ★ ★ ★                      \n",
      "                                                 \n",
      "                                                 \n",
      "                                                 \n",
      "                        ●                        \n",
      "                        ● ●                      \n",
      "                      ● ★ ★ ★                    \n",
      "                                                 \n",
      "                                                 \n",
      "                                                 \n",
      "                                                 \n",
      "                                                 \n",
      "                        ●                        \n",
      "                        ●                        \n",
      "                      ●   ●                      \n",
      "                        ★ ★ ★                    \n",
      "                                                 \n",
      "                                                 \n",
      "                                                 \n",
      "                                                 \n",
      "                        ●                        \n",
      "                        ● ★                      \n",
      "                        ● ★                      \n",
      "                      ● ★ ★                      \n",
      "                    ★ ★ ★                        \n",
      "                                                 \n",
      "                                                 \n",
      "                                                 \n",
      "                        ●                        \n",
      "                        ● ★                      \n",
      "                        ● ★                      \n",
      "                        ● ★                      \n",
      "                      ★ ★ ★                      \n",
      "                                                 \n",
      "                                                 \n",
      "                                                 \n",
      "                        ●                        \n",
      "                        ● ●                      \n",
      "                        ●|★ ★ ★                    \n",
      "                          ★                      \n",
      "                                                 \n",
      "                                                 \n",
      "                                                 \n",
      "                                                 \n",
      "                        ●                        \n",
      "                        ●                        \n",
      "                        ● ●                      \n",
      "                        ★ ★ ★                    \n",
      "                                                 \n",
      "                                                 \n",
      "                                                 \n",
      "                                                 \n",
      "                        ●                        \n",
      "                        ●                        \n",
      "                        ●                        \n",
      "                          ●                      \n",
      "                        ★ ★ ★                    \n",
      "                                                 \n",
      "                                                 \n",
      "                                                 \n",
      "                        ●                        \n",
      "                        ● ●                      \n",
      "                        ● ★ ★                    \n",
      "                      ★ ★ ★                      \n",
      "                                                 \n",
      "                                                 \n",
      "                                                 \n",
      "                                                 \n",
      "                        ●                        \n",
      "                        ● ●                      \n",
      "                          ● ★                    \n",
      "                        ★ ★ ★                    \n",
      "                                                 \n",
      "                                                 \n",
      "                                                 \n",
      "                                                 \n",
      "                        ●                        \n",
      "                        ● ●                      \n",
      "                            ●                    \n",
      "                          ★ ★ ★                  \n",
      "                                                 \n",
      "                                                 \n",
      "                                                 \n",
      "                                                 \n",
      "                        ●                        \n",
      "                        ●                        \n",
      "                          ●                      \n",
      "                        ● ★ ★                    \n",
      "                      ★ ★ ★                      \n",
      "                                                 \n",
      "                                                 \n",
      "                                                 \n",
      "                        ●                        \n",
      "                        ●                        \n",
      "                          ●                      \n",
      "                          ● ★                    \n",
      "                        ★ ★ ★                    \n",
      "                                                 \n",
      "                                                 \n",
      "                                                 \n",
      "                        ●                        \n",
      "                        ●                        \n",
      "                          ●                      \n",
      "                            ●                    \n",
      "                          ★ ★ ★                  \n",
      "                                                 \n",
      "                                                 \n",
      "                                                 \n",
      "                        ●                        \n",
      "                          ●                      \n",
      "                        ● ★ ★                    \n",
      "                      ● ★ ★                      \n",
      "                    ★ ★ ★                        \n",
      "                                                 \n",
      "                                                 \n",
      "                                                 \n",
      "                        ●                        \n",
      "                          ●                      \n",
      "                        ● ★ ★                    \n",
      "                        ● ★                      \n",
      "                      ★ ★ ★                      \n",
      "                                                 \n",
      "                                                 \n",
      "                                                 \n",
      "                        ●                        \n",
      "                          ●                      \n",
      "                        ● ● ★                    \n",
      "                        ★ ★ ★                    \n",
      "                                                 \n",
      "                                                 \n",
      "                                                 \n",
      "                                                 \n",
      "                        ●                        \n",
      "                          ●                      \n",
      "                        ●   ★                    \n",
      "                          ●                      \n",
      "                        ★ ★ ★                    \n",
      "                                                 \n",
      "                                                 \n",
      "                                                 \n",
      "                        ●                        \n",
      "                          ●                      \n",
      "                        ●   ●                    \n",
      "                          ★ ★ ★                  \n",
      "                                                 \n",
      "                                                 \n",
      "                                                 \n",
      "                                                 \n",
      "                        ●                        \n",
      "                          ●                      \n",
      "                          ● ★                    \n",
      "                        ● ★ ★                    \n",
      "                      ★ ★ ★                      \n",
      "                                                 \n",
      "                                                 \n",
      "                                                 \n",
      "                        ●                        \n",
      "                          ●                      \n",
      "                          ● ★                    \n",
      "                          ● ★                    \n",
      "                        ★ ★ ★                    \n",
      "                                                 \n",
      "                                                 \n",
      "                                                 \n",
      "                        ●                        \n",
      "                          ●                      \n",
      "                          ● ●                    \n",
      "                          ★ ★ ★                  \n",
      "                                                 \n",
      "                                                 \n",
      "                                                 \n",
      "                                                 \n",
      "                        ●                        \n",
      "                          ●                      \n",
      "                          ●                      \n",
      "                            ●                    \n",
      "                          ★ ★ ★                  \n",
      "                                                 \n",
      "                                                 \n",
      "                                                 \n",
      "                        ●                        \n",
      "                          ●                      \n",
      "                            ●                    \n",
      "                          ● ★ ★                  \n",
      "                        ★ ★ ★                    \n",
      "                                                 \n",
      "                                                 \n",
      "                                                 \n",
      "                        ●                        \n",
      "                          ●                      \n",
      "                            ●                    \n",
      "                            ● ★                  \n",
      "                          ★ ★ ★                  \n",
      "                                                 \n",
      "                                                 \n",
      "                                                 \n",
      "                        ●                        \n",
      "                          ●                      \n",
      "                            ●                    \n",
      "                              ●                  \n",
      "                            ★ ★ ★                \n",
      "                                                 \n",
      "                                                 \n",
      "                                                 \n",
      "\n"
     ]
    }
   ],
   "source": [
    "print(next(representations))"
   ]
  },
  {
   "cell_type": "markdown",
   "metadata": {},
   "source": [
    "# Binary forests"
   ]
  },
  {
   "cell_type": "code",
   "execution_count": 68,
   "metadata": {
    "collapsed": true
   },
   "outputs": [],
   "source": [
    "# in the following, the symbol ★ has a generation power, \n",
    "# namely produces a new structure with the basic shape replacing it.\n",
    "\n",
    "\"\"\"\n",
    "o ★\n",
    "● ★\n",
    "\n",
    "● o\n",
    "★ ★\n",
    "\"\"\"\n",
    "forest_shape = lambda r, c: [((r-1, c+1), (r, c+1)),\n",
    "                             ((r+1, c), (r+1, c+1)),]"
   ]
  },
  {
   "cell_type": "code",
   "execution_count": 69,
   "metadata": {
    "collapsed": true
   },
   "outputs": [],
   "source": [
    "shapes = [forest_shape]"
   ]
  },
  {
   "cell_type": "code",
   "execution_count": 74,
   "metadata": {
    "collapsed": true
   },
   "outputs": [],
   "source": [
    "rows, cols = 8, 25\n",
    "coor, number = coordinates(rows), numbering(rows)\n",
    "\n",
    "# starts at the first cell of the 13th column\n",
    "forests = recursive_structures(shapes, rows*12+4, (coor, number)) # be aware that in this case it grows upwards!\n",
    "representations = map(pretty, forests)"
   ]
  },
  {
   "cell_type": "markdown",
   "metadata": {},
   "source": [
    "First generation contains only the *seed* symbol ★"
   ]
  },
  {
   "cell_type": "code",
   "execution_count": 75,
   "metadata": {
    "collapsed": false
   },
   "outputs": [
    {
     "name": "stdout",
     "output_type": "stream",
     "text": [
      "                                                 \n",
      "                                                 \n",
      "                                                 \n",
      "                                                 \n",
      "                        ★                        \n",
      "                                                 \n",
      "                                                 \n",
      "                                                 \n",
      "\n"
     ]
    }
   ],
   "source": [
    "print(next(representations))"
   ]
  },
  {
   "cell_type": "markdown",
   "metadata": {},
   "source": [
    "Next generation:"
   ]
  },
  {
   "cell_type": "code",
   "execution_count": 76,
   "metadata": {
    "collapsed": false
   },
   "outputs": [
    {
     "name": "stdout",
     "output_type": "stream",
     "text": [
      "                                                 \n",
      "                                                 \n",
      "                                                 \n",
      "                          ★                      \n",
      "                        ● ★                      \n",
      "                                                 \n",
      "                                                 \n",
      "                                                 \n",
      "                                                 \n",
      "                                                 \n",
      "                                                 \n",
      "                                                 \n",
      "                        ●                        \n",
      "                        ★ ★                      \n",
      "                                                 \n",
      "                                                 \n",
      "\n"
     ]
    }
   ],
   "source": [
    "print(next(representations))"
   ]
  },
  {
   "cell_type": "markdown",
   "metadata": {},
   "source": [
    "Next generation:"
   ]
  },
  {
   "cell_type": "code",
   "execution_count": 77,
   "metadata": {
    "collapsed": false
   },
   "outputs": [
    {
     "name": "stdout",
     "output_type": "stream",
     "text": [
      "                                                 \n",
      "                                                 \n",
      "                            ★                    \n",
      "                          ● ★                    \n",
      "                        ● ★                      \n",
      "                                                 \n",
      "                                                 \n",
      "                                                 \n",
      "                                                 \n",
      "                                                 \n",
      "                                                 \n",
      "                          ●                      \n",
      "                        ● ★ ★                    \n",
      "                                                 \n",
      "                                                 \n",
      "                                                 \n",
      "                                                 \n",
      "                                                 \n",
      "                                                 \n",
      "                            ★                    \n",
      "                        ● ● ★                    \n",
      "                                                 \n",
      "                                                 \n",
      "                                                 \n",
      "                                                 \n",
      "                                                 \n",
      "                                                 \n",
      "                                                 \n",
      "                        ● ●                      \n",
      "                          ★ ★                    \n",
      "                                                 \n",
      "                                                 \n",
      "                                                 \n",
      "                                                 \n",
      "                                                 \n",
      "                                                 \n",
      "                        ● ★                      \n",
      "                        ● ★                      \n",
      "                                                 \n",
      "                                                 \n",
      "                                                 \n",
      "                                                 \n",
      "                                                 \n",
      "                                                 \n",
      "                        ●                        \n",
      "                        ● ★                      \n",
      "                        ★ ★                      \n",
      "                                                 \n",
      "                                                 \n",
      "                                                 \n",
      "                                                 \n",
      "                                                 \n",
      "                        ●   ★                    \n",
      "                          ● ★                    \n",
      "                                                 \n",
      "                                                 \n",
      "                                                 \n",
      "                                                 \n",
      "                                                 \n",
      "                                                 \n",
      "                        ●                        \n",
      "                          ●                      \n",
      "                          ★ ★                    \n",
      "                                                 \n",
      "\n"
     ]
    }
   ],
   "source": [
    "print(next(representations))"
   ]
  },
  {
   "cell_type": "markdown",
   "metadata": {},
   "source": [
    "# Dick paths"
   ]
  },
  {
   "cell_type": "code",
   "execution_count": 78,
   "metadata": {
    "collapsed": true
   },
   "outputs": [],
   "source": [
    "# in the following, the symbol ★ has a generation power, \n",
    "# namely produces a new structure with the basic shape replacing it.\n",
    "\n",
    "\"\"\"\n",
    "  ★\n",
    "( o ★  \n",
    "\"\"\"\n",
    "dick_shape = lambda r, c: [((r-1, c+1, 0, 2), (r, c+2))]"
   ]
  },
  {
   "cell_type": "code",
   "execution_count": 35,
   "metadata": {
    "collapsed": true
   },
   "outputs": [],
   "source": [
    "shapes = [dick_shape]"
   ]
  },
  {
   "cell_type": "code",
   "execution_count": 36,
   "metadata": {
    "collapsed": true
   },
   "outputs": [],
   "source": [
    "def pretty(structures):\n",
    "    \n",
    "    from collections import defaultdict\n",
    "\n",
    "    strings = []\n",
    "    for anchors, stars in structures:\n",
    "    \n",
    "        table = defaultdict(lambda: ' ')\n",
    "    \n",
    "        for a in ones_of(anchors):\n",
    "            ca = coor(a)\n",
    "            table[ca] = table[ca] + '|(' if ca in table else '('\n",
    "        \n",
    "        for s in ones_of(stars):\n",
    "            cs = coor(s)\n",
    "            table[cs] = table[cs] + '|★' if cs in table else '★'\n",
    "        \n",
    "        s = ''\n",
    "        for r in range(rows):\n",
    "            s += ' '.join(table[r, c] for c in range(cols)) + '\\n'\n",
    "        \n",
    "        strings.append(s)\n",
    "    \n",
    "    return  ''.join(strings)"
   ]
  },
  {
   "cell_type": "code",
   "execution_count": 37,
   "metadata": {
    "collapsed": true
   },
   "outputs": [],
   "source": [
    "rows, cols = 8, 25\n",
    "coor, number = coordinates(rows), numbering(rows)\n",
    "\n",
    "# starts at the first cell of the 13th column\n",
    "dick_paths = recursive_structures(shapes, rows-1, (coor, number))\n",
    "representations = map(pretty, dick_paths)"
   ]
  },
  {
   "cell_type": "markdown",
   "metadata": {},
   "source": [
    "First generation contains only the *seed* symbol ★"
   ]
  },
  {
   "cell_type": "code",
   "execution_count": 38,
   "metadata": {
    "collapsed": false
   },
   "outputs": [
    {
     "name": "stdout",
     "output_type": "stream",
     "text": [
      "                                                 \n",
      "                                                 \n",
      "                                                 \n",
      "                                                 \n",
      "                                                 \n",
      "                                                 \n",
      "                                                 \n",
      "★                                                \n",
      "\n"
     ]
    }
   ],
   "source": [
    "print(next(representations))"
   ]
  },
  {
   "cell_type": "markdown",
   "metadata": {},
   "source": [
    "Next generation:"
   ]
  },
  {
   "cell_type": "code",
   "execution_count": 39,
   "metadata": {
    "collapsed": false
   },
   "outputs": [
    {
     "name": "stdout",
     "output_type": "stream",
     "text": [
      "                                                 \n",
      "                                                 \n",
      "                                                 \n",
      "                                                 \n",
      "                                                 \n",
      "                                                 \n",
      "  ★                                              \n",
      "(   ★                                            \n",
      "\n"
     ]
    }
   ],
   "source": [
    "print(next(representations))"
   ]
  },
  {
   "cell_type": "markdown",
   "metadata": {},
   "source": [
    "Next generation:"
   ]
  },
  {
   "cell_type": "code",
   "execution_count": 40,
   "metadata": {
    "collapsed": false
   },
   "outputs": [
    {
     "name": "stdout",
     "output_type": "stream",
     "text": [
      "                                                 \n",
      "                                                 \n",
      "                                                 \n",
      "                                                 \n",
      "                                                 \n",
      "    ★                                            \n",
      "  (   ★                                          \n",
      "(       ★                                        \n",
      "                                                 \n",
      "                                                 \n",
      "                                                 \n",
      "                                                 \n",
      "                                                 \n",
      "                                                 \n",
      "      ★                                          \n",
      "(   (   ★                                        \n",
      "\n"
     ]
    }
   ],
   "source": [
    "print(next(representations))"
   ]
  },
  {
   "cell_type": "markdown",
   "metadata": {},
   "source": [
    "Next generation:"
   ]
  },
  {
   "cell_type": "code",
   "execution_count": 41,
   "metadata": {
    "collapsed": false
   },
   "outputs": [
    {
     "name": "stdout",
     "output_type": "stream",
     "text": [
      "                                                 \n",
      "                                                 \n",
      "                                                 \n",
      "                                                 \n",
      "      ★                                          \n",
      "    (   ★                                        \n",
      "  (       ★                                      \n",
      "(           ★                                    \n",
      "                                                 \n",
      "                                                 \n",
      "                                                 \n",
      "                                                 \n",
      "                                                 \n",
      "        ★                                        \n",
      "  (   (   ★                                      \n",
      "(           ★                                    \n",
      "                                                 \n",
      "                                                 \n",
      "                                                 \n",
      "                                                 \n",
      "                                                 \n",
      "                                                 \n",
      "  (       ★                                      \n",
      "(       (   ★                                    \n",
      "                                                 \n",
      "                                                 \n",
      "                                                 \n",
      "                                                 \n",
      "                                                 \n",
      "        ★                                        \n",
      "      (   ★                                      \n",
      "(   (       ★                                    \n",
      "                                                 \n",
      "                                                 \n",
      "                                                 \n",
      "                                                 \n",
      "                                                 \n",
      "                                                 \n",
      "          ★                                      \n",
      "(   (   (   ★                                    \n",
      "\n"
     ]
    }
   ],
   "source": [
    "print(next(representations))"
   ]
  },
  {
   "cell_type": "markdown",
   "metadata": {},
   "source": [
    "Next generation:"
   ]
  },
  {
   "cell_type": "code",
   "execution_count": 42,
   "metadata": {
    "collapsed": false
   },
   "outputs": [
    {
     "name": "stdout",
     "output_type": "stream",
     "text": [
      "                                                 \n",
      "                                                 \n",
      "                                                 \n",
      "        ★                                        \n",
      "      (   ★                                      \n",
      "    (       ★                                    \n",
      "  (           ★                                  \n",
      "(               ★                                \n",
      "                                                 \n",
      "                                                 \n",
      "                                                 \n",
      "                                                 \n",
      "          ★                                      \n",
      "    (   (   ★                                    \n",
      "  (           ★                                  \n",
      "(               ★                                \n",
      "                                                 \n",
      "                                                 \n",
      "                                                 \n",
      "                                                 \n",
      "                                                 \n",
      "    (       ★                                    \n",
      "  (       (   ★                                  \n",
      "(               ★                                \n",
      "                                                 \n",
      "                                                 \n",
      "                                                 \n",
      "                                                 \n",
      "                                                 \n",
      "    (                                            \n",
      "  (           ★                                  \n",
      "(           (   ★                                \n",
      "                                                 \n",
      "                                                 \n",
      "                                                 \n",
      "                                                 \n",
      "          ★                                      \n",
      "        (   ★                                    \n",
      "  (   (       ★                                  \n",
      "(               ★                                \n",
      "                                                 \n",
      "                                                 \n",
      "                                                 \n",
      "                                                 \n",
      "                                                 \n",
      "            ★                                    \n",
      "  (   (   (   ★                                  \n",
      "(               ★                                \n",
      "                                                 \n",
      "                                                 \n",
      "                                                 \n",
      "                                                 \n",
      "                                                 \n",
      "                                                 \n",
      "  (   (       ★                                  \n",
      "(           (   ★                                \n",
      "                                                 \n",
      "                                                 \n",
      "                                                 \n",
      "                                                 \n",
      "                                                 \n",
      "            ★                                    \n",
      "  (       (   ★                                  \n",
      "(       (       ★                                \n",
      "                                                 \n",
      "                                                 \n",
      "                                                 \n",
      "                                                 \n",
      "                                                 \n",
      "                                                 \n",
      "  (           ★                                  \n",
      "(       (   (   ★                                \n",
      "                                                 \n",
      "                                                 \n",
      "                                                 \n",
      "                                                 \n",
      "          ★                                      \n",
      "        (   ★                                    \n",
      "      (       ★                                  \n",
      "(   (           ★                                \n",
      "                                                 \n",
      "                                                 \n",
      "                                                 \n",
      "                                                 \n",
      "                                                 \n",
      "            ★                                    \n",
      "      (   (   ★                                  \n",
      "(   (           ★                                \n",
      "                                                 \n",
      "                                                 \n",
      "                                                 \n",
      "                                                 \n",
      "                                                 \n",
      "                                                 \n",
      "      (       ★                                  \n",
      "(   (       (   ★                                \n",
      "                                                 \n",
      "                                                 \n",
      "                                                 \n",
      "                                                 \n",
      "                                                 \n",
      "            ★                                    \n",
      "          (   ★                                  \n",
      "(   (   (       ★                                \n",
      "                                                 \n",
      "                                                 \n",
      "                                                 \n",
      "                                                 \n",
      "                                                 \n",
      "                                                 \n",
      "              ★                                  \n",
      "(   (   (   (   ★                                \n",
      "\n"
     ]
    }
   ],
   "source": [
    "print(next(representations))"
   ]
  },
  {
   "cell_type": "markdown",
   "metadata": {},
   "source": [
    "# Sigmoids"
   ]
  },
  {
   "cell_type": "code",
   "execution_count": 49,
   "metadata": {
    "collapsed": true
   },
   "outputs": [],
   "source": [
    "# in the following, the symbol ★ has a generation power, \n",
    "# namely produces a new structure with the basic shape replacing it.\n",
    "\n",
    "\"\"\"\n",
    "  ★\n",
    "● o o\n",
    "    ★\n",
    "\"\"\"\n",
    "sigmoid_shape = lambda r, c: [((r-1, c+1,), (r+1, c+2,))] #, (r, c+3,)"
   ]
  },
  {
   "cell_type": "code",
   "execution_count": 50,
   "metadata": {
    "collapsed": true
   },
   "outputs": [],
   "source": [
    "shapes = [sigmoid_shape]"
   ]
  },
  {
   "cell_type": "code",
   "execution_count": 51,
   "metadata": {
    "collapsed": true
   },
   "outputs": [],
   "source": [
    "rows, cols = 9, 25\n",
    "coor, number = coordinates(rows), numbering(rows)\n",
    "\n",
    "# starts at the first cell of the 13th column\n",
    "sigmoids = recursive_structures(shapes, 4, (coor, number))\n",
    "representations = map(pretty, sigmoids)"
   ]
  },
  {
   "cell_type": "markdown",
   "metadata": {},
   "source": [
    "First generation contains only the *seed* symbol ★"
   ]
  },
  {
   "cell_type": "code",
   "execution_count": 52,
   "metadata": {
    "collapsed": false
   },
   "outputs": [
    {
     "name": "stdout",
     "output_type": "stream",
     "text": [
      "                                                 \n",
      "                                                 \n",
      "                                                 \n",
      "                                                 \n",
      "★                                                \n",
      "                                                 \n",
      "                                                 \n",
      "                                                 \n",
      "                                                 \n",
      "\n"
     ]
    }
   ],
   "source": [
    "print(next(representations))"
   ]
  },
  {
   "cell_type": "markdown",
   "metadata": {},
   "source": [
    "Next generation:"
   ]
  },
  {
   "cell_type": "code",
   "execution_count": 53,
   "metadata": {
    "collapsed": false
   },
   "outputs": [
    {
     "name": "stdout",
     "output_type": "stream",
     "text": [
      "                                                 \n",
      "                                                 \n",
      "                                                 \n",
      "  ★                                              \n",
      "●                                                \n",
      "    ★                                            \n",
      "                                                 \n",
      "                                                 \n",
      "                                                 \n",
      "\n"
     ]
    }
   ],
   "source": [
    "print(next(representations))"
   ]
  },
  {
   "cell_type": "markdown",
   "metadata": {},
   "source": [
    "Next generation:"
   ]
  },
  {
   "cell_type": "code",
   "execution_count": 54,
   "metadata": {
    "collapsed": false
   },
   "outputs": [
    {
     "name": "stdout",
     "output_type": "stream",
     "text": [
      "                                                 \n",
      "                                                 \n",
      "    ★                                            \n",
      "  ●                                              \n",
      "●     ★                                          \n",
      "    ★                                            \n",
      "                                                 \n",
      "                                                 \n",
      "                                                 \n",
      "                                                 \n",
      "                                                 \n",
      "                                                 \n",
      "                                                 \n",
      "●     ★                                          \n",
      "    ●                                            \n",
      "        ★                                        \n",
      "                                                 \n",
      "                                                 \n",
      "\n"
     ]
    }
   ],
   "source": [
    "print(next(representations))"
   ]
  },
  {
   "cell_type": "markdown",
   "metadata": {},
   "source": [
    "Next generation:"
   ]
  },
  {
   "cell_type": "code",
   "execution_count": 55,
   "metadata": {
    "collapsed": false
   },
   "outputs": [
    {
     "name": "stdout",
     "output_type": "stream",
     "text": [
      "                                                 \n",
      "      ★                                          \n",
      "    ●                                            \n",
      "  ●     ★                                        \n",
      "●     ★                                          \n",
      "    ★                                            \n",
      "                                                 \n",
      "                                                 \n",
      "                                                 \n",
      "                                                 \n",
      "                                                 \n",
      "                                                 \n",
      "  ●                                              \n",
      "●     ★                                          \n",
      "    ●                                            \n",
      "        ★                                        \n",
      "                                                 \n",
      "                                                 \n",
      "                                                 \n",
      "                                                 \n",
      "                                                 \n",
      "  ●     ★                                        \n",
      "●     ●                                          \n",
      "          ★                                      \n",
      "                                                 \n",
      "                                                 \n",
      "                                                 \n",
      "                                                 \n",
      "                                                 \n",
      "                                                 \n",
      "        ★                                        \n",
      "●     ●                                          \n",
      "    ●     ★                                      \n",
      "        ★                                        \n",
      "                                                 \n",
      "                                                 \n",
      "                                                 \n",
      "                                                 \n",
      "                                                 \n",
      "                                                 \n",
      "●                                                \n",
      "    ●     ★                                      \n",
      "        ●                                        \n",
      "            ★                                    \n",
      "                                                 \n",
      "\n"
     ]
    }
   ],
   "source": [
    "print(next(representations))"
   ]
  },
  {
   "cell_type": "markdown",
   "metadata": {},
   "source": [
    "Next generation:"
   ]
  },
  {
   "cell_type": "code",
   "execution_count": 56,
   "metadata": {
    "collapsed": false
   },
   "outputs": [
    {
     "name": "stdout",
     "output_type": "stream",
     "text": [
      "                                                 \n",
      "      ★                                          \n",
      "    ●                                            \n",
      "  ●     ★                                        \n",
      "●     ★                                          \n",
      "    ●                                            \n",
      "        ★                                        \n",
      "                                                 \n",
      "                                                 \n",
      "        ★                                        \n",
      "      ●                                          \n",
      "    ●     ★                                      \n",
      "  ●     ★                                        \n",
      "●     ★                                          \n",
      "                                                 \n",
      "                                                 \n",
      "                                                 \n",
      "                                                 \n",
      "                                                 \n",
      "                                                 \n",
      "    ●                                            \n",
      "  ●     ★                                        \n",
      "●     ●                                          \n",
      "          ★                                      \n",
      "                                                 \n",
      "                                                 \n",
      "                                                 \n",
      "                                                 \n",
      "                                                 \n",
      "    ●     ★                                      \n",
      "  ●     ●                                        \n",
      "●           ★                                    \n",
      "                                                 \n",
      "                                                 \n",
      "                                                 \n",
      "                                                 \n",
      "                                                 \n",
      "                                                 \n",
      "                                                 \n",
      "  ●     ★                                        \n",
      "●     ●                                          \n",
      "    ●     ★                                      \n",
      "        ★                                        \n",
      "                                                 \n",
      "                                                 \n",
      "                                                 \n",
      "                                                 \n",
      "                                                 \n",
      "  ●                                              \n",
      "●                                                \n",
      "    ●     ★                                      \n",
      "        ●                                        \n",
      "            ★                                    \n",
      "                                                 \n",
      "                                                 \n",
      "                                                 \n",
      "          ★                                      \n",
      "  ●     ●                                        \n",
      "●     ●     ★                                    \n",
      "          ★                                      \n",
      "                                                 \n",
      "                                                 \n",
      "                                                 \n",
      "                                                 \n",
      "                                                 \n",
      "                                                 \n",
      "  ●                                              \n",
      "●     ●     ★                                    \n",
      "          ●                                      \n",
      "              ★                                  \n",
      "                                                 \n",
      "                                                 \n",
      "                                                 \n",
      "                                                 \n",
      "          ★                                      \n",
      "        ●                                        \n",
      "●     ●     ★                                    \n",
      "    ●     ★                                      \n",
      "        ★                                        \n",
      "                                                 \n",
      "                                                 \n",
      "                                                 \n",
      "                                                 \n",
      "                                                 \n",
      "                                                 \n",
      "●     ●                                          \n",
      "    ●     ★                                      \n",
      "        ●                                        \n",
      "            ★                                    \n",
      "                                                 \n",
      "                                                 \n",
      "                                                 \n",
      "                                                 \n",
      "                                                 \n",
      "●     ●     ★                                    \n",
      "    ●     ●                                      \n",
      "              ★                                  \n",
      "                                                 \n",
      "                                                 \n",
      "                                                 \n",
      "                                                 \n",
      "                                                 \n",
      "                                                 \n",
      "●           ★                                    \n",
      "    ●     ●                                      \n",
      "        ●     ★                                  \n",
      "            ★                                    \n",
      "                                                 \n",
      "                                                 \n",
      "                                                 \n",
      "                                                 \n",
      "                                                 \n",
      "●                                                \n",
      "    ●                                            \n",
      "        ●     ★                                  \n",
      "            ●                                    \n",
      "                ★                                \n",
      "\n"
     ]
    }
   ],
   "source": [
    "print(next(representations))"
   ]
  },
  {
   "cell_type": "markdown",
   "metadata": {},
   "source": [
    "# Linearization"
   ]
  },
  {
   "cell_type": "code",
   "execution_count": 5,
   "metadata": {
    "collapsed": true
   },
   "outputs": [],
   "source": [
    "# in the following, the symbol ★ has a generation power, \n",
    "# namely produces a new structure with the basic shape replacing it.\n",
    "\n",
    "\"\"\" \n",
    "● ★ ★  \n",
    "\"\"\"\n",
    "linear_shape = lambda r, c: [((r, c+1, 0, 2), (r, c+2))]"
   ]
  },
  {
   "cell_type": "code",
   "execution_count": 6,
   "metadata": {
    "collapsed": true
   },
   "outputs": [],
   "source": [
    "shapes = [linear_shape]"
   ]
  },
  {
   "cell_type": "code",
   "execution_count": 7,
   "metadata": {
    "collapsed": true
   },
   "outputs": [],
   "source": [
    "rows, cols = 3, 25\n",
    "coor, number = coordinates(rows), numbering(rows)\n",
    "\n",
    "linears = recursive_structures(shapes, 1, (coor, number))\n",
    "representations = map(pretty, linears)"
   ]
  },
  {
   "cell_type": "markdown",
   "metadata": {},
   "source": [
    "First generation contains only the *seed* symbol ★"
   ]
  },
  {
   "cell_type": "code",
   "execution_count": 8,
   "metadata": {
    "collapsed": false
   },
   "outputs": [
    {
     "name": "stdout",
     "output_type": "stream",
     "text": [
      "                                                 \n",
      "★                                                \n",
      "                                                 \n",
      "\n"
     ]
    }
   ],
   "source": [
    "print(next(representations))"
   ]
  },
  {
   "cell_type": "markdown",
   "metadata": {},
   "source": [
    "Next generation:"
   ]
  },
  {
   "cell_type": "code",
   "execution_count": 9,
   "metadata": {
    "collapsed": false
   },
   "outputs": [
    {
     "name": "stdout",
     "output_type": "stream",
     "text": [
      "                                                 \n",
      "● ★ ★                                            \n",
      "                                                 \n",
      "\n"
     ]
    }
   ],
   "source": [
    "print(next(representations))"
   ]
  },
  {
   "cell_type": "markdown",
   "metadata": {},
   "source": [
    "Next generation:"
   ]
  },
  {
   "cell_type": "code",
   "execution_count": 10,
   "metadata": {
    "collapsed": false
   },
   "outputs": [
    {
     "name": "stdout",
     "output_type": "stream",
     "text": [
      "                                                 \n",
      "● ● ★ ★ ★                                        \n",
      "                                                 \n",
      "                                                 \n",
      "●   ● ★ ★                                        \n",
      "                                                 \n",
      "\n"
     ]
    }
   ],
   "source": [
    "print(next(representations))"
   ]
  },
  {
   "cell_type": "markdown",
   "metadata": {},
   "source": [
    "Next generation:"
   ]
  },
  {
   "cell_type": "code",
   "execution_count": 11,
   "metadata": {
    "collapsed": false
   },
   "outputs": [
    {
     "name": "stdout",
     "output_type": "stream",
     "text": [
      "                                                 \n",
      "● ● ● ★ ★ ★ ★                                    \n",
      "                                                 \n",
      "                                                 \n",
      "● ●   ● ★ ★ ★                                    \n",
      "                                                 \n",
      "                                                 \n",
      "● ●     ● ★ ★                                    \n",
      "                                                 \n",
      "                                                 \n",
      "●   ● ● ★ ★ ★                                    \n",
      "                                                 \n",
      "                                                 \n",
      "●   ●   ● ★ ★                                    \n",
      "                                                 \n",
      "\n"
     ]
    }
   ],
   "source": [
    "print(next(representations))"
   ]
  },
  {
   "cell_type": "markdown",
   "metadata": {},
   "source": [
    "Next generation:"
   ]
  },
  {
   "cell_type": "code",
   "execution_count": 12,
   "metadata": {
    "collapsed": false
   },
   "outputs": [
    {
     "name": "stdout",
     "output_type": "stream",
     "text": [
      "                                                 \n",
      "● ● ● ● ★ ★ ★ ★ ★                                \n",
      "                                                 \n",
      "                                                 \n",
      "● ● ●   ● ★ ★ ★ ★                                \n",
      "                                                 \n",
      "                                                 \n",
      "● ● ●     ● ★ ★ ★                                \n",
      "                                                 \n",
      "                                                 \n",
      "● ● ●       ● ★ ★                                \n",
      "                                                 \n",
      "                                                 \n",
      "● ●   ● ● ★ ★ ★ ★                                \n",
      "                                                 \n",
      "                                                 \n",
      "● ●   ●   ● ★ ★ ★                                \n",
      "                                                 \n",
      "                                                 \n",
      "● ●   ●     ● ★ ★                                \n",
      "                                                 \n",
      "                                                 \n",
      "● ●     ● ● ★ ★ ★                                \n",
      "                                                 \n",
      "                                                 \n",
      "● ●     ●   ● ★ ★                                \n",
      "                                                 \n",
      "                                                 \n",
      "●   ● ● ● ★ ★ ★ ★                                \n",
      "                                                 \n",
      "                                                 \n",
      "●   ● ●   ● ★ ★ ★                                \n",
      "                                                 \n",
      "                                                 \n",
      "●   ● ●     ● ★ ★                                \n",
      "                                                 \n",
      "                                                 \n",
      "●   ●   ● ● ★ ★ ★                                \n",
      "                                                 \n",
      "                                                 \n",
      "●   ●   ●   ● ★ ★                                \n",
      "                                                 \n",
      "\n"
     ]
    }
   ],
   "source": [
    "print(next(representations))"
   ]
  },
  {
   "cell_type": "markdown",
   "metadata": {},
   "source": [
    "---\n",
    "<a rel=\"license\" href=\"http://creativecommons.org/licenses/by-nc/4.0/\"><img alt=\"Creative Commons License\" style=\"border-width:0\" src=\"https://i.creativecommons.org/l/by-nc/4.0/88x31.png\" /></a><br /><span xmlns:dct=\"http://purl.org/dc/terms/\" property=\"dct:title\">Recursive Structures tutorial</span> by <a xmlns:cc=\"http://creativecommons.org/ns#\" href=\"massimo.nocentini@unifi.it\" property=\"cc:attributionName\" rel=\"cc:attributionURL\">Massimo Nocentini</a> is licensed under a <a rel=\"license\" href=\"http://creativecommons.org/licenses/by-nc/4.0/\">Creative Commons Attribution-NonCommercial 4.0 International License</a>.<br />Based on a work at <a xmlns:dct=\"http://purl.org/dc/terms/\" href=\"https://github.com/massimo-nocentini/competitive-programming/blob/master/tutorials/recursive-structures.ipynb\" rel=\"dct:source\">https://github.com/massimo-nocentini/competitive-programming/blob/master/tutorials/recursive-structures.ipynb</a>."
   ]
  }
 ],
 "metadata": {
  "kernelspec": {
   "display_name": "Python 3",
   "language": "python",
   "name": "python3"
  },
  "language_info": {
   "codemirror_mode": {
    "name": "ipython",
    "version": 3
   },
   "file_extension": ".py",
   "mimetype": "text/x-python",
   "name": "python",
   "nbconvert_exporter": "python",
   "pygments_lexer": "ipython3",
   "version": "3.5.1"
  }
 },
 "nbformat": 4,
 "nbformat_minor": 0
}
