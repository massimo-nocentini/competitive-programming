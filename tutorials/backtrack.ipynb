{
 "cells": [
  {
   "cell_type": "markdown",
   "metadata": {},
   "source": [
    "<div align=\"right\">\n",
    "Massimo Nocentini<br>\n",
    "<br>June 9-17, 2016: Parallelogram Polyominoes: shapes generation, <br>isomorphisms, heuristics, pretty printing\n",
    "<br>May 31, 2016: trying to add <i>randomization</i>, Polyomino's order\n",
    "<br>May 25, 2016: Polyominoes\n",
    "<br>May 23, 2016: n-Queens\n",
    "</div>\n",
    "<br>\n",
    "<div align=\"center\">\n",
    "<b>Abstract</b><br>\n",
    "This document collect some applications of <i>backtracking</i> techniques.\n",
    "</div>"
   ]
  },
  {
   "cell_type": "code",
   "execution_count": 7,
   "metadata": {
    "collapsed": true
   },
   "outputs": [],
   "source": [
    "%matplotlib inline\n",
    "%run ../python-libs/bits.py\n",
    "%run ../python-libs/timing.py\n",
    "%run ../python-libs/graycodes.py\n",
    "%run ../python-libs/symbols.py"
   ]
  },
  {
   "cell_type": "code",
   "execution_count": 2,
   "metadata": {
    "collapsed": true
   },
   "outputs": [],
   "source": [
    "import sys\n",
    "\n",
    "sys.setrecursionlimit(10000000)"
   ]
  },
  {
   "cell_type": "markdown",
   "metadata": {},
   "source": [
    "# $n$-Queens problem\n",
    "\n",
    "In this section we provide a pythonic implementation of the $n$-Queens problem, using the approach described by [Ruskey][ruskey] in Chapter 3 of his book [Combinatorial Generation][cg]. We use three *bit masks*, namely integers, to represent whether a row, a raising $\\nearrow$ and a falling $\\searrow$ diagonal are \"under attack\" by an already placed queen, instead of three boolean arrays. It is sufficient to use *one* bit only to represent that a cell on a diagonal is under attack because, namely *to each diagonal is associated one bit* according to:\n",
    "\n",
    "   - if such diagonal is raising, call it $d_\\nearrow$, then $a_{r_{1}, c_{1}}\\in d_\\nearrow \\wedge a_{r_{2}, c_{2}} \\in d_\\nearrow$ if and only if $r_{1}+c_{1}=r_{2}+c_{2}$; in words, the sum of the row and column indices is constant along raising diagonals; therefore, diagonal $d_\\nearrow$ is associated to the bit in position $r_{1}+c_{1}$ of a suitable bitmask.\n",
    "   - if such diagonal is falling, call it $d_\\searrow$, then $a_{r_{1}, c_{1}}\\in d_\\searrow \\wedge a_{r_{2}, c_{2}} \\in d_\\searrow$ if and only if $c_{1}-r_{1}=c_{2}-r_{2}$; in words, the difference of the column and row indices is constant along falling diagonals; therefore, diagonal $d_\\searrow$ is associated to the bit in position  $c_{1}-r_{1}$, of a suitable bitmask $p$. In order to be consistent, if $c_{1}-r_{1} < 0$ then take the difference modulo $2n-1$, where $n$ is the number of rows (and columns), namely:\n",
    "   $$\n",
    "       p_{n-1}\\,p_{n-2}\\,\\ldots\\,p_{0}p_{-1}\\,p_{-2}\\,\\ldots\\,p_{-(n-1)} \\rightarrow \n",
    "       p_{-1\\mod(2n-1)=2n-2}\\,p_{-2\\mod(2n-1)=2n-3}\\,\\ldots\\,p_{-(n-1)\\mod(2n-1)=n}p_{n-1}\\,p_{n-2}\\,\\ldots\\,p_{0}\n",
    "   $$\n",
    "   \n",
    "where rows and cols indexes range in $\\lbrace 0,\\ldots,n-1 \\rbrace$; in both cases, it is necessary a bitmask $2n-1$ bits long. Here's the code:\n",
    "\n",
    "[ruskey]:http://webhome.cs.uvic.ca/~ruskey/\n",
    "[cg]:http://www.1stworks.com/ref/RuskeyCombGen.pdf"
   ]
  },
  {
   "cell_type": "code",
   "execution_count": 207,
   "metadata": {
    "collapsed": true
   },
   "outputs": [],
   "source": [
    "def queens(n):\n",
    "    \"\"\"\n",
    "    Return an iterable of solutions to the `n`-Queens problem.\n",
    "    \"\"\"\n",
    "    sol = [0] * n\n",
    "    \n",
    "    def gen(c, rows, raises, falls):\n",
    "        \n",
    "        for r in range(n):\n",
    "            \n",
    "            raising = c + r\n",
    "            falling = (c - r) % (2*n-1) # we use a modular ring in order to handle the case r > c, in this way\n",
    "                                        # negative positions appear in the most significant part of `falls`\n",
    "            \n",
    "            if is_on(rows, r) and is_on(raises, raising) and is_on(falls, falling):\n",
    "                \n",
    "                sol[c] = r\n",
    "                \n",
    "                yield from [sol] if c == n-1 else gen(c+1, \n",
    "                                                      clear_bit(rows, r), \n",
    "                                                      clear_bit(raises, raising), \n",
    "                                                      clear_bit(falls, falling))\n",
    "                \n",
    "    return gen(0, set_all(n), set_all(2*n-1), set_all(2*n-1))\n",
    "\n",
    "def pretty(sol):\n",
    "    n = len(sol)\n",
    "    s = \"\"\n",
    "    for r in range(n):\n",
    "        pos = sol.index(r)\n",
    "        s += \"|{}|\\n\".format(\"|\".join('Q' if c == pos else ' ' for c in range(n)))\n",
    "    return s"
   ]
  },
  {
   "cell_type": "markdown",
   "metadata": {},
   "source": [
    "Simple case with a $5\\times 5$ board, so an instance of $5$-Queens problem:"
   ]
  },
  {
   "cell_type": "code",
   "execution_count": 208,
   "metadata": {
    "collapsed": false
   },
   "outputs": [
    {
     "name": "stdout",
     "output_type": "stream",
     "text": [
      "sol 0:\n",
      "|Q| | | | |\n",
      "| | | |Q| |\n",
      "| |Q| | | |\n",
      "| | | | |Q|\n",
      "| | |Q| | |\n",
      "\n",
      "sol 1:\n",
      "|Q| | | | |\n",
      "| | |Q| | |\n",
      "| | | | |Q|\n",
      "| |Q| | | |\n",
      "| | | |Q| |\n",
      "\n",
      "sol 2:\n",
      "| | |Q| | |\n",
      "|Q| | | | |\n",
      "| | | |Q| |\n",
      "| |Q| | | |\n",
      "| | | | |Q|\n",
      "\n",
      "sol 3:\n",
      "| | | |Q| |\n",
      "|Q| | | | |\n",
      "| | |Q| | |\n",
      "| | | | |Q|\n",
      "| |Q| | | |\n",
      "\n",
      "sol 4:\n",
      "| |Q| | | |\n",
      "| | | |Q| |\n",
      "|Q| | | | |\n",
      "| | |Q| | |\n",
      "| | | | |Q|\n",
      "\n",
      "sol 5:\n",
      "| | | | |Q|\n",
      "| | |Q| | |\n",
      "|Q| | | | |\n",
      "| | | |Q| |\n",
      "| |Q| | | |\n",
      "\n",
      "sol 6:\n",
      "| |Q| | | |\n",
      "| | | | |Q|\n",
      "| | |Q| | |\n",
      "|Q| | | | |\n",
      "| | | |Q| |\n",
      "\n",
      "sol 7:\n",
      "| | | | |Q|\n",
      "| |Q| | | |\n",
      "| | | |Q| |\n",
      "|Q| | | | |\n",
      "| | |Q| | |\n",
      "\n",
      "sol 8:\n",
      "| | | |Q| |\n",
      "| |Q| | | |\n",
      "| | | | |Q|\n",
      "| | |Q| | |\n",
      "|Q| | | | |\n",
      "\n",
      "sol 9:\n",
      "| | |Q| | |\n",
      "| | | | |Q|\n",
      "| |Q| | | |\n",
      "| | | |Q| |\n",
      "|Q| | | | |\n",
      "\n"
     ]
    }
   ],
   "source": [
    "for i, s in enumerate(queens(5)):\n",
    "    print(\"sol {}:\\n{}\".format(i, pretty(s)))"
   ]
  },
  {
   "cell_type": "markdown",
   "metadata": {},
   "source": [
    "A more demanding case $20$-Queens, build the generator for solutions:"
   ]
  },
  {
   "cell_type": "code",
   "execution_count": 212,
   "metadata": {
    "collapsed": true
   },
   "outputs": [],
   "source": [
    "more_queens = queens(20)"
   ]
  },
  {
   "cell_type": "markdown",
   "metadata": {},
   "source": [
    "and ask for the first 5 of them; in this case we see that some time is required to reach the first leaf in the *backtracking tree* which is also a valid solution."
   ]
  },
  {
   "cell_type": "code",
   "execution_count": 213,
   "metadata": {
    "collapsed": false
   },
   "outputs": [
    {
     "name": "stdout",
     "output_type": "stream",
     "text": [
      "Solution computed in 0:00:03.204676 time:\n",
      "|Q| | | | | | | | | | | | | | | | | | | |\n",
      "| | | |Q| | | | | | | | | | | | | | | | |\n",
      "| |Q| | | | | | | | | | | | | | | | | | |\n",
      "| | | | |Q| | | | | | | | | | | | | | | |\n",
      "| | |Q| | | | | | | | | | | | | | | | | |\n",
      "| | | | | | | | | | | | | | | | | | |Q| |\n",
      "| | | | | | | | | | | | | | | | |Q| | | |\n",
      "| | | | | | | | | | | | | | |Q| | | | | |\n",
      "| | | | | | | | | | | |Q| | | | | | | | |\n",
      "| | | | | | | | | | | | | | | |Q| | | | |\n",
      "| | | | | | | | | | | | | | | | | | | |Q|\n",
      "| | | | | | | |Q| | | | | | | | | | | | |\n",
      "| | | | | |Q| | | | | | | | | | | | | | |\n",
      "| | | | | | | | | | | | | | | | | |Q| | |\n",
      "| | | | | | |Q| | | | | | | | | | | | | |\n",
      "| | | | | | | | | | | | |Q| | | | | | | |\n",
      "| | | | | | | | | | |Q| | | | | | | | | |\n",
      "| | | | | | | | |Q| | | | | | | | | | | |\n",
      "| | | | | | | | | | | | | |Q| | | | | | |\n",
      "| | | | | | | | | |Q| | | | | | | | | | |\n",
      "\n",
      "Solution computed in 0:00:00.000101 time:\n",
      "|Q| | | | | | | | | | | | | | | | | | | |\n",
      "| | | |Q| | | | | | | | | | | | | | | | |\n",
      "| |Q| | | | | | | | | | | | | | | | | | |\n",
      "| | | | |Q| | | | | | | | | | | | | | | |\n",
      "| | |Q| | | | | | | | | | | | | | | | | |\n",
      "| | | | | | | | | | | | | | | | |Q| | | |\n",
      "| | | | | | | | | | | | | | | | | | |Q| |\n",
      "| | | | | | | | | | | | | | | |Q| | | | |\n",
      "| | | | | | | | | | | |Q| | | | | | | | |\n",
      "| | | | | | | | | | | | | | |Q| | | | | |\n",
      "| | | | | | | | | | | | | | | | | | | |Q|\n",
      "| | | | | | | |Q| | | | | | | | | | | | |\n",
      "| | | | | |Q| | | | | | | | | | | | | | |\n",
      "| | | | | | | | | | | | | | | | | |Q| | |\n",
      "| | | | | | |Q| | | | | | | | | | | | | |\n",
      "| | | | | | | | | | | | |Q| | | | | | | |\n",
      "| | | | | | | | | | |Q| | | | | | | | | |\n",
      "| | | | | | | | |Q| | | | | | | | | | | |\n",
      "| | | | | | | | | | | | | |Q| | | | | | |\n",
      "| | | | | | | | | |Q| | | | | | | | | | |\n",
      "\n",
      "Solution computed in 0:00:00.554210 time:\n",
      "|Q| | | | | | | | | | | | | | | | | | | |\n",
      "| | | |Q| | | | | | | | | | | | | | | | |\n",
      "| |Q| | | | | | | | | | | | | | | | | | |\n",
      "| | | | |Q| | | | | | | | | | | | | | | |\n",
      "| | |Q| | | | | | | | | | | | | | | | | |\n",
      "| | | | | | | | | | | | | | | |Q| | | | |\n",
      "| | | | | | | | | | | | | | | | | | | |Q|\n",
      "| | | | | | | | | | | | | | | | |Q| | | |\n",
      "| | | | | | | | | | | |Q| | | | | | | | |\n",
      "| | | | | | | | | | | | | |Q| | | | | | |\n",
      "| | | | | | | | | | | | | | | | | |Q| | |\n",
      "| | | | | | |Q| | | | | | | | | | | | | |\n",
      "| | | | | | | | | | | | | | | | | | |Q| |\n",
      "| | | | | |Q| | | | | | | | | | | | | | |\n",
      "| | | | | | | |Q| | | | | | | | | | | | |\n",
      "| | | | | | | | | |Q| | | | | | | | | | |\n",
      "| | | | | | | | | | | | |Q| | | | | | | |\n",
      "| | | | | | | | | | | | | | |Q| | | | | |\n",
      "| | | | | | | | |Q| | | | | | | | | | | |\n",
      "| | | | | | | | | | |Q| | | | | | | | | |\n",
      "\n",
      "Solution computed in 0:00:00.273031 time:\n",
      "|Q| | | | | | | | | | | | | | | | | | | |\n",
      "| | | |Q| | | | | | | | | | | | | | | | |\n",
      "| |Q| | | | | | | | | | | | | | | | | | |\n",
      "| | | | |Q| | | | | | | | | | | | | | | |\n",
      "| | |Q| | | | | | | | | | | | | | | | | |\n",
      "| | | | | | | | | | | | | | | |Q| | | | |\n",
      "| | | | | | | | | | | |Q| | | | | | | | |\n",
      "| | | | | | | | | | | | | | |Q| | | | | |\n",
      "| | | | | | | | | | | | | | | | |Q| | | |\n",
      "| | | | | | | | | | | | | |Q| | | | | | |\n",
      "| | | | | | | | | | | | | | | | | | | |Q|\n",
      "| | | | | | | | |Q| | | | | | | | | | | |\n",
      "| | | | | | | | | | | | | | | | | | |Q| |\n",
      "| | | | | |Q| | | | | | | | | | | | | | |\n",
      "| | | | | | | | | | | | | | | | | |Q| | |\n",
      "| | | | | | | | | | |Q| | | | | | | | | |\n",
      "| | | | | | | | | | | | |Q| | | | | | | |\n",
      "| | | | | | |Q| | | | | | | | | | | | | |\n",
      "| | | | | | | | | |Q| | | | | | | | | | |\n",
      "| | | | | | | |Q| | | | | | | | | | | | |\n",
      "\n",
      "Solution computed in 0:00:00.075748 time:\n",
      "|Q| | | | | | | | | | | | | | | | | | | |\n",
      "| | | |Q| | | | | | | | | | | | | | | | |\n",
      "| |Q| | | | | | | | | | | | | | | | | | |\n",
      "| | | | |Q| | | | | | | | | | | | | | | |\n",
      "| | |Q| | | | | | | | | | | | | | | | | |\n",
      "| | | | | | | | | | | | | | |Q| | | | | |\n",
      "| | | | | | | | | | | |Q| | | | | | | | |\n",
      "| | | | | | | | | | | | | | | |Q| | | | |\n",
      "| | | | | | | | | | | | |Q| | | | | | | |\n",
      "| | | | | | | | | | | | | | | | | | | |Q|\n",
      "| | | | | | | | | | | | | | | | |Q| | | |\n",
      "| | | | | | | | | | | | | | | | | | |Q| |\n",
      "| | | | | | | | | |Q| | | | | | | | | | |\n",
      "| | | | | |Q| | | | | | | | | | | | | | |\n",
      "| | | | | | | | | | | | | | | | | |Q| | |\n",
      "| | | | | | | | | | |Q| | | | | | | | | |\n",
      "| | | | | | | |Q| | | | | | | | | | | | |\n",
      "| | | | | | | | | | | | | |Q| | | | | | |\n",
      "| | | | | | |Q| | | | | | | | | | | | | |\n",
      "| | | | | | | | |Q| | | | | | | | | | | |\n",
      "\n"
     ]
    }
   ],
   "source": [
    "for i in range(5):\n",
    "    with timing(lambda: next(more_queens)) as (s, elapsed_time):\n",
    "        print(\"Solution computed in {} time:\\n{}\".format(elapsed_time, pretty(s)))"
   ]
  },
  {
   "cell_type": "markdown",
   "metadata": {},
   "source": [
    "# Polyominoes problems\n",
    "\n",
    "In this section we play with some problems concerning [polyominoes][poly], formalized by prof. [Golomb][golomb] and extended in various directions; we got interest in this topic after reading the chapter about backtracking in the volume of Ruskey.\n",
    "\n",
    "### Backtracking machanism\n",
    "\n",
    "Maybe the hardest part is understand how to represent the board and the state (free/occupied) of each cell; moreover, the question about how a shape, and its orientation, is interesting too. We answer to each one:\n",
    "\n",
    "   - a board with $r$ rows and $c$ columns\n",
    "     $$\n",
    "     \\begin{array}{c|c|c|c|c}\n",
    "     0 & r & 2r & \\ldots & (c-1)r \\\\\n",
    "     \\hline\n",
    "     1 & r+1 & 2r+1 & \\ldots & (c-1)r+1 \\\\\n",
    "     \\hline\n",
    "     \\vdots & \\vdots & \\vdots & \\ddots & \\vdots \\\\\n",
    "     \\hline\n",
    "     r-1 & 2r-1 & 3r-1 & \\ldots & rc-1\\\\\n",
    "     \\end{array}\n",
    "     $$\n",
    "     is represented by an *integer* with $rc$ bits; this is because we want to use *bit masking* techniques and\n",
    "     it is efficient to find the next *free* cell (using the utility function `low_bit`), which correspond to\n",
    "     the position of the first bit 1 from the right, namely the least significant part.\n",
    "   - a *shape* is a collection of cells, usually sharing an edge pairwise. We choose to represent a shape as a\n",
    "     `lambda` expression, that consumes the *anchor* position as a pair of row and column indices, \n",
    "     and returns a list of\n",
    "     orientations, namely positions coding a possible symmetry, reflection or rotation of the shape; therefore, \n",
    "     each orientation is a sequence of positions too. \n",
    "     \n",
    "     By *anchor* we mean the position in which the top-left cell\n",
    "     of a shape orientation will be placed in the next *free* cell in the board; every orientation should be\n",
    "     relative to the *anchor* provided, here an example, where the *anchor* is _always_ given at position `(r,c)`\n",
    "     \n",
    "                *                     (r-2,c+2)\n",
    "                *   ->                (r-1,c+2)\n",
    "            * * *       (r,c) (r,c+1) (r, c+2)\n",
    "     so the orientation is coded as the iterable `((r,c), (r,c+1), (r-2,c+2), (r-1,c+2), (r, c+2))`; observe how\n",
    "     pair are listed according to the order *top to bottom* and, when rows are exausted, go the the top of the\n",
    "     next column and repeat, so *left to right*. The section about *pentominoes* contains many examples \n",
    "     of shapes coding.\n",
    "\n",
    "In order to structure our thoughts, we start with the definition of the *shape* concept as a `namedtuple` object:\n",
    "\n",
    "[poly]:https://en.wikipedia.org/wiki/Polyomino\n",
    "[golomb]:https://en.wikipedia.org/wiki/Solomon_W._Golomb"
   ]
  },
  {
   "cell_type": "code",
   "execution_count": 1,
   "metadata": {
    "collapsed": false
   },
   "outputs": [],
   "source": [
    "from collections import namedtuple\n",
    "\n",
    "shape_spec = namedtuple('shape_spec', ['name', 'isomorphisms',])"
   ]
  },
  {
   "cell_type": "markdown",
   "metadata": {},
   "source": [
    "The following code implements a *backtracking* function that yields a sequence of tiling of a given board, possibly containing some forbidden cells, according to a set of available shapes."
   ]
  },
  {
   "cell_type": "code",
   "execution_count": 41,
   "metadata": {
    "collapsed": true
   },
   "outputs": [],
   "source": [
    "import math, random\n",
    "\n",
    "def polyominoes(dim, shapes, availables='ones', max_depth_reached=None, \n",
    "                forbidden=[], simulated_annealing={'enabled':False, 'energy':lambda s: 0, 'scheduler':None}, \n",
    "                nogood=lambda shape_placement, fewer_positions, iso, availables: False):\n",
    "    \"\"\"\n",
    "    Returns an iterable of arrangements for the Polyominos problem.\n",
    "    \"\"\"\n",
    "    rows, cols = dim\n",
    "    sol = []\n",
    "    if not availables or availables == 'ones':\n",
    "        availables = {s.name:1 for s in shapes} #[1]*len(shapes) \n",
    "    elif availables == 'inf': \n",
    "        availables = {s.name:-1 for s in shapes} #[-1]*len(shapes) # trick: represent ∞ piece availability by decreasing negative numbers\n",
    "    \n",
    "    def place(S, positions):\n",
    "        for r, c in positions:\n",
    "            S = clear_bit(S, r + rows*c)\n",
    "        return S\n",
    "    \n",
    "    def shuffle_shapes():\n",
    "        shuffling = list(shapes)\n",
    "        random.shuffle(shuffling)\n",
    "        return shuffling\n",
    "    \n",
    "    initial_temperature = sum(availables[s.name] for s in shapes)\n",
    "    schedulers = {'cauchy': lambda t: initial_temperature/(t),\n",
    "                  'standard':lambda t: initial_temperature*.95**t,\n",
    "                  'log':lambda t: initial_temperature/math.log(t),}\n",
    "    \n",
    "    def simulated_annealing_choice(step, competitors, temperature_scheduler, boltzman_const=1):\n",
    "    \n",
    "        candidate, outsider = competitors\n",
    "        energy = simulated_annealing['energy']\n",
    "        delta = energy(outsider) - energy(candidate) # in this way it is always positive\n",
    "        \n",
    "        if delta > 0: return outsider\n",
    "        elif not delta: return candidate if random.random() > 0.5 else outsider\n",
    "        \n",
    "        # therefore: delta < 0\n",
    "        prob = math.exp(delta/(boltzman_const * temperature_scheduler(step)))\n",
    "        return outsider if random.random() < prob else candidate\n",
    "    \n",
    "        \"\"\"\n",
    "        freq = int(prob*accuracy)\n",
    "        population = ([o]*freq) + ([s]*(accuracy-freq))\n",
    "        return random.choice(population)\n",
    "        \"\"\"\n",
    "    \n",
    "    def gen(positions, attempts):\n",
    "    \n",
    "        p = low_bit(positions)\n",
    "        \n",
    "        c, r = divmod(p, rows)\n",
    "        \n",
    "        for i, s in enumerate(shapes):\n",
    "            \n",
    "            if not availables[s.name]: continue\n",
    "                \n",
    "            #________________________________________________________________\n",
    "            \n",
    "            if simulated_annealing['enabled']:\n",
    "                left_shapes = {s for s in shapes if availables[s.name]} - {s}\n",
    "                annealing_shape = left_shapes.pop() if left_shapes else s\n",
    "\n",
    "                s = simulated_annealing_choice(step=sum(availables[s.name] for s in shapes), \n",
    "                                               competitors=(s, annealing_shape),\n",
    "                                               temperature_scheduler=schedulers[simulated_annealing['scheduler']])\n",
    "                \n",
    "            #________________________________________________________________\n",
    "            \n",
    "            for j, iso in enumerate(s.isomorphisms(r, c)):\n",
    "\n",
    "                if all(0 <= rr < rows and 0 <= cc < cols and is_on(positions, rr + rows*cc) for rr, cc in iso):\n",
    "\n",
    "                    fewer_positions = place(positions, iso)\n",
    "                    \n",
    "                    if nogood((s,p), fewer_positions, iso, availables): continue\n",
    "\n",
    "                    availables[s.name] -= 1\n",
    "                    sol.append((s, positions, (r,c), iso),)\n",
    "\n",
    "                    yield from [sol] if not (fewer_positions and attempts) else gen(fewer_positions, attempts-1)\n",
    "\n",
    "                    sol.pop()\n",
    "                    availables[s.name] += 1\n",
    "        \n",
    "    return gen(place(set_all(rows*cols), forbidden), max_depth_reached or -1)\n"
   ]
  },
  {
   "cell_type": "markdown",
   "metadata": {},
   "source": [
    "### Pretty printers"
   ]
  },
  {
   "cell_type": "markdown",
   "metadata": {},
   "source": [
    "The following pretty printer uses different symbols (mainly fetched from Greek and Latin alphabets) for different shapes:"
   ]
  },
  {
   "cell_type": "code",
   "execution_count": 63,
   "metadata": {
    "collapsed": true
   },
   "outputs": [],
   "source": [
    "def symbols_pretty(sol, dim, symbols, missing_symbol=' ', joiner=lambda board: '\\n'.join(board), axis=False):\n",
    "    \n",
    "    from collections import defaultdict\n",
    "    \n",
    "    table = defaultdict(lambda: missing_symbol)\n",
    "    for s, _, _, iso in sol:\n",
    "        table.update({(r, c): symbols[s.name] for r, c in iso})\n",
    "    \n",
    "    rows, cols = dim    \n",
    "    board = []\n",
    "    \n",
    "    board.append(\"┌\" + (\"─\" * (2*cols + 1)) + (\">\" if axis else \"┐\"))\n",
    "    for r in range(rows): \n",
    "        board.append('│ ' + ' '.join(table[r, c] for c in range(cols)) + ('  ' if axis else ' │'))\n",
    "    board.append(\"v\" + (\" \" * 2*(cols+1))  if axis else \"└\" + (\"─\" * (2*cols + 1)) + \"┘\")\n",
    "    \n",
    "    return joiner(board)"
   ]
  },
  {
   "cell_type": "markdown",
   "metadata": {},
   "source": [
    "On the other hand, the following pretty printer has a more *schematic* spirit because it draws tilings using vertical bars and underscores (`|` and `_`):"
   ]
  },
  {
   "cell_type": "code",
   "execution_count": 64,
   "metadata": {
    "collapsed": false
   },
   "outputs": [],
   "source": [
    "def tiling_pretty(sol, dim, symbols, missing_symbol='●', joiner=lambda board: '\\n'.join(board)):\n",
    "    \n",
    "    from string import whitespace\n",
    "    \n",
    "    table = {}\n",
    "    for s, _, _, iso in sol:\n",
    "        table.update({(r,c):s.name for r, c in iso})\n",
    "    \n",
    "    rows, cols = dim\n",
    "    \n",
    "    matrix = []\n",
    "    matrix.append(' ' + ' '.join(['_' if (0, c) in table else ' ' for c in range(cols)]))\n",
    "    \n",
    "    for r in range(rows): \n",
    "        row = '|'\n",
    "        for c in range(cols):\n",
    "            \n",
    "            if (r, c) not in table:\n",
    "                row += missing_symbol + ('|' if (r, c+1) in table else ' ')\n",
    "            else:\n",
    "                if (r+1, c) in table:\n",
    "                    row += '_' if table[r, c] != table[r+1, c] else ' '\n",
    "                else:\n",
    "                    row += '_'\n",
    "            \n",
    "                if (r, c+1) in table:\n",
    "                    row += '|' if table[r, c] != table[r, c+1] else ' '\n",
    "                else:\n",
    "                    row += '|' #' '\n",
    "                    \n",
    "                \n",
    "                #row += '_' if (r+1, c) in table and table[r, c] != table[r+1, c] else ' '\n",
    "                #row += '|' if (r, c+1) in table and table[r, c] != table[r, c+1] else ' '\n",
    "                \n",
    "                \n",
    "        matrix.append(row)\n",
    "    \n",
    "    return joiner(matrix)"
   ]
  },
  {
   "cell_type": "markdown",
   "metadata": {},
   "source": [
    "At last, the following is a *decorator* pretty printer, since it comsumes an iterable of tilings and applies a given pretty printer in order to build a `Markdown` object for a nicer rendering:"
   ]
  },
  {
   "cell_type": "code",
   "execution_count": 65,
   "metadata": {
    "collapsed": false
   },
   "outputs": [],
   "source": [
    "def markdown_pretty(tilings, dim, shapes, raw_text=False, pretty_printer=tiling_pretty,\n",
    "                    symbols=(lower_greek_symbols() + capital_greek_symbols() + latin_symbols())):\n",
    "    \"\"\"\n",
    "    I am a generator of tilings, pretty-printed as Markdown objects.\n",
    "    \"\"\"\n",
    "\n",
    "    from IPython.display import Markdown\n",
    "    import itertools\n",
    "\n",
    "    def row_tabulator(row): return ('' if raw_text else '\\t') + row # '\\t' necessary for nice Markdown rendering\n",
    "    \n",
    "    for i in itertools.count():    \n",
    "        \n",
    "        # since I'm a generator on top of `tiling`, which is a generator too, \n",
    "        # if it raises `StopIteration`, I propagate that as well.\n",
    "        with timing(lambda: next(tilings)) as (s, elapsed_time): \n",
    "        \n",
    "            prettier = pretty_printer(s, dim, {s.name:symbols[i] for i,s in enumerate(shapes)}, \n",
    "                                      joiner=lambda board: '\\n'.join(map(row_tabulator, board)))\n",
    "\n",
    "            code = \"Solution $s_{{{}}}$ computed in __{}__ time, respect last solution elapsed time (which is 0 if the current is the very first one):\\n{}\".format(i, elapsed_time, prettier)\n",
    "\n",
    "            yield code if raw_text else Markdown(code)"
   ]
  },
  {
   "cell_type": "markdown",
   "metadata": {},
   "source": [
    "## Pentominoes\n",
    "\n",
    "The first instance we would like to study are shapes composed of 5 cells, also called [pentominoes][penta]; the next code define all shapes and their orientations: \n",
    "\n",
    "[penta]:https://en.wikipedia.org/wiki/Pentomino"
   ]
  },
  {
   "cell_type": "code",
   "execution_count": 66,
   "metadata": {
    "collapsed": true
   },
   "outputs": [],
   "source": [
    "\"\"\"\n",
    "  *\n",
    "* * *\n",
    "  *\n",
    "\"\"\"\n",
    "X_shape = shape_spec(name='X', \n",
    "                     isomorphisms=lambda r, c: [((r, c), (r-1, c+1), (r, c+1), (r+1, c+1), (r, c+2))])\n",
    "\n",
    "\"\"\"\n",
    "*\n",
    "*\n",
    "*\n",
    "*\n",
    "*\n",
    "\n",
    "* * * * *\n",
    "\"\"\"\n",
    "I_shape = shape_spec(name='I',\n",
    "                     isomorphisms=lambda r, c: [((r, c), (r+1,c), (r+2,c), (r+3,c), (r+4,c)),\n",
    "                                                ((r, c), (r,c+1), (r,c+2), (r,c+3), (r,c+4))])\n",
    "\n",
    "\"\"\"\n",
    "*\n",
    "*\n",
    "* * *\n",
    "\n",
    "* * *\n",
    "    *\n",
    "    *\n",
    "\n",
    "    *\n",
    "    *\n",
    "* * *\n",
    "\n",
    "* * *\n",
    "*\n",
    "*\n",
    "\"\"\"\n",
    "V_shape = shape_spec(name='V', \n",
    "                     isomorphisms=lambda r, c: [((r,c), (r+1,c), (r+2,c), (r+2, c+1), (r+2, c+2)),\n",
    "                                                ((r,c), (r, c+1), (r,c+2), (r+1, c+2), (r+2, c+2)),\n",
    "                                                ((r,c), (r,c+1), (r-2,c+2), (r-1,c+2), (r, c+2)),\n",
    "                                                ((r,c), (r+1,c), (r+2,c), (r,c+1), (r, c+2))])\n",
    "\n",
    "\"\"\"\n",
    "* *\n",
    "*\n",
    "* *\n",
    "\n",
    "* * *\n",
    "*   *\n",
    "\n",
    "*   *\n",
    "* * *\n",
    "\n",
    "* *\n",
    "  *\n",
    "* *  \n",
    "\"\"\"\n",
    "U_shape = shape_spec(name='U',\n",
    "                     isomorphisms=lambda r, c: [((r,c), (r+1,c), (r+2,c), (r,c+1), (r+2,c+1)),\n",
    "                                                ((r,c), (r+1,c), (r, c+1), (r,c+2), (r+1,c+2)),\n",
    "                                                ((r,c), (r+1, c), (r+1, c+1), (r, c+2), (r+1, c+2)),\n",
    "                                                ((r,c), (r+2, c), (r, c+1), (r+1, c+1), (r+2, c+1)),])\n",
    "\n",
    "\"\"\"\n",
    "*\n",
    "* *\n",
    "  * *\n",
    "  \n",
    "* *\n",
    "  * *\n",
    "    *\n",
    "\n",
    "    *\n",
    "  * *\n",
    "* *\n",
    "\n",
    "  * *\n",
    "* *\n",
    "*\n",
    "\"\"\"\n",
    "W_shape = shape_spec(name='W',\n",
    "                     isomorphisms=lambda r, c: [((r,c), (r+1,c), (r+1,c+1), (r+2,c+1), (r+2,c+2)),\n",
    "                                                ((r,c), (r,c+1), (r+1,c+1), (r+1,c+2), (r+2,c+2)),\n",
    "                                                ((r,c), (r-1,c+1), (r,c+1), (r-2,c+2), (r-1,c+2)),\n",
    "                                                ((r,c), (r+1,c), (r-1,c+1), (r,c+1), (r-1,c+2)),])\n",
    "\n",
    "\"\"\"\n",
    "* * *\n",
    "  *\n",
    "  *\n",
    "  \n",
    "*\n",
    "* * *\n",
    "*\n",
    "\n",
    "    *\n",
    "* * *\n",
    "    *\n",
    "\n",
    "  *\n",
    "  *\n",
    "* * *\n",
    "\"\"\"\n",
    "T_shape = shape_spec(name='T',\n",
    "                     isomorphisms=lambda r, c: [((r,c), (r,c+1), (r+1,c+1), (r+2,c+1), (r,c+2)),\n",
    "                                                ((r,c), (r+1,c), (r+2,c), (r+1,c+1), (r+1,c+2)),\n",
    "                                                ((r,c), (r,c+1), (r-1,c+2), (r,c+2), (r+1,c+2)),\n",
    "                                                ((r,c), (r-2,c+1), (r-1,c+1), (r,c+1), (r,c+2)),])\n",
    "\n",
    "\"\"\"\n",
    "*\n",
    "* * *\n",
    "    *\n",
    "\n",
    "    *\n",
    "* * *\n",
    "*\n",
    "\n",
    "  * *  \n",
    "  * \n",
    "* *\n",
    "\n",
    "* *\n",
    "  *\n",
    "  * *\n",
    "\"\"\"\n",
    "Z_shape = shape_spec(name='Z', \n",
    "                     isomorphisms=lambda r, c: [((r,c), (r+1,c), (r+1,c+1), (r+1,c+2), (r+2,c+2)),\n",
    "                                                ((r,c), (r+1,c), (r,c+1), (r-1,c+2), (r,c+2)),\n",
    "                                                ((r,c), (r-2,c+1), (r-1,c+1), (r,c+1), (r-2,c+2)),\n",
    "                                                ((r,c), (r,c+1), (r+1,c+1), (r+2,c+1), (r+2,c+2)),])\n",
    "\n",
    "\"\"\"\n",
    "*\n",
    "* *\n",
    "  *\n",
    "  *\n",
    "  \n",
    "  *\n",
    "* *\n",
    "*\n",
    "*\n",
    "\n",
    "*\n",
    "*\n",
    "* *\n",
    "  *\n",
    "  \n",
    "  *\n",
    "  *\n",
    "* *\n",
    "*\n",
    "\n",
    "  * * *\n",
    "* *\n",
    "\n",
    "* *\n",
    "  * * *\n",
    "\n",
    "* * *\n",
    "    * *\n",
    "\n",
    "    * *\n",
    "* * *\n",
    "\"\"\"\n",
    "N_shape = shape_spec(name='N',\n",
    "                     isomorphisms=lambda r, c: [((r,c), (r+1,c), (r+1,c+1), (r+2,c+1), (r+3,c+1)),\n",
    "                                                ((r,c), (r+1,c), (r+2,c), (r-1,c+1), (r,c+1)),\n",
    "                                                ((r,c), (r+1,c), (r+2,c), (r+2,c+1), (r+3,c+1)),\n",
    "                                                ((r,c), (r+1,c), (r-2,c+1), (r-1,c+1), (r,c+1)),\n",
    "                                                ((r,c), (r-1,c+1), (r,c+1), (r-1,c+2), (r-1,c+3)),\n",
    "                                                ((r,c), (r,c+1), (r+1,c+1), (r+1,c+2), (r+1,c+3)),\n",
    "                                                ((r,c), (r,c+1), (r,c+2), (r+1,c+2), (r+1,c+3)),\n",
    "                                                ((r,c), (r,c+1), (r-1,c+2), (r,c+2), (r-1,c+3)),])\n",
    "\n",
    "\"\"\"\n",
    "*\n",
    "*\n",
    "*\n",
    "* *\n",
    "  \n",
    "  *\n",
    "  *\n",
    "  *\n",
    "* *\n",
    "\n",
    "* *\n",
    "  *\n",
    "  *\n",
    "  *\n",
    "  \n",
    "* *\n",
    "*\n",
    "*\n",
    "*\n",
    "\n",
    "*\n",
    "* * * *\n",
    "\n",
    "* * * *\n",
    "*\n",
    "\n",
    "      *\n",
    "* * * *\n",
    "\n",
    "* * * *\n",
    "      *\n",
    "\n",
    "\"\"\"\n",
    "L_shape = shape_spec(name='L',\n",
    "                     isomorphisms=lambda r, c: [((r,c), (r+1,c), (r+2,c), (r+3,c), (r+3,c+1)),\n",
    "                                                ((r,c), (r-3,c+1), (r-2,c+1), (r-1,c+1), (r,c+1)),                        \n",
    "                                                ((r,c), (r,c+1), (r+1,c+1), (r+2,c+1), (r+3,c+1)),                        \n",
    "                                                ((r,c), (r+1,c), (r+2,c), (r+3,c), (r,c+1)), \n",
    "                                                ((r,c), (r+1,c), (r+1,c+1), (r+1,c+2), (r+1,c+3)),                        \n",
    "                                                ((r,c), (r+1,c), (r,c+1), (r,c+2), (r,c+3)),                        \n",
    "                                                ((r,c), (r,c+1), (r,c+2), (r-1,c+3), (r,c+3)),                        \n",
    "                                                ((r,c), (r,c+1), (r,c+2), (r,c+3), (r+1,c+3)),])\n",
    "\n",
    "\"\"\"\n",
    "*\n",
    "* *\n",
    "*\n",
    "*\n",
    "\n",
    "*\n",
    "*\n",
    "* *\n",
    "*\n",
    "\n",
    "  *\n",
    "* *\n",
    "  *\n",
    "  *\n",
    "  \n",
    "  *\n",
    "  *\n",
    "* *\n",
    "  *\n",
    "\n",
    "* * * *\n",
    "    *\n",
    "    \n",
    "    *\n",
    "* * * *\n",
    "\n",
    "* * * *\n",
    "  *\n",
    "  \n",
    "  *\n",
    "* * * *    \n",
    "\"\"\"\n",
    "Y_shape = shape_spec(name='Y', \n",
    "                     isomorphisms=lambda r, c: [((r,c), (r+1,c), (r+2,c), (r+3,c), (r+1,c+1)),\n",
    "                                                ((r,c), (r+1,c), (r+2,c), (r+3,c), (r+2,c+1)),                        \n",
    "                                                ((r,c), (r-1,c+1), (r,c+1), (r+1,c+1), (r+2,c+1)),                        \n",
    "                                                ((r,c), (r-2,c+1), (r-1,c+1), (r,c+1), (r+1,c+1)),                        \n",
    "                                                ((r,c), (r,c+1), (r,c+2), (r+1,c+2), (r,c+3)),                        \n",
    "                                                ((r,c), (r,c+1), (r-1,c+2), (r,c+2), (r,c+3)),                        \n",
    "                                                ((r,c), (r,c+1), (r+1,c+1), (r,c+2), (r,c+3)),                        \n",
    "                                                ((r,c), (r-1,c+1), (r,c+1), (r,c+2), (r,c+3)),])\n",
    "\n",
    "\"\"\"\n",
    "*\n",
    "* * *\n",
    "  *\n",
    "  \n",
    "    *\n",
    "* * *\n",
    "  *\n",
    " \n",
    "  *\n",
    "* * *\n",
    "*\n",
    "\n",
    "  *\n",
    "* * *\n",
    "    *\n",
    "  \n",
    "  *\n",
    "  * *\n",
    "* *\n",
    "\n",
    "  *\n",
    "* *\n",
    "  * *\n",
    "  \n",
    "* *\n",
    "  * *\n",
    "  *\n",
    "  \n",
    "  * *\n",
    "* *\n",
    "  *\n",
    "\"\"\"\n",
    "F_shape = shape_spec(name='F',\n",
    "                     isomorphisms=lambda r, c: [((r,c), (r+1,c), (r+1,c+1), (r+2,c+1), (r+1,c+2)),\n",
    "                                                ((r,c), (r,c+1), (r+1,c+1), (r-1,c+2), (r,c+2)),                        \n",
    "                                                ((r,c), (r+1,c), (r-1,c+1), (r,c+1), (r,c+2)),                        \n",
    "                                                ((r,c), (r-1,c+1), (r,c+1), (r,c+2), (r+1,c+2)),                                                \n",
    "                                                ((r,c), (r-2,c+1), (r-1,c+1), (r,c+1), (r-1,c+2)),                                                \n",
    "                                                ((r,c), (r-1,c+1), (r,c+1), (r+1,c+1), (r+1,c+2)),                                                \n",
    "                                                ((r,c), (r,c+1), (r+1,c+1), (r+2,c+1), (r+1,c+2)),\n",
    "                                                ((r,c), (r-1,c+1), (r,c+1), (r+1,c+1), (r-1,c+2)),])\n",
    "\n",
    "\"\"\"\n",
    "*\n",
    "* *\n",
    "* *\n",
    "\n",
    "  *\n",
    "* *\n",
    "* *\n",
    "\n",
    "  * *\n",
    "* * *\n",
    "\n",
    "* *\n",
    "* * *\n",
    "\n",
    "* * *\n",
    "* *\n",
    "\n",
    "* * *\n",
    "  * *\n",
    "  \n",
    "* *\n",
    "* *\n",
    "*\n",
    "\n",
    "* *\n",
    "* *\n",
    "  *\n",
    "\"\"\"\n",
    "P_shape = shape_spec(name='P', \n",
    "                     isomorphisms=lambda r, c: [((r,c), (r+1,c), (r+2,c), (r+1,c+1), (r+2,c+1)),\n",
    "                                                ((r,c), (r+1,c), (r-1,c+1), (r,c+1), (r+1,c+1)),                        \n",
    "                                                ((r,c), (r-1,c+1), (r,c+1), (r-1,c+2), (r,c+2)),                                                \n",
    "                                                ((r,c), (r+1,c), (r,c+1), (r+1,c+1), (r+1,c+2)),                                                \n",
    "                                                ((r,c), (r+1,c), (r,c+1), (r+1,c+1), (r,c+2)),                                                  \n",
    "                                                ((r,c), (r,c+1), (r+1,c+1), (r,c+2), (r+1,c+2)),                                                \n",
    "                                                ((r,c), (r+1,c), (r+2,c), (r,c+1), (r+1,c+1)),                        \n",
    "                                                ((r,c), (r+1,c), (r,c+1), (r+1,c+1), (r+2,c+1)),])\n"
   ]
  },
  {
   "cell_type": "markdown",
   "metadata": {},
   "source": [
    "In order to tile a board, we use all of them:"
   ]
  },
  {
   "cell_type": "code",
   "execution_count": 67,
   "metadata": {
    "collapsed": true
   },
   "outputs": [],
   "source": [
    "shapes =  [X_shape, I_shape, V_shape, U_shape, W_shape, T_shape, \n",
    "           Z_shape, N_shape, L_shape, Y_shape, F_shape, P_shape]"
   ]
  },
  {
   "cell_type": "markdown",
   "metadata": {},
   "source": [
    "### Using *one* piece for each shape"
   ]
  },
  {
   "cell_type": "markdown",
   "metadata": {},
   "source": [
    "so, we are now ready to tile a board with 6 rows and 10 columns, where no cell is forbidden and only *one* piece is available for each shape: "
   ]
  },
  {
   "cell_type": "code",
   "execution_count": 68,
   "metadata": {
    "collapsed": true
   },
   "outputs": [],
   "source": [
    "dim = (6,10)\n",
    "\n",
    "polys_sols = polyominoes(dim, shapes, availables=\"ones\", forbidden=[])"
   ]
  },
  {
   "cell_type": "code",
   "execution_count": 79,
   "metadata": {
    "collapsed": false
   },
   "outputs": [],
   "source": [
    "tilings = markdown_pretty(polys_sols, dim, shapes, pretty_printer=symbols_pretty, raw_text=True)"
   ]
  },
  {
   "cell_type": "markdown",
   "metadata": {},
   "source": [
    "and pretty print the first 10 solutions:"
   ]
  },
  {
   "cell_type": "code",
   "execution_count": 80,
   "metadata": {
    "collapsed": false
   },
   "outputs": [
    {
     "name": "stdout",
     "output_type": "stream",
     "text": [
      "Solution $s_{0}$ computed in __0:00:00.447627__ time, respect last solution elapsed time (which is 0 if the current is the very first one):\n",
      "┌─────────────────────┐\n",
      "│ β ε ε μ μ μ ζ δ δ δ │\n",
      "│ β κ ε ε μ μ ζ δ θ δ │\n",
      "│ β κ κ ε α ζ ζ ζ θ θ │\n",
      "│ β κ γ α α α λ η η θ │\n",
      "│ β κ γ ι α λ λ λ η θ │\n",
      "│ γ γ γ ι ι ι ι λ η η │\n",
      "└─────────────────────┘\n",
      "Solution $s_{1}$ computed in __0:00:00.108994__ time, respect last solution elapsed time (which is 0 if the current is the very first one):\n",
      "┌─────────────────────┐\n",
      "│ β θ θ θ ε ε η η μ μ │\n",
      "│ β ι ι θ θ ε ε η μ μ │\n",
      "│ β ι ζ ζ ζ λ ε η η μ │\n",
      "│ β ι γ ζ λ λ λ α δ δ │\n",
      "│ β ι γ ζ λ κ α α α δ │\n",
      "│ γ γ γ κ κ κ κ α δ δ │\n",
      "└─────────────────────┘\n",
      "Solution $s_{2}$ computed in __0:00:00.228469__ time, respect last solution elapsed time (which is 0 if the current is the very first one):\n",
      "┌─────────────────────┐\n",
      "│ β ι ι ι ι η κ κ κ κ │\n",
      "│ β ι θ η η η λ λ κ ζ │\n",
      "│ β θ θ η α λ λ ζ ζ ζ │\n",
      "│ β θ γ α α α λ ε ε ζ │\n",
      "│ β θ γ δ α δ ε ε μ μ │\n",
      "│ γ γ γ δ δ δ ε μ μ μ │\n",
      "└─────────────────────┘\n",
      "Solution $s_{3}$ computed in __0:00:00.000453__ time, respect last solution elapsed time (which is 0 if the current is the very first one):\n",
      "┌─────────────────────┐\n",
      "│ β ι ι ι ι η κ κ κ κ │\n",
      "│ β ι θ η η η λ λ κ ζ │\n",
      "│ β θ θ η α λ λ ζ ζ ζ │\n",
      "│ β θ γ α α α λ ε ε ζ │\n",
      "│ β θ γ δ α δ μ μ ε ε │\n",
      "│ γ γ γ δ δ δ μ μ μ ε │\n",
      "└─────────────────────┘\n",
      "Solution $s_{4}$ computed in __0:00:00.329587__ time, respect last solution elapsed time (which is 0 if the current is the very first one):\n",
      "┌─────────────────────┐\n",
      "│ β ι ι ι ι ε ε ζ ζ ζ │\n",
      "│ β κ η η ι α ε ε ζ θ │\n",
      "│ β κ κ η α α α ε ζ θ │\n",
      "│ β κ γ η η α λ λ θ θ │\n",
      "│ β κ γ μ μ λ λ δ θ δ │\n",
      "│ γ γ γ μ μ μ λ δ δ δ │\n",
      "└─────────────────────┘\n",
      "Solution $s_{5}$ computed in __0:00:00.414927__ time, respect last solution elapsed time (which is 0 if the current is the very first one):\n",
      "┌─────────────────────┐\n",
      "│ β μ μ μ η η θ θ θ ζ │\n",
      "│ β κ μ μ η θ θ ζ ζ ζ │\n",
      "│ β κ κ η η ε ε λ λ ζ │\n",
      "│ β κ γ δ δ α ε ε λ λ │\n",
      "│ β κ γ δ α α α ε λ ι │\n",
      "│ γ γ γ δ δ α ι ι ι ι │\n",
      "└─────────────────────┘\n",
      "Solution $s_{6}$ computed in __0:00:00.005565__ time, respect last solution elapsed time (which is 0 if the current is the very first one):\n",
      "┌─────────────────────┐\n",
      "│ β μ μ μ η η λ ζ ζ ζ │\n",
      "│ β κ μ μ η λ λ λ ζ θ │\n",
      "│ β κ κ η η ε ε λ ζ θ │\n",
      "│ β κ γ δ δ α ε ε θ θ │\n",
      "│ β κ γ δ α α α ε θ ι │\n",
      "│ γ γ γ δ δ α ι ι ι ι │\n",
      "└─────────────────────┘\n",
      "Solution $s_{7}$ computed in __0:00:00.059489__ time, respect last solution elapsed time (which is 0 if the current is the very first one):\n",
      "┌─────────────────────┐\n",
      "│ β μ μ μ η η α ζ ζ ζ │\n",
      "│ β κ μ μ η α α α ζ θ │\n",
      "│ β κ κ η η λ α ε ζ θ │\n",
      "│ β κ γ λ λ λ ε ε θ θ │\n",
      "│ β κ γ ι λ ε ε δ θ δ │\n",
      "│ γ γ γ ι ι ι ι δ δ δ │\n",
      "└─────────────────────┘\n",
      "Solution $s_{8}$ computed in __0:00:00.883168__ time, respect last solution elapsed time (which is 0 if the current is the very first one):\n",
      "┌─────────────────────┐\n",
      "│ β δ δ δ γ γ γ θ μ μ │\n",
      "│ β δ λ δ γ η η θ μ μ │\n",
      "│ β λ λ λ γ η θ θ α μ │\n",
      "│ β λ ε ζ η η θ α α α │\n",
      "│ β ε ε ζ κ κ κ κ α ι │\n",
      "│ ε ε ζ ζ ζ κ ι ι ι ι │\n",
      "└─────────────────────┘\n",
      "Solution $s_{9}$ computed in __0:00:00.027981__ time, respect last solution elapsed time (which is 0 if the current is the very first one):\n",
      "┌─────────────────────┐\n",
      "│ β δ δ δ γ γ γ η μ μ │\n",
      "│ β δ λ δ γ η η η μ μ │\n",
      "│ β λ λ λ γ η θ θ α μ │\n",
      "│ β λ ε ζ θ θ θ α α α │\n",
      "│ β ε ε ζ κ κ κ κ α ι │\n",
      "│ ε ε ζ ζ ζ κ ι ι ι ι │\n",
      "└─────────────────────┘\n"
     ]
    }
   ],
   "source": [
    "for i in range(10):\n",
    "    print(next(tilings))"
   ]
  },
  {
   "cell_type": "markdown",
   "metadata": {},
   "source": [
    "Moreover, it is possible to count all solutions, namely tilings, with the following code:"
   ]
  },
  {
   "cell_type": "code",
   "execution_count": null,
   "metadata": {
    "collapsed": true
   },
   "outputs": [],
   "source": [
    "with timing(lambda: len(list(polys_sols))) as (t, elapsed_time):\n",
    "    print(\"{} sols in {} time\".format(t, elapsed_time))"
   ]
  },
  {
   "cell_type": "markdown",
   "metadata": {},
   "source": [
    "### With *forbidden* cells and (not so) many pieces for each shape"
   ]
  },
  {
   "cell_type": "markdown",
   "metadata": {},
   "source": [
    "On the other hand, the following is another board with some forbidden cells and 3 pieces for each shape are available:"
   ]
  },
  {
   "cell_type": "code",
   "execution_count": 83,
   "metadata": {
    "collapsed": false
   },
   "outputs": [],
   "source": [
    "dim = (6,10)\n",
    "polys_sols = polyominoes(dim, shapes, availables={s.name:3 for s in shapes},\n",
    "                         forbidden=[(0,0), (1,0), (2,0), (3,0), (4,0), \n",
    "                                    (1,9),(2,9),(3,9),(4,9), (5,9),\n",
    "                                    (1,5), (2, 4), (2, 5), (3, 4), (3,5)])\n",
    "tilings = markdown_pretty(polys_sols, dim, shapes, pretty_printer=symbols_pretty, raw_text=True)"
   ]
  },
  {
   "cell_type": "markdown",
   "metadata": {},
   "source": [
    "and pretty print the first 10 solutions:"
   ]
  },
  {
   "cell_type": "code",
   "execution_count": 84,
   "metadata": {
    "collapsed": false
   },
   "outputs": [
    {
     "name": "stdout",
     "output_type": "stream",
     "text": [
      "Solution $s_{0}$ computed in __0:00:00.011117__ time, respect last solution elapsed time (which is 0 if the current is the very first one):\n",
      "┌─────────────────────┐\n",
      "│   β β ι ι ι ι μ μ μ │\n",
      "│   β β ι ι   ι μ μ   │\n",
      "│   β β ι     γ ι ι   │\n",
      "│   β β ι     γ γ ι   │\n",
      "│   β β ι γ γ γ γ ι   │\n",
      "│ β β β β β γ γ γ ι   │\n",
      "└─────────────────────┘\n",
      "Solution $s_{1}$ computed in __0:00:00.009081__ time, respect last solution elapsed time (which is 0 if the current is the very first one):\n",
      "┌─────────────────────┐\n",
      "│   β β ι ι ι ι γ γ γ │\n",
      "│   β β ι ι   ι γ θ   │\n",
      "│   β β ι     γ γ θ   │\n",
      "│   β β ι     γ θ θ   │\n",
      "│   β β ι γ γ γ θ ι   │\n",
      "│ β β β β β ι ι ι ι   │\n",
      "└─────────────────────┘\n",
      "Solution $s_{2}$ computed in __0:00:00.001385__ time, respect last solution elapsed time (which is 0 if the current is the very first one):\n",
      "┌─────────────────────┐\n",
      "│   β β ι ι ι ι ζ ζ ζ │\n",
      "│   β β ι ι   ι κ ζ   │\n",
      "│   β β ι     γ κ ζ   │\n",
      "│   β β ι     γ κ κ   │\n",
      "│   β β ι γ γ γ κ ι   │\n",
      "│ β β β β β ι ι ι ι   │\n",
      "└─────────────────────┘\n",
      "Solution $s_{3}$ computed in __0:00:00.002767__ time, respect last solution elapsed time (which is 0 if the current is the very first one):\n",
      "┌─────────────────────┐\n",
      "│   β β ι ι ι ι μ μ μ │\n",
      "│   β β ι ι   ι μ μ   │\n",
      "│   β β ι     γ μ μ   │\n",
      "│   β β ι     γ μ μ   │\n",
      "│   β β ι γ γ γ μ ι   │\n",
      "│ β β β β β ι ι ι ι   │\n",
      "└─────────────────────┘\n",
      "Solution $s_{4}$ computed in __0:00:00.001709__ time, respect last solution elapsed time (which is 0 if the current is the very first one):\n",
      "┌─────────────────────┐\n",
      "│   β β ι ι ι ι γ γ γ │\n",
      "│   β β ι ι   ι γ κ   │\n",
      "│   β β ι     γ γ κ   │\n",
      "│   β β ι     γ κ κ   │\n",
      "│   β β ι γ γ γ κ κ   │\n",
      "│ β β β β β κ κ κ κ   │\n",
      "└─────────────────────┘\n",
      "Solution $s_{5}$ computed in __0:00:00.001429__ time, respect last solution elapsed time (which is 0 if the current is the very first one):\n",
      "┌─────────────────────┐\n",
      "│   β β ι ι ι ι ζ ζ ζ │\n",
      "│   β β ι ι   ι θ ζ   │\n",
      "│   β β ι     γ θ ζ   │\n",
      "│   β β ι     γ θ θ   │\n",
      "│   β β ι γ γ γ κ θ   │\n",
      "│ β β β β β κ κ κ κ   │\n",
      "└─────────────────────┘\n",
      "Solution $s_{6}$ computed in __0:00:00.004650__ time, respect last solution elapsed time (which is 0 if the current is the very first one):\n",
      "┌─────────────────────┐\n",
      "│   β β ι ι ι ι μ μ μ │\n",
      "│   β β ι ι   ι μ μ   │\n",
      "│   β β ι     γ μ μ   │\n",
      "│   β β ι     γ μ μ   │\n",
      "│   β β ι γ γ γ κ μ   │\n",
      "│ β β β β β κ κ κ κ   │\n",
      "└─────────────────────┘\n",
      "Solution $s_{7}$ computed in __0:00:00.014300__ time, respect last solution elapsed time (which is 0 if the current is the very first one):\n",
      "┌─────────────────────┐\n",
      "│   β β ι ι ι ι μ μ μ │\n",
      "│   β β ι ι   ι μ μ   │\n",
      "│   β β ι     γ γ γ   │\n",
      "│   β β ι     γ μ μ   │\n",
      "│   β β ι θ θ γ μ μ   │\n",
      "│ β β β β β θ θ θ μ   │\n",
      "└─────────────────────┘\n",
      "Solution $s_{8}$ computed in __0:00:00.001684__ time, respect last solution elapsed time (which is 0 if the current is the very first one):\n",
      "┌─────────────────────┐\n",
      "│   β β ι ι ι ι μ μ μ │\n",
      "│   β β ι ι   ι μ μ   │\n",
      "│   β β ι     δ δ κ   │\n",
      "│   β β ι     δ κ κ   │\n",
      "│   β β ι θ θ δ δ κ   │\n",
      "│ β β β β β θ θ θ κ   │\n",
      "└─────────────────────┘\n",
      "Solution $s_{9}$ computed in __0:00:00.001266__ time, respect last solution elapsed time (which is 0 if the current is the very first one):\n",
      "┌─────────────────────┐\n",
      "│   β β ι ι ι ι μ μ μ │\n",
      "│   β β ι ι   ι μ μ   │\n",
      "│   β β ι     δ δ δ   │\n",
      "│   β β ι     δ λ δ   │\n",
      "│   β β ι θ θ λ λ λ   │\n",
      "│ β β β β β θ θ θ λ   │\n",
      "└─────────────────────┘\n"
     ]
    }
   ],
   "source": [
    "for i in range(10):\n",
    "    print(next(tilings))"
   ]
  },
  {
   "cell_type": "markdown",
   "metadata": {},
   "source": [
    "Moreover, I've found a board configuration, where cells located at $(1,1)$ and $(4,8)$ are forbidden, such that it takes very long to be tiled, eventually I stopped the search each time, even if *infinitely many* pieces for each shape are available. I believe that even if we use *randomization* at shape/orientation selection time wouldn't help to shrink the complexity. "
   ]
  },
  {
   "cell_type": "markdown",
   "metadata": {},
   "source": [
    "### Polyomino's order\n",
    "\n",
    "Again, in the exercise **7 in Chapter 3**, Ruskey asks to find the *order* of some polyomino. Here's the definition:\n",
    "\n",
    ">Define the order of a polyomino $P$ to be the smallest number of copies of $P$ that\n",
    "will fit perfectly into a rectangle, where rotations and reflections of $P$ are allowed.\n",
    "\n",
    "We reproduce the tiling using the `Y` polyomino and we check that its order is actually 10; in order to show the tiling we given 10 copies of the `Y` shape, each one with one piece available:"
   ]
  },
  {
   "cell_type": "code",
   "execution_count": 95,
   "metadata": {
    "collapsed": false
   },
   "outputs": [],
   "source": [
    "dim = (5,10)\n",
    "repeated_Y_shapes = [shape_spec(name=\"{}_{}\".format(Y_shape.name, i),\n",
    "                                isomorphisms=Y_shape.isomorphisms) for i in range(10)]\n",
    "polys_sols = polyominoes(dim, repeated_Y_shapes, availables='ones', forbidden=[])\n",
    "tilings = markdown_pretty(polys_sols, dim, repeated_Y_shapes, pretty_printer=symbols_pretty, raw_text=True)"
   ]
  },
  {
   "cell_type": "markdown",
   "metadata": {},
   "source": [
    "there are many way to tile the board, here there are the first three:"
   ]
  },
  {
   "cell_type": "code",
   "execution_count": 96,
   "metadata": {
    "collapsed": false
   },
   "outputs": [
    {
     "name": "stdout",
     "output_type": "stream",
     "text": [
      "Solution $s_{0}$ computed in __0:00:00.089210__ time, respect last solution elapsed time (which is 0 if the current is the very first one):\n",
      "┌─────────────────────┐\n",
      "│ α γ γ γ γ ζ ι ι ι ι │\n",
      "│ α α δ γ ζ ζ ζ ζ ι κ │\n",
      "│ α δ δ δ δ η η η η κ │\n",
      "│ α β ε ε ε ε θ η κ κ │\n",
      "│ β β β β ε θ θ θ θ κ │\n",
      "└─────────────────────┘\n",
      "Solution $s_{1}$ computed in __0:00:00.000147__ time, respect last solution elapsed time (which is 0 if the current is the very first one):\n",
      "┌─────────────────────┐\n",
      "│ α γ γ γ γ ζ κ κ κ κ │\n",
      "│ α α δ γ ζ ζ ζ ζ κ ι │\n",
      "│ α δ δ δ δ η η η η ι │\n",
      "│ α β ε ε ε ε θ η ι ι │\n",
      "│ β β β β ε θ θ θ θ ι │\n",
      "└─────────────────────┘\n",
      "Solution $s_{2}$ computed in __0:00:00.000179__ time, respect last solution elapsed time (which is 0 if the current is the very first one):\n",
      "┌─────────────────────┐\n",
      "│ α γ γ γ γ ζ θ θ θ θ │\n",
      "│ α α δ γ ζ ζ ζ ζ θ κ │\n",
      "│ α δ δ δ δ η η η η κ │\n",
      "│ α β ε ε ε ε ι η κ κ │\n",
      "│ β β β β ε ι ι ι ι κ │\n",
      "└─────────────────────┘\n"
     ]
    }
   ],
   "source": [
    "for i in range(3):\n",
    "    print(next(tilings))"
   ]
  },
  {
   "cell_type": "markdown",
   "metadata": {},
   "source": [
    "## Fibonacci tilings\n",
    "\n",
    "It is interesting to way we define shape because allows us to build shapes composed of a *different* number of cells. In the following cell we define two shapes that resembles a *Fibonacci* schema:"
   ]
  },
  {
   "cell_type": "code",
   "execution_count": 97,
   "metadata": {
    "collapsed": true
   },
   "outputs": [],
   "source": [
    "\"\"\"\n",
    "*\n",
    "\"\"\"\n",
    "square_shape = shape_spec(name='square',\n",
    "                          isomorphisms=lambda r, c: [((r, c),)])\n",
    "\n",
    "\"\"\"\n",
    "* *\n",
    "\n",
    "*\n",
    "*\n",
    "\"\"\"\n",
    "domino_shape = shape_spec(name='domino',\n",
    "                          isomorphisms=lambda r, c: [((r, c), (r, c+1)),\n",
    "                                                     ((r, c), (r+1, c))])"
   ]
  },
  {
   "cell_type": "markdown",
   "metadata": {},
   "source": [
    "collect them together:"
   ]
  },
  {
   "cell_type": "code",
   "execution_count": 98,
   "metadata": {
    "collapsed": true
   },
   "outputs": [],
   "source": [
    "fibonacci_shapes = [square_shape, domino_shape]"
   ]
  },
  {
   "cell_type": "markdown",
   "metadata": {},
   "source": [
    "and use an infinite copy of pieces for each shape to tile a strip with 12 columns:"
   ]
  },
  {
   "cell_type": "code",
   "execution_count": 99,
   "metadata": {
    "collapsed": true
   },
   "outputs": [],
   "source": [
    "dim = (1,12)\n",
    "fibonacci_sols = polyominoes(dim, fibonacci_shapes, availables='inf', forbidden=[])"
   ]
  },
  {
   "cell_type": "markdown",
   "metadata": {},
   "source": [
    "as the theory confirms, there are 233 way to tile such strip:"
   ]
  },
  {
   "cell_type": "code",
   "execution_count": 100,
   "metadata": {
    "collapsed": false
   },
   "outputs": [
    {
     "name": "stdout",
     "output_type": "stream",
     "text": [
      "233 sols in 0:00:00.014320 time\n"
     ]
    }
   ],
   "source": [
    "with timing(lambda: len(list(fibonacci_sols))) as (t, elapsed_time):\n",
    "    print(\"{} sols in {} time\".format(t, elapsed_time))"
   ]
  },
  {
   "cell_type": "markdown",
   "metadata": {},
   "source": [
    "To see the pattern, we can tile a greater board:"
   ]
  },
  {
   "cell_type": "code",
   "execution_count": 184,
   "metadata": {
    "collapsed": true
   },
   "outputs": [],
   "source": [
    "dim = (3,50)\n",
    "fibonacci_sols = polyominoes(dim, fibonacci_shapes, availables='inf', forbidden=[])\n",
    "tilings = markdown_pretty(fibonacci_sols, dim, fibonacci_shapes, pretty_printer=tiling_pretty, raw_text=False)"
   ]
  },
  {
   "cell_type": "markdown",
   "metadata": {},
   "source": [
    "and pretty print the first 10 solutions (not really interesting, though! many $\\alpha$ symbols...maybe we could *randomize* the generator...)"
   ]
  },
  {
   "cell_type": "code",
   "execution_count": 185,
   "metadata": {
    "collapsed": false
   },
   "outputs": [],
   "source": [
    "for i in range(10000):\n",
    "    next(tilings)"
   ]
  },
  {
   "cell_type": "code",
   "execution_count": 186,
   "metadata": {
    "collapsed": false
   },
   "outputs": [
    {
     "data": {
      "text/markdown": [
       "Solution $s_{10000}$ computed in __0:00:00.000129__ time, respect last solution elapsed time (which is 0 if the current is the very first one):\n",
       "\t _ _ _ _ _ _ _ _ _ _ _ _ _ _ _ _ _ _ _ _ _ _ _ _ _ _ _ _ _ _ _ _ _ _ _ _ _ _ _ _ _ _ _ _ _ _ _ _ _ _\n",
       "\t|                                                                                        _ _|   |_ _|\n",
       "\t|                                                                                       |           |\n",
       "\t|_ _ _ _ _ _ _ _ _ _ _ _ _ _ _ _ _ _ _ _ _ _ _ _ _ _ _ _ _ _ _ _ _ _ _ _ _ _ _ _ _ _ _ _|_ _ _ _ _ _|"
      ],
      "text/plain": [
       "<IPython.core.display.Markdown object>"
      ]
     },
     "execution_count": 186,
     "metadata": {},
     "output_type": "execute_result"
    }
   ],
   "source": [
    "next(tilings)"
   ]
  },
  {
   "cell_type": "markdown",
   "metadata": {},
   "source": [
    "# Parallelogram Polyominoes"
   ]
  },
  {
   "cell_type": "code",
   "execution_count": 187,
   "metadata": {
    "collapsed": false
   },
   "outputs": [],
   "source": [
    "def parallelogram_polyominoes(sp):\n",
    "    \"\"\"\n",
    "    Returns the set of shapes denoting all *parallelogram polyominoes* of semiperimeter `sp`.\n",
    "    \n",
    "    The relation to the main problem is $sp = n + 2$, where the board edge is $2^{n}$.\n",
    "    \"\"\"\n",
    "    \n",
    "    import itertools\n",
    "    \n",
    "    steps = [(1,0),  # go to cell below\n",
    "             (0,1),] # go to cell on the right\n",
    "    \n",
    "    # we assume the canonical ordering inside a board, namely ascending\n",
    "    # order from top to bottom, and from left to right, as in cells above.\n",
    "    \n",
    "    # first of all build Catalan paths that have no intersection point,\n",
    "    # using only vertical and horizontal steps (here we do not distinguish\n",
    "    # among upward/downward vertical steps, what is important is to remain\n",
    "    # consistent to board ordering).\n",
    "    \n",
    "    initial_prefix = [(0,0)] # always start placing cell at anchor coordinate (r, c)\n",
    "    prefixes = {tuple(initial_prefix)}\n",
    "\n",
    "    candidates = set()\n",
    "    \n",
    "    n = sp - 2\n",
    "    \n",
    "    while prefixes:\n",
    "        \n",
    "        prefix = prefixes.pop()\n",
    "        \n",
    "        if len(prefix) > n: \n",
    "            candidates.add(prefix)\n",
    "            continue\n",
    "        \n",
    "        last_row_offset, last_col_offset = prefix[-1]\n",
    "        dominating_prefixes = [(last_row_offset + ro, last_col_offset + co) for ro, co in steps]\n",
    "        dominated_prefixes = [(last_row_offset + ro, last_col_offset + co) for ro, co in steps]\n",
    "        for sub, dom in [(sub,dom) for sub, dom in zip(dominated_prefixes, dominating_prefixes) if sub <= dom]:\n",
    "            prefixes.add(prefix + (sub,))\n",
    "            prefixes.add(prefix + (dom,))\n",
    "    \n",
    "    parallelograms = {(tuple(dom), tuple(sub)) for sub, dom in itertools.product(candidates, repeat=2) \n",
    "                      if sub[-1] == dom[-1]}\n",
    "    \n",
    "    polyominoes = {frozenset(fst) | frozenset(snd) for fst, snd in parallelograms}\n",
    "    \n",
    "    def fill(polyomino):\n",
    "        r_max, c_max = max(r for r,_ in polyomino), max(c for _,c in polyomino)\n",
    "        filled = set()\n",
    "        for coord in itertools.product(range(1, r_max), range(1, c_max)):\n",
    "            \n",
    "            if coord in polyomino: continue\n",
    "            \n",
    "            row = [(rr, cc) for rr, cc in polyomino if coord[0] == rr]\n",
    "            column = [(rr, cc) for rr, cc in polyomino if coord[1] == cc]\n",
    "        \n",
    "            if (min(column, default=coord) < coord < max(column, default=coord) and\n",
    "                min(row, default=coord) < coord < max(row, default=coord)):\n",
    "        \n",
    "                filled.add(coord)\n",
    "                #print(\"filled: \", polyomino, polyomino | filled)\n",
    "                \n",
    "        return polyomino | filled\n",
    "    \n",
    "    return {fill(p) for p in polyominoes}\n",
    "        "
   ]
  },
  {
   "cell_type": "markdown",
   "metadata": {},
   "source": [
    "### *Isomorphisms*: mirrors and rotations"
   ]
  },
  {
   "cell_type": "code",
   "execution_count": 188,
   "metadata": {
    "collapsed": true
   },
   "outputs": [],
   "source": [
    "\n",
    "def rotate_clockwise(shape):\n",
    "    \"\"\"\n",
    "    Returns a shape rotated clockwise by π/2 radians.\n",
    "    \"\"\"\n",
    "    clockwise = [(c, -r) for r, c in shape] # by matrix multiplication for rotations\n",
    "    #print(clockwise)\n",
    "    co, ro = min((c, r) for r, c in clockwise)\n",
    "    #print(ro, co)\n",
    "    return frozenset((r-ro, c-co) for r, c in clockwise)\n",
    "\n",
    "def rotate_clockwise_isomorphisms(isos):\n",
    "    \n",
    "    rotations = set()\n",
    "    \n",
    "    for i in isos:\n",
    "        rotating = i\n",
    "        \n",
    "        rotating = rotate_clockwise(rotating)\n",
    "        rotations.add(rotating)\n",
    "        \n",
    "        rotating = rotate_clockwise(rotating)\n",
    "        rotations.add(rotating)\n",
    "        \n",
    "        rotating = rotate_clockwise(rotating)\n",
    "        rotations.add(rotating)\n",
    "        \n",
    "    #print(isos | frozenset(rotations))\n",
    "    return isos | rotations\n",
    "\n",
    "#______________________________________________________________________________\n",
    "\n",
    "def vertical_mirror(shape):\n",
    "    m = max([c for r, c in shape])\n",
    "    return frozenset((r, m-c) for r, c in shape)\n",
    "\n",
    "def vertical_isomorphism(isos):\n",
    "    return isos | frozenset(vertical_mirror(i) for i in isos)\n",
    "\n",
    "#______________________________________________________________________________\n",
    "\n",
    "def make_shapes(primitive_polyos, isomorphisms=lambda isos: isos):\n",
    "    \n",
    "    prefix = \"polyo\"\n",
    "    \n",
    "    def o(j, isos):\n",
    "        return shape_spec(name='{}{}'.format(prefix, j),\n",
    "                          isomorphisms=lambda r, c: [ [(r+ro, c+co) for ro, co in iso] for iso in isos])\n",
    "    \n",
    "    return [o(j, isomorphisms({p})) for j, p in enumerate(primitive_polyos)]\n"
   ]
  },
  {
   "cell_type": "markdown",
   "metadata": {},
   "source": [
    "Sandbox to test:"
   ]
  },
  {
   "cell_type": "code",
   "execution_count": 189,
   "metadata": {
    "collapsed": false
   },
   "outputs": [
    {
     "name": "stdout",
     "output_type": "stream",
     "text": [
      "frozenset({(1, 2), (1, 0), (1, 3), (1, 1), (0, 0)})\n",
      "frozenset({(3, 0), (2, 0), (1, 0), (0, 0), (0, 1)})\n",
      "frozenset({(0, 1), (0, 3), (0, 0), (0, 2), (1, 3)})\n",
      "frozenset({(0, 1), (-3, 1), (-2, 1), (0, 0), (-1, 1)})\n"
     ]
    }
   ],
   "source": [
    "c = frozenset({(0,0), (1,0), (1,1), (1,2), (1,3)})\n",
    "print(c)\n",
    "c = rotate_clockwise(c)\n",
    "print(c)\n",
    "c = rotate_clockwise(c)\n",
    "print(c)\n",
    "c = rotate_clockwise(c)\n",
    "print(c)"
   ]
  },
  {
   "cell_type": "markdown",
   "metadata": {},
   "source": [
    "## A tiling game from Del Longo, Pinzani et al."
   ]
  },
  {
   "cell_type": "code",
   "execution_count": 190,
   "metadata": {
    "collapsed": true
   },
   "outputs": [],
   "source": [
    "def describe(semiperimeter, polyominoes):\n",
    "    \n",
    "    from IPython.display import Markdown    \n",
    "    \n",
    "    n, catalan = semiperimeter - 2, semiperimeter - 1\n",
    "    size=2**n\n",
    "\n",
    "    area = 0\n",
    "    for p in polyominoes:\n",
    "        area += len(p)\n",
    "    \n",
    "    theoretical_area = 4**n\n",
    "    \n",
    "    code='''\n",
    "**Problem instance**: \n",
    "   - using {pp} parallelogram polyominoes, which is the catalan number $c_{catalan}$ (0-based indexing)\n",
    "   - each polyomino has semiperimeter $sp$ equals to {sp}, so let $n=sp-2={n}$\n",
    "   - board edges have size $2^{n}={size}$ each\n",
    "   - theoretically, area is known to be $4^{n}={fa}$, which *is {pred}* equal to counted area {ca}'''.format(\n",
    "        sp=semiperimeter, n=n, size=size, pp=len(polyominoes), fa=theoretical_area, \n",
    "        pred='not' if theoretical_area != area else '', ca=area, catalan=catalan)\n",
    "    \n",
    "    return Markdown(code), n, catalan, polyominoes, theoretical_area, area, size\n"
   ]
  },
  {
   "cell_type": "markdown",
   "metadata": {},
   "source": [
    "Using function `describe` above, we state the problem instance clearly with:"
   ]
  },
  {
   "cell_type": "code",
   "execution_count": 191,
   "metadata": {
    "collapsed": false
   },
   "outputs": [
    {
     "data": {
      "text/markdown": [
       "\n",
       "**Problem instance**: \n",
       "   - using 42 parallelogram polyominoes, which is the catalan number $c_5$ (0-based indexing)\n",
       "   - each polyomino has semiperimeter $sp$ equals to 6, so let $n=sp-2=4$\n",
       "   - board edges have size $2^4=16$ each\n",
       "   - theoretically, area is known to be $4^4=256$, which *is * equal to counted area 256"
      ],
      "text/plain": [
       "<IPython.core.display.Markdown object>"
      ]
     },
     "execution_count": 191,
     "metadata": {},
     "output_type": "execute_result"
    }
   ],
   "source": [
    "semiperimeter = 6\n",
    "description, *facts = describe(semiperimeter, parallelogram_polyominoes(semiperimeter))\n",
    "n, catalan, polyos, theoretical_area, area, size = facts\n",
    "\n",
    "description"
   ]
  },
  {
   "cell_type": "markdown",
   "metadata": {},
   "source": [
    "The **order** in which *shapes* are provided is very important since it affects the quality of backtracking:"
   ]
  },
  {
   "cell_type": "code",
   "execution_count": 192,
   "metadata": {
    "collapsed": false,
    "scrolled": true
   },
   "outputs": [],
   "source": [
    "#shapes = make_shapes(pp, isomorphisms=vertical_isomorphism)#, isomorphisms=lambda isos: vertical_isomorphism(rotate_clockwise_isomorphisms(isos)))\n",
    "shapes = make_shapes(polyos)#, isomorphisms=lambda isos: vertical_isomorphism(rotate_clockwise_isomorphisms(isos)))\n",
    "\n",
    "def convex_hull(iso):\n",
    "    lower_row, lower_col = min(iso)\n",
    "    greatest_row, greatest_col = max(iso) # find the \"convex hull\" respect to the cell at the bottom-right most location\n",
    "    square = max(greatest_row, greatest_col) + 1\n",
    "    return [(r, c)\n",
    "            for r in range(lower_row, square) \n",
    "            for c in range(lower_col, square)] # convex hull area\n",
    "\n",
    "max_convex_hull = max(map(lambda iso: len(convex_hull(iso)), \n",
    "                          [iso for s in shapes for iso in s.isomorphisms(0,0)]))\n",
    "\n",
    "def area_key(s, weights={0:0, 1:0, 2:1}):\n",
    "    import random\n",
    "    isos = s.isomorphisms(0,0) # place the shape somewhere, the origin is pretty good\n",
    "    iso = isos.pop() # all isomorphisms, of course, have the same are, therefore pick the first one\n",
    "    filled_area = len(iso) # since a piece is represent as an iterable of coordinates `(r, c)`\n",
    "    convex_hull_area = len(convex_hull(iso))\n",
    "    #key = filled_area*(weights['filled'] + weights['convex']/convex_hull_area) + weights['bias']*random.random() # return the ratio of the filled area respect the convex hull\n",
    "    \n",
    "    #key = 0*max(iso)[1] + filled_area * convex_hull_area / max_convex_hull\n",
    "    \n",
    "    def key(x):\n",
    "        max_r, max_c = max(iso)\n",
    "        #return max_r + max_c*x + (filled_area * convex_hull_area / max_convex_hull)*x**2\n",
    "        return (weights[0]*max_r + \n",
    "                weights[1]*max_c*x + \n",
    "                weights[2]*(filled_area * convex_hull_area / max_convex_hull)*x**2)\n",
    "    \n",
    "    return key(2)\n",
    "\n",
    "\n",
    "shapes = sorted(shapes, key=area_key, reverse=True)"
   ]
  },
  {
   "cell_type": "markdown",
   "metadata": {},
   "source": [
    "Represent all available parallelogram polyominoes:"
   ]
  },
  {
   "cell_type": "code",
   "execution_count": 194,
   "metadata": {
    "collapsed": false
   },
   "outputs": [
    {
     "name": "stdout",
     "output_type": "stream",
     "text": [
      "┌─────────────> ┌─────────────> ┌─────────────> ┌─────────────> ┌─────────────>\n",
      "│ ▢ ▢           │ ▢ ▢ ▢ ▢       │ ▢             │ ▢ ▢ ▢ ▢ ▢     │ ▢            \n",
      "│ ▢ ▢           │ ▢ ▢ ▢ ▢       │ ▢             │               │ ▢ ▢          \n",
      "│ ▢ ▢           │               │ ▢             │               │ ▢ ▢          \n",
      "│ ▢ ▢           │               │ ▢             │               │ ▢ ▢          \n",
      "│               │               │ ▢             │               │              \n",
      "│               │               │               │               │              \n",
      "v               v               v               v               v              \n",
      "┌─────────────> ┌─────────────> ┌─────────────> ┌─────────────> ┌─────────────>\n",
      "│ ▢ ▢           │ ▢ ▢ ▢ ▢       │ ▢ ▢ ▢         │ ▢             │ ▢ ▢ ▢        \n",
      "│ ▢ ▢           │   ▢ ▢ ▢       │ ▢ ▢ ▢ ▢       │ ▢ ▢           │   ▢ ▢ ▢      \n",
      "│ ▢ ▢           │               │               │ ▢ ▢           │              \n",
      "│   ▢           │               │               │   ▢           │              \n",
      "│               │               │               │               │              \n",
      "│               │               │               │               │              \n",
      "v               v               v               v               v              \n",
      "┌─────────────> ┌─────────────> ┌─────────────> ┌─────────────> ┌─────────────>\n",
      "│ ▢ ▢           │ ▢ ▢ ▢ ▢       │ ▢ ▢           │ ▢             │ ▢ ▢ ▢        \n",
      "│ ▢ ▢ ▢ ▢       │     ▢ ▢       │ ▢ ▢           │ ▢             │ ▢ ▢ ▢        \n",
      "│               │               │   ▢           │ ▢ ▢           │ ▢ ▢ ▢        \n",
      "│               │               │   ▢           │ ▢ ▢           │              \n",
      "│               │               │               │               │              \n",
      "│               │               │               │               │              \n",
      "v               v               v               v               v              \n",
      "┌─────────────> ┌─────────────> ┌─────────────> ┌─────────────> ┌─────────────>\n",
      "│ ▢             │ ▢             │ ▢ ▢           │ ▢ ▢ ▢         │ ▢            \n",
      "│ ▢ ▢ ▢ ▢       │ ▢             │   ▢           │     ▢ ▢       │ ▢            \n",
      "│               │ ▢             │   ▢           │               │ ▢ ▢          \n",
      "│               │ ▢ ▢           │   ▢           │               │   ▢          \n",
      "│               │               │               │               │              \n",
      "│               │               │               │               │              \n",
      "v               v               v               v               v              \n",
      "┌─────────────> ┌─────────────> ┌─────────────> ┌─────────────> ┌─────────────>\n",
      "│ ▢ ▢ ▢ ▢       │ ▢             │ ▢ ▢           │ ▢ ▢ ▢         │ ▢ ▢          \n",
      "│       ▢       │ ▢ ▢           │   ▢ ▢ ▢       │ ▢ ▢ ▢         │ ▢ ▢ ▢        \n",
      "│               │   ▢           │               │   ▢ ▢         │ ▢ ▢ ▢        \n",
      "│               │   ▢           │               │               │              \n",
      "│               │               │               │               │              \n",
      "│               │               │               │               │              \n",
      "v               v               v               v               v              \n",
      "┌─────────────> ┌─────────────> ┌─────────────> ┌─────────────> ┌─────────────>\n",
      "│ ▢ ▢ ▢         │ ▢ ▢ ▢         │ ▢ ▢           │ ▢ ▢           │ ▢            \n",
      "│ ▢ ▢ ▢         │   ▢ ▢         │ ▢ ▢           │ ▢ ▢ ▢         │ ▢ ▢ ▢        \n",
      "│     ▢         │   ▢ ▢         │ ▢ ▢ ▢         │   ▢ ▢         │ ▢ ▢ ▢        \n",
      "│               │               │               │               │              \n",
      "│               │               │               │               │              \n",
      "│               │               │               │               │              \n",
      "v               v               v               v               v              \n",
      "┌─────────────> ┌─────────────> ┌─────────────> ┌─────────────> ┌─────────────>\n",
      "│ ▢ ▢           │ ▢ ▢ ▢         │ ▢ ▢           │ ▢             │ ▢            \n",
      "│ ▢ ▢           │   ▢ ▢         │ ▢ ▢ ▢         │ ▢ ▢           │ ▢ ▢ ▢        \n",
      "│   ▢ ▢         │     ▢         │     ▢         │ ▢ ▢ ▢         │   ▢ ▢        \n",
      "│               │               │               │               │              \n",
      "│               │               │               │               │              \n",
      "│               │               │               │               │              \n",
      "v               v               v               v               v              \n",
      "┌─────────────> ┌─────────────> ┌─────────────> ┌─────────────> ┌─────────────>\n",
      "│ ▢ ▢           │ ▢ ▢ ▢         │ ▢             │ ▢             │ ▢ ▢          \n",
      "│   ▢ ▢         │     ▢         │ ▢ ▢           │ ▢ ▢ ▢         │   ▢          \n",
      "│   ▢ ▢         │     ▢         │   ▢ ▢         │     ▢         │   ▢ ▢        \n",
      "│               │               │               │               │              \n",
      "│               │               │               │               │              \n",
      "│               │               │               │               │              \n",
      "v               v               v               v               v              \n",
      "┌─────────────> ┌─────────────>\n",
      "│ ▢ ▢           │ ▢            \n",
      "│   ▢ ▢         │ ▢            \n",
      "│     ▢         │ ▢ ▢ ▢        \n",
      "│               │              \n",
      "│               │              \n",
      "│               │              \n",
      "v               v              \n"
     ]
    }
   ],
   "source": [
    "polyominoes_boards = [symbols_pretty([(shape, None, (0,0), iso)], \n",
    "                                     (semiperimeter, semiperimeter), \n",
    "                                     {shape.name:'▢'}, \n",
    "                                     joiner=lambda board: board,\n",
    "                                     axis=True) \n",
    "                      for i, shape in enumerate(shapes) for iso in shape.isomorphisms(0,0)]\n",
    "\n",
    "group=5\n",
    "for i in range(0, len(polyominoes_boards), group):\n",
    "    for k in range(semiperimeter+2):\n",
    "        grouped_board = []\n",
    "        for j in range(i, i + group):\n",
    "            if j >= len(polyominoes_boards): break\n",
    "            grouped_board.append(polyominoes_boards[j][k])\n",
    "        print(' '.join(grouped_board))\n",
    "\n"
   ]
  },
  {
   "cell_type": "markdown",
   "metadata": {},
   "source": [
    "Thoughts:\n",
    "   - proceed by *iterative deepening*\n",
    "   - at $C_{n}-1$ level it seems that a *hole* (one empty cell surrounded by filled ones) occurs, where $C_{n}$ is \n",
    "   the relative Catalan number to the problem instance under study\n",
    "   - possible pruning if a *hole* is found after piece placement\n",
    "   - add a keyword argument to require the check about the discover of a solution: if a solution is found ensure\n",
    "   that a predicate on the `available` array holds (for instance, that every piece has been used so that no pieces \n",
    "   left for each solution)"
   ]
  },
  {
   "cell_type": "code",
   "execution_count": 204,
   "metadata": {
    "collapsed": false
   },
   "outputs": [],
   "source": [
    "###############  DIRTY  ######################################\n",
    "\n",
    "dim = (size, size)\n",
    "\n",
    "def nogood_predicate(placed_shape, fewer_positions, iso, fringe, availables):\n",
    "    \n",
    "    if not fewer_positions:\n",
    "        return False\n",
    "    \n",
    "    shape, p = placed_shape\n",
    "    \n",
    "    #print(\"given fringe \", fringe)\n",
    "    \n",
    "    rows=size\n",
    "    c,r = divmod(p, rows)\n",
    "    \n",
    "    #if r == rows-1 or c == size-1: return True\n",
    "    \n",
    "    def cell_fringe(cell):\n",
    "        r, c = cell\n",
    "        return {(r, c-1)}#, (r+1, c)}\n",
    "        #return {(r, c-1),(r-1, c),(r+1, c),(r, c+1),} # this is the complete fringe\n",
    "    \n",
    "    max_iso_cell_r, max_iso_cell_c = max(iso)\n",
    "    \n",
    "    \n",
    "    fringe_iso = {(rr, cc) \n",
    "                  for cell in iso\n",
    "                  for (rr,cc) in cell_fringe(cell) \n",
    "                      if 0 <= r <= rr < max_iso_cell_r + 1\n",
    "                      and 0 <= c-1 <= cc < max_iso_cell_c \n",
    "                      and is_on(fewer_positions, rr + rows*cc)}\n",
    "    \n",
    "    #if max_iso_cell_r+1 == rows-1 and is_on(fewer_positions, max_iso_cell_r+1 + rows*(max_iso_cell_c-1)):\n",
    "    #    fringe_iso.add((max_iso_cell_r+1, max_iso_cell_c-1),)\n",
    "    \n",
    "    if False:\n",
    "        for rr, cc in iso:\n",
    "            if cc == size-1:\n",
    "                if rr-1 >= 0 and is_on(fewer_positions, rr-1 + rows*cc):\n",
    "                    fringe_iso.add((rr-1, cc),)\n",
    "                if rr+1 < rows and is_on(fewer_positions, rr+1 + rows*cc):\n",
    "                    fringe_iso.add((rr+1, cc),)\n",
    "    \n",
    "    #print(\"standard fringe_iso \", fringe_iso)\n",
    "    \n",
    "    hole = set()\n",
    "    for rr, cc in fringe_iso:\n",
    "        back_cc = cc\n",
    "        while back_cc >= c and is_on(fewer_positions, rr + rows*back_cc):\n",
    "            hole.add((rr, back_cc),)\n",
    "            back_cc -= 1\n",
    "            \n",
    "    if hole:\n",
    "        \n",
    "        #print(hole)\n",
    "        min_c, min_r = min((c, r) for r, c in hole)\n",
    "\n",
    "        chances = {s for s in shapes\n",
    "                   if s != shape\n",
    "                   and availables[s.name]\n",
    "                   and all(is_on(fewer_positions, rr + rows*cc)\n",
    "                           for rr, cc in s.isomorphisms(min_r, min_c).pop())}\n",
    "                   #and len(set(s.isomorphisms(0,0).pop())) <= len(hole)}\n",
    "\n",
    "        return not chances\n",
    "    else:\n",
    "        return False\n",
    "    \n",
    "    \n",
    "    \n",
    "    if not fringe_iso: return False # `iso` placement fills a hole exactly\n",
    "\n",
    "    min_c, min_r = min((c, r) for r, c in fringe_iso)\n",
    "    min_cell = min_r, min_c\n",
    "    #print(min_cell)\n",
    "    fringe_iso = {(rr,cc) for (rr,cc) in fringe_iso if rr != min_r} | {min_cell} # discard any cell occurring more than one on the row where the min cell lies\n",
    "    \n",
    "    #print('doubles-free fringe ', fringe_iso)\n",
    "    \n",
    "    class unbounded_area(Exception): pass\n",
    "    \n",
    "    def ant(cell, remaining_steps):\n",
    "        \n",
    "        r, c = cell\n",
    "        free = is_on(fewer_positions, r + rows*c)\n",
    "        \n",
    "        if not remaining_steps:\n",
    "            return set()\n",
    "            return {cell} if free else set()\n",
    "        \n",
    "        covered_bottom = ant((r+1, c), remaining_steps-1) if r < rows-1 else set()\n",
    "        covered_right = ant((r, c+1), remaining_steps-1) if c < rows-1 else set()\n",
    "        \n",
    "        return {cell} | covered_bottom | covered_right\n",
    "    \n",
    "    for cell in fringe | fringe_iso:\n",
    "        rr, cc = cell\n",
    "        \n",
    "        covered = ant(cell, semiperimeter-1)\n",
    "        #print(\"covered \", covered)\n",
    "        filling_shapes = {s for s in shapes \n",
    "                          if s != shape \n",
    "                          and availables[s.name] \n",
    "                          and set(s.isomorphisms(rr, cc).pop()) <= covered}\n",
    "        \n",
    "        if not filling_shapes:\n",
    "            #print(\"not filling\")\n",
    "            return True\n",
    "        \n",
    "    fringe.update(fringe_iso)\n",
    "    \n",
    "    #print(\"updated fringe \", fringe)\n",
    "    \n",
    "    return False\n",
    "    \n",
    "    \n",
    "    \n",
    "    \n",
    "    rows=size\n",
    "    \n",
    "    #if r == rows-1: return True\n",
    "    \"\"\"\n",
    "    latest_placed_greater_row, latest_placed_greater_col, = max(iso)\n",
    "    if latest_placed_greater_row == rows-1: # the latest shape has its greatest cell on the last row\n",
    "        for q in range(0, semiperimeter-1):\n",
    "            if latest_placed_greater_col-q > 0 and is_on(fewer_positions, rows*(latest_placed_greater_col-q)-1):\n",
    "                return True\n",
    "    \"\"\"\n",
    "    \n",
    "    columns_ahead = 1\n",
    "    for ahead in range(p+1, rows*(c+1+columns_ahead)): # look ahead up to the end of the column where last shape has been placed\n",
    "        \n",
    "        if not is_on(fewer_positions, ahead): continue\n",
    "                \n",
    "        next_free_col, next_free_row, = divmod(ahead, rows)\n",
    "        \n",
    "        if next_free_row == rows-1 and next_free_col > columns_ahead:\n",
    "            return True\n",
    "        \n",
    "        \"\"\"if next_free_row == rows-1:\n",
    "            for q in range(2, semiperimeter):\n",
    "                if not is_on(fewer_positions, rows*(next_free_col+q)-2):\n",
    "                    return True\n",
    "        \"\"\"\n",
    "        \n",
    "        if not (is_on(fewer_positions, (next_free_row+1) + rows*next_free_col) or\n",
    "                is_on(fewer_positions, next_free_row + rows*(next_free_col+1))):\n",
    "            return True\n",
    "    \n",
    "    return False\n"
   ]
  },
  {
   "cell_type": "code",
   "execution_count": 202,
   "metadata": {
    "collapsed": false
   },
   "outputs": [],
   "source": [
    "dim = (size, size)\n",
    "\n",
    "def nogood_predicate(placed_shape, fewer_positions, iso, availables):\n",
    "    \n",
    "    if not fewer_positions:\n",
    "        return False\n",
    "    \n",
    "    shape, p = placed_shape\n",
    "    \n",
    "    #print(\"given fringe \", fringe)\n",
    "    \n",
    "    rows=size\n",
    "    c,r = divmod(p, rows)\n",
    "    \n",
    "    # if this code is eventually reached, shape can be actually placed, hence \n",
    "    # there is no sense to contradict the choice just done\n",
    "    #if r == rows-1 or c == size-1:\n",
    "    #    return True\n",
    "        \n",
    "    max_r, max_c = max(iso)    \n",
    "    \n",
    "    if False and max_c == size-1:\n",
    "        if (any(is_on(fewer_positions, rr + rows*max_c) for rr in range(0, max_r)) and\n",
    "            any(is_on(fewer_positions, rr + rows*max_c) for rr in range(max_r+1, rows))):\n",
    "            return True\n",
    "    # m < 4^{n-1}*3\n",
    "    for i in range(size >> 2):\n",
    "        ahead, fewer_positions = low_bit_and_clear(fewer_positions)\n",
    "        next_free_col, next_free_row, = divmod(ahead, rows)\n",
    "        \n",
    "        #if next_free_row == rows-1 and not is_on(fewer_positions, (next_free_row-1) + rows*next_free_col):\n",
    "        #    return True\n",
    "        \n",
    "        if not (is_on(fewer_positions, (next_free_row+1) + rows*next_free_col) or\n",
    "                is_on(fewer_positions, next_free_row + rows*(next_free_col+1))):\n",
    "            return True\n",
    "    \n",
    "        if not fewer_positions:\n",
    "            break\n",
    "    \n",
    "    return False\n",
    "    \n",
    "    for ahead in range(rows*c, rows*(c+1)): # look ahead up to the end of the column where last shape has been placed\n",
    "    #for ahead in range(p+1, max_r + 1 + rows*c): # look ahead up to the end of the column where last shape has been placed\n",
    "        \n",
    "        if not is_on(fewer_positions, ahead): continue\n",
    "                \n",
    "        next_free_col, next_free_row, = divmod(ahead, rows)\n",
    "        \n",
    "        \"\"\"if next_free_row == rows-1:\n",
    "            for q in range(2, semiperimeter):\n",
    "                if not is_on(fewer_positions, rows*(next_free_col+q)-2):\n",
    "                    return True\n",
    "        \"\"\"\n",
    "        \n",
    "        #if next_free_row == rows-1 and next_free_col > 0:\n",
    "        #    return True\n",
    "        \n",
    "        if not (is_on(fewer_positions, (next_free_row+1) + rows*next_free_col) or\n",
    "                is_on(fewer_positions, next_free_row + rows*(next_free_col+1))):\n",
    "            return True\n",
    "    \n",
    "    return False\n"
   ]
  },
  {
   "cell_type": "code",
   "execution_count": 205,
   "metadata": {
    "collapsed": false
   },
   "outputs": [],
   "source": [
    "energy=lambda item: area_key(item, {'filled':1, 'convex':0, 'bias':0})\n",
    "\n",
    "polys_sols = polyominoes(dim, shapes, availables=\"ones\", forbidden=[], max_depth_reached=-1,\n",
    "                         simulated_annealing={'enabled':False, 'energy':energy, 'scheduler':'cauchy'},\n",
    "                         nogood=nogood_predicate)\n",
    "\n",
    "pretty_tilings = markdown_pretty(polys_sols, dim, shapes, raw_text=False)"
   ]
  },
  {
   "cell_type": "code",
   "execution_count": 206,
   "metadata": {
    "collapsed": false
   },
   "outputs": [
    {
     "data": {
      "text/markdown": [
       "Solution $s_{0}$ computed in __0:00:30.838550__ time, respect last solution elapsed time (which is 0 if the current is the very first one):\n",
       "\t _ _ _ _ _ _ _ _ _ _ _ _ _ _ _ _\n",
       "\t|   |     |_    |_    |   |_ _  |\n",
       "\t|   |_ _ _ _|_ _ _|   |_    | | |\n",
       "\t|   |_ _ _  |     |_ _| |_ _| |_|\n",
       "\t|_ _|_ _  |_|     |   |_  | |_  |\n",
       "\t|       |_ _|_ _ _|_ _  | |_  |_|\n",
       "\t|_ _ _ _| |_  | |     |_|_| |_ _|\n",
       "\t| |   | |   | | |_ _  |   |_ _  |\n",
       "\t| |   | |_  | | |_  |_|_  |_  |_|\n",
       "\t| |_  |   |_|_|_ _| |_  |_ _|_  |\n",
       "\t| | |_|_ _|   |_  |_ _|   |   |_|\n",
       "\t|_|_ _ _ _|_  | |_ _ _|_ _|     |\n",
       "\t|_ _ _ _ _| | |     |     |_ _ _|\n",
       "\t| |_      | |_|_ _ _|_    |_    |\n",
       "\t|   |_ _ _|_ _ _|   | |_ _| |_  |\n",
       "\t|   |   |_ _    |   |_    |   |_|\n",
       "\t|_ _|_ _ _ _|_ _|_ _ _|_ _|_ _ _|"
      ],
      "text/plain": [
       "<IPython.core.display.Markdown object>"
      ]
     },
     "execution_count": 206,
     "metadata": {},
     "output_type": "execute_result"
    }
   ],
   "source": [
    "next(pretty_tilings)"
   ]
  },
  {
   "cell_type": "markdown",
   "metadata": {},
   "source": [
    "and pretty print some experiments:"
   ]
  },
  {
   "cell_type": "code",
   "execution_count": null,
   "metadata": {
    "collapsed": false
   },
   "outputs": [],
   "source": [
    "symbols = lower_greek_symbols() + capital_greek_symbols() + latin_symbols()\n",
    "symbols_map = {s.name:symbols[i] for i,s in enumerate(shapes)}\n",
    "count = 0\n",
    "with open('sp_6.txt', 'a') as f:\n",
    "    for s in polys_sols:\n",
    "        f.write('sol index {}:\\n{}\\n'.format(count, ppretty(s, dim, symbols_map)))\n",
    "        count += 1\n",
    "count"
   ]
  },
  {
   "cell_type": "markdown",
   "metadata": {},
   "source": [
    "---\n",
    "<a rel=\"license\" href=\"http://creativecommons.org/licenses/by-nc/4.0/\"><img alt=\"Creative Commons License\" style=\"border-width:0\" src=\"https://i.creativecommons.org/l/by-nc/4.0/88x31.png\" /></a><br /><span xmlns:dct=\"http://purl.org/dc/terms/\" property=\"dct:title\">Backtracking tutorial</span> by <a xmlns:cc=\"http://creativecommons.org/ns#\" href=\"massimo.nocentini@unifi.it\" property=\"cc:attributionName\" rel=\"cc:attributionURL\">Massimo Nocentini</a> is licensed under a <a rel=\"license\" href=\"http://creativecommons.org/licenses/by-nc/4.0/\">Creative Commons Attribution-NonCommercial 4.0 International License</a>.<br />Based on a work at <a xmlns:dct=\"http://purl.org/dc/terms/\" href=\"https://github.com/massimo-nocentini/competitive-programming/blob/master/tutorials/backtrack.ipynb\" rel=\"dct:source\">https://github.com/massimo-nocentini/competitive-programming/blob/master/tutorials/backtrack.ipynb</a>."
   ]
  }
 ],
 "metadata": {
  "kernelspec": {
   "display_name": "Python 3",
   "language": "python",
   "name": "python3"
  },
  "language_info": {
   "codemirror_mode": {
    "name": "ipython",
    "version": 3
   },
   "file_extension": ".py",
   "mimetype": "text/x-python",
   "name": "python",
   "nbconvert_exporter": "python",
   "pygments_lexer": "ipython3",
   "version": "3.5.1"
  }
 },
 "nbformat": 4,
 "nbformat_minor": 0
}
