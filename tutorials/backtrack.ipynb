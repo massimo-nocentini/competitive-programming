{
 "cells": [
  {
   "cell_type": "markdown",
   "metadata": {},
   "source": [
    "<div align=\"right\">\n",
    "Massimo Nocentini<br>\n",
    "<br>June 9, 2016: Parallelogram Polyominoes\n",
    "<br>May 31, 2016: trying to add <i>randomization</i>, Polyomino's order\n",
    "<br>May 25, 2016: Polyominoes\n",
    "<br>May 23, 2016: n-Queens\n",
    "</div>\n",
    "<br>\n",
    "<div align=\"center\">\n",
    "<b>Abstract</b><br>\n",
    "This document collect some applications of <i>backtracking</i> techniques.\n",
    "</div>"
   ]
  },
  {
   "cell_type": "code",
   "execution_count": 1,
   "metadata": {
    "collapsed": true
   },
   "outputs": [],
   "source": [
    "%matplotlib inline\n",
    "%run ../python-libs/bits.py\n",
    "%run ../python-libs/timing.py\n",
    "%run ../python-libs/graycodes.py\n",
    "%run ../python-libs/symbols.py"
   ]
  },
  {
   "cell_type": "markdown",
   "metadata": {},
   "source": [
    "# $n$-Queens problem\n",
    "\n",
    "In this section we provide a pythonic implementation of the $n$-Queens problem, using the approach described by [Ruskey][ruskey] in Chapter 3 of his book [Combinatorial Generation][cg]. We use three *bit masks*, namely integers, to represent whether a row, a raising $\\nearrow$ and a falling $\\searrow$ diagonal are \"under attack\" by an already placed queen, instead of three boolean arrays. It is sufficient to use *one* bit only to represent that a cell on a diagonal is under attack because:\n",
    "\n",
    "   - if the diagonal is raising, call it $d_\\nearrow$, then $a_{r_{1}, c_{1}}\\in d_\\nearrow \\wedge a_{r_{2}, c_{2}} \\in d_\\nearrow$ if and only if $r_{1}+c_{1}=r_{2}+c_{2}$; in words, the sum of the row and column indices is constant along raising diagonals.\n",
    "   - if the diagonal is falling, call it $d_\\searrow$, then $a_{r_{1}, c_{1}}\\in d_\\searrow \\wedge a_{r_{2}, c_{2}} \\in d_\\searrow$ if and only if $c_{1}-r_{1}=c_{2}-r_{2}$; in words, the difference of the column and row indices is constant along falling diagonals.\n",
    "   \n",
    "Here's the code:\n",
    "\n",
    "[ruskey]:http://webhome.cs.uvic.ca/~ruskey/\n",
    "[cg]:http://www.1stworks.com/ref/RuskeyCombGen.pdf"
   ]
  },
  {
   "cell_type": "code",
   "execution_count": 2,
   "metadata": {
    "collapsed": true
   },
   "outputs": [],
   "source": [
    "def queens(n):\n",
    "    \"\"\"\n",
    "    Return an iterable of solutions to the `n`-Queens problem.\n",
    "    \"\"\"\n",
    "    sol = [0] * n\n",
    "    \n",
    "    def gen(c, rows, raises, falls):\n",
    "        \n",
    "        for r in range(n):\n",
    "            \n",
    "            raising = c + r\n",
    "            falling = (c - r) % (2*n-1) # we use a modular ring in order to handle the case r > c, in this way\n",
    "                                        # negative positions appear in the most significant part of `falls`\n",
    "            \n",
    "            if is_on(rows, r) and is_on(raises, raising) and is_on(falls, falling):\n",
    "                \n",
    "                sol[c] = r\n",
    "                \n",
    "                yield from [sol] if c == n-1 else gen(c+1, \n",
    "                                                      clear_bit(rows, r), \n",
    "                                                      clear_bit(raises, raising), \n",
    "                                                      clear_bit(falls, falling))\n",
    "                \n",
    "    return gen(0, set_all(n), set_all(2*n-1), set_all(2*n-1))\n",
    "\n",
    "def pretty(sol):\n",
    "    n = len(sol)\n",
    "    s = \"\"\n",
    "    for r in range(n):\n",
    "        pos = sol.index(r)\n",
    "        s += \"|{}|\\n\".format(\"|\".join('Q' if c == pos else ' ' for c in range(n)))\n",
    "    return s"
   ]
  },
  {
   "cell_type": "markdown",
   "metadata": {},
   "source": [
    "Simple case with a $5\\times 5$ board, so an instance of $5$-Queens problem:"
   ]
  },
  {
   "cell_type": "code",
   "execution_count": 131,
   "metadata": {
    "collapsed": false
   },
   "outputs": [
    {
     "name": "stdout",
     "output_type": "stream",
     "text": [
      "sol 0:\n",
      "|Q| | | | |\n",
      "| | | |Q| |\n",
      "| |Q| | | |\n",
      "| | | | |Q|\n",
      "| | |Q| | |\n",
      "\n",
      "sol 1:\n",
      "|Q| | | | |\n",
      "| | |Q| | |\n",
      "| | | | |Q|\n",
      "| |Q| | | |\n",
      "| | | |Q| |\n",
      "\n",
      "sol 2:\n",
      "| | |Q| | |\n",
      "|Q| | | | |\n",
      "| | | |Q| |\n",
      "| |Q| | | |\n",
      "| | | | |Q|\n",
      "\n",
      "sol 3:\n",
      "| | | |Q| |\n",
      "|Q| | | | |\n",
      "| | |Q| | |\n",
      "| | | | |Q|\n",
      "| |Q| | | |\n",
      "\n",
      "sol 4:\n",
      "| |Q| | | |\n",
      "| | | |Q| |\n",
      "|Q| | | | |\n",
      "| | |Q| | |\n",
      "| | | | |Q|\n",
      "\n",
      "sol 5:\n",
      "| | | | |Q|\n",
      "| | |Q| | |\n",
      "|Q| | | | |\n",
      "| | | |Q| |\n",
      "| |Q| | | |\n",
      "\n",
      "sol 6:\n",
      "| |Q| | | |\n",
      "| | | | |Q|\n",
      "| | |Q| | |\n",
      "|Q| | | | |\n",
      "| | | |Q| |\n",
      "\n",
      "sol 7:\n",
      "| | | | |Q|\n",
      "| |Q| | | |\n",
      "| | | |Q| |\n",
      "|Q| | | | |\n",
      "| | |Q| | |\n",
      "\n",
      "sol 8:\n",
      "| | | |Q| |\n",
      "| |Q| | | |\n",
      "| | | | |Q|\n",
      "| | |Q| | |\n",
      "|Q| | | | |\n",
      "\n",
      "sol 9:\n",
      "| | |Q| | |\n",
      "| | | | |Q|\n",
      "| |Q| | | |\n",
      "| | | |Q| |\n",
      "|Q| | | | |\n",
      "\n"
     ]
    }
   ],
   "source": [
    "for i, s in enumerate(queens(5)):\n",
    "    print(\"sol {}:\\n{}\".format(i, pretty(s)))"
   ]
  },
  {
   "cell_type": "markdown",
   "metadata": {},
   "source": [
    "A more demanding case $20$-Queens, build the generator for solutions:"
   ]
  },
  {
   "cell_type": "code",
   "execution_count": 132,
   "metadata": {
    "collapsed": true
   },
   "outputs": [],
   "source": [
    "more_queens = queens(20)"
   ]
  },
  {
   "cell_type": "markdown",
   "metadata": {},
   "source": [
    "and ask for the first 5 of them; in this case we see that some time is required to reach the first leaf in the *backtracking tree* which is also a valid solution."
   ]
  },
  {
   "cell_type": "code",
   "execution_count": 133,
   "metadata": {
    "collapsed": false
   },
   "outputs": [
    {
     "name": "stdout",
     "output_type": "stream",
     "text": [
      "Solution computed in 3.2474 secs:\n",
      "|Q| | | | | | | | | | | | | | | | | | | |\n",
      "| | | |Q| | | | | | | | | | | | | | | | |\n",
      "| |Q| | | | | | | | | | | | | | | | | | |\n",
      "| | | | |Q| | | | | | | | | | | | | | | |\n",
      "| | |Q| | | | | | | | | | | | | | | | | |\n",
      "| | | | | | | | | | | | | | | | | | |Q| |\n",
      "| | | | | | | | | | | | | | | | |Q| | | |\n",
      "| | | | | | | | | | | | | | |Q| | | | | |\n",
      "| | | | | | | | | | | |Q| | | | | | | | |\n",
      "| | | | | | | | | | | | | | | |Q| | | | |\n",
      "| | | | | | | | | | | | | | | | | | | |Q|\n",
      "| | | | | | | |Q| | | | | | | | | | | | |\n",
      "| | | | | |Q| | | | | | | | | | | | | | |\n",
      "| | | | | | | | | | | | | | | | | |Q| | |\n",
      "| | | | | | |Q| | | | | | | | | | | | | |\n",
      "| | | | | | | | | | | | |Q| | | | | | | |\n",
      "| | | | | | | | | | |Q| | | | | | | | | |\n",
      "| | | | | | | | |Q| | | | | | | | | | | |\n",
      "| | | | | | | | | | | | | |Q| | | | | | |\n",
      "| | | | | | | | | |Q| | | | | | | | | | |\n",
      "\n",
      "Solution computed in 8.893e-05 secs:\n",
      "|Q| | | | | | | | | | | | | | | | | | | |\n",
      "| | | |Q| | | | | | | | | | | | | | | | |\n",
      "| |Q| | | | | | | | | | | | | | | | | | |\n",
      "| | | | |Q| | | | | | | | | | | | | | | |\n",
      "| | |Q| | | | | | | | | | | | | | | | | |\n",
      "| | | | | | | | | | | | | | | | |Q| | | |\n",
      "| | | | | | | | | | | | | | | | | | |Q| |\n",
      "| | | | | | | | | | | | | | | |Q| | | | |\n",
      "| | | | | | | | | | | |Q| | | | | | | | |\n",
      "| | | | | | | | | | | | | | |Q| | | | | |\n",
      "| | | | | | | | | | | | | | | | | | | |Q|\n",
      "| | | | | | | |Q| | | | | | | | | | | | |\n",
      "| | | | | |Q| | | | | | | | | | | | | | |\n",
      "| | | | | | | | | | | | | | | | | |Q| | |\n",
      "| | | | | | |Q| | | | | | | | | | | | | |\n",
      "| | | | | | | | | | | | |Q| | | | | | | |\n",
      "| | | | | | | | | | |Q| | | | | | | | | |\n",
      "| | | | | | | | |Q| | | | | | | | | | | |\n",
      "| | | | | | | | | | | | | |Q| | | | | | |\n",
      "| | | | | | | | | |Q| | | | | | | | | | |\n",
      "\n",
      "Solution computed in 0.63178 secs:\n",
      "|Q| | | | | | | | | | | | | | | | | | | |\n",
      "| | | |Q| | | | | | | | | | | | | | | | |\n",
      "| |Q| | | | | | | | | | | | | | | | | | |\n",
      "| | | | |Q| | | | | | | | | | | | | | | |\n",
      "| | |Q| | | | | | | | | | | | | | | | | |\n",
      "| | | | | | | | | | | | | | | |Q| | | | |\n",
      "| | | | | | | | | | | | | | | | | | | |Q|\n",
      "| | | | | | | | | | | | | | | | |Q| | | |\n",
      "| | | | | | | | | | | |Q| | | | | | | | |\n",
      "| | | | | | | | | | | | | |Q| | | | | | |\n",
      "| | | | | | | | | | | | | | | | | |Q| | |\n",
      "| | | | | | |Q| | | | | | | | | | | | | |\n",
      "| | | | | | | | | | | | | | | | | | |Q| |\n",
      "| | | | | |Q| | | | | | | | | | | | | | |\n",
      "| | | | | | | |Q| | | | | | | | | | | | |\n",
      "| | | | | | | | | |Q| | | | | | | | | | |\n",
      "| | | | | | | | | | | | |Q| | | | | | | |\n",
      "| | | | | | | | | | | | | | |Q| | | | | |\n",
      "| | | | | | | | |Q| | | | | | | | | | | |\n",
      "| | | | | | | | | | |Q| | | | | | | | | |\n",
      "\n",
      "Solution computed in 0.2793 secs:\n",
      "|Q| | | | | | | | | | | | | | | | | | | |\n",
      "| | | |Q| | | | | | | | | | | | | | | | |\n",
      "| |Q| | | | | | | | | | | | | | | | | | |\n",
      "| | | | |Q| | | | | | | | | | | | | | | |\n",
      "| | |Q| | | | | | | | | | | | | | | | | |\n",
      "| | | | | | | | | | | | | | | |Q| | | | |\n",
      "| | | | | | | | | | | |Q| | | | | | | | |\n",
      "| | | | | | | | | | | | | | |Q| | | | | |\n",
      "| | | | | | | | | | | | | | | | |Q| | | |\n",
      "| | | | | | | | | | | | | |Q| | | | | | |\n",
      "| | | | | | | | | | | | | | | | | | | |Q|\n",
      "| | | | | | | | |Q| | | | | | | | | | | |\n",
      "| | | | | | | | | | | | | | | | | | |Q| |\n",
      "| | | | | |Q| | | | | | | | | | | | | | |\n",
      "| | | | | | | | | | | | | | | | | |Q| | |\n",
      "| | | | | | | | | | |Q| | | | | | | | | |\n",
      "| | | | | | | | | | | | |Q| | | | | | | |\n",
      "| | | | | | |Q| | | | | | | | | | | | | |\n",
      "| | | | | | | | | |Q| | | | | | | | | | |\n",
      "| | | | | | | |Q| | | | | | | | | | | | |\n",
      "\n",
      "Solution computed in 0.085886 secs:\n",
      "|Q| | | | | | | | | | | | | | | | | | | |\n",
      "| | | |Q| | | | | | | | | | | | | | | | |\n",
      "| |Q| | | | | | | | | | | | | | | | | | |\n",
      "| | | | |Q| | | | | | | | | | | | | | | |\n",
      "| | |Q| | | | | | | | | | | | | | | | | |\n",
      "| | | | | | | | | | | | | | |Q| | | | | |\n",
      "| | | | | | | | | | | |Q| | | | | | | | |\n",
      "| | | | | | | | | | | | | | | |Q| | | | |\n",
      "| | | | | | | | | | | | |Q| | | | | | | |\n",
      "| | | | | | | | | | | | | | | | | | | |Q|\n",
      "| | | | | | | | | | | | | | | | |Q| | | |\n",
      "| | | | | | | | | | | | | | | | | | |Q| |\n",
      "| | | | | | | | | |Q| | | | | | | | | | |\n",
      "| | | | | |Q| | | | | | | | | | | | | | |\n",
      "| | | | | | | | | | | | | | | | | |Q| | |\n",
      "| | | | | | | | | | |Q| | | | | | | | | |\n",
      "| | | | | | | |Q| | | | | | | | | | | | |\n",
      "| | | | | | | | | | | | | |Q| | | | | | |\n",
      "| | | | | | |Q| | | | | | | | | | | | | |\n",
      "| | | | | | | | |Q| | | | | | | | | | | |\n",
      "\n"
     ]
    }
   ],
   "source": [
    "for i in range(5):\n",
    "    with timing(lambda: next(more_queens)) as (s, start, end):\n",
    "        print(\"Solution computed in {:.5} secs:\\n{}\".format(end-start, pretty(s)))"
   ]
  },
  {
   "cell_type": "markdown",
   "metadata": {},
   "source": [
    "# Polyominoes problem\n",
    "\n",
    "In this section we play with [polyominoes][poly], formalized by prof. [Golomb][golomb]; we arrived here by reading the chapter about backtracking in the volume of Ruskey.\n",
    "\n",
    "Maybe the hardest part is understand how to represent the board and the state (free/occupied) of each cell; moreover, the question about how a shape, and its orientation, is interesting too. We answer to each one:\n",
    "\n",
    "   - a board with $r$ rows and $c$ columns\n",
    "     $$\n",
    "     \\begin{array}{c|c|c|c|c}\n",
    "     0 & r & 2r & \\ldots & (c-1)r \\\\\n",
    "     \\hline\n",
    "     1 & r+1 & 2r+1 & \\ldots & (c-1)r+1 \\\\\n",
    "     \\hline\n",
    "     \\vdots & \\vdots & \\vdots & \\ddots & \\vdots \\\\\n",
    "     \\hline\n",
    "     r-1 & 2r-1 & \\ldots & \\ldots & rc-1\\\\\n",
    "     \\end{array}\n",
    "     $$\n",
    "     is represented by an *integer* with $rc$ bits; this is because we want to use *bit masking* techniques and\n",
    "     it is efficient to find the next *free* cell (using the utility function `low_bit`), which correspond to\n",
    "     the position of the first bit 1 from the right, namely the least significant part.\n",
    "   - a *shape* is a collection of cells, usually sharing an edge pairwise. We choose to represent a shape as a\n",
    "     `lambda` expression, that consumes the *anchor* position as a pair of row and column indices, \n",
    "     and returns a list of\n",
    "     orientations, namely positions coding a possible symmetry, reflection or rotation of the shape; therefore, \n",
    "     each orientation is a sequence of positions too. \n",
    "     \n",
    "     By *anchor* we mean the position in which the top-left cell\n",
    "     of a shape orientation will be placed in the next *free* cell in the board; every orientation should be\n",
    "     relative to the *anchor* provided, here an example, where the *anchor* is _always_ given at position `(r,c)`\n",
    "     \n",
    "                *                     (r-2,c+2)\n",
    "                *   ->                (r-1,c+2)\n",
    "            * * *       (r,c) (r,c+1) (r, c+2)\n",
    "     so the orientation is coded as the iterable `((r,c), (r,c+1), (r-2,c+2), (r-1,c+2), (r, c+2))`; observe how\n",
    "     pair are listed according to the order *top to bottom* and, when rows are exausted, go the the top of the\n",
    "     next column and repeat, so *left to right*. The section about *pentominoes* contains many examples \n",
    "     of shapes coding.\n",
    "\n",
    "The following code implements a *backtracking* function that yields a sequence of tiling of a given board, possibly containing some forbidden cells, according to a set of available shapes.\n",
    "\n",
    "[poly]:https://en.wikipedia.org/wiki/Polyomino\n",
    "[golomb]:https://en.wikipedia.org/wiki/Solomon_W._Golomb"
   ]
  },
  {
   "cell_type": "code",
   "execution_count": 212,
   "metadata": {
    "collapsed": false
   },
   "outputs": [],
   "source": [
    "from collections import namedtuple\n",
    "\n",
    "shape_spec = namedtuple('shape_spec', ['name', 'isomorphisms', 'isos_len'])"
   ]
  },
  {
   "cell_type": "code",
   "execution_count": 213,
   "metadata": {
    "collapsed": true
   },
   "outputs": [],
   "source": [
    "def polyominoes(dim, shapes, availables='ones', max_depth_reached=None, forbidden=[]):\n",
    "    \"\"\"\n",
    "    Returns an iterable of arrangements for the Polyominos problem.\n",
    "    \"\"\"\n",
    "    rows, cols = dim\n",
    "    sol = []\n",
    "    if not availables or availables == 'ones':\n",
    "        availables = [1]*len(shapes) \n",
    "    elif availables == 'inf': \n",
    "        availables = [-1]*len(shapes) # trick: represent ∞ piece availability by decreasing negative numbers\n",
    "    \n",
    "    def place(S, positions):\n",
    "        for r, c in positions:\n",
    "            S = clear_bit(S, r + rows*c)\n",
    "        return S\n",
    "    \n",
    "    def gen(positions, attempts):\n",
    "    \n",
    "        p = low_bit(positions)\n",
    "        \n",
    "        c, r = divmod(p, rows)\n",
    "        \n",
    "        for i, block in enumerate(s(r, c) for s in shapes):\n",
    "            \n",
    "            if not availables[i]: continue\n",
    "            \n",
    "            for j, orientation in enumerate(block):\n",
    "                \n",
    "                if all(0 <= rr < rows and 0 <= cc < cols and is_on(positions, rr + rows*cc) \n",
    "                       for rr, cc in orientation):\n",
    "                    \n",
    "                    fewer_positions = place(positions, orientation)\n",
    "                    \n",
    "                    #__________________________________________________________\n",
    "                    if fewer_positions:\n",
    "                        next_free_col, next_free_row, = divmod(low_bit(fewer_positions), rows)\n",
    "                        if not (is_on(fewer_positions, (next_free_row+1) + rows*next_free_col) or\n",
    "                                is_on(fewer_positions, next_free_row + rows*(next_free_col+1))): \n",
    "                            continue\n",
    "                    #__________________________________________________________\n",
    "                    \n",
    "                    availables[i] -= 1\n",
    "                    sol.append((p, i, j, orientation),)                    \n",
    "                                            \n",
    "                    yield from [sol] if not fewer_positions or not attempts else gen(fewer_positions, attempts-1)\n",
    "                \n",
    "                    sol.pop()\n",
    "                    availables[i] += 1\n",
    "        \n",
    "    return gen(place(set_all(rows*cols), forbidden), max_depth_reached or -1)\n",
    "\n",
    "def pretty(sol, dim, symbols, str_repr=True, axis=False):\n",
    "    from collections import defaultdict\n",
    "    table = defaultdict(lambda: ' ')\n",
    "    for p, i, j, pairs in sol:\n",
    "        for r, c in pairs:\n",
    "            table[r,c] = symbols[i]\n",
    "    \n",
    "    rows, cols = dim    \n",
    "    board = []\n",
    "    \n",
    "    board.append(\"┌\" + (\"─\" * (2*cols + 1)) + (\">\" if axis else \"┐\"))\n",
    "    for r in range(rows): \n",
    "        board.append('│ ' + ' '.join(table[r, c] for c in range(cols)) + ('  ' if axis else ' │'))\n",
    "    board.append(\"v\" + (\" \" * 2*(cols+1))  if axis else \"└\" + (\"─\" * (2*cols + 1)) + \"┘\")\n",
    "    \n",
    "    return '\\n'.join(board) if str_repr else board"
   ]
  },
  {
   "cell_type": "markdown",
   "metadata": {},
   "source": [
    "## Pentominoes\n",
    "\n",
    "The first instance we would like to study are shapes composed of 5 cells, also called [pentominoes][penta]; the next code define all shapes and their orientations: \n",
    "\n",
    "[penta]:https://en.wikipedia.org/wiki/Pentomino"
   ]
  },
  {
   "cell_type": "code",
   "execution_count": 135,
   "metadata": {
    "collapsed": true
   },
   "outputs": [],
   "source": [
    "\"\"\"\n",
    "  *\n",
    "* * *\n",
    "  *\n",
    "\"\"\"\n",
    "X_shape = lambda r, c: [((r, c), (r-1, c+1), (r, c+1), (r+1, c+1), (r, c+2))]\n",
    "\n",
    "\"\"\"\n",
    "*\n",
    "*\n",
    "*\n",
    "*\n",
    "*\n",
    "\n",
    "* * * * *\n",
    "\"\"\"\n",
    "I_shape = lambda r, c: [((r, c), (r+1,c), (r+2,c), (r+3,c), (r+4,c)),\n",
    "                        ((r, c), (r,c+1), (r,c+2), (r,c+3), (r,c+4))]\n",
    "\n",
    "\"\"\"\n",
    "*\n",
    "*\n",
    "* * *\n",
    "\n",
    "* * *\n",
    "    *\n",
    "    *\n",
    "\n",
    "    *\n",
    "    *\n",
    "* * *\n",
    "\n",
    "* * *\n",
    "*\n",
    "*\n",
    "\"\"\"\n",
    "V_shape = lambda r, c: [((r,c), (r+1,c), (r+2,c), (r+2, c+1), (r+2, c+2)),\n",
    "                        ((r,c), (r, c+1), (r,c+2), (r+1, c+2), (r+2, c+2)),\n",
    "                        ((r,c), (r,c+1), (r-2,c+2), (r-1,c+2), (r, c+2)),\n",
    "                        ((r,c), (r+1,c), (r+2,c), (r,c+1), (r, c+2))]\n",
    "\n",
    "\"\"\"\n",
    "* *\n",
    "*\n",
    "* *\n",
    "\n",
    "* * *\n",
    "*   *\n",
    "\n",
    "*   *\n",
    "* * *\n",
    "\n",
    "* *\n",
    "  *\n",
    "* *  \n",
    "\"\"\"\n",
    "U_shape = lambda r, c: [((r,c), (r+1,c), (r+2,c), (r,c+1), (r+2,c+1)),\n",
    "                        ((r,c), (r+1,c), (r, c+1), (r,c+2), (r+1,c+2)),\n",
    "                        ((r,c), (r+1, c), (r+1, c+1), (r, c+2), (r+1, c+2)),\n",
    "                        ((r,c), (r+2, c), (r, c+1), (r+1, c+1), (r+2, c+1)),]\n",
    "\n",
    "\"\"\"\n",
    "*\n",
    "* *\n",
    "  * *\n",
    "  \n",
    "* *\n",
    "  * *\n",
    "    *\n",
    "\n",
    "    *\n",
    "  * *\n",
    "* *\n",
    "\n",
    "  * *\n",
    "* *\n",
    "*\n",
    "\"\"\"\n",
    "W_shape = lambda r, c: [((r,c), (r+1,c), (r+1,c+1), (r+2,c+1), (r+2,c+2)),\n",
    "                        ((r,c), (r,c+1), (r+1,c+1), (r+1,c+2), (r+2,c+2)),\n",
    "                        ((r,c), (r-1,c+1), (r,c+1), (r-2,c+2), (r-1,c+2)),\n",
    "                        ((r,c), (r+1,c), (r-1,c+1), (r,c+1), (r-1,c+2)),]\n",
    "\n",
    "\"\"\"\n",
    "* * *\n",
    "  *\n",
    "  *\n",
    "  \n",
    "*\n",
    "* * *\n",
    "*\n",
    "\n",
    "    *\n",
    "* * *\n",
    "    *\n",
    "\n",
    "  *\n",
    "  *\n",
    "* * *\n",
    "\"\"\"\n",
    "T_shape = lambda r, c: [((r,c), (r,c+1), (r+1,c+1), (r+2,c+1), (r,c+2)),\n",
    "                        ((r,c), (r+1,c), (r+2,c), (r+1,c+1), (r+1,c+2)),\n",
    "                        ((r,c), (r,c+1), (r-1,c+2), (r,c+2), (r+1,c+2)),\n",
    "                        ((r,c), (r-2,c+1), (r-1,c+1), (r,c+1), (r,c+2)),]\n",
    "\n",
    "\"\"\"\n",
    "*\n",
    "* * *\n",
    "    *\n",
    "\n",
    "    *\n",
    "* * *\n",
    "*\n",
    "\n",
    "  * *  \n",
    "  * \n",
    "* *\n",
    "\n",
    "* *\n",
    "  *\n",
    "  * *\n",
    "\"\"\"\n",
    "Z_shape = lambda r, c: [((r,c), (r+1,c), (r+1,c+1), (r+1,c+2), (r+2,c+2)),\n",
    "                        ((r,c), (r+1,c), (r,c+1), (r-1,c+2), (r,c+2)),\n",
    "                        ((r,c), (r-2,c+1), (r-1,c+1), (r,c+1), (r-2,c+2)),\n",
    "                        ((r,c), (r,c+1), (r+1,c+1), (r+2,c+1), (r+2,c+2)),]\n",
    "\n",
    "\"\"\"\n",
    "*\n",
    "* *\n",
    "  *\n",
    "  *\n",
    "  \n",
    "  *\n",
    "* *\n",
    "*\n",
    "*\n",
    "\n",
    "*\n",
    "*\n",
    "* *\n",
    "  *\n",
    "  \n",
    "  *\n",
    "  *\n",
    "* *\n",
    "*\n",
    "\n",
    "  * * *\n",
    "* *\n",
    "\n",
    "* *\n",
    "  * * *\n",
    "\n",
    "* * *\n",
    "    * *\n",
    "\n",
    "    * *\n",
    "* * *\n",
    "\"\"\"\n",
    "N_shape = lambda r, c: [((r,c), (r+1,c), (r+1,c+1), (r+2,c+1), (r+3,c+1)),\n",
    "                        ((r,c), (r+1,c), (r+2,c), (r-1,c+1), (r,c+1)),\n",
    "                        ((r,c), (r+1,c), (r+2,c), (r+2,c+1), (r+3,c+1)),\n",
    "                        ((r,c), (r+1,c), (r-2,c+1), (r-1,c+1), (r,c+1)),\n",
    "                        ((r,c), (r-1,c+1), (r,c+1), (r-1,c+2), (r-1,c+3)),\n",
    "                        ((r,c), (r,c+1), (r+1,c+1), (r+1,c+2), (r+1,c+3)),\n",
    "                        ((r,c), (r,c+1), (r,c+2), (r+1,c+2), (r+1,c+3)),\n",
    "                        ((r,c), (r,c+1), (r-1,c+2), (r,c+2), (r-1,c+3)),]\n",
    "\n",
    "\"\"\"\n",
    "*\n",
    "*\n",
    "*\n",
    "* *\n",
    "  \n",
    "  *\n",
    "  *\n",
    "  *\n",
    "* *\n",
    "\n",
    "* *\n",
    "  *\n",
    "  *\n",
    "  *\n",
    "  \n",
    "* *\n",
    "*\n",
    "*\n",
    "*\n",
    "\n",
    "*\n",
    "* * * *\n",
    "\n",
    "* * * *\n",
    "*\n",
    "\n",
    "      *\n",
    "* * * *\n",
    "\n",
    "* * * *\n",
    "      *\n",
    "\n",
    "\"\"\"\n",
    "L_shape = lambda r, c: [((r,c), (r+1,c), (r+2,c), (r+3,c), (r+3,c+1)),\n",
    "                        ((r,c), (r-3,c+1), (r-2,c+1), (r-1,c+1), (r,c+1)),                        \n",
    "                        ((r,c), (r,c+1), (r+1,c+1), (r+2,c+1), (r+3,c+1)),                        \n",
    "                        ((r,c), (r+1,c), (r+2,c), (r+3,c), (r,c+1)),                        \n",
    "                        ((r,c), (r+1,c), (r+1,c+1), (r+1,c+2), (r+1,c+3)),                        \n",
    "                        ((r,c), (r+1,c), (r,c+1), (r,c+2), (r,c+3)),                        \n",
    "                        ((r,c), (r,c+1), (r,c+2), (r-1,c+3), (r,c+3)),                        \n",
    "                        ((r,c), (r,c+1), (r,c+2), (r,c+3), (r+1,c+3)),]\n",
    "\n",
    "\"\"\"\n",
    "*\n",
    "* *\n",
    "*\n",
    "*\n",
    "\n",
    "*\n",
    "*\n",
    "* *\n",
    "*\n",
    "\n",
    "  *\n",
    "* *\n",
    "  *\n",
    "  *\n",
    "  \n",
    "  *\n",
    "  *\n",
    "* *\n",
    "  *\n",
    "\n",
    "* * * *\n",
    "    *\n",
    "    \n",
    "    *\n",
    "* * * *\n",
    "\n",
    "* * * *\n",
    "  *\n",
    "  \n",
    "  *\n",
    "* * * *    \n",
    "\"\"\"\n",
    "Y_shape = lambda r, c: [((r,c), (r+1,c), (r+2,c), (r+3,c), (r+1,c+1)),\n",
    "                        ((r,c), (r+1,c), (r+2,c), (r+3,c), (r+2,c+1)),                        \n",
    "                        ((r,c), (r-1,c+1), (r,c+1), (r+1,c+1), (r+2,c+1)),                        \n",
    "                        ((r,c), (r-2,c+1), (r-1,c+1), (r,c+1), (r+1,c+1)),                        \n",
    "                        ((r,c), (r,c+1), (r,c+2), (r+1,c+2), (r,c+3)),                        \n",
    "                        ((r,c), (r,c+1), (r-1,c+2), (r,c+2), (r,c+3)),                        \n",
    "                        ((r,c), (r,c+1), (r+1,c+1), (r,c+2), (r,c+3)),                        \n",
    "                        ((r,c), (r-1,c+1), (r,c+1), (r,c+2), (r,c+3)),]\n",
    "\n",
    "\"\"\"\n",
    "*\n",
    "* * *\n",
    "  *\n",
    "  \n",
    "    *\n",
    "* * *\n",
    "  *\n",
    " \n",
    "  *\n",
    "* * *\n",
    "*\n",
    "\n",
    "  *\n",
    "* * *\n",
    "    *\n",
    "  \n",
    "  *\n",
    "  * *\n",
    "* *\n",
    "\n",
    "  *\n",
    "* *\n",
    "  * *\n",
    "  \n",
    "* *\n",
    "  * *\n",
    "  *\n",
    "  \n",
    "  * *\n",
    "* *\n",
    "  *\n",
    "\"\"\"\n",
    "F_shape = lambda r, c: [((r,c), (r+1,c), (r+1,c+1), (r+2,c+1), (r+1,c+2)),\n",
    "                        ((r,c), (r,c+1), (r+1,c+1), (r-1,c+2), (r,c+2)),                        \n",
    "                        ((r,c), (r+1,c), (r-1,c+1), (r,c+1), (r,c+2)),                        \n",
    "                        ((r,c), (r-1,c+1), (r,c+1), (r,c+2), (r+1,c+2)),                                                \n",
    "                        ((r,c), (r-2,c+1), (r-1,c+1), (r,c+1), (r-1,c+2)),                                                \n",
    "                        ((r,c), (r-1,c+1), (r,c+1), (r+1,c+1), (r+1,c+2)),                                                \n",
    "                        ((r,c), (r,c+1), (r+1,c+1), (r+2,c+1), (r+1,c+2)),\n",
    "                        ((r,c), (r-1,c+1), (r,c+1), (r+1,c+1), (r-1,c+2)),]\n",
    "\n",
    "\"\"\"\n",
    "*\n",
    "* *\n",
    "* *\n",
    "\n",
    "  *\n",
    "* *\n",
    "* *\n",
    "\n",
    "  * *\n",
    "* * *\n",
    "\n",
    "* *\n",
    "* * *\n",
    "\n",
    "* * *\n",
    "* *\n",
    "\n",
    "* * *\n",
    "  * *\n",
    "  \n",
    "* *\n",
    "* *\n",
    "*\n",
    "\n",
    "* *\n",
    "* *\n",
    "  *\n",
    "\"\"\"\n",
    "P_shape = lambda r, c: [((r,c), (r+1,c), (r+2,c), (r+1,c+1), (r+2,c+1)),\n",
    "                        ((r,c), (r+1,c), (r-1,c+1), (r,c+1), (r+1,c+1)),                        \n",
    "                        ((r,c), (r-1,c+1), (r,c+1), (r-1,c+2), (r,c+2)),                                                \n",
    "                        ((r,c), (r+1,c), (r,c+1), (r+1,c+1), (r+1,c+2)),                                                \n",
    "                        ((r,c), (r+1,c), (r,c+1), (r+1,c+1), (r,c+2)),                                                  \n",
    "                        ((r,c), (r,c+1), (r+1,c+1), (r,c+2), (r+1,c+2)),                                                \n",
    "                        ((r,c), (r+1,c), (r+2,c), (r,c+1), (r+1,c+1)),                        \n",
    "                        ((r,c), (r+1,c), (r,c+1), (r+1,c+1), (r+2,c+1)),]\n"
   ]
  },
  {
   "cell_type": "markdown",
   "metadata": {},
   "source": [
    "In order to tile a board, we use all of them:"
   ]
  },
  {
   "cell_type": "code",
   "execution_count": 136,
   "metadata": {
    "collapsed": true
   },
   "outputs": [],
   "source": [
    "shapes =  [X_shape, I_shape, V_shape, U_shape, W_shape, T_shape, \n",
    "           Z_shape, N_shape, L_shape, Y_shape, F_shape, P_shape]"
   ]
  },
  {
   "cell_type": "markdown",
   "metadata": {},
   "source": [
    "### Using *one* piece for each shape"
   ]
  },
  {
   "cell_type": "markdown",
   "metadata": {},
   "source": [
    "so, we are now ready to tile a board with 6 rows and 10 columns, where no cell is forbidden and only *one* piece is available for each shape: "
   ]
  },
  {
   "cell_type": "code",
   "execution_count": 137,
   "metadata": {
    "collapsed": true
   },
   "outputs": [],
   "source": [
    "dim = (6,10)\n",
    "polys_sols = polyominoes(dim, shapes, availables='ones', forbidden=[])"
   ]
  },
  {
   "cell_type": "markdown",
   "metadata": {},
   "source": [
    "and pretty print the first 10 solutions:"
   ]
  },
  {
   "cell_type": "code",
   "execution_count": 138,
   "metadata": {
    "collapsed": false
   },
   "outputs": [
    {
     "name": "stdout",
     "output_type": "stream",
     "text": [
      "1-st solution computed in 0.0345 secs:\n",
      "┌─────────────────────┐\n",
      "│ β δ δ δ ε ε ι ι ι ι │\n",
      "│ β δ θ δ α ε ε λ λ ι │\n",
      "│ β θ θ α α α ε η λ λ │\n",
      "│ β θ γ μ α η η η λ ζ │\n",
      "│ β θ γ μ μ η κ ζ ζ ζ │\n",
      "│ γ γ γ μ μ κ κ κ κ ζ │\n",
      "└─────────────────────┘\n",
      "2-sn solution computed in 0.31 secs:\n",
      "┌─────────────────────┐\n",
      "│ β δ δ δ η η α ζ ζ ζ │\n",
      "│ β δ θ δ η α α α ζ κ │\n",
      "│ β θ θ η η λ α ε ζ κ │\n",
      "│ β θ γ λ λ λ ε ε κ κ │\n",
      "│ β θ γ ι λ ε ε μ μ κ │\n",
      "│ γ γ γ ι ι ι ι μ μ μ │\n",
      "└─────────────────────┘\n",
      "3-rd solution computed in 0.00676 secs:\n",
      "┌─────────────────────┐\n",
      "│ β δ δ δ η η ι ι ι ι │\n",
      "│ β δ θ δ η ε ε λ λ ι │\n",
      "│ β θ θ η η α ε ε λ λ │\n",
      "│ β θ γ μ α α α ε λ ζ │\n",
      "│ β θ γ μ μ α κ ζ ζ ζ │\n",
      "│ γ γ γ μ μ κ κ κ κ ζ │\n",
      "└─────────────────────┘\n",
      "4-th solution computed in 0.799 secs:\n",
      "┌─────────────────────┐\n",
      "│ β ε ε ζ ζ ζ ι ι ι ι │\n",
      "│ β κ ε ε ζ λ θ θ θ ι │\n",
      "│ β κ κ ε ζ λ λ λ θ θ │\n",
      "│ β κ γ δ δ α λ η η μ │\n",
      "│ β κ γ δ α α α η μ μ │\n",
      "│ γ γ γ δ δ α η η μ μ │\n",
      "└─────────────────────┘\n",
      "5-th solution computed in 0.223 secs:\n",
      "┌─────────────────────┐\n",
      "│ β ε ε ζ ζ ζ ι ι ι ι │\n",
      "│ β κ ε ε ζ λ θ θ θ ι │\n",
      "│ β κ κ ε ζ λ λ λ θ θ │\n",
      "│ β κ γ μ η η λ α δ δ │\n",
      "│ β κ γ μ μ η α α α δ │\n",
      "│ γ γ γ μ μ η η α δ δ │\n",
      "└─────────────────────┘\n",
      "6-th solution computed in 0.552 secs:\n",
      "┌─────────────────────┐\n",
      "│ β ε ε μ μ μ ζ δ δ δ │\n",
      "│ β κ ε ε μ μ ζ δ θ δ │\n",
      "│ β κ κ ε α ζ ζ ζ θ θ │\n",
      "│ β κ γ α α α λ η η θ │\n",
      "│ β κ γ ι α λ λ λ η θ │\n",
      "│ γ γ γ ι ι ι ι λ η η │\n",
      "└─────────────────────┘\n",
      "7-th solution computed in 0.154 secs:\n",
      "┌─────────────────────┐\n",
      "│ β θ θ θ ε ε η η μ μ │\n",
      "│ β ι ι θ θ ε ε η μ μ │\n",
      "│ β ι ζ ζ ζ λ ε η η μ │\n",
      "│ β ι γ ζ λ λ λ α δ δ │\n",
      "│ β ι γ ζ λ κ α α α δ │\n",
      "│ γ γ γ κ κ κ κ α δ δ │\n",
      "└─────────────────────┘\n",
      "8-th solution computed in 0.333 secs:\n",
      "┌─────────────────────┐\n",
      "│ β ι ι ι ι η κ κ κ κ │\n",
      "│ β ι θ η η η λ λ κ ζ │\n",
      "│ β θ θ η α λ λ ζ ζ ζ │\n",
      "│ β θ γ α α α λ ε ε ζ │\n",
      "│ β θ γ δ α δ ε ε μ μ │\n",
      "│ γ γ γ δ δ δ ε μ μ μ │\n",
      "└─────────────────────┘\n",
      "9-th solution computed in 0.00067 secs:\n",
      "┌─────────────────────┐\n",
      "│ β ι ι ι ι η κ κ κ κ │\n",
      "│ β ι θ η η η λ λ κ ζ │\n",
      "│ β θ θ η α λ λ ζ ζ ζ │\n",
      "│ β θ γ α α α λ ε ε ζ │\n",
      "│ β θ γ δ α δ μ μ ε ε │\n",
      "│ γ γ γ δ δ δ μ μ μ ε │\n",
      "└─────────────────────┘\n",
      "10-th solution computed in 0.418 secs:\n",
      "┌─────────────────────┐\n",
      "│ β ι ι ι ι ε ε ζ ζ ζ │\n",
      "│ β κ η η ι α ε ε ζ θ │\n",
      "│ β κ κ η α α α ε ζ θ │\n",
      "│ β κ γ η η α λ λ θ θ │\n",
      "│ β κ γ μ μ λ λ δ θ δ │\n",
      "│ γ γ γ μ μ μ λ δ δ δ │\n",
      "└─────────────────────┘\n"
     ]
    }
   ],
   "source": [
    "for i in range(10):\n",
    "    with timing(lambda: next(polys_sols)) as (s, start, end):\n",
    "        t = (end - start, 'secs')\n",
    "        t = (t[0] / 60, 'mins') if t[0] > 59 else t\n",
    "        t = (t[0] / 60, 'hours') if t[0] > 59 else t\n",
    "        o = \"st\" if not i else \"sn\"\n",
    "        print(\"{}-{} solution computed in {:.3} {}:\\n{}\".format(i+1, o if i < 2 else (\"rd\" if i == 2 else \"th\"), \n",
    "                                                                *t, pretty(s, dim, lower_greek_symbols())))"
   ]
  },
  {
   "cell_type": "markdown",
   "metadata": {},
   "source": [
    "Moreover, it is possible to count all solutions, namely tilings, with the following code:"
   ]
  },
  {
   "cell_type": "code",
   "execution_count": null,
   "metadata": {
    "collapsed": true
   },
   "outputs": [],
   "source": [
    "with timing(lambda: len(list(polys_sols))) as (t, start, end):\n",
    "    print(\"{} sols in {} secs\".format(t, end-start))"
   ]
  },
  {
   "cell_type": "markdown",
   "metadata": {},
   "source": [
    "### With *forbidden* cells and (not so) many pieces for each shape"
   ]
  },
  {
   "cell_type": "markdown",
   "metadata": {},
   "source": [
    "On the other hand, the following is another board with some forbidden cells and 3 pieces for each shape are available:"
   ]
  },
  {
   "cell_type": "code",
   "execution_count": 139,
   "metadata": {
    "collapsed": false
   },
   "outputs": [],
   "source": [
    "dim = (6,10)\n",
    "polys_sols = polyominoes(dim, shapes, availables=[3]*len(shapes), \n",
    "                         forbidden=[(0,0), (1,0), (2,0), (3,0), (4,0), \n",
    "                                    (1,9),(2,9),(3,9),(4,9), (5,9),\n",
    "                                    (1,5), (2, 4), (2, 5), (3, 4), (3,5)])"
   ]
  },
  {
   "cell_type": "markdown",
   "metadata": {},
   "source": [
    "and pretty print the first 10 solutions:"
   ]
  },
  {
   "cell_type": "code",
   "execution_count": 140,
   "metadata": {
    "collapsed": false
   },
   "outputs": [
    {
     "name": "stdout",
     "output_type": "stream",
     "text": [
      "1-st solution computed in 0.0106 secs:\n",
      "┌─────────────────────┐\n",
      "│   β β ι ι ι ι μ μ μ │\n",
      "│   β β ι ι   ι μ μ   │\n",
      "│   β β ι     γ ι ι   │\n",
      "│   β β ι     γ γ ι   │\n",
      "│   β β ι γ γ γ γ ι   │\n",
      "│ β β β β β γ γ γ ι   │\n",
      "└─────────────────────┘\n",
      "2-sn solution computed in 0.0083 secs:\n",
      "┌─────────────────────┐\n",
      "│   β β ι ι ι ι γ γ γ │\n",
      "│   β β ι ι   ι γ θ   │\n",
      "│   β β ι     γ γ θ   │\n",
      "│   β β ι     γ θ θ   │\n",
      "│   β β ι γ γ γ θ ι   │\n",
      "│ β β β β β ι ι ι ι   │\n",
      "└─────────────────────┘\n",
      "3-rd solution computed in 0.00132 secs:\n",
      "┌─────────────────────┐\n",
      "│   β β ι ι ι ι ζ ζ ζ │\n",
      "│   β β ι ι   ι κ ζ   │\n",
      "│   β β ι     γ κ ζ   │\n",
      "│   β β ι     γ κ κ   │\n",
      "│   β β ι γ γ γ κ ι   │\n",
      "│ β β β β β ι ι ι ι   │\n",
      "└─────────────────────┘\n",
      "4-th solution computed in 0.00249 secs:\n",
      "┌─────────────────────┐\n",
      "│   β β ι ι ι ι μ μ μ │\n",
      "│   β β ι ι   ι μ μ   │\n",
      "│   β β ι     γ μ μ   │\n",
      "│   β β ι     γ μ μ   │\n",
      "│   β β ι γ γ γ μ ι   │\n",
      "│ β β β β β ι ι ι ι   │\n",
      "└─────────────────────┘\n",
      "5-th solution computed in 0.00119 secs:\n",
      "┌─────────────────────┐\n",
      "│   β β ι ι ι ι γ γ γ │\n",
      "│   β β ι ι   ι γ κ   │\n",
      "│   β β ι     γ γ κ   │\n",
      "│   β β ι     γ κ κ   │\n",
      "│   β β ι γ γ γ κ κ   │\n",
      "│ β β β β β κ κ κ κ   │\n",
      "└─────────────────────┘\n",
      "6-th solution computed in 0.00109 secs:\n",
      "┌─────────────────────┐\n",
      "│   β β ι ι ι ι ζ ζ ζ │\n",
      "│   β β ι ι   ι θ ζ   │\n",
      "│   β β ι     γ θ ζ   │\n",
      "│   β β ι     γ θ θ   │\n",
      "│   β β ι γ γ γ κ θ   │\n",
      "│ β β β β β κ κ κ κ   │\n",
      "└─────────────────────┘\n",
      "7-th solution computed in 0.00369 secs:\n",
      "┌─────────────────────┐\n",
      "│   β β ι ι ι ι μ μ μ │\n",
      "│   β β ι ι   ι μ μ   │\n",
      "│   β β ι     γ μ μ   │\n",
      "│   β β ι     γ μ μ   │\n",
      "│   β β ι γ γ γ κ μ   │\n",
      "│ β β β β β κ κ κ κ   │\n",
      "└─────────────────────┘\n",
      "8-th solution computed in 0.0176 secs:\n",
      "┌─────────────────────┐\n",
      "│   β β ι ι ι ι μ μ μ │\n",
      "│   β β ι ι   ι μ μ   │\n",
      "│   β β ι     γ γ γ   │\n",
      "│   β β ι     γ μ μ   │\n",
      "│   β β ι θ θ γ μ μ   │\n",
      "│ β β β β β θ θ θ μ   │\n",
      "└─────────────────────┘\n",
      "9-th solution computed in 0.00203 secs:\n",
      "┌─────────────────────┐\n",
      "│   β β ι ι ι ι μ μ μ │\n",
      "│   β β ι ι   ι μ μ   │\n",
      "│   β β ι     δ δ κ   │\n",
      "│   β β ι     δ κ κ   │\n",
      "│   β β ι θ θ δ δ κ   │\n",
      "│ β β β β β θ θ θ κ   │\n",
      "└─────────────────────┘\n",
      "10-th solution computed in 0.00109 secs:\n",
      "┌─────────────────────┐\n",
      "│   β β ι ι ι ι μ μ μ │\n",
      "│   β β ι ι   ι μ μ   │\n",
      "│   β β ι     δ δ δ   │\n",
      "│   β β ι     δ λ δ   │\n",
      "│   β β ι θ θ λ λ λ   │\n",
      "│ β β β β β θ θ θ λ   │\n",
      "└─────────────────────┘\n"
     ]
    }
   ],
   "source": [
    "for i in range(10):\n",
    "    with timing(lambda: next(polys_sols)) as (s, start, end):\n",
    "        t = (end - start, 'secs')\n",
    "        t = (t[0] / 60, 'mins') if t[0] > 59 else t\n",
    "        t = (t[0] / 60, 'hours') if t[0] > 59 else t\n",
    "        o = \"st\" if not i else \"sn\"\n",
    "        print(\"{}-{} solution computed in {:.3} {}:\\n{}\".format(i+1, o if i < 2 else (\"rd\" if i == 2 else \"th\"), \n",
    "                                                                *t, pretty(s, dim, lower_greek_symbols())))"
   ]
  },
  {
   "cell_type": "markdown",
   "metadata": {},
   "source": [
    "Moreover, I've found a board configuration, where cells located at $(1,1)$ and $(4,8)$ are forbidden, such that it takes very long to be tiled, eventually I stopped the search each time, even if *infinitely many* pieces for each shape are available. I believe that even if we use *randomization* at shape/orientation selection time wouldn't help to shrink the complexity. "
   ]
  },
  {
   "cell_type": "markdown",
   "metadata": {},
   "source": [
    "### Polyomino's order\n",
    "\n",
    "Again, in the exercise **7 in Chapter 3**, Ruskey asks to find the *order* of some polyomino. Here's the definition:\n",
    "\n",
    ">Define the order of a polyomino $P$ to be the smallest number of copies of $P$ that\n",
    "will fit perfectly into a rectangle, where rotations and reflections of $P$ are allowed.\n",
    "\n",
    "We reproduce the tiling using the `Y` polyomino and we check that its order is actually 10; in order to show the tiling we given 10 copies of the `Y` shape, each one with one piece available:"
   ]
  },
  {
   "cell_type": "code",
   "execution_count": 141,
   "metadata": {
    "collapsed": false
   },
   "outputs": [],
   "source": [
    "dim = (5,10)\n",
    "polys_sols = polyominoes(dim, [Y_shape ]*10, availables='ones', forbidden=[])"
   ]
  },
  {
   "cell_type": "markdown",
   "metadata": {},
   "source": [
    "there are many way to tile the board, here there are the first three:"
   ]
  },
  {
   "cell_type": "code",
   "execution_count": 142,
   "metadata": {
    "collapsed": false
   },
   "outputs": [
    {
     "name": "stdout",
     "output_type": "stream",
     "text": [
      "1-st solution computed in 0.0761 secs, using 10 Y polyominoes:\n",
      "┌─────────────────────┐\n",
      "│ α γ γ γ γ ζ ι ι ι ι │\n",
      "│ α α δ γ ζ ζ ζ ζ ι κ │\n",
      "│ α δ δ δ δ η η η η κ │\n",
      "│ α β ε ε ε ε θ η κ κ │\n",
      "│ β β β β ε θ θ θ θ κ │\n",
      "└─────────────────────┘\n",
      "2-sn solution computed in 0.000127 secs, using 10 Y polyominoes:\n",
      "┌─────────────────────┐\n",
      "│ α γ γ γ γ ζ κ κ κ κ │\n",
      "│ α α δ γ ζ ζ ζ ζ κ ι │\n",
      "│ α δ δ δ δ η η η η ι │\n",
      "│ α β ε ε ε ε θ η ι ι │\n",
      "│ β β β β ε θ θ θ θ ι │\n",
      "└─────────────────────┘\n",
      "3-rd solution computed in 0.000229 secs, using 10 Y polyominoes:\n",
      "┌─────────────────────┐\n",
      "│ α γ γ γ γ ζ θ θ θ θ │\n",
      "│ α α δ γ ζ ζ ζ ζ θ κ │\n",
      "│ α δ δ δ δ η η η η κ │\n",
      "│ α β ε ε ε ε ι η κ κ │\n",
      "│ β β β β ε ι ι ι ι κ │\n",
      "└─────────────────────┘\n"
     ]
    }
   ],
   "source": [
    "for i in range(3):\n",
    "    with timing(lambda: next(polys_sols)) as (s, start, end):\n",
    "        t = (end - start, 'secs')\n",
    "        t = (t[0] / 60, 'mins') if t[0] > 59 else t\n",
    "        t = (t[0] / 60, 'hours') if t[0] > 59 else t\n",
    "        o = \"st\" if not i else \"sn\"\n",
    "        print(\"{}-{} solution computed in {:.3} {}, using {} Y polyominoes:\\n{}\".format(\n",
    "                i+1, o if i < 2 else (\"rd\" if i == 2 else \"th\"),\n",
    "                *t, len(s), pretty(s, dim, lower_greek_symbols())))"
   ]
  },
  {
   "cell_type": "markdown",
   "metadata": {},
   "source": [
    "## Fibonacci tilings\n",
    "\n",
    "It is interesting to way we define shape because allows us to build shapes composed of a *different* number of cells. In the following cell we define two shapes that resembles a *Fibonacci* schema:"
   ]
  },
  {
   "cell_type": "code",
   "execution_count": 16,
   "metadata": {
    "collapsed": true
   },
   "outputs": [],
   "source": [
    "\"\"\"\n",
    "*\n",
    "\"\"\"\n",
    "square_shape = lambda r, c: [((r, c),)]\n",
    "\n",
    "\"\"\"\n",
    "* *\n",
    "\n",
    "*\n",
    "*\n",
    "\"\"\"\n",
    "domino_shape = lambda r, c: [((r, c), (r, c+1)),\n",
    "                             ((r, c), (r+1, c))]"
   ]
  },
  {
   "cell_type": "markdown",
   "metadata": {},
   "source": [
    "collect them together:"
   ]
  },
  {
   "cell_type": "code",
   "execution_count": 17,
   "metadata": {
    "collapsed": true
   },
   "outputs": [],
   "source": [
    "fibonacci_shapes = [square_shape, domino_shape]"
   ]
  },
  {
   "cell_type": "markdown",
   "metadata": {},
   "source": [
    "and use an infinite copy of pieces for each shape to tile a strip with 12 columns:"
   ]
  },
  {
   "cell_type": "code",
   "execution_count": 18,
   "metadata": {
    "collapsed": true
   },
   "outputs": [],
   "source": [
    "dim = (1,12)\n",
    "fibonacci_sols = polyominoes(dim, fibonacci_shapes, availables='inf', forbidden=[])"
   ]
  },
  {
   "cell_type": "markdown",
   "metadata": {},
   "source": [
    "as the theory confirms, there are 233 way to tile such strip:"
   ]
  },
  {
   "cell_type": "code",
   "execution_count": 19,
   "metadata": {
    "collapsed": false
   },
   "outputs": [
    {
     "name": "stdout",
     "output_type": "stream",
     "text": [
      "233 sols in 0.013747930526733398 secs\n"
     ]
    }
   ],
   "source": [
    "with timing(lambda: len(list(fibonacci_sols))) as (t, start, end):\n",
    "    print(\"{} sols in {} secs\".format(t, end-start))"
   ]
  },
  {
   "cell_type": "markdown",
   "metadata": {},
   "source": [
    "To see the pattern, we can tile a greater board:"
   ]
  },
  {
   "cell_type": "code",
   "execution_count": 20,
   "metadata": {
    "collapsed": true
   },
   "outputs": [],
   "source": [
    "dim = (3,50)\n",
    "fibonacci_sols = polyominoes(dim, fibonacci_shapes, availables='inf', forbidden=[])"
   ]
  },
  {
   "cell_type": "markdown",
   "metadata": {},
   "source": [
    "and pretty print the first 10 solutions (not really interesting, though! many $\\alpha$ symbols...maybe we could *randomize* the generator...)"
   ]
  },
  {
   "cell_type": "code",
   "execution_count": 21,
   "metadata": {
    "collapsed": false
   },
   "outputs": [
    {
     "name": "stdout",
     "output_type": "stream",
     "text": [
      "1-st solution computed in 0.00291 secs:\n",
      "┌─────────────────────────────────────────────────────────────────────────────────────────────────────┐\n",
      "│ α α α α α α α α α α α α α α α α α α α α α α α α α α α α α α α α α α α α α α α α α α α α α α α α α α │\n",
      "│ α α α α α α α α α α α α α α α α α α α α α α α α α α α α α α α α α α α α α α α α α α α α α α α α α α │\n",
      "│ α α α α α α α α α α α α α α α α α α α α α α α α α α α α α α α α α α α α α α α α α α α α α α α α α α │\n",
      "└─────────────────────────────────────────────────────────────────────────────────────────────────────┘\n",
      "2-sn solution computed in 8.63e-05 secs:\n",
      "┌─────────────────────────────────────────────────────────────────────────────────────────────────────┐\n",
      "│ α α α α α α α α α α α α α α α α α α α α α α α α α α α α α α α α α α α α α α α α α α α α α α α α α α │\n",
      "│ α α α α α α α α α α α α α α α α α α α α α α α α α α α α α α α α α α α α α α α α α α α α α α α α α β │\n",
      "│ α α α α α α α α α α α α α α α α α α α α α α α α α α α α α α α α α α α α α α α α α α α α α α α α α β │\n",
      "└─────────────────────────────────────────────────────────────────────────────────────────────────────┘\n",
      "3-rd solution computed in 8.13e-05 secs:\n",
      "┌─────────────────────────────────────────────────────────────────────────────────────────────────────┐\n",
      "│ α α α α α α α α α α α α α α α α α α α α α α α α α α α α α α α α α α α α α α α α α α α α α α α α α β │\n",
      "│ α α α α α α α α α α α α α α α α α α α α α α α α α α α α α α α α α α α α α α α α α α α α α α α α α β │\n",
      "│ α α α α α α α α α α α α α α α α α α α α α α α α α α α α α α α α α α α α α α α α α α α α α α α α α α │\n",
      "└─────────────────────────────────────────────────────────────────────────────────────────────────────┘\n",
      "4-th solution computed in 9.82e-05 secs:\n",
      "┌─────────────────────────────────────────────────────────────────────────────────────────────────────┐\n",
      "│ α α α α α α α α α α α α α α α α α α α α α α α α α α α α α α α α α α α α α α α α α α α α α α α α α α │\n",
      "│ α α α α α α α α α α α α α α α α α α α α α α α α α α α α α α α α α α α α α α α α α α α α α α α α α α │\n",
      "│ α α α α α α α α α α α α α α α α α α α α α α α α α α α α α α α α α α α α α α α α α α α α α α α α β β │\n",
      "└─────────────────────────────────────────────────────────────────────────────────────────────────────┘\n",
      "5-th solution computed in 7.13e-05 secs:\n",
      "┌─────────────────────────────────────────────────────────────────────────────────────────────────────┐\n",
      "│ α α α α α α α α α α α α α α α α α α α α α α α α α α α α α α α α α α α α α α α α α α α α α α α α α β │\n",
      "│ α α α α α α α α α α α α α α α α α α α α α α α α α α α α α α α α α α α α α α α α α α α α α α α α α β │\n",
      "│ α α α α α α α α α α α α α α α α α α α α α α α α α α α α α α α α α α α α α α α α α α α α α α α α β β │\n",
      "└─────────────────────────────────────────────────────────────────────────────────────────────────────┘\n",
      "6-th solution computed in 0.000103 secs:\n",
      "┌─────────────────────────────────────────────────────────────────────────────────────────────────────┐\n",
      "│ α α α α α α α α α α α α α α α α α α α α α α α α α α α α α α α α α α α α α α α α α α α α α α α α α α │\n",
      "│ α α α α α α α α α α α α α α α α α α α α α α α α α α α α α α α α α α α α α α α α α α α α α α α α β β │\n",
      "│ α α α α α α α α α α α α α α α α α α α α α α α α α α α α α α α α α α α α α α α α α α α α α α α α α α │\n",
      "└─────────────────────────────────────────────────────────────────────────────────────────────────────┘\n",
      "7-th solution computed in 9.44e-05 secs:\n",
      "┌─────────────────────────────────────────────────────────────────────────────────────────────────────┐\n",
      "│ α α α α α α α α α α α α α α α α α α α α α α α α α α α α α α α α α α α α α α α α α α α α α α α α α α │\n",
      "│ α α α α α α α α α α α α α α α α α α α α α α α α α α α α α α α α α α α α α α α α α α α α α α α α β β │\n",
      "│ α α α α α α α α α α α α α α α α α α α α α α α α α α α α α α α α α α α α α α α α α α α α α α α α β β │\n",
      "└─────────────────────────────────────────────────────────────────────────────────────────────────────┘\n",
      "8-th solution computed in 0.000117 secs:\n",
      "┌─────────────────────────────────────────────────────────────────────────────────────────────────────┐\n",
      "│ α α α α α α α α α α α α α α α α α α α α α α α α α α α α α α α α α α α α α α α α α α α α α α α α α α │\n",
      "│ α α α α α α α α α α α α α α α α α α α α α α α α α α α α α α α α α α α α α α α α α α α α α α α α β α │\n",
      "│ α α α α α α α α α α α α α α α α α α α α α α α α α α α α α α α α α α α α α α α α α α α α α α α α β α │\n",
      "└─────────────────────────────────────────────────────────────────────────────────────────────────────┘\n",
      "9-th solution computed in 6.99e-05 secs:\n",
      "┌─────────────────────────────────────────────────────────────────────────────────────────────────────┐\n",
      "│ α α α α α α α α α α α α α α α α α α α α α α α α α α α α α α α α α α α α α α α α α α α α α α α α α α │\n",
      "│ α α α α α α α α α α α α α α α α α α α α α α α α α α α α α α α α α α α α α α α α α α α α α α α α β β │\n",
      "│ α α α α α α α α α α α α α α α α α α α α α α α α α α α α α α α α α α α α α α α α α α α α α α α α β β │\n",
      "└─────────────────────────────────────────────────────────────────────────────────────────────────────┘\n",
      "10-th solution computed in 7.15e-05 secs:\n",
      "┌─────────────────────────────────────────────────────────────────────────────────────────────────────┐\n",
      "│ α α α α α α α α α α α α α α α α α α α α α α α α α α α α α α α α α α α α α α α α α α α α α α α α α β │\n",
      "│ α α α α α α α α α α α α α α α α α α α α α α α α α α α α α α α α α α α α α α α α α α α α α α α α β β │\n",
      "│ α α α α α α α α α α α α α α α α α α α α α α α α α α α α α α α α α α α α α α α α α α α α α α α α β α │\n",
      "└─────────────────────────────────────────────────────────────────────────────────────────────────────┘\n"
     ]
    }
   ],
   "source": [
    "for i in range(10):\n",
    "    with timing(lambda: next(fibonacci_sols)) as (s, start, end):\n",
    "        t = (end - start, 'secs')\n",
    "        t = (t[0] / 60, 'mins') if t[0] > 59 else t\n",
    "        t = (t[0] / 60, 'hours') if t[0] > 59 else t\n",
    "        o = \"st\" if not i else \"sn\"\n",
    "        print(\"{}-{} solution computed in {:.3} {}:\\n{}\".format(i+1, o if i < 2 else (\"rd\" if i == 2 else \"th\"), \n",
    "                                                                *t, pretty(s, dim, lower_greek_symbols())))"
   ]
  },
  {
   "cell_type": "markdown",
   "metadata": {},
   "source": [
    "# Parallelogram Polyominoes"
   ]
  },
  {
   "cell_type": "code",
   "execution_count": 198,
   "metadata": {
    "collapsed": false
   },
   "outputs": [],
   "source": [
    "def parallelogram_polyominoes(sp):\n",
    "    \"\"\"\n",
    "    Returns the set of shapes denoting all *parallelogram polyominoes* of semiperimeter `sp`.\n",
    "    \n",
    "    The relation to the main problem is $sp = n + 2$, where the board edge is $2^{n}$.\n",
    "    \"\"\"\n",
    "    \n",
    "    import itertools\n",
    "    \n",
    "    steps = [(1,0),  # go to cell below\n",
    "             (0,1),] # go to cell on the right\n",
    "    \n",
    "    # we assume the canonical ordering inside a board, namely ascending\n",
    "    # order from top to bottom, and from left to right, as in cells above.\n",
    "    \n",
    "    # first of all build Catalan paths that have no intersection point,\n",
    "    # using only vertical and horizontal steps (here we do not distinguish\n",
    "    # among upward/downward vertical steps, what is important is to remain\n",
    "    # consistent to board ordering).\n",
    "    \n",
    "    initial_prefix = [(0,0)] # always start placing cell at anchor coordinate (r, c)\n",
    "    prefixes = {tuple(initial_prefix)}\n",
    "\n",
    "    candidates = set()\n",
    "    \n",
    "    n = sp - 2\n",
    "    \n",
    "    while prefixes:\n",
    "        \n",
    "        prefix = prefixes.pop()\n",
    "        \n",
    "        if len(prefix) > n: \n",
    "            candidates.add(prefix)\n",
    "            continue\n",
    "        \n",
    "        last_row_offset, last_col_offset = prefix[-1]\n",
    "        dominating_prefixes = [(last_row_offset + ro, last_col_offset + co) for ro, co in steps]\n",
    "        dominated_prefixes = [(last_row_offset + ro, last_col_offset + co) for ro, co in steps]\n",
    "        for sub, dom in [(sub,dom) for sub, dom in zip(dominated_prefixes, dominating_prefixes) if sub <= dom]:\n",
    "            prefixes.add(prefix + (sub,))\n",
    "            prefixes.add(prefix + (dom,))\n",
    "    \n",
    "    parallelograms = {(tuple(dom), tuple(sub)) for sub, dom in itertools.product(candidates, repeat=2) \n",
    "                      if sub[-1] == dom[-1]}\n",
    "    \n",
    "    polyominoes = {frozenset(fst) | frozenset(snd) for fst, snd in parallelograms}\n",
    "    \n",
    "    def fill(polyomino):\n",
    "        r_max, c_max = max(r for r,_ in polyomino), max(c for _,c in polyomino)\n",
    "        filled = set()\n",
    "        for coord in itertools.product(range(1, r_max), range(1, c_max)):\n",
    "            \n",
    "            if coord in polyomino: continue\n",
    "            \n",
    "            row = [(rr, cc) for rr, cc in polyomino if coord[0] == rr]\n",
    "            column = [(rr, cc) for rr, cc in polyomino if coord[1] == cc]\n",
    "        \n",
    "            if (min(column, default=coord) < coord < max(column, default=coord) and\n",
    "                min(row, default=coord) < coord < max(row, default=coord)):\n",
    "        \n",
    "                filled.add(coord)\n",
    "                #print(\"filled: \", polyomino, polyomino | filled)\n",
    "                \n",
    "        return polyomino | filled\n",
    "    \n",
    "    return {fill(p) for p in polyominoes}\n",
    "        "
   ]
  },
  {
   "cell_type": "markdown",
   "metadata": {},
   "source": [
    "### *Isomorphisms*: mirrors and rotations"
   ]
  },
  {
   "cell_type": "code",
   "execution_count": 199,
   "metadata": {
    "collapsed": true
   },
   "outputs": [],
   "source": [
    "\n",
    "def rotate_clockwise(shape):\n",
    "    \"\"\"\n",
    "    Returns a shape rotated clockwise by π/2 radians.\n",
    "    \"\"\"\n",
    "    clockwise = [(c, -r) for r, c in shape] # by matrix multiplication for rotations\n",
    "    #print(clockwise)\n",
    "    co, ro = min((c, r) for r, c in clockwise)\n",
    "    #print(ro, co)\n",
    "    return frozenset((r-ro, c-co) for r, c in clockwise)\n",
    "\n",
    "def rotate_clockwise_isomorphisms(isos):\n",
    "    \n",
    "    rotations = set()\n",
    "    \n",
    "    for i in isos:\n",
    "        rotating = i\n",
    "        \n",
    "        rotating = rotate_clockwise(rotating)\n",
    "        rotations.add(rotating)\n",
    "        \n",
    "        rotating = rotate_clockwise(rotating)\n",
    "        rotations.add(rotating)\n",
    "        \n",
    "        rotating = rotate_clockwise(rotating)\n",
    "        rotations.add(rotating)\n",
    "        \n",
    "    #print(isos | frozenset(rotations))\n",
    "    return isos | rotations\n",
    "\n",
    "#______________________________________________________________________________\n",
    "\n",
    "def vertical_mirror(shape):\n",
    "    m = max([c for r, c in shape])\n",
    "    return frozenset((r, m-c) for r, c in shape)\n",
    "\n",
    "def vertical_isomorphism(isos):\n",
    "    return isos | frozenset(vertical_mirror(i) for i in isos)\n",
    "\n",
    "#______________________________________________________________________________\n",
    "\n",
    "def make_shapes(primitive_polyos, isomorphisms=lambda isos: isos):\n",
    "    \n",
    "    def o(isos):\n",
    "        return lambda r, c: [ [(r+ro, c+co) for ro, co in i] for i in isos]\n",
    "    \n",
    "    return [o(isomorphisms({p})) for p in primitive_polyos]\n"
   ]
  },
  {
   "cell_type": "markdown",
   "metadata": {},
   "source": [
    "Sandbox to test:"
   ]
  },
  {
   "cell_type": "code",
   "execution_count": 200,
   "metadata": {
    "collapsed": false
   },
   "outputs": [
    {
     "name": "stdout",
     "output_type": "stream",
     "text": [
      "frozenset({(1, 2), (1, 0), (1, 3), (1, 1), (0, 0)})\n",
      "frozenset({(3, 0), (2, 0), (1, 0), (0, 0), (0, 1)})\n",
      "frozenset({(0, 1), (0, 3), (0, 0), (0, 2), (1, 3)})\n",
      "frozenset({(0, 1), (-3, 1), (-2, 1), (0, 0), (-1, 1)})\n"
     ]
    }
   ],
   "source": [
    "c = frozenset({(0,0), (1,0), (1,1), (1,2), (1,3)})\n",
    "print(c)\n",
    "c = rotate_clockwise(c)\n",
    "print(c)\n",
    "c = rotate_clockwise(c)\n",
    "print(c)\n",
    "c = rotate_clockwise(c)\n",
    "print(c)"
   ]
  },
  {
   "cell_type": "markdown",
   "metadata": {},
   "source": [
    "### A *prettypretty*-printer (`pprinter`) and a problem describer"
   ]
  },
  {
   "cell_type": "code",
   "execution_count": 201,
   "metadata": {
    "collapsed": false
   },
   "outputs": [],
   "source": [
    "def ppretty(sol, dim, symbols, missing_symbol='●'):\n",
    "    \n",
    "    from string import whitespace\n",
    "    \n",
    "    table = {}\n",
    "    for p, i, j, pairs in sol:\n",
    "        for r, c in pairs:\n",
    "            table[r,c] = str(i) #symbols[i]\n",
    "    \n",
    "    # box symbols: ─ │ ├ ┤ ┬ ┴ ┼ ┌ ┐ └ ┘\n",
    "    \n",
    "    rows, cols = dim\n",
    "    \n",
    "    matrix = []\n",
    "    matrix.append(' ' + ' '.join(['_' if (0, c) in table else ' ' for c in range(cols)]))\n",
    "    \n",
    "    for r in range(rows): \n",
    "        row = '|'\n",
    "        for c in range(cols):\n",
    "            \n",
    "            if (r, c) not in table:\n",
    "                row += missing_symbol + ('|' if (r, c+1) in table else ' ')\n",
    "            else:\n",
    "                if (r+1, c) in table:\n",
    "                    row += '_' if table[r, c] != table[r+1, c] else ' '\n",
    "                else:\n",
    "                    row += '_'\n",
    "            \n",
    "                if (r, c+1) in table:\n",
    "                    row += '|' if table[r, c] != table[r, c+1] else ' '\n",
    "                else:\n",
    "                    row += '|' #' '\n",
    "                    \n",
    "                \n",
    "                #row += '_' if (r+1, c) in table and table[r, c] != table[r+1, c] else ' '\n",
    "                #row += '|' if (r, c+1) in table and table[r, c] != table[r, c+1] else ' '\n",
    "                \n",
    "                \n",
    "        matrix.append(row)\n",
    "    \n",
    "    return '\\n'.join(matrix)"
   ]
  },
  {
   "cell_type": "code",
   "execution_count": 202,
   "metadata": {
    "collapsed": true
   },
   "outputs": [],
   "source": [
    "def describe(semiperimeter, polyominoes):\n",
    "    \n",
    "    from IPython.display import Markdown    \n",
    "    \n",
    "    n, catalan = semiperimeter - 2, semiperimeter - 1\n",
    "    size=2**n\n",
    "\n",
    "    area = 0\n",
    "    for p in polyominoes:\n",
    "        area += len(p)\n",
    "    \n",
    "    theoretical_area = 4**n\n",
    "    \n",
    "    code='''\n",
    "**Problem instance**: \n",
    "   - using {pp} parallelogram polyominoes, which is the catalan number $c_{catalan}$ (0-based indexing)\n",
    "   - each polyomino has semiperimeter $sp$ equals to {sp}, so let $n=sp-2={n}$\n",
    "   - board edges have size $2^{n}={size}$ each\n",
    "   - theoretically, area is known to be $4^{n}={fa}$, which *is {pred}* equal to counted area {ca}'''.format(\n",
    "        sp=semiperimeter, n=n, size=size, pp=len(polyominoes), fa=theoretical_area, \n",
    "        pred='not' if theoretical_area != area else '', ca=area, catalan=catalan)\n",
    "    \n",
    "    return Markdown(code), n, catalan, polyominoes, theoretical_area, area, size\n"
   ]
  },
  {
   "cell_type": "markdown",
   "metadata": {},
   "source": [
    "## A tiling game from Del Longo, Pinzani et al."
   ]
  },
  {
   "cell_type": "code",
   "execution_count": 214,
   "metadata": {
    "collapsed": false
   },
   "outputs": [
    {
     "data": {
      "text/markdown": [
       "\n",
       "**Problem instance**: \n",
       "   - using 14 parallelogram polyominoes, which is the catalan number $c_4$ (0-based indexing)\n",
       "   - each polyomino has semiperimeter $sp$ equals to 5, so let $n=sp-2=3$\n",
       "   - board edges have size $2^3=8$ each\n",
       "   - theoretically, area is known to be $4^3=64$, which *is * equal to counted area 64"
      ],
      "text/plain": [
       "<IPython.core.display.Markdown object>"
      ]
     },
     "execution_count": 214,
     "metadata": {},
     "output_type": "execute_result"
    }
   ],
   "source": [
    "semiperimeter = 5\n",
    "description, *facts = describe(semiperimeter, parallelogram_polyominoes(semiperimeter))\n",
    "n, catalan, polyos, theoretical_area, area, size = facts\n",
    "\n",
    "description"
   ]
  },
  {
   "cell_type": "markdown",
   "metadata": {},
   "source": [
    "The **order** in which *shapes* are provided is very important since it affects the quality of backtracking:"
   ]
  },
  {
   "cell_type": "code",
   "execution_count": 215,
   "metadata": {
    "collapsed": false,
    "scrolled": true
   },
   "outputs": [],
   "source": [
    "#shapes = make_shapes(pp, isomorphisms=vertical_isomorphism)#, isomorphisms=lambda isos: vertical_isomorphism(rotate_clockwise_isomorphisms(isos)))\n",
    "shapes = make_shapes(polyos)#, isomorphisms=lambda isos: vertical_isomorphism(rotate_clockwise_isomorphisms(isos)))\n",
    "\n",
    "def area_key(s):\n",
    "    piece = s(0,0) # place the shape somewhere, the origin is pretty good\n",
    "    iso = piece[0] # all isomorphisms, of course, have the same are, therefore pick the first one\n",
    "    return len(iso) # since a piece is represent as an iterable of coordinates `(r, c)`\n",
    "\n",
    "shapes = sorted(shapes, key=area_key, reverse=True)"
   ]
  },
  {
   "cell_type": "markdown",
   "metadata": {},
   "source": [
    "Represent all available parallelogram polyominoes:"
   ]
  },
  {
   "cell_type": "code",
   "execution_count": 216,
   "metadata": {
    "collapsed": false
   },
   "outputs": [
    {
     "name": "stdout",
     "output_type": "stream",
     "text": [
      "┌───────────> ┌───────────> ┌───────────> ┌───────────> ┌───────────>\n",
      "│ ▢ ▢         │ ▢ ▢ ▢       │ ▢ ▢ ▢       │ ▢ ▢         │ ▢ ▢        \n",
      "│ ▢ ▢         │ ▢ ▢ ▢       │   ▢ ▢       │ ▢ ▢         │ ▢ ▢ ▢      \n",
      "│ ▢ ▢         │             │             │   ▢         │            \n",
      "│             │             │             │             │            \n",
      "│             │             │             │             │            \n",
      "v             v             v             v             v            \n",
      "┌───────────> ┌───────────> ┌───────────> ┌───────────> ┌───────────>\n",
      "│ ▢           │ ▢ ▢ ▢ ▢     │ ▢           │ ▢           │ ▢ ▢ ▢      \n",
      "│ ▢ ▢         │             │ ▢           │ ▢ ▢ ▢       │     ▢      \n",
      "│ ▢ ▢         │             │ ▢ ▢         │             │            \n",
      "│             │             │             │             │            \n",
      "│             │             │             │             │            \n",
      "v             v             v             v             v            \n",
      "┌───────────> ┌───────────> ┌───────────> ┌───────────>\n",
      "│ ▢ ▢         │ ▢ ▢         │ ▢           │ ▢          \n",
      "│   ▢ ▢       │   ▢         │ ▢           │ ▢ ▢        \n",
      "│             │   ▢         │ ▢           │   ▢        \n",
      "│             │             │ ▢           │            \n",
      "│             │             │             │            \n",
      "v             v             v             v            \n"
     ]
    }
   ],
   "source": [
    "polyominoes_boards = [pretty([(None, 0, None, iso)], (semiperimeter, semiperimeter), ['▢'], \n",
    "                             str_repr=False, axis=True) \n",
    "                     for i, shape in enumerate(shapes) for iso in shape(0,0)]\n",
    "\n",
    "group=5\n",
    "for i in range(0, len(polyominoes_boards), group):\n",
    "    for k in range(semiperimeter+2):\n",
    "        grouped_board = []\n",
    "        for j in range(i, i + group):\n",
    "            if j >= len(polyominoes_boards): break\n",
    "            grouped_board.append(polyominoes_boards[j][k])\n",
    "        print(' '.join(grouped_board))\n",
    "\n"
   ]
  },
  {
   "cell_type": "markdown",
   "metadata": {},
   "source": [
    "Thoughts:\n",
    "   - proceed by *iterative deepening*\n",
    "   - at $C_{n}-1$ level it seems that a *hole* (one empty cell surrounded by filled ones) occurs, where $C_{n}$ is \n",
    "   the relative Catalan number to the problem instance under study\n",
    "   - possible pruning if a *hole* is found after piece placement\n",
    "   - add a keyword argument to require the check about the discover of a solution: if a solution is found ensure\n",
    "   that a predicate on the `available` array holds (for instance, that every piece has been used so that no pieces \n",
    "   left for each solution)"
   ]
  },
  {
   "cell_type": "code",
   "execution_count": 217,
   "metadata": {
    "collapsed": false
   },
   "outputs": [],
   "source": [
    "dim = (size, size)\n",
    "polys_sols = polyominoes(dim, shapes, availables=\"ones\", forbidden=[], max_depth_reached=-1)"
   ]
  },
  {
   "cell_type": "code",
   "execution_count": 218,
   "metadata": {
    "collapsed": false
   },
   "outputs": [
    {
     "data": {
      "text/plain": [
       "[(0, 0, 0, [(0, 1), (2, 0), (0, 0), (1, 0), (1, 1), (2, 1)]),\n",
       " (3, 1, 0, [(4, 2), (3, 1), (3, 0), (4, 1), (4, 0), (3, 2)]),\n",
       " (5, 2, 0, [(5, 1), (5, 0), (5, 2), (6, 2), (6, 1)]),\n",
       " (6, 8, 0, [(7, 2), (7, 0), (6, 0), (7, 1)]),\n",
       " (16, 4, 0, [(0, 3), (1, 2), (0, 2), (1, 3), (1, 4)]),\n",
       " (18, 9, 0, [(2, 3), (2, 2), (2, 4), (3, 4)]),\n",
       " (27, 12, 0, [(6, 3), (5, 3), (4, 3), (3, 3)]),\n",
       " (31, 6, 0, [(7, 4), (7, 6), (7, 3), (7, 5)]),\n",
       " (32, 10, 0, [(0, 5), (0, 4), (1, 5), (1, 6)]),\n",
       " (36, 5, 0, [(6, 4), (5, 4), (4, 4), (5, 5), (6, 5)]),\n",
       " (42, 7, 0, [(4, 5), (3, 5), (2, 5), (4, 6)]),\n",
       " (48, 11, 0, [(0, 7), (0, 6), (1, 7), (2, 7)]),\n",
       " (50, 13, 0, [(3, 6), (2, 6), (3, 7), (4, 7)]),\n",
       " (53, 3, 0, [(5, 7), (6, 6), (5, 6), (6, 7), (7, 7)])]"
      ]
     },
     "execution_count": 218,
     "metadata": {},
     "output_type": "execute_result"
    }
   ],
   "source": [
    "next(polys_sols)"
   ]
  },
  {
   "cell_type": "markdown",
   "metadata": {},
   "source": [
    "and pretty print some experiments:"
   ]
  },
  {
   "cell_type": "code",
   "execution_count": 219,
   "metadata": {
    "collapsed": false,
    "scrolled": false
   },
   "outputs": [
    {
     "name": "stdout",
     "output_type": "stream",
     "text": [
      "1-st solution computed in 0.00711 secs:\n",
      " _ _ _ _ _ _ _ _\n",
      "|   |   |_ _ _ _|\n",
      "|   |_ _ _| |_  |\n",
      "|_ _|_ _  |   | |\n",
      "|     | |_|_ _|_|\n",
      "|_ _ _|_  |   | |\n",
      "|_    | |_|_  | |\n",
      "| |_ _| |_  |_| |\n",
      "|_ _ _|_ _|_ _|_|\n"
     ]
    }
   ],
   "source": [
    "for i in range(1):\n",
    "    with timing(lambda: next(polys_sols)) as (s, start, end):\n",
    "        t = (end - start, 'secs')\n",
    "        t = (t[0] / 60, 'mins') if t[0] > 59 else t\n",
    "        t = (t[0] / 60, 'hours') if t[0] > 59 else t\n",
    "        o = \"st\" if not i else \"sn\"\n",
    "        symbols = lower_greek_symbols() + capital_greek_symbols() + latin_symbols()\n",
    "        print(\"{}-{} solution computed in {:.3} {}:\\n{}\".format(i+1, o if i < 2 else (\"rd\" if i == 2 else \"th\"), \n",
    "                                                                *t, ppretty(s, dim, symbols)))"
   ]
  },
  {
   "cell_type": "markdown",
   "metadata": {},
   "source": [
    "---\n",
    "<a rel=\"license\" href=\"http://creativecommons.org/licenses/by-nc/4.0/\"><img alt=\"Creative Commons License\" style=\"border-width:0\" src=\"https://i.creativecommons.org/l/by-nc/4.0/88x31.png\" /></a><br /><span xmlns:dct=\"http://purl.org/dc/terms/\" property=\"dct:title\">Backtracking tutorial</span> by <a xmlns:cc=\"http://creativecommons.org/ns#\" href=\"massimo.nocentini@unifi.it\" property=\"cc:attributionName\" rel=\"cc:attributionURL\">Massimo Nocentini</a> is licensed under a <a rel=\"license\" href=\"http://creativecommons.org/licenses/by-nc/4.0/\">Creative Commons Attribution-NonCommercial 4.0 International License</a>.<br />Based on a work at <a xmlns:dct=\"http://purl.org/dc/terms/\" href=\"https://github.com/massimo-nocentini/competitive-programming/blob/master/tutorials/backtrack.ipynb\" rel=\"dct:source\">https://github.com/massimo-nocentini/competitive-programming/blob/master/tutorials/backtrack.ipynb</a>."
   ]
  }
 ],
 "metadata": {
  "kernelspec": {
   "display_name": "Python 3",
   "language": "python",
   "name": "python3"
  },
  "language_info": {
   "codemirror_mode": {
    "name": "ipython",
    "version": 3
   },
   "file_extension": ".py",
   "mimetype": "text/x-python",
   "name": "python",
   "nbconvert_exporter": "python",
   "pygments_lexer": "ipython3",
   "version": "3.5.1"
  }
 },
 "nbformat": 4,
 "nbformat_minor": 0
}
