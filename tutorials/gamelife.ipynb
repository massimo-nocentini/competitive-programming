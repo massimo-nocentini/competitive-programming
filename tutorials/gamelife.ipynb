{
 "cells": [
  {
   "cell_type": "markdown",
   "metadata": {},
   "source": [
    "<div align=\"right\">\n",
    "Massimo Nocentini<br>\n",
    "<br>June 27, 2016: initial external references\n",
    "</div>\n",
    "<br>\n",
    "<div align=\"center\">\n",
    "<b>Abstract</b><br>\n",
    "This document collect some code about Conway's <b>Game of Life</b> system.\n",
    "</div>"
   ]
  },
  {
   "cell_type": "markdown",
   "metadata": {},
   "source": [
    "# Intro\n",
    "\n",
    "Initial collection of references:\n",
    "   - http://tau-cs1001-py.wikidot.com/forum/t-612783/hacker-s-delight\n",
    "   - http://www.ibiblio.org/lifepatterns/\n",
    "   - http://www.drdobbs.com/jvm/an-algorithm-for-compressing-space-and-t/184406478?pgno=1\n",
    "   - http://tomas.rokicki.com/hlife/\n",
    "   - http://www.sciencedirect.com/science/article/pii/S0167278904001198 (to purchase)\n",
    "   - http://www.fundza.com/algorithmic/form/automata/basic/index.html"
   ]
  }
 ],
 "metadata": {
  "kernelspec": {
   "display_name": "Python 3",
   "language": "python",
   "name": "python3"
  },
  "language_info": {
   "codemirror_mode": {
    "name": "ipython",
    "version": 3
   },
   "file_extension": ".py",
   "mimetype": "text/x-python",
   "name": "python",
   "nbconvert_exporter": "python",
   "pygments_lexer": "ipython3",
   "version": "3.5.1"
  }
 },
 "nbformat": 4,
 "nbformat_minor": 0
}
