{
 "cells": [
  {
   "cell_type": "markdown",
   "metadata": {},
   "source": [
    "<div align=\"right\">Massimo Nocentini<br>May 17, 2016: big-bang</div>\n",
    "\n",
    "<div align=\"center\">\n",
    "<b>Abstract</b><br>\n",
    "This document is an index of programming problems I worked on; it is a rolling-release stream.\n",
    "</div>"
   ]
  },
  {
   "cell_type": "markdown",
   "metadata": {},
   "source": [
    "# RTE problems"
   ]
  },
  {
   "cell_type": "markdown",
   "metadata": {},
   "source": [
    "[UVa 11093][UVa11093]: **Just Finish it up** ([code][UVa11093:code])<br>\n",
    "locally seems to work, although the judge cannot exec it\n",
    "\n",
    "[UVa11093]:https://uva.onlinejudge.org/index.php?option=com_onlinejudge&Itemid=8&page=show_problem&problem=2034\n",
    "[UVa11093:code]:https://github.com/massimo-nocentini/competitive-programming/blob/master/UVa/11093.py"
   ]
  },
  {
   "cell_type": "markdown",
   "metadata": {},
   "source": [
    "# Solved problems"
   ]
  },
  {
   "cell_type": "markdown",
   "metadata": {},
   "source": [
    "[UVa 732][UVa732]: **Anagrams by `stack`** ([code][UVa732:code])<br>\n",
    "a mix of interesting concepts: *depth-first* search on a graph of *states* where in each state a `pop` and `push` actions can be applied to a source string, so updated as a `stack` object. *Pruning* happens when the current prefix doesn't match the target anagram and a *second* `stack` is used to help choices in recursion.\n",
    "\n",
    "[UVa732]:https://uva.onlinejudge.org/index.php?option=com_onlinejudge&Itemid=8&page=show_problem&problem=673\n",
    "[UVa732:code]:https://github.com/massimo-nocentini/competitive-programming/blob/master/UVa/732.py"
   ]
  },
  {
   "cell_type": "markdown",
   "metadata": {},
   "source": [
    "[UVa 10264][UVa10264]: **The Most Potent Corner** ([code][UVa10264:code])<br>\n",
    "$N$-dimensional cube, find corner's connections by *bitwise toggling*. At first I didn't understand the order of vertices, then resort to [this help][help] and implement it in a pythonic way, namely avoiding redundant code and doubled neighbours computation.\n",
    "\n",
    "[UVa10264]:https://uva.onlinejudge.org/index.php?option=com_onlinejudge&Itemid=8&page=show_problem&problem=1205\n",
    "[UVa10264:code]:https://github.com/massimo-nocentini/competitive-programming/blob/master/UVa/10264.py\n",
    "[help]:https://saicheems.wordpress.com/2013/08/21/uva-10264-the-most-potent-corner-2/"
   ]
  },
  {
   "cell_type": "markdown",
   "metadata": {},
   "source": [
    "[UVa 11933][UVa11933]: **Splitting Numbers** ([code][UVa11933:code])<br>\n",
    "introductory exercise on *bit manipulation*, it requires to find all bits `1` in the given integers. Useful to implement utility functions.\n",
    "\n",
    "[UVa11933]:https://uva.onlinejudge.org/index.php?option=com_onlinejudge&Itemid=8&page=show_problem&problem=3084\n",
    "[UVa11933:code]:https://github.com/massimo-nocentini/competitive-programming/blob/master/UVa/11933.py"
   ]
  },
  {
   "cell_type": "markdown",
   "metadata": {},
   "source": [
    "[UVa 594][UVa594]: **One Little, Two Little, Three Little Endians** ([code][UVa594:code])<br>\n",
    "understand `int.to_bytes` and `int.from_bytes` to translate from *little* and *big* endian integer encodings. Possibly interesting to do the job myself, instead of using Python standard library.\n",
    "\n",
    "[UVa594]:https://uva.onlinejudge.org/index.php?option=com_onlinejudge&Itemid=8&page=show_problem&problem=535\n",
    "[UVa594:code]:https://github.com/massimo-nocentini/competitive-programming/blob/master/UVa/594.py"
   ]
  },
  {
   "cell_type": "markdown",
   "metadata": {},
   "source": [
    "[UVa 11173][UVa11173]: **Gray codes** ([code][UVa11173:code])<br>\n",
    "elegant solution using bits manipulation, maybe the set of test cases is quite big, my sol runs in 2.48 sec, against a time limit of 3 sec. Theory behind this sol can be found in [this tutorial][tutorial].\n",
    "\n",
    "[UVa11173]:https://uva.onlinejudge.org/index.php?option=com_onlinejudge&Itemid=8&page=show_problem&problem=2114\n",
    "[UVa11173:code]:https://github.com/massimo-nocentini/competitive-programming/blob/master/UVa/11173.py\n",
    "[tutorial]:http://nbviewer.jupyter.org/github/massimo-nocentini/competitive-programming/blob/master/tutorials/graycodes.ipynb?flush_cache=true"
   ]
  },
  {
   "cell_type": "markdown",
   "metadata": {},
   "source": [
    "[UVa 11040][UVa11040]: **Add bricks in the wall** ([code][UVa11040:code])<br>\n",
    "probably TLE if exaustive search is done via backtrack. The problem has\n",
    "a recursive structure, where α, β and γ are given integers:\n",
    "\n",
    "          α    \n",
    "         δ ε\n",
    "        β ζ γ\n",
    "\n",
    " Solving the system of equations respect to ζ:\n",
    "\n",
    "        δ = β + ζ\n",
    "        ε = ζ + γ\n",
    "        α = δ + ε\n",
    "\n",
    " yields ζ = (α - β - γ)/2 . According to the problem rules, \n",
    " we use the former two equations in the system to fill both δ and ε.\n",
    " Observe that this holds within the *whole* triangle, therefore it is possible to\n",
    " build it during input scan, avoiding to fill it bottom-up.\n",
    "     \n",
    "[UVa11040]:https://uva.onlinejudge.org/index.php?option=com_onlinejudge&Itemid=8&category=624&page=show_problem&problem=1981\n",
    "[UVa11040:code]:https://github.com/massimo-nocentini/competitive-programming/blob/master/UVa/11040.py"
   ]
  },
  {
   "cell_type": "markdown",
   "metadata": {},
   "source": [
    "[UVa 101][UVa101]: **The Block Problem** ([code][UVa101:code])<br>\n",
    "a sort of *double dispatching* to implement an *automaton* of commands; moreover, nice play with Python `list`s used as stacks.\n",
    "\n",
    "[UVa101]:https://uva.onlinejudge.org/index.php?option=com_onlinejudge&Itemid=8&page=show_problem&problem=37\n",
    "[UVa101:code]:https://github.com/massimo-nocentini/competitive-programming/blob/master/UVa/101.py\n"
   ]
  },
  {
   "cell_type": "markdown",
   "metadata": {},
   "source": [
    "[UVa 11942][UVa11942]: **Lumberjack Sequencing** ([code][UVa11942:code])<br>\n",
    "use Python condition concatenation `a < b < c < d < e < f < g < h < i < j` for asc/des order checks.\n",
    "\n",
    "\n",
    "[UVa11942]:https://uva.onlinejudge.org/index.php?option=com_onlinejudge&Itemid=8&page=show_problem&problem=3093\n",
    "[UVa11942:code]:https://github.com/massimo-nocentini/competitive-programming/blob/master/UVa/11942.py\n"
   ]
  },
  {
   "cell_type": "markdown",
   "metadata": {},
   "source": [
    "[UVa 11559][UVa11559]: **Event Planning** ([code][UVa11559:code])\n",
    "\n",
    "\n",
    "[UVa11559]:https://uva.onlinejudge.org/index.php?option=com_onlinejudge&Itemid=8&category=608&page=show_problem&problem=2595\n",
    "[UVa11559:code]:https://github.com/massimo-nocentini/competitive-programming/blob/master/UVa/11559.py\n"
   ]
  },
  {
   "cell_type": "markdown",
   "metadata": {},
   "source": [
    "[UVa 11332][UVa11332]: **Summing Digits** ([code][UVa11332:code])<br>\n",
    "use Python facilities to write an integer `n` in base 10; the sum of its digits is `sum(map(int, str(n)))`.\n",
    "\n",
    "[UVa11332]:https://uva.onlinejudge.org/index.php?option=com_onlinejudge&Itemid=8&category=608&page=show_problem&problem=2307\n",
    "[UVa11332:code]:https://github.com/massimo-nocentini/competitive-programming/blob/master/UVa/11332.py"
   ]
  },
  {
   "cell_type": "markdown",
   "metadata": {},
   "source": [
    "[UVa 10114][UVa10114]: **Loansome Car Buyer** ([code][UVa10114:code])<br>\n",
    "one pass after filling vector 'piggyback', as time series for deprecation percentages\n",
    "\n",
    "[UVa10114]:https://uva.onlinejudge.org/index.php?option=com_onlinejudge&Itemid=8&category=608&page=show_problem&problem=1055\n",
    "[UVa10114:code]:https://github.com/massimo-nocentini/competitive-programming/blob/master/UVa/10114.py"
   ]
  },
  {
   "cell_type": "markdown",
   "metadata": {},
   "source": [
    "[UVa 11547][UVa11547]: **Automatic Answer** ([code][UVa11547:code])<br>\n",
    "if `a` is an integer, apply `a // 10 % 10` to get digit in decine position\n",
    "\n",
    "[UVa11547]:https://uva.onlinejudge.org/index.php?option=com_onlinejudge&Itemid=8&category=607&page=show_problem&problem=2542\n",
    "[UVa11547:code]:https://github.com/massimo-nocentini/competitive-programming/blob/master/UVa/11547.py\n"
   ]
  },
  {
   "cell_type": "markdown",
   "metadata": {},
   "source": [
    "[UVa 11727][UVa11727]: **Cost Cutting** ([code][UVa11727:code])\n",
    "\n",
    "[UVa11727]:https://uva.onlinejudge.org/index.php?option=com_onlinejudge&Itemid=8&page=show_problem&problem=2827\n",
    "[UVa11727:code]:https://github.com/massimo-nocentini/competitive-programming/blob/master/UVa/11727.py"
   ]
  },
  {
   "cell_type": "markdown",
   "metadata": {},
   "source": [
    "[UVa 11498][UVa11498]: **Division of Nlogonia** ([code][UVa11498:code])\n",
    "\n",
    "[UVa11498]:https://uva.onlinejudge.org/index.php?option=com_onlinejudge&Itemid=8&page=show_problem&problem=2493\n",
    "[UVa11498:code]:https://github.com/massimo-nocentini/competitive-programming/blob/master/UVa/11498.py"
   ]
  },
  {
   "cell_type": "markdown",
   "metadata": {},
   "source": [
    "[UVa 11172][UVa11172]: **Relational Operator** ([code][UVa11172:code])\n",
    "\n",
    "[UVa11172]:https://uva.onlinejudge.org/index.php?option=com_onlinejudge&Itemid=8&page=show_problem&problem=2113\n",
    "[UVa11172:code]:https://github.com/massimo-nocentini/competitive-programming/blob/master/UVa/11172.py"
   ]
  }
 ],
 "metadata": {
  "kernelspec": {
   "display_name": "Python 3",
   "language": "python",
   "name": "python3"
  },
  "language_info": {
   "codemirror_mode": {
    "name": "ipython",
    "version": 3
   },
   "file_extension": ".py",
   "mimetype": "text/x-python",
   "name": "python",
   "nbconvert_exporter": "python",
   "pygments_lexer": "ipython3",
   "version": "3.5.1"
  }
 },
 "nbformat": 4,
 "nbformat_minor": 0
}
