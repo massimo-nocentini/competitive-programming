{
 "cells": [
  {
   "cell_type": "markdown",
   "metadata": {},
   "source": [
    "<p>\n",
    "<img src=\"http://www.cerm.unifi.it/chianti/images/logo%20unifi_positivo.jpg\" \n",
    "        alt=\"UniFI logo\" style=\"float: left; width: 20%; height: 20%;\">\n",
    "<div align=\"right\">\n",
    "Massimo Nocentini<br>\n",
    "<small>\n",
    "<br>November 22, 2016: `edit_distance`\n",
    "<br>September 21, 2016: Monge arrays\n",
    "</small>\n",
    "</div>\n",
    "</p>\n",
    "<br>\n",
    "<div align=\"center\">\n",
    "<b>Abstract</b><br>\n",
    "Some examples of *dynamic programming*.\n",
    "</div>"
   ]
  },
  {
   "cell_type": "code",
   "execution_count": 5,
   "metadata": {
    "collapsed": true
   },
   "outputs": [],
   "source": [
    "from functools import lru_cache\n",
    "import operator\n",
    "from itertools import count, zip_longest\n",
    "from collections import OrderedDict\n",
    "from random import randint"
   ]
  },
  {
   "cell_type": "code",
   "execution_count": 225,
   "metadata": {
    "collapsed": true
   },
   "outputs": [],
   "source": [
    "def memo_holder(optimizer):\n",
    "    def f(*args, **kwds):\n",
    "        return_memo_table = kwds.pop('memo_table', False)\n",
    "        pair = optimized, memo_table = optimizer(*args, **kwds)\n",
    "        return pair if return_memo_table else optimized\n",
    "    return f"
   ]
  },
  {
   "cell_type": "markdown",
   "metadata": {},
   "source": [
    "# Monge arrays\n",
    "\n",
    "Have a look at https://en.wikipedia.org/wiki/Monge_array"
   ]
  },
  {
   "cell_type": "code",
   "execution_count": 3,
   "metadata": {
    "collapsed": true
   },
   "outputs": [],
   "source": [
    "def parity_numbered_rows(matrix, parity, include_index=False):\n",
    "    start = 0 if parity == 'even' else 1\n",
    "    return [(i, r) if include_index else r \n",
    "            for i in range(start, len(matrix), 2)\n",
    "            for r in [matrix[i]]]\n",
    "    \n",
    "def argmin(iterable, only_index=True):\n",
    "    index, minimum = index_min = min(enumerate(iterable), key=operator.itemgetter(1))\n",
    "    return index if only_index else index_min\n",
    "\n",
    "def interleaving(one, another):\n",
    "    for o, a in zip_longest(one, another):\n",
    "        yield o\n",
    "        if a: yield a\n",
    "\n",
    "def is_sorted(iterable, pred=lambda l, g: l <= g):\n",
    "    _, *rest = iterable\n",
    "    return all(pred(l, g) for l, g in zip(iterable, rest))\n",
    "            \n",
    "def minima_indexes(matrix):\n",
    "    \n",
    "    if len(matrix) == 1: return [argmin(matrix.pop())]\n",
    "    \n",
    "    recursion = minima_indexes(parity_numbered_rows(matrix, parity='even'))\n",
    "    even_minima = OrderedDict((i, m) for i, m in zip(count(start=0, step=2), recursion))\n",
    "    odd_minima = [argmin(odd_r[start:end]) + start\n",
    "                  for o, odd_r in parity_numbered_rows(matrix, parity='odd', include_index=True)\n",
    "                  for start in [even_minima[o-1]]\n",
    "                  for end in [even_minima[o+1]+1 if o+1 in even_minima else None]]\n",
    "    \n",
    "    return list(interleaving(even_minima.values(), odd_minima))\n",
    "\n",
    "def minima(matrix):\n",
    "    return [matrix[i][m] for i, m in enumerate(minima_indexes(matrix))]\n",
    "\n",
    "def is_not_monge(matrix):\n",
    "    return any(any(matrix[r][m] > matrix[r][i] for i in range(m)) \n",
    "               for r, m in enumerate(minima_indexes(matrix)))\n",
    "    "
   ]
  },
  {
   "cell_type": "markdown",
   "metadata": {},
   "source": [
    "The following *is* a Monge array:"
   ]
  },
  {
   "cell_type": "code",
   "execution_count": 70,
   "metadata": {
    "collapsed": false
   },
   "outputs": [
    {
     "data": {
      "text/plain": [
       "[10, 16, 22, 6, 23, 6, 34]"
      ]
     },
     "execution_count": 70,
     "metadata": {},
     "output_type": "execute_result"
    }
   ],
   "source": [
    "matrix = [\n",
    "    [10, 17, 13, 28, 23],\n",
    "    [17, 22, 16, 29, 23],\n",
    "    [24, 28, 22, 34, 24],\n",
    "    [11, 13, 6, 17, 7],\n",
    "    [45, 44, 32, 37, 23],\n",
    "    [36, 33, 19, 21, 6],\n",
    "    [75, 66, 51, 53, 34],\n",
    "]\n",
    "\n",
    "minima(matrix)"
   ]
  },
  {
   "cell_type": "code",
   "execution_count": 71,
   "metadata": {
    "collapsed": false
   },
   "outputs": [
    {
     "data": {
      "text/plain": [
       "[0, 2, 2, 2, 4, 4, 4]"
      ]
     },
     "execution_count": 71,
     "metadata": {},
     "output_type": "execute_result"
    }
   ],
   "source": [
    "minima_indexes(matrix)"
   ]
  },
  {
   "cell_type": "code",
   "execution_count": 72,
   "metadata": {
    "collapsed": false
   },
   "outputs": [
    {
     "data": {
      "text/plain": [
       "False"
      ]
     },
     "execution_count": 72,
     "metadata": {},
     "output_type": "execute_result"
    }
   ],
   "source": [
    "is_not_monge(matrix)"
   ]
  },
  {
   "cell_type": "markdown",
   "metadata": {},
   "source": [
    "The following *is not* a Monge array:"
   ]
  },
  {
   "cell_type": "code",
   "execution_count": 73,
   "metadata": {
    "collapsed": false
   },
   "outputs": [
    {
     "data": {
      "text/plain": [
       "[22, 7, 30, 6, 8]"
      ]
     },
     "execution_count": 73,
     "metadata": {},
     "output_type": "execute_result"
    }
   ],
   "source": [
    "matrix = [\n",
    "    [37, 23, 22, 32],\n",
    "    [21, 6, 7, 10],\n",
    "    [53, 34, 30, 31],\n",
    "    [32, 13, 9, 6],\n",
    "    [43, 21, 15, 8],\n",
    "]\n",
    "\n",
    "minima(matrix) # produces a wrong answer!!!"
   ]
  },
  {
   "cell_type": "code",
   "execution_count": 74,
   "metadata": {
    "collapsed": false
   },
   "outputs": [
    {
     "data": {
      "text/plain": [
       "[2, 2, 2, 3, 3]"
      ]
     },
     "execution_count": 74,
     "metadata": {},
     "output_type": "execute_result"
    }
   ],
   "source": [
    "minima_indexes(matrix)"
   ]
  },
  {
   "cell_type": "code",
   "execution_count": 75,
   "metadata": {
    "collapsed": false
   },
   "outputs": [
    {
     "data": {
      "text/plain": [
       "True"
      ]
     },
     "execution_count": 75,
     "metadata": {},
     "output_type": "execute_result"
    }
   ],
   "source": [
    "is_not_monge(matrix)"
   ]
  },
  {
   "cell_type": "markdown",
   "metadata": {},
   "source": [
    "# `longest_increasing_subsequence`"
   ]
  },
  {
   "cell_type": "code",
   "execution_count": 226,
   "metadata": {
    "collapsed": false
   },
   "outputs": [],
   "source": [
    "@memo_holder\n",
    "def longest_increasing_subsequence(seq):\n",
    "\n",
    "    L = []\n",
    "\n",
    "    for i, current in enumerate(seq):\n",
    "        L.append(max([L[j] for j in range(i) if seq[j] < current], key=len, default=[]) + [current])\n",
    "\n",
    "    return max(L, key=len), L\n",
    "\n",
    "\n",
    "def lis_rec(seq):\n",
    "\n",
    "    @lru_cache(maxsize=None)\n",
    "    def rec(i):\n",
    "        current = seq[i]\n",
    "        return max([rec(j) for j in range(i) if seq[j] < current], key=len, default=[]) + [current]\n",
    "\n",
    "    return max([rec(i) for i, _ in enumerate(seq)], key=len)\n",
    "\n"
   ]
  },
  {
   "cell_type": "markdown",
   "metadata": {},
   "source": [
    "a simple test case taken from page 157:"
   ]
  },
  {
   "cell_type": "code",
   "execution_count": 227,
   "metadata": {
    "collapsed": true
   },
   "outputs": [],
   "source": [
    "seq = [5, 2, 8, 6, 3, 6, 9, 7] # see page 157"
   ]
  },
  {
   "cell_type": "code",
   "execution_count": 228,
   "metadata": {
    "collapsed": false
   },
   "outputs": [],
   "source": [
    "subseq, memo_table = longest_increasing_subsequence(seq, memo_table=True)"
   ]
  },
  {
   "cell_type": "code",
   "execution_count": 229,
   "metadata": {
    "collapsed": false
   },
   "outputs": [
    {
     "data": {
      "text/plain": [
       "[2, 3, 6, 9]"
      ]
     },
     "execution_count": 229,
     "metadata": {},
     "output_type": "execute_result"
    }
   ],
   "source": [
    "subseq"
   ]
  },
  {
   "cell_type": "markdown",
   "metadata": {},
   "source": [
    "memoization table shows that `[2,3,6,7]` is another solution:"
   ]
  },
  {
   "cell_type": "code",
   "execution_count": 230,
   "metadata": {
    "collapsed": false
   },
   "outputs": [
    {
     "data": {
      "text/plain": [
       "[[5], [2], [5, 8], [5, 6], [2, 3], [2, 3, 6], [2, 3, 6, 9], [2, 3, 6, 7]]"
      ]
     },
     "execution_count": 230,
     "metadata": {},
     "output_type": "execute_result"
    }
   ],
   "source": [
    "memo_table"
   ]
  },
  {
   "cell_type": "code",
   "execution_count": 72,
   "metadata": {
    "collapsed": false
   },
   "outputs": [
    {
     "data": {
      "text/plain": [
       "[2, 3, 6, 9]"
      ]
     },
     "execution_count": 72,
     "metadata": {},
     "output_type": "execute_result"
    }
   ],
   "source": [
    "lis_rec(seq)"
   ]
  },
  {
   "cell_type": "markdown",
   "metadata": {},
   "source": [
    "The following is an average case where the sequence is generated randomly:"
   ]
  },
  {
   "cell_type": "code",
   "execution_count": 45,
   "metadata": {
    "collapsed": false
   },
   "outputs": [],
   "source": [
    "length = int(5e3)\n",
    "seq = [randint(0, length) for _ in range(length)]"
   ]
  },
  {
   "cell_type": "code",
   "execution_count": 46,
   "metadata": {
    "collapsed": false
   },
   "outputs": [
    {
     "name": "stdout",
     "output_type": "stream",
     "text": [
      "1 loop, best of 3: 1.55 s per loop\n"
     ]
    }
   ],
   "source": [
    "%timeit longest_increasing_subsequence(seq)"
   ]
  },
  {
   "cell_type": "code",
   "execution_count": 47,
   "metadata": {
    "collapsed": false
   },
   "outputs": [
    {
     "name": "stdout",
     "output_type": "stream",
     "text": [
      "1 loop, best of 3: 2.27 s per loop\n"
     ]
    }
   ],
   "source": [
    "%timeit lis_rec(seq)"
   ]
  },
  {
   "cell_type": "markdown",
   "metadata": {},
   "source": [
    "worst scenario where the sequence is a sorted list, in increasing order:"
   ]
  },
  {
   "cell_type": "code",
   "execution_count": 28,
   "metadata": {
    "collapsed": true
   },
   "outputs": [],
   "source": [
    "seq = range(length)"
   ]
  },
  {
   "cell_type": "code",
   "execution_count": 29,
   "metadata": {
    "collapsed": false
   },
   "outputs": [
    {
     "name": "stdout",
     "output_type": "stream",
     "text": [
      "1 loop, best of 3: 3.59 s per loop\n"
     ]
    }
   ],
   "source": [
    "%timeit longest_increasing_subsequence(seq)"
   ]
  },
  {
   "cell_type": "code",
   "execution_count": 24,
   "metadata": {
    "collapsed": false
   },
   "outputs": [
    {
     "name": "stdout",
     "output_type": "stream",
     "text": [
      "1 loop, best of 3: 7.38 s per loop\n"
     ]
    }
   ],
   "source": [
    "%timeit lis_rec(seq)"
   ]
  },
  {
   "cell_type": "markdown",
   "metadata": {},
   "source": [
    "## `edit_distance`"
   ]
  },
  {
   "cell_type": "code",
   "execution_count": 271,
   "metadata": {
    "collapsed": false
   },
   "outputs": [],
   "source": [
    "@memo_holder\n",
    "def edit_distance(xs, ys, \n",
    "                  gap_in_xs=lambda y: 1, # cost of putting a gap in `xs` when reading `y`\n",
    "                  gap_in_ys=lambda x: 1, # cost of putting a gap in `ys` when reading `x`\n",
    "                  mismatch=lambda x, y: 1,   # cost of mismatch (x, y) in the sense of `==`\n",
    "                  gap = '▢',\n",
    "                  mark=lambda s: s.swapcase(), \n",
    "                  reduce=sum):\n",
    "    \n",
    "    T = {}\n",
    "    \n",
    "    T.update({ (i, 0):(xs[:i], gap * i, i) for i in range(len(xs)+1) })\n",
    "    T.update({ (0, j):( gap * j,ys[:j], j) for j in range(len(ys)+1) })\n",
    "    \n",
    "    def combine(w, z):\n",
    "        a, b, c = zip(w, z)\n",
    "        return ''.join(a), ''.join(b), reduce(c)\n",
    "    \n",
    "    for i, x in enumerate(xs, start=1):\n",
    "        for j, y in enumerate(ys, start=1):\n",
    "             T[i, j] = min(combine(T[i-1, j], (x, gap, gap_in_ys(x))),\n",
    "                           combine(T[i, j-1], (gap, y, gap_in_xs(y))),\n",
    "                           combine(T[i-1, j-1], (x, y, 0) if x == y else (mark(x), mark(y), mismatch(x, y))),\n",
    "                           key=lambda t: t[2])\n",
    "                \n",
    "    \n",
    "    return T[len(xs), len(ys)], T"
   ]
  },
  {
   "cell_type": "code",
   "execution_count": 268,
   "metadata": {
    "collapsed": false,
    "scrolled": false
   },
   "outputs": [],
   "source": [
    "(xs, ys, cost), memo_table = edit_distance('exponential', 'polynomial', memo_table=True)"
   ]
  },
  {
   "cell_type": "code",
   "execution_count": 269,
   "metadata": {
    "collapsed": false
   },
   "outputs": [
    {
     "name": "stdout",
     "output_type": "stream",
     "text": [
      "edit with cost 6:\n",
      "\n",
      "expoNEnT▢ial\n",
      "▢▢poLYnOmial\n"
     ]
    }
   ],
   "source": [
    "print('edit with cost {}:\\n\\n{}\\n{}'.format(cost, xs, ys))"
   ]
  },
  {
   "cell_type": "code",
   "execution_count": 270,
   "metadata": {
    "collapsed": false,
    "scrolled": false
   },
   "outputs": [
    {
     "data": {
      "text/plain": [
       "{(0, 0): ('', '', 0),\n",
       " (0, 1): ('▢', 'p', 1),\n",
       " (0, 2): ('▢▢', 'po', 2),\n",
       " (0, 3): ('▢▢▢', 'pol', 3),\n",
       " (0, 4): ('▢▢▢▢', 'poly', 4),\n",
       " (0, 5): ('▢▢▢▢▢', 'polyn', 5),\n",
       " (0, 6): ('▢▢▢▢▢▢', 'polyno', 6),\n",
       " (0, 7): ('▢▢▢▢▢▢▢', 'polynom', 7),\n",
       " (0, 8): ('▢▢▢▢▢▢▢▢', 'polynomi', 8),\n",
       " (0, 9): ('▢▢▢▢▢▢▢▢▢', 'polynomia', 9),\n",
       " (0, 10): ('▢▢▢▢▢▢▢▢▢▢', 'polynomial', 10),\n",
       " (1, 0): ('e', '▢', 1),\n",
       " (1, 1): ('E', 'P', 1),\n",
       " (1, 2): ('E▢', 'Po', 2),\n",
       " (1, 3): ('E▢▢', 'Pol', 3),\n",
       " (1, 4): ('E▢▢▢', 'Poly', 4),\n",
       " (1, 5): ('E▢▢▢▢', 'Polyn', 5),\n",
       " (1, 6): ('E▢▢▢▢▢', 'Polyno', 6),\n",
       " (1, 7): ('E▢▢▢▢▢▢', 'Polynom', 7),\n",
       " (1, 8): ('E▢▢▢▢▢▢▢', 'Polynomi', 8),\n",
       " (1, 9): ('E▢▢▢▢▢▢▢▢', 'Polynomia', 9),\n",
       " (1, 10): ('E▢▢▢▢▢▢▢▢▢', 'Polynomial', 10),\n",
       " (2, 0): ('ex', '▢▢', 2),\n",
       " (2, 1): ('Ex', 'P▢', 2),\n",
       " (2, 2): ('EX', 'PO', 2),\n",
       " (2, 3): ('EX▢', 'POl', 3),\n",
       " (2, 4): ('EX▢▢', 'POly', 4),\n",
       " (2, 5): ('EX▢▢▢', 'POlyn', 5),\n",
       " (2, 6): ('EX▢▢▢▢', 'POlyno', 6),\n",
       " (2, 7): ('EX▢▢▢▢▢', 'POlynom', 7),\n",
       " (2, 8): ('EX▢▢▢▢▢▢', 'POlynomi', 8),\n",
       " (2, 9): ('EX▢▢▢▢▢▢▢', 'POlynomia', 9),\n",
       " (2, 10): ('EX▢▢▢▢▢▢▢▢', 'POlynomial', 10),\n",
       " (3, 0): ('exp', '▢▢▢', 3),\n",
       " (3, 1): ('exp', '▢▢p', 2),\n",
       " (3, 2): ('EXp', 'PO▢', 3),\n",
       " (3, 3): ('EXP', 'POL', 3),\n",
       " (3, 4): ('EXP▢', 'POLy', 4),\n",
       " (3, 5): ('EXP▢▢', 'POLyn', 5),\n",
       " (3, 6): ('EXP▢▢▢', 'POLyno', 6),\n",
       " (3, 7): ('EXP▢▢▢▢', 'POLynom', 7),\n",
       " (3, 8): ('EXP▢▢▢▢▢', 'POLynomi', 8),\n",
       " (3, 9): ('EXP▢▢▢▢▢▢', 'POLynomia', 9),\n",
       " (3, 10): ('EXP▢▢▢▢▢▢▢', 'POLynomial', 10),\n",
       " (4, 0): ('expo', '▢▢▢▢', 4),\n",
       " (4, 1): ('expo', '▢▢p▢', 3),\n",
       " (4, 2): ('expo', '▢▢po', 2),\n",
       " (4, 3): ('expo▢', '▢▢pol', 3),\n",
       " (4, 4): ('expo▢▢', '▢▢poly', 4),\n",
       " (4, 5): ('expo▢▢▢', '▢▢polyn', 5),\n",
       " (4, 6): ('EXP▢▢o', 'POLyno', 5),\n",
       " (4, 7): ('EXP▢▢o▢', 'POLynom', 6),\n",
       " (4, 8): ('EXP▢▢o▢▢', 'POLynomi', 7),\n",
       " (4, 9): ('EXP▢▢o▢▢▢', 'POLynomia', 8),\n",
       " (4, 10): ('EXP▢▢o▢▢▢▢', 'POLynomial', 9),\n",
       " (5, 0): ('expon', '▢▢▢▢▢', 5),\n",
       " (5, 1): ('expon', '▢▢p▢▢', 4),\n",
       " (5, 2): ('expon', '▢▢po▢', 3),\n",
       " (5, 3): ('expoN', '▢▢poL', 3),\n",
       " (5, 4): ('expoN▢', '▢▢poLy', 4),\n",
       " (5, 5): ('expo▢▢n', '▢▢polyn', 4),\n",
       " (5, 6): ('expo▢▢n▢', '▢▢polyno', 5),\n",
       " (5, 7): ('expo▢▢n▢▢', '▢▢polynom', 6),\n",
       " (5, 8): ('expo▢▢n▢▢▢', '▢▢polynomi', 7),\n",
       " (5, 9): ('expo▢▢n▢▢▢▢', '▢▢polynomia', 8),\n",
       " (5, 10): ('expo▢▢n▢▢▢▢▢', '▢▢polynomial', 9),\n",
       " (6, 0): ('expone', '▢▢▢▢▢▢', 6),\n",
       " (6, 1): ('expone', '▢▢p▢▢▢', 5),\n",
       " (6, 2): ('expone', '▢▢po▢▢', 4),\n",
       " (6, 3): ('expoNe', '▢▢poL▢', 4),\n",
       " (6, 4): ('expoNE', '▢▢poLY', 4),\n",
       " (6, 5): ('expo▢▢ne', '▢▢polyn▢', 5),\n",
       " (6, 6): ('expo▢▢nE', '▢▢polynO', 5),\n",
       " (6, 7): ('expo▢▢nE▢', '▢▢polynOm', 6),\n",
       " (6, 8): ('expo▢▢nE▢▢', '▢▢polynOmi', 7),\n",
       " (6, 9): ('expo▢▢nE▢▢▢', '▢▢polynOmia', 8),\n",
       " (6, 10): ('expo▢▢nE▢▢▢▢', '▢▢polynOmial', 9),\n",
       " (7, 0): ('exponen', '▢▢▢▢▢▢▢', 7),\n",
       " (7, 1): ('exponen', '▢▢p▢▢▢▢', 6),\n",
       " (7, 2): ('exponen', '▢▢po▢▢▢', 5),\n",
       " (7, 3): ('expoNen', '▢▢poL▢▢', 5),\n",
       " (7, 4): ('expoNEn', '▢▢poLY▢', 5),\n",
       " (7, 5): ('expoNEn', '▢▢poLYn', 4),\n",
       " (7, 6): ('expoNEn▢', '▢▢poLYno', 5),\n",
       " (7, 7): ('expoNEn▢▢', '▢▢poLYnom', 6),\n",
       " (7, 8): ('expoNEn▢▢▢', '▢▢poLYnomi', 7),\n",
       " (7, 9): ('expoNEn▢▢▢▢', '▢▢poLYnomia', 8),\n",
       " (7, 10): ('expoNEn▢▢▢▢▢', '▢▢poLYnomial', 9),\n",
       " (8, 0): ('exponent', '▢▢▢▢▢▢▢▢', 8),\n",
       " (8, 1): ('exponent', '▢▢p▢▢▢▢▢', 7),\n",
       " (8, 2): ('exponent', '▢▢po▢▢▢▢', 6),\n",
       " (8, 3): ('expoNent', '▢▢poL▢▢▢', 6),\n",
       " (8, 4): ('expoNEnt', '▢▢poLY▢▢', 6),\n",
       " (8, 5): ('expoNEnt', '▢▢poLYn▢', 5),\n",
       " (8, 6): ('expoNEnT', '▢▢poLYnO', 5),\n",
       " (8, 7): ('expoNEnT▢', '▢▢poLYnOm', 6),\n",
       " (8, 8): ('expoNEnT▢▢', '▢▢poLYnOmi', 7),\n",
       " (8, 9): ('expoNEnT▢▢▢', '▢▢poLYnOmia', 8),\n",
       " (8, 10): ('expoNEnT▢▢▢▢', '▢▢poLYnOmial', 9),\n",
       " (9, 0): ('exponenti', '▢▢▢▢▢▢▢▢▢', 9),\n",
       " (9, 1): ('exponenti', '▢▢p▢▢▢▢▢▢', 8),\n",
       " (9, 2): ('exponenti', '▢▢po▢▢▢▢▢', 7),\n",
       " (9, 3): ('expoNenti', '▢▢poL▢▢▢▢', 7),\n",
       " (9, 4): ('expoNEnti', '▢▢poLY▢▢▢', 7),\n",
       " (9, 5): ('expoNEnti', '▢▢poLYn▢▢', 6),\n",
       " (9, 6): ('expoNEnTi', '▢▢poLYnO▢', 6),\n",
       " (9, 7): ('expoNEnTI', '▢▢poLYnOM', 6),\n",
       " (9, 8): ('expoNEnT▢i', '▢▢poLYnOmi', 6),\n",
       " (9, 9): ('expoNEnT▢i▢', '▢▢poLYnOmia', 7),\n",
       " (9, 10): ('expoNEnT▢i▢▢', '▢▢poLYnOmial', 8),\n",
       " (10, 0): ('exponentia', '▢▢▢▢▢▢▢▢▢▢', 10),\n",
       " (10, 1): ('exponentia', '▢▢p▢▢▢▢▢▢▢', 9),\n",
       " (10, 2): ('exponentia', '▢▢po▢▢▢▢▢▢', 8),\n",
       " (10, 3): ('expoNentia', '▢▢poL▢▢▢▢▢', 8),\n",
       " (10, 4): ('expoNEntia', '▢▢poLY▢▢▢▢', 8),\n",
       " (10, 5): ('expoNEntia', '▢▢poLYn▢▢▢', 7),\n",
       " (10, 6): ('expoNEnTia', '▢▢poLYnO▢▢', 7),\n",
       " (10, 7): ('expoNEnTIa', '▢▢poLYnOM▢', 7),\n",
       " (10, 8): ('expoNEnT▢ia', '▢▢poLYnOmi▢', 7),\n",
       " (10, 9): ('expoNEnT▢ia', '▢▢poLYnOmia', 6),\n",
       " (10, 10): ('expoNEnT▢ia▢', '▢▢poLYnOmial', 7),\n",
       " (11, 0): ('exponential', '▢▢▢▢▢▢▢▢▢▢▢', 11),\n",
       " (11, 1): ('exponential', '▢▢p▢▢▢▢▢▢▢▢', 10),\n",
       " (11, 2): ('exponential', '▢▢po▢▢▢▢▢▢▢', 9),\n",
       " (11, 3): ('exponential', '▢▢po▢▢▢▢▢▢l', 8),\n",
       " (11, 4): ('expoNEntial', '▢▢poLY▢▢▢▢▢', 9),\n",
       " (11, 5): ('expoNEntial', '▢▢poLYn▢▢▢▢', 8),\n",
       " (11, 6): ('expoNEnTial', '▢▢poLYnO▢▢▢', 8),\n",
       " (11, 7): ('expoNEnTIal', '▢▢poLYnOM▢▢', 8),\n",
       " (11, 8): ('expoNEnT▢ial', '▢▢poLYnOmi▢▢', 8),\n",
       " (11, 9): ('expoNEnT▢ial', '▢▢poLYnOmia▢', 7),\n",
       " (11, 10): ('expoNEnT▢ial', '▢▢poLYnOmial', 6)}"
      ]
     },
     "execution_count": 270,
     "metadata": {},
     "output_type": "execute_result"
    }
   ],
   "source": [
    "memo_table"
   ]
  },
  {
   "cell_type": "markdown",
   "metadata": {},
   "source": [
    "---\n",
    "<a rel=\"license\" href=\"http://creativecommons.org/licenses/by-nc-sa/4.0/\"><img alt=\"Creative Commons License\" style=\"border-width:0\" src=\"https://i.creativecommons.org/l/by-nc-sa/4.0/88x31.png\" /></a><br />This work is licensed under a <a rel=\"license\" href=\"http://creativecommons.org/licenses/by-nc-sa/4.0/\">Creative Commons Attribution-NonCommercial-ShareAlike 4.0 International License</a>."
   ]
  }
 ],
 "metadata": {
  "kernelspec": {
   "display_name": "Python 3",
   "language": "python",
   "name": "python3"
  },
  "language_info": {
   "codemirror_mode": {
    "name": "ipython",
    "version": 3
   },
   "file_extension": ".py",
   "mimetype": "text/x-python",
   "name": "python",
   "nbconvert_exporter": "python",
   "pygments_lexer": "ipython3",
   "version": "3.5.2"
  }
 },
 "nbformat": 4,
 "nbformat_minor": 0
}
