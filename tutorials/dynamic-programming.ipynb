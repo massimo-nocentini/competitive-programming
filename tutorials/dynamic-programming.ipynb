{
 "cells": [
  {
   "cell_type": "markdown",
   "metadata": {},
   "source": [
    "<p>\n",
    "<img src=\"http://www.cerm.unifi.it/chianti/images/logo%20unifi_positivo.jpg\" \n",
    "        alt=\"UniFI logo\" style=\"float: left; width: 20%; height: 20%;\">\n",
    "<div align=\"right\">\n",
    "Massimo Nocentini<br>\n",
    "<small>\n",
    "<br>December 1, 2016: `longest_common_subsequence`\n",
    "<br>November 29, 2016: `matrix_product_ordering`\n",
    "<br>November 22, 2016: `edit_distance`\n",
    "<br>September 21, 2016: Monge arrays\n",
    "</small>\n",
    "</div>\n",
    "</p>\n",
    "<br>\n",
    "<div align=\"center\">\n",
    "<b>Abstract</b><br>\n",
    "Some examples of *dynamic programming*.\n",
    "</div>"
   ]
  },
  {
   "cell_type": "code",
   "execution_count": 24,
   "metadata": {
    "collapsed": false
   },
   "outputs": [],
   "source": [
    "from functools import lru_cache\n",
    "import operator\n",
    "from itertools import count, zip_longest, chain\n",
    "from collections import OrderedDict\n",
    "from random import randint"
   ]
  },
  {
   "cell_type": "code",
   "execution_count": 2,
   "metadata": {
    "collapsed": true
   },
   "outputs": [],
   "source": [
    "def memo_holder(optimizer):\n",
    "    def f(*args, **kwds):\n",
    "        return_memo_table = kwds.pop('memo_table', False)\n",
    "        pair = optimized, memo_table = optimizer(*args, **kwds)\n",
    "        return pair if return_memo_table else optimized\n",
    "    return f"
   ]
  },
  {
   "cell_type": "markdown",
   "metadata": {},
   "source": [
    "# Monge arrays\n",
    "\n",
    "Have a look at https://en.wikipedia.org/wiki/Monge_array"
   ]
  },
  {
   "cell_type": "code",
   "execution_count": 3,
   "metadata": {
    "collapsed": true
   },
   "outputs": [],
   "source": [
    "def parity_numbered_rows(matrix, parity, include_index=False):\n",
    "    start = 0 if parity == 'even' else 1\n",
    "    return [(i, r) if include_index else r \n",
    "            for i in range(start, len(matrix), 2)\n",
    "            for r in [matrix[i]]]\n",
    "    \n",
    "def argmin(iterable, only_index=True):\n",
    "    index, minimum = index_min = min(enumerate(iterable), key=operator.itemgetter(1))\n",
    "    return index if only_index else index_min\n",
    "\n",
    "def interleaving(one, another):\n",
    "    for o, a in zip_longest(one, another):\n",
    "        yield o\n",
    "        if a: yield a\n",
    "\n",
    "def is_sorted(iterable, pred=lambda l, g: l <= g):\n",
    "    _, *rest = iterable\n",
    "    return all(pred(l, g) for l, g in zip(iterable, rest))\n",
    "            \n",
    "def minima_indexes(matrix):\n",
    "    \n",
    "    if len(matrix) == 1: return [argmin(matrix.pop())]\n",
    "    \n",
    "    recursion = minima_indexes(parity_numbered_rows(matrix, parity='even'))\n",
    "    even_minima = OrderedDict((i, m) for i, m in zip(count(start=0, step=2), recursion))\n",
    "    odd_minima = [argmin(odd_r[start:end]) + start\n",
    "                  for o, odd_r in parity_numbered_rows(matrix, parity='odd', include_index=True)\n",
    "                  for start in [even_minima[o-1]]\n",
    "                  for end in [even_minima[o+1]+1 if o+1 in even_minima else None]]\n",
    "    \n",
    "    return list(interleaving(even_minima.values(), odd_minima))\n",
    "\n",
    "def minima(matrix):\n",
    "    return [matrix[i][m] for i, m in enumerate(minima_indexes(matrix))]\n",
    "\n",
    "def is_not_monge(matrix):\n",
    "    return any(any(matrix[r][m] > matrix[r][i] for i in range(m)) \n",
    "               for r, m in enumerate(minima_indexes(matrix)))\n",
    "    "
   ]
  },
  {
   "cell_type": "markdown",
   "metadata": {},
   "source": [
    "The following *is* a Monge array:"
   ]
  },
  {
   "cell_type": "code",
   "execution_count": 70,
   "metadata": {
    "collapsed": false
   },
   "outputs": [
    {
     "data": {
      "text/plain": [
       "[10, 16, 22, 6, 23, 6, 34]"
      ]
     },
     "execution_count": 70,
     "metadata": {},
     "output_type": "execute_result"
    }
   ],
   "source": [
    "matrix = [\n",
    "    [10, 17, 13, 28, 23],\n",
    "    [17, 22, 16, 29, 23],\n",
    "    [24, 28, 22, 34, 24],\n",
    "    [11, 13, 6, 17, 7],\n",
    "    [45, 44, 32, 37, 23],\n",
    "    [36, 33, 19, 21, 6],\n",
    "    [75, 66, 51, 53, 34],\n",
    "]\n",
    "\n",
    "minima(matrix)"
   ]
  },
  {
   "cell_type": "code",
   "execution_count": 71,
   "metadata": {
    "collapsed": false
   },
   "outputs": [
    {
     "data": {
      "text/plain": [
       "[0, 2, 2, 2, 4, 4, 4]"
      ]
     },
     "execution_count": 71,
     "metadata": {},
     "output_type": "execute_result"
    }
   ],
   "source": [
    "minima_indexes(matrix)"
   ]
  },
  {
   "cell_type": "code",
   "execution_count": 72,
   "metadata": {
    "collapsed": false
   },
   "outputs": [
    {
     "data": {
      "text/plain": [
       "False"
      ]
     },
     "execution_count": 72,
     "metadata": {},
     "output_type": "execute_result"
    }
   ],
   "source": [
    "is_not_monge(matrix)"
   ]
  },
  {
   "cell_type": "markdown",
   "metadata": {},
   "source": [
    "The following *is not* a Monge array:"
   ]
  },
  {
   "cell_type": "code",
   "execution_count": 73,
   "metadata": {
    "collapsed": false
   },
   "outputs": [
    {
     "data": {
      "text/plain": [
       "[22, 7, 30, 6, 8]"
      ]
     },
     "execution_count": 73,
     "metadata": {},
     "output_type": "execute_result"
    }
   ],
   "source": [
    "matrix = [\n",
    "    [37, 23, 22, 32],\n",
    "    [21, 6, 7, 10],\n",
    "    [53, 34, 30, 31],\n",
    "    [32, 13, 9, 6],\n",
    "    [43, 21, 15, 8],\n",
    "]\n",
    "\n",
    "minima(matrix) # produces a wrong answer!!!"
   ]
  },
  {
   "cell_type": "code",
   "execution_count": 74,
   "metadata": {
    "collapsed": false
   },
   "outputs": [
    {
     "data": {
      "text/plain": [
       "[2, 2, 2, 3, 3]"
      ]
     },
     "execution_count": 74,
     "metadata": {},
     "output_type": "execute_result"
    }
   ],
   "source": [
    "minima_indexes(matrix)"
   ]
  },
  {
   "cell_type": "code",
   "execution_count": 75,
   "metadata": {
    "collapsed": false
   },
   "outputs": [
    {
     "data": {
      "text/plain": [
       "True"
      ]
     },
     "execution_count": 75,
     "metadata": {},
     "output_type": "execute_result"
    }
   ],
   "source": [
    "is_not_monge(matrix)"
   ]
  },
  {
   "cell_type": "markdown",
   "metadata": {},
   "source": [
    "# `longest_increasing_subsequence`"
   ]
  },
  {
   "cell_type": "code",
   "execution_count": 35,
   "metadata": {
    "collapsed": false
   },
   "outputs": [],
   "source": [
    "@memo_holder\n",
    "def longest_increasing_subsequence(seq):\n",
    "\n",
    "    L = []\n",
    "\n",
    "    for i, current in enumerate(seq):\n",
    "        \"\"\"opt, arg = max([(l, j) for (l, j) in L[:i] if l[-1] < current], \n",
    "                       key=lambda p: len(p[0]), \n",
    "                       default=([], tuple()))\n",
    "        L.append(opt + [current], (arg, i))\"\"\"\n",
    "        L.append(max(filter(lambda prefix: prefix[-1] < current, L[:i]), key=len, default=[]) + [current])\n",
    "\n",
    "    return max(L, key=len), L\n",
    "\n",
    "\n",
    "def lis_rec(seq):\n",
    "\n",
    "    @lru_cache(maxsize=None)\n",
    "    def rec(i):\n",
    "        current = seq[i]\n",
    "        return max([rec(j) for j in range(i) if seq[j] < current], key=len, default=[]) + [current]\n",
    "\n",
    "    return max([rec(i) for i, _ in enumerate(seq)], key=len)\n",
    "\n"
   ]
  },
  {
   "cell_type": "markdown",
   "metadata": {},
   "source": [
    "a simple test case taken from page 157:"
   ]
  },
  {
   "cell_type": "code",
   "execution_count": 36,
   "metadata": {
    "collapsed": true
   },
   "outputs": [],
   "source": [
    "seq = [5, 2, 8, 6, 3, 6, 9, 7] # see page 157"
   ]
  },
  {
   "cell_type": "code",
   "execution_count": 37,
   "metadata": {
    "collapsed": false
   },
   "outputs": [],
   "source": [
    "subseq, memo_table = longest_increasing_subsequence(seq, memo_table=True)"
   ]
  },
  {
   "cell_type": "code",
   "execution_count": 38,
   "metadata": {
    "collapsed": false
   },
   "outputs": [
    {
     "data": {
      "text/plain": [
       "[2, 3, 6, 9]"
      ]
     },
     "execution_count": 38,
     "metadata": {},
     "output_type": "execute_result"
    }
   ],
   "source": [
    "subseq"
   ]
  },
  {
   "cell_type": "markdown",
   "metadata": {},
   "source": [
    "memoization table shows that `[2,3,6,7]` is another solution:"
   ]
  },
  {
   "cell_type": "code",
   "execution_count": 39,
   "metadata": {
    "collapsed": false
   },
   "outputs": [
    {
     "data": {
      "text/plain": [
       "[[5], [2], [5, 8], [5, 6], [2, 3], [2, 3, 6], [2, 3, 6, 9], [2, 3, 6, 7]]"
      ]
     },
     "execution_count": 39,
     "metadata": {},
     "output_type": "execute_result"
    }
   ],
   "source": [
    "memo_table"
   ]
  },
  {
   "cell_type": "code",
   "execution_count": 40,
   "metadata": {
    "collapsed": false
   },
   "outputs": [
    {
     "data": {
      "text/plain": [
       "[2, 3, 6, 9]"
      ]
     },
     "execution_count": 40,
     "metadata": {},
     "output_type": "execute_result"
    }
   ],
   "source": [
    "lis_rec(seq)"
   ]
  },
  {
   "cell_type": "markdown",
   "metadata": {},
   "source": [
    "The following is an average case where the sequence is generated randomly:"
   ]
  },
  {
   "cell_type": "code",
   "execution_count": 41,
   "metadata": {
    "collapsed": false
   },
   "outputs": [],
   "source": [
    "length = int(5e3)\n",
    "seq = [randint(0, length) for _ in range(length)]"
   ]
  },
  {
   "cell_type": "code",
   "execution_count": 42,
   "metadata": {
    "collapsed": false
   },
   "outputs": [
    {
     "name": "stdout",
     "output_type": "stream",
     "text": [
      "1 loop, best of 3: 3.73 s per loop\n"
     ]
    }
   ],
   "source": [
    "%timeit longest_increasing_subsequence(seq)"
   ]
  },
  {
   "cell_type": "code",
   "execution_count": 43,
   "metadata": {
    "collapsed": false
   },
   "outputs": [
    {
     "name": "stdout",
     "output_type": "stream",
     "text": [
      "1 loop, best of 3: 3.06 s per loop\n"
     ]
    }
   ],
   "source": [
    "%timeit lis_rec(seq)"
   ]
  },
  {
   "cell_type": "markdown",
   "metadata": {},
   "source": [
    "worst scenario where the sequence is a sorted list, in increasing order:"
   ]
  },
  {
   "cell_type": "code",
   "execution_count": 44,
   "metadata": {
    "collapsed": true
   },
   "outputs": [],
   "source": [
    "seq = range(length)"
   ]
  },
  {
   "cell_type": "code",
   "execution_count": 45,
   "metadata": {
    "collapsed": false
   },
   "outputs": [
    {
     "name": "stdout",
     "output_type": "stream",
     "text": [
      "1 loop, best of 3: 3.94 s per loop\n"
     ]
    }
   ],
   "source": [
    "%timeit longest_increasing_subsequence(seq)"
   ]
  },
  {
   "cell_type": "code",
   "execution_count": 46,
   "metadata": {
    "collapsed": false
   },
   "outputs": [
    {
     "name": "stdout",
     "output_type": "stream",
     "text": [
      "1 loop, best of 3: 5.32 s per loop\n"
     ]
    }
   ],
   "source": [
    "%timeit lis_rec(seq)"
   ]
  },
  {
   "cell_type": "markdown",
   "metadata": {},
   "source": [
    "# `edit_distance`"
   ]
  },
  {
   "cell_type": "code",
   "execution_count": 26,
   "metadata": {
    "collapsed": false
   },
   "outputs": [],
   "source": [
    "@memo_holder\n",
    "def edit_distance(xs, ys, \n",
    "                  gap_in_xs=lambda y: 1, # cost of putting a gap in `xs` when reading `y`\n",
    "                  gap_in_ys=lambda x: 1, # cost of putting a gap in `ys` when reading `x`\n",
    "                  mismatch=lambda x, y: 1,   # cost of mismatch (x, y) in the sense of `==`\n",
    "                  gap = '▢',\n",
    "                  mark=lambda s: s.swapcase(), \n",
    "                  reduce=sum):\n",
    "    \n",
    "    T = {}\n",
    "    \n",
    "    T.update({ (i, 0):(xs[:i], gap * i, i) for i in range(len(xs)+1) })\n",
    "    T.update({ (0, j):( gap * j,ys[:j], j) for j in range(len(ys)+1) })\n",
    "    \n",
    "    def combine(w, z):\n",
    "        a, b, c = zip(w, z)\n",
    "        return ''.join(a), ''.join(b), reduce(c)\n",
    "    \n",
    "    for i, x in enumerate(xs, start=1):\n",
    "        for j, y in enumerate(ys, start=1):\n",
    "             T[i, j] = min(combine(T[i-1, j], (x, gap, gap_in_ys(x))),\n",
    "                           combine(T[i, j-1], (gap, y, gap_in_xs(y))),\n",
    "                           combine(T[i-1, j-1], (x, y, 0) if x == y else (mark(x), mark(y), mismatch(x, y))),\n",
    "                           key=lambda t: t[2])\n",
    "                \n",
    "    \n",
    "    return T[len(xs), len(ys)], T"
   ]
  },
  {
   "cell_type": "code",
   "execution_count": 21,
   "metadata": {
    "collapsed": false,
    "scrolled": false
   },
   "outputs": [],
   "source": [
    "(xs, ys, cost), memo_table = edit_distance('exponential', 'polynomial', memo_table=True)"
   ]
  },
  {
   "cell_type": "code",
   "execution_count": 22,
   "metadata": {
    "collapsed": false
   },
   "outputs": [
    {
     "name": "stdout",
     "output_type": "stream",
     "text": [
      "edit with cost 6:\n",
      "\n",
      "expoNEnT▢ial\n",
      "▢▢poLYnOmial\n"
     ]
    }
   ],
   "source": [
    "print('edit with cost {}:\\n\\n{}\\n{}'.format(cost, xs, ys))"
   ]
  },
  {
   "cell_type": "code",
   "execution_count": 23,
   "metadata": {
    "collapsed": false,
    "scrolled": false
   },
   "outputs": [
    {
     "data": {
      "text/plain": [
       "{(0, 0): ('', '', 0),\n",
       " (0, 1): ('▢', 'p', 1),\n",
       " (0, 2): ('▢▢', 'po', 2),\n",
       " (0, 3): ('▢▢▢', 'pol', 3),\n",
       " (0, 4): ('▢▢▢▢', 'poly', 4),\n",
       " (0, 5): ('▢▢▢▢▢', 'polyn', 5),\n",
       " (0, 6): ('▢▢▢▢▢▢', 'polyno', 6),\n",
       " (0, 7): ('▢▢▢▢▢▢▢', 'polynom', 7),\n",
       " (0, 8): ('▢▢▢▢▢▢▢▢', 'polynomi', 8),\n",
       " (0, 9): ('▢▢▢▢▢▢▢▢▢', 'polynomia', 9),\n",
       " (0, 10): ('▢▢▢▢▢▢▢▢▢▢', 'polynomial', 10),\n",
       " (1, 0): ('e', '▢', 1),\n",
       " (1, 1): ('E', 'P', 1),\n",
       " (1, 2): ('E▢', 'Po', 2),\n",
       " (1, 3): ('E▢▢', 'Pol', 3),\n",
       " (1, 4): ('E▢▢▢', 'Poly', 4),\n",
       " (1, 5): ('E▢▢▢▢', 'Polyn', 5),\n",
       " (1, 6): ('E▢▢▢▢▢', 'Polyno', 6),\n",
       " (1, 7): ('E▢▢▢▢▢▢', 'Polynom', 7),\n",
       " (1, 8): ('E▢▢▢▢▢▢▢', 'Polynomi', 8),\n",
       " (1, 9): ('E▢▢▢▢▢▢▢▢', 'Polynomia', 9),\n",
       " (1, 10): ('E▢▢▢▢▢▢▢▢▢', 'Polynomial', 10),\n",
       " (2, 0): ('ex', '▢▢', 2),\n",
       " (2, 1): ('Ex', 'P▢', 2),\n",
       " (2, 2): ('EX', 'PO', 2),\n",
       " (2, 3): ('EX▢', 'POl', 3),\n",
       " (2, 4): ('EX▢▢', 'POly', 4),\n",
       " (2, 5): ('EX▢▢▢', 'POlyn', 5),\n",
       " (2, 6): ('EX▢▢▢▢', 'POlyno', 6),\n",
       " (2, 7): ('EX▢▢▢▢▢', 'POlynom', 7),\n",
       " (2, 8): ('EX▢▢▢▢▢▢', 'POlynomi', 8),\n",
       " (2, 9): ('EX▢▢▢▢▢▢▢', 'POlynomia', 9),\n",
       " (2, 10): ('EX▢▢▢▢▢▢▢▢', 'POlynomial', 10),\n",
       " (3, 0): ('exp', '▢▢▢', 3),\n",
       " (3, 1): ('exp', '▢▢p', 2),\n",
       " (3, 2): ('EXp', 'PO▢', 3),\n",
       " (3, 3): ('EXP', 'POL', 3),\n",
       " (3, 4): ('EXP▢', 'POLy', 4),\n",
       " (3, 5): ('EXP▢▢', 'POLyn', 5),\n",
       " (3, 6): ('EXP▢▢▢', 'POLyno', 6),\n",
       " (3, 7): ('EXP▢▢▢▢', 'POLynom', 7),\n",
       " (3, 8): ('EXP▢▢▢▢▢', 'POLynomi', 8),\n",
       " (3, 9): ('EXP▢▢▢▢▢▢', 'POLynomia', 9),\n",
       " (3, 10): ('EXP▢▢▢▢▢▢▢', 'POLynomial', 10),\n",
       " (4, 0): ('expo', '▢▢▢▢', 4),\n",
       " (4, 1): ('expo', '▢▢p▢', 3),\n",
       " (4, 2): ('expo', '▢▢po', 2),\n",
       " (4, 3): ('expo▢', '▢▢pol', 3),\n",
       " (4, 4): ('expo▢▢', '▢▢poly', 4),\n",
       " (4, 5): ('expo▢▢▢', '▢▢polyn', 5),\n",
       " (4, 6): ('EXP▢▢o', 'POLyno', 5),\n",
       " (4, 7): ('EXP▢▢o▢', 'POLynom', 6),\n",
       " (4, 8): ('EXP▢▢o▢▢', 'POLynomi', 7),\n",
       " (4, 9): ('EXP▢▢o▢▢▢', 'POLynomia', 8),\n",
       " (4, 10): ('EXP▢▢o▢▢▢▢', 'POLynomial', 9),\n",
       " (5, 0): ('expon', '▢▢▢▢▢', 5),\n",
       " (5, 1): ('expon', '▢▢p▢▢', 4),\n",
       " (5, 2): ('expon', '▢▢po▢', 3),\n",
       " (5, 3): ('expoN', '▢▢poL', 3),\n",
       " (5, 4): ('expoN▢', '▢▢poLy', 4),\n",
       " (5, 5): ('expo▢▢n', '▢▢polyn', 4),\n",
       " (5, 6): ('expo▢▢n▢', '▢▢polyno', 5),\n",
       " (5, 7): ('expo▢▢n▢▢', '▢▢polynom', 6),\n",
       " (5, 8): ('expo▢▢n▢▢▢', '▢▢polynomi', 7),\n",
       " (5, 9): ('expo▢▢n▢▢▢▢', '▢▢polynomia', 8),\n",
       " (5, 10): ('expo▢▢n▢▢▢▢▢', '▢▢polynomial', 9),\n",
       " (6, 0): ('expone', '▢▢▢▢▢▢', 6),\n",
       " (6, 1): ('expone', '▢▢p▢▢▢', 5),\n",
       " (6, 2): ('expone', '▢▢po▢▢', 4),\n",
       " (6, 3): ('expoNe', '▢▢poL▢', 4),\n",
       " (6, 4): ('expoNE', '▢▢poLY', 4),\n",
       " (6, 5): ('expo▢▢ne', '▢▢polyn▢', 5),\n",
       " (6, 6): ('expo▢▢nE', '▢▢polynO', 5),\n",
       " (6, 7): ('expo▢▢nE▢', '▢▢polynOm', 6),\n",
       " (6, 8): ('expo▢▢nE▢▢', '▢▢polynOmi', 7),\n",
       " (6, 9): ('expo▢▢nE▢▢▢', '▢▢polynOmia', 8),\n",
       " (6, 10): ('expo▢▢nE▢▢▢▢', '▢▢polynOmial', 9),\n",
       " (7, 0): ('exponen', '▢▢▢▢▢▢▢', 7),\n",
       " (7, 1): ('exponen', '▢▢p▢▢▢▢', 6),\n",
       " (7, 2): ('exponen', '▢▢po▢▢▢', 5),\n",
       " (7, 3): ('expoNen', '▢▢poL▢▢', 5),\n",
       " (7, 4): ('expoNEn', '▢▢poLY▢', 5),\n",
       " (7, 5): ('expoNEn', '▢▢poLYn', 4),\n",
       " (7, 6): ('expoNEn▢', '▢▢poLYno', 5),\n",
       " (7, 7): ('expoNEn▢▢', '▢▢poLYnom', 6),\n",
       " (7, 8): ('expoNEn▢▢▢', '▢▢poLYnomi', 7),\n",
       " (7, 9): ('expoNEn▢▢▢▢', '▢▢poLYnomia', 8),\n",
       " (7, 10): ('expoNEn▢▢▢▢▢', '▢▢poLYnomial', 9),\n",
       " (8, 0): ('exponent', '▢▢▢▢▢▢▢▢', 8),\n",
       " (8, 1): ('exponent', '▢▢p▢▢▢▢▢', 7),\n",
       " (8, 2): ('exponent', '▢▢po▢▢▢▢', 6),\n",
       " (8, 3): ('expoNent', '▢▢poL▢▢▢', 6),\n",
       " (8, 4): ('expoNEnt', '▢▢poLY▢▢', 6),\n",
       " (8, 5): ('expoNEnt', '▢▢poLYn▢', 5),\n",
       " (8, 6): ('expoNEnT', '▢▢poLYnO', 5),\n",
       " (8, 7): ('expoNEnT▢', '▢▢poLYnOm', 6),\n",
       " (8, 8): ('expoNEnT▢▢', '▢▢poLYnOmi', 7),\n",
       " (8, 9): ('expoNEnT▢▢▢', '▢▢poLYnOmia', 8),\n",
       " (8, 10): ('expoNEnT▢▢▢▢', '▢▢poLYnOmial', 9),\n",
       " (9, 0): ('exponenti', '▢▢▢▢▢▢▢▢▢', 9),\n",
       " (9, 1): ('exponenti', '▢▢p▢▢▢▢▢▢', 8),\n",
       " (9, 2): ('exponenti', '▢▢po▢▢▢▢▢', 7),\n",
       " (9, 3): ('expoNenti', '▢▢poL▢▢▢▢', 7),\n",
       " (9, 4): ('expoNEnti', '▢▢poLY▢▢▢', 7),\n",
       " (9, 5): ('expoNEnti', '▢▢poLYn▢▢', 6),\n",
       " (9, 6): ('expoNEnTi', '▢▢poLYnO▢', 6),\n",
       " (9, 7): ('expoNEnTI', '▢▢poLYnOM', 6),\n",
       " (9, 8): ('expoNEnT▢i', '▢▢poLYnOmi', 6),\n",
       " (9, 9): ('expoNEnT▢i▢', '▢▢poLYnOmia', 7),\n",
       " (9, 10): ('expoNEnT▢i▢▢', '▢▢poLYnOmial', 8),\n",
       " (10, 0): ('exponentia', '▢▢▢▢▢▢▢▢▢▢', 10),\n",
       " (10, 1): ('exponentia', '▢▢p▢▢▢▢▢▢▢', 9),\n",
       " (10, 2): ('exponentia', '▢▢po▢▢▢▢▢▢', 8),\n",
       " (10, 3): ('expoNentia', '▢▢poL▢▢▢▢▢', 8),\n",
       " (10, 4): ('expoNEntia', '▢▢poLY▢▢▢▢', 8),\n",
       " (10, 5): ('expoNEntia', '▢▢poLYn▢▢▢', 7),\n",
       " (10, 6): ('expoNEnTia', '▢▢poLYnO▢▢', 7),\n",
       " (10, 7): ('expoNEnTIa', '▢▢poLYnOM▢', 7),\n",
       " (10, 8): ('expoNEnT▢ia', '▢▢poLYnOmi▢', 7),\n",
       " (10, 9): ('expoNEnT▢ia', '▢▢poLYnOmia', 6),\n",
       " (10, 10): ('expoNEnT▢ia▢', '▢▢poLYnOmial', 7),\n",
       " (11, 0): ('exponential', '▢▢▢▢▢▢▢▢▢▢▢', 11),\n",
       " (11, 1): ('exponential', '▢▢p▢▢▢▢▢▢▢▢', 10),\n",
       " (11, 2): ('exponential', '▢▢po▢▢▢▢▢▢▢', 9),\n",
       " (11, 3): ('exponential', '▢▢po▢▢▢▢▢▢l', 8),\n",
       " (11, 4): ('expoNEntial', '▢▢poLY▢▢▢▢▢', 9),\n",
       " (11, 5): ('expoNEntial', '▢▢poLYn▢▢▢▢', 8),\n",
       " (11, 6): ('expoNEnTial', '▢▢poLYnO▢▢▢', 8),\n",
       " (11, 7): ('expoNEnTIal', '▢▢poLYnOM▢▢', 8),\n",
       " (11, 8): ('expoNEnT▢ial', '▢▢poLYnOmi▢▢', 8),\n",
       " (11, 9): ('expoNEnT▢ial', '▢▢poLYnOmia▢', 7),\n",
       " (11, 10): ('expoNEnT▢ial', '▢▢poLYnOmial', 6)}"
      ]
     },
     "execution_count": 23,
     "metadata": {},
     "output_type": "execute_result"
    }
   ],
   "source": [
    "memo_table"
   ]
  },
  {
   "cell_type": "code",
   "execution_count": 49,
   "metadata": {
    "collapsed": false,
    "scrolled": false
   },
   "outputs": [],
   "source": [
    "(xs, ys, cost), memo_table = edit_distance('exponential', 'polynomial', memo_table=True, mismatch=lambda x,y: 10)"
   ]
  },
  {
   "cell_type": "code",
   "execution_count": 50,
   "metadata": {
    "collapsed": false
   },
   "outputs": [
    {
     "name": "stdout",
     "output_type": "stream",
     "text": [
      "edit with cost 9:\n",
      "\n",
      "expo▢▢n▢▢ential\n",
      "▢▢polynom▢▢▢ial\n"
     ]
    }
   ],
   "source": [
    "print('edit with cost {}:\\n\\n{}\\n{}'.format(cost, xs, ys))"
   ]
  },
  {
   "cell_type": "code",
   "execution_count": 51,
   "metadata": {
    "collapsed": false,
    "scrolled": false
   },
   "outputs": [
    {
     "data": {
      "text/plain": [
       "{(0, 0): ('', '', 0),\n",
       " (0, 1): ('▢', 'p', 1),\n",
       " (0, 2): ('▢▢', 'po', 2),\n",
       " (0, 3): ('▢▢▢', 'pol', 3),\n",
       " (0, 4): ('▢▢▢▢', 'poly', 4),\n",
       " (0, 5): ('▢▢▢▢▢', 'polyn', 5),\n",
       " (0, 6): ('▢▢▢▢▢▢', 'polyno', 6),\n",
       " (0, 7): ('▢▢▢▢▢▢▢', 'polynom', 7),\n",
       " (0, 8): ('▢▢▢▢▢▢▢▢', 'polynomi', 8),\n",
       " (0, 9): ('▢▢▢▢▢▢▢▢▢', 'polynomia', 9),\n",
       " (0, 10): ('▢▢▢▢▢▢▢▢▢▢', 'polynomial', 10),\n",
       " (1, 0): ('e', '▢', 1),\n",
       " (1, 1): ('▢e', 'p▢', 2),\n",
       " (1, 2): ('▢▢e', 'po▢', 3),\n",
       " (1, 3): ('▢▢▢e', 'pol▢', 4),\n",
       " (1, 4): ('▢▢▢▢e', 'poly▢', 5),\n",
       " (1, 5): ('▢▢▢▢▢e', 'polyn▢', 6),\n",
       " (1, 6): ('▢▢▢▢▢▢e', 'polyno▢', 7),\n",
       " (1, 7): ('▢▢▢▢▢▢▢e', 'polynom▢', 8),\n",
       " (1, 8): ('▢▢▢▢▢▢▢▢e', 'polynomi▢', 9),\n",
       " (1, 9): ('▢▢▢▢▢▢▢▢▢e', 'polynomia▢', 10),\n",
       " (1, 10): ('▢▢▢▢▢▢▢▢▢▢e', 'polynomial▢', 11),\n",
       " (2, 0): ('ex', '▢▢', 2),\n",
       " (2, 1): ('▢ex', 'p▢▢', 3),\n",
       " (2, 2): ('▢▢ex', 'po▢▢', 4),\n",
       " (2, 3): ('▢▢▢ex', 'pol▢▢', 5),\n",
       " (2, 4): ('▢▢▢▢ex', 'poly▢▢', 6),\n",
       " (2, 5): ('▢▢▢▢▢ex', 'polyn▢▢', 7),\n",
       " (2, 6): ('▢▢▢▢▢▢ex', 'polyno▢▢', 8),\n",
       " (2, 7): ('▢▢▢▢▢▢▢ex', 'polynom▢▢', 9),\n",
       " (2, 8): ('▢▢▢▢▢▢▢▢ex', 'polynomi▢▢', 10),\n",
       " (2, 9): ('▢▢▢▢▢▢▢▢▢ex', 'polynomia▢▢', 11),\n",
       " (2, 10): ('▢▢▢▢▢▢▢▢▢▢ex', 'polynomial▢▢', 12),\n",
       " (3, 0): ('exp', '▢▢▢', 3),\n",
       " (3, 1): ('exp', '▢▢p', 2),\n",
       " (3, 2): ('exp▢', '▢▢po', 3),\n",
       " (3, 3): ('exp▢▢', '▢▢pol', 4),\n",
       " (3, 4): ('exp▢▢▢', '▢▢poly', 5),\n",
       " (3, 5): ('exp▢▢▢▢', '▢▢polyn', 6),\n",
       " (3, 6): ('exp▢▢▢▢▢', '▢▢polyno', 7),\n",
       " (3, 7): ('exp▢▢▢▢▢▢', '▢▢polynom', 8),\n",
       " (3, 8): ('exp▢▢▢▢▢▢▢', '▢▢polynomi', 9),\n",
       " (3, 9): ('exp▢▢▢▢▢▢▢▢', '▢▢polynomia', 10),\n",
       " (3, 10): ('exp▢▢▢▢▢▢▢▢▢', '▢▢polynomial', 11),\n",
       " (4, 0): ('expo', '▢▢▢▢', 4),\n",
       " (4, 1): ('expo', '▢▢p▢', 3),\n",
       " (4, 2): ('expo', '▢▢po', 2),\n",
       " (4, 3): ('expo▢', '▢▢pol', 3),\n",
       " (4, 4): ('expo▢▢', '▢▢poly', 4),\n",
       " (4, 5): ('expo▢▢▢', '▢▢polyn', 5),\n",
       " (4, 6): ('expo▢▢▢▢', '▢▢polyno', 6),\n",
       " (4, 7): ('expo▢▢▢▢▢', '▢▢polynom', 7),\n",
       " (4, 8): ('expo▢▢▢▢▢▢', '▢▢polynomi', 8),\n",
       " (4, 9): ('expo▢▢▢▢▢▢▢', '▢▢polynomia', 9),\n",
       " (4, 10): ('expo▢▢▢▢▢▢▢▢', '▢▢polynomial', 10),\n",
       " (5, 0): ('expon', '▢▢▢▢▢', 5),\n",
       " (5, 1): ('expon', '▢▢p▢▢', 4),\n",
       " (5, 2): ('expon', '▢▢po▢', 3),\n",
       " (5, 3): ('expo▢n', '▢▢pol▢', 4),\n",
       " (5, 4): ('expo▢▢n', '▢▢poly▢', 5),\n",
       " (5, 5): ('expo▢▢n', '▢▢polyn', 4),\n",
       " (5, 6): ('expo▢▢n▢', '▢▢polyno', 5),\n",
       " (5, 7): ('expo▢▢n▢▢', '▢▢polynom', 6),\n",
       " (5, 8): ('expo▢▢n▢▢▢', '▢▢polynomi', 7),\n",
       " (5, 9): ('expo▢▢n▢▢▢▢', '▢▢polynomia', 8),\n",
       " (5, 10): ('expo▢▢n▢▢▢▢▢', '▢▢polynomial', 9),\n",
       " (6, 0): ('expone', '▢▢▢▢▢▢', 6),\n",
       " (6, 1): ('expone', '▢▢p▢▢▢', 5),\n",
       " (6, 2): ('expone', '▢▢po▢▢', 4),\n",
       " (6, 3): ('expo▢ne', '▢▢pol▢▢', 5),\n",
       " (6, 4): ('expo▢▢ne', '▢▢poly▢▢', 6),\n",
       " (6, 5): ('expo▢▢ne', '▢▢polyn▢', 5),\n",
       " (6, 6): ('expo▢▢n▢e', '▢▢polyno▢', 6),\n",
       " (6, 7): ('expo▢▢n▢▢e', '▢▢polynom▢', 7),\n",
       " (6, 8): ('expo▢▢n▢▢▢e', '▢▢polynomi▢', 8),\n",
       " (6, 9): ('expo▢▢n▢▢▢▢e', '▢▢polynomia▢', 9),\n",
       " (6, 10): ('expo▢▢n▢▢▢▢▢e', '▢▢polynomial▢', 10),\n",
       " (7, 0): ('exponen', '▢▢▢▢▢▢▢', 7),\n",
       " (7, 1): ('exponen', '▢▢p▢▢▢▢', 6),\n",
       " (7, 2): ('exponen', '▢▢po▢▢▢', 5),\n",
       " (7, 3): ('expo▢nen', '▢▢pol▢▢▢', 6),\n",
       " (7, 4): ('expo▢▢nen', '▢▢poly▢▢▢', 7),\n",
       " (7, 5): ('expo▢▢nen', '▢▢polyn▢▢', 6),\n",
       " (7, 6): ('expo▢▢n▢en', '▢▢polyno▢▢', 7),\n",
       " (7, 7): ('expo▢▢n▢▢en', '▢▢polynom▢▢', 8),\n",
       " (7, 8): ('expo▢▢n▢▢▢en', '▢▢polynomi▢▢', 9),\n",
       " (7, 9): ('expo▢▢n▢▢▢▢en', '▢▢polynomia▢▢', 10),\n",
       " (7, 10): ('expo▢▢n▢▢▢▢▢en', '▢▢polynomial▢▢', 11),\n",
       " (8, 0): ('exponent', '▢▢▢▢▢▢▢▢', 8),\n",
       " (8, 1): ('exponent', '▢▢p▢▢▢▢▢', 7),\n",
       " (8, 2): ('exponent', '▢▢po▢▢▢▢', 6),\n",
       " (8, 3): ('expo▢nent', '▢▢pol▢▢▢▢', 7),\n",
       " (8, 4): ('expo▢▢nent', '▢▢poly▢▢▢▢', 8),\n",
       " (8, 5): ('expo▢▢nent', '▢▢polyn▢▢▢', 7),\n",
       " (8, 6): ('expo▢▢n▢ent', '▢▢polyno▢▢▢', 8),\n",
       " (8, 7): ('expo▢▢n▢▢ent', '▢▢polynom▢▢▢', 9),\n",
       " (8, 8): ('expo▢▢n▢▢▢ent', '▢▢polynomi▢▢▢', 10),\n",
       " (8, 9): ('expo▢▢n▢▢▢▢ent', '▢▢polynomia▢▢▢', 11),\n",
       " (8, 10): ('expo▢▢n▢▢▢▢▢ent', '▢▢polynomial▢▢▢', 12),\n",
       " (9, 0): ('exponenti', '▢▢▢▢▢▢▢▢▢', 9),\n",
       " (9, 1): ('exponenti', '▢▢p▢▢▢▢▢▢', 8),\n",
       " (9, 2): ('exponenti', '▢▢po▢▢▢▢▢', 7),\n",
       " (9, 3): ('expo▢nenti', '▢▢pol▢▢▢▢▢', 8),\n",
       " (9, 4): ('expo▢▢nenti', '▢▢poly▢▢▢▢▢', 9),\n",
       " (9, 5): ('expo▢▢nenti', '▢▢polyn▢▢▢▢', 8),\n",
       " (9, 6): ('expo▢▢n▢enti', '▢▢polyno▢▢▢▢', 9),\n",
       " (9, 7): ('expo▢▢n▢▢enti', '▢▢polynom▢▢▢▢', 10),\n",
       " (9, 8): ('expo▢▢n▢▢enti', '▢▢polynom▢▢▢i', 9),\n",
       " (9, 9): ('expo▢▢n▢▢enti▢', '▢▢polynom▢▢▢ia', 10),\n",
       " (9, 10): ('expo▢▢n▢▢enti▢▢', '▢▢polynom▢▢▢ial', 11),\n",
       " (10, 0): ('exponentia', '▢▢▢▢▢▢▢▢▢▢', 10),\n",
       " (10, 1): ('exponentia', '▢▢p▢▢▢▢▢▢▢', 9),\n",
       " (10, 2): ('exponentia', '▢▢po▢▢▢▢▢▢', 8),\n",
       " (10, 3): ('expo▢nentia', '▢▢pol▢▢▢▢▢▢', 9),\n",
       " (10, 4): ('expo▢▢nentia', '▢▢poly▢▢▢▢▢▢', 10),\n",
       " (10, 5): ('expo▢▢nentia', '▢▢polyn▢▢▢▢▢', 9),\n",
       " (10, 6): ('expo▢▢n▢entia', '▢▢polyno▢▢▢▢▢', 10),\n",
       " (10, 7): ('expo▢▢n▢▢entia', '▢▢polynom▢▢▢▢▢', 11),\n",
       " (10, 8): ('expo▢▢n▢▢entia', '▢▢polynom▢▢▢i▢', 10),\n",
       " (10, 9): ('expo▢▢n▢▢entia', '▢▢polynom▢▢▢ia', 9),\n",
       " (10, 10): ('expo▢▢n▢▢entia▢', '▢▢polynom▢▢▢ial', 10),\n",
       " (11, 0): ('exponential', '▢▢▢▢▢▢▢▢▢▢▢', 11),\n",
       " (11, 1): ('exponential', '▢▢p▢▢▢▢▢▢▢▢', 10),\n",
       " (11, 2): ('exponential', '▢▢po▢▢▢▢▢▢▢', 9),\n",
       " (11, 3): ('exponential', '▢▢po▢▢▢▢▢▢l', 8),\n",
       " (11, 4): ('exponential▢', '▢▢po▢▢▢▢▢▢ly', 9),\n",
       " (11, 5): ('expo▢▢nential', '▢▢polyn▢▢▢▢▢▢', 10),\n",
       " (11, 6): ('expo▢▢n▢ential', '▢▢polyno▢▢▢▢▢▢', 11),\n",
       " (11, 7): ('expo▢▢n▢▢ential', '▢▢polynom▢▢▢▢▢▢', 12),\n",
       " (11, 8): ('expo▢▢n▢▢ential', '▢▢polynom▢▢▢i▢▢', 11),\n",
       " (11, 9): ('expo▢▢n▢▢ential', '▢▢polynom▢▢▢ia▢', 10),\n",
       " (11, 10): ('expo▢▢n▢▢ential', '▢▢polynom▢▢▢ial', 9)}"
      ]
     },
     "execution_count": 51,
     "metadata": {},
     "output_type": "execute_result"
    }
   ],
   "source": [
    "memo_table"
   ]
  },
  {
   "cell_type": "markdown",
   "metadata": {},
   "source": [
    "# `matrix_product_ordering`"
   ]
  },
  {
   "cell_type": "code",
   "execution_count": 49,
   "metadata": {
    "collapsed": false
   },
   "outputs": [],
   "source": [
    "@memo_holder\n",
    "def matrix_product_ordering(o, w, op):\n",
    "    \n",
    "    n = len(o)\n",
    "    T = {(i,i):(lambda: o[i], 0) for i in range(n)}\n",
    "    \n",
    "    def combine(i,r,j):\n",
    "        t_ir, c_ir = T[i, r]\n",
    "        t_rj, c_rj = T[r+1, j]\n",
    "        return (lambda: op(t_ir(), t_rj()), c_ir + c_rj + w(i, r+1, j+1)) # w[i]*w[r+1]*w[j+1])\n",
    "    \n",
    "    for d in range(1, n):\n",
    "        for i in range(n-d):\n",
    "            j = i + d\n",
    "            T[i, j] = min([combine(i, r, j) for r in range(i, j)], key=lambda t: t[-1])\n",
    "    \n",
    "    opt, cost = T[0, n-1]\n",
    "    return (opt(), cost), T\n",
    "\n",
    "def parens_str_proxy(w, **kwds):\n",
    "    return matrix_product_ordering(o=['▢']*(len(w)-1), \n",
    "                                   w=lambda l, c, r: w[l]*w[c]*w[r],\n",
    "                                   op=lambda a, b: '({} {})'.format(a, b),\n",
    "                                   **kwds)"
   ]
  },
  {
   "cell_type": "code",
   "execution_count": 50,
   "metadata": {
    "collapsed": false
   },
   "outputs": [],
   "source": [
    "(opt, cost), memo_table = parens_str_proxy(w={0:100, 1:20, 2:1000, 3:2, 4:50}, memo_table=True)"
   ]
  },
  {
   "cell_type": "code",
   "execution_count": 51,
   "metadata": {
    "collapsed": false
   },
   "outputs": [
    {
     "data": {
      "text/plain": [
       "('((▢ (▢ ▢)) ▢)', 54000)"
      ]
     },
     "execution_count": 51,
     "metadata": {},
     "output_type": "execute_result"
    }
   ],
   "source": [
    "opt, cost"
   ]
  },
  {
   "cell_type": "code",
   "execution_count": 52,
   "metadata": {
    "collapsed": false
   },
   "outputs": [
    {
     "data": {
      "text/plain": [
       "{(0, 0): ('▢', 0),\n",
       " (0, 1): ('(▢ ▢)', 2000000),\n",
       " (0, 2): ('(▢ (▢ ▢))', 44000),\n",
       " (0, 3): ('((▢ (▢ ▢)) ▢)', 54000),\n",
       " (1, 1): ('▢', 0),\n",
       " (1, 2): ('(▢ ▢)', 40000),\n",
       " (1, 3): ('((▢ ▢) ▢)', 42000),\n",
       " (2, 2): ('▢', 0),\n",
       " (2, 3): ('(▢ ▢)', 100000),\n",
       " (3, 3): ('▢', 0)}"
      ]
     },
     "execution_count": 52,
     "metadata": {},
     "output_type": "execute_result"
    }
   ],
   "source": [
    "{k:(thunk(), cost) for k,(thunk, cost) in memo_table.items()}"
   ]
  },
  {
   "cell_type": "code",
   "execution_count": 53,
   "metadata": {
    "collapsed": false
   },
   "outputs": [],
   "source": [
    "(opt, cost), memo_table = parens_str_proxy(w={i:(i+1) for i in range(10)}, memo_table=True)"
   ]
  },
  {
   "cell_type": "code",
   "execution_count": 54,
   "metadata": {
    "collapsed": false
   },
   "outputs": [
    {
     "data": {
      "text/plain": [
       "('((((((((▢ ▢) ▢) ▢) ▢) ▢) ▢) ▢) ▢)', 328)"
      ]
     },
     "execution_count": 54,
     "metadata": {},
     "output_type": "execute_result"
    }
   ],
   "source": [
    "opt, cost"
   ]
  },
  {
   "cell_type": "code",
   "execution_count": 55,
   "metadata": {
    "collapsed": false
   },
   "outputs": [
    {
     "data": {
      "text/plain": [
       "{(0, 0): ('▢', 0),\n",
       " (0, 1): ('(▢ ▢)', 6),\n",
       " (0, 2): ('((▢ ▢) ▢)', 18),\n",
       " (0, 3): ('(((▢ ▢) ▢) ▢)', 38),\n",
       " (0, 4): ('((((▢ ▢) ▢) ▢) ▢)', 68),\n",
       " (0, 5): ('(((((▢ ▢) ▢) ▢) ▢) ▢)', 110),\n",
       " (0, 6): ('((((((▢ ▢) ▢) ▢) ▢) ▢) ▢)', 166),\n",
       " (0, 7): ('(((((((▢ ▢) ▢) ▢) ▢) ▢) ▢) ▢)', 238),\n",
       " (0, 8): ('((((((((▢ ▢) ▢) ▢) ▢) ▢) ▢) ▢) ▢)', 328),\n",
       " (1, 1): ('▢', 0),\n",
       " (1, 2): ('(▢ ▢)', 24),\n",
       " (1, 3): ('((▢ ▢) ▢)', 64),\n",
       " (1, 4): ('(((▢ ▢) ▢) ▢)', 124),\n",
       " (1, 5): ('((((▢ ▢) ▢) ▢) ▢)', 208),\n",
       " (1, 6): ('(((((▢ ▢) ▢) ▢) ▢) ▢)', 320),\n",
       " (1, 7): ('((((((▢ ▢) ▢) ▢) ▢) ▢) ▢)', 464),\n",
       " (1, 8): ('(((((((▢ ▢) ▢) ▢) ▢) ▢) ▢) ▢)', 644),\n",
       " (2, 2): ('▢', 0),\n",
       " (2, 3): ('(▢ ▢)', 60),\n",
       " (2, 4): ('((▢ ▢) ▢)', 150),\n",
       " (2, 5): ('(((▢ ▢) ▢) ▢)', 276),\n",
       " (2, 6): ('((((▢ ▢) ▢) ▢) ▢)', 444),\n",
       " (2, 7): ('(((((▢ ▢) ▢) ▢) ▢) ▢)', 660),\n",
       " (2, 8): ('((((((▢ ▢) ▢) ▢) ▢) ▢) ▢)', 930),\n",
       " (3, 3): ('▢', 0),\n",
       " (3, 4): ('(▢ ▢)', 120),\n",
       " (3, 5): ('((▢ ▢) ▢)', 288),\n",
       " (3, 6): ('(((▢ ▢) ▢) ▢)', 512),\n",
       " (3, 7): ('((((▢ ▢) ▢) ▢) ▢)', 800),\n",
       " (3, 8): ('(((((▢ ▢) ▢) ▢) ▢) ▢)', 1160),\n",
       " (4, 4): ('▢', 0),\n",
       " (4, 5): ('(▢ ▢)', 210),\n",
       " (4, 6): ('((▢ ▢) ▢)', 490),\n",
       " (4, 7): ('(((▢ ▢) ▢) ▢)', 850),\n",
       " (4, 8): ('((((▢ ▢) ▢) ▢) ▢)', 1300),\n",
       " (5, 5): ('▢', 0),\n",
       " (5, 6): ('(▢ ▢)', 336),\n",
       " (5, 7): ('((▢ ▢) ▢)', 768),\n",
       " (5, 8): ('(((▢ ▢) ▢) ▢)', 1308),\n",
       " (6, 6): ('▢', 0),\n",
       " (6, 7): ('(▢ ▢)', 504),\n",
       " (6, 8): ('((▢ ▢) ▢)', 1134),\n",
       " (7, 7): ('▢', 0),\n",
       " (7, 8): ('(▢ ▢)', 720),\n",
       " (8, 8): ('▢', 0)}"
      ]
     },
     "execution_count": 55,
     "metadata": {},
     "output_type": "execute_result"
    }
   ],
   "source": [
    "{k:(thunk(), cost) for k,(thunk, cost) in memo_table.items()}"
   ]
  },
  {
   "cell_type": "markdown",
   "metadata": {},
   "source": [
    "http://oeis.org/A180118"
   ]
  },
  {
   "cell_type": "code",
   "execution_count": 56,
   "metadata": {
    "collapsed": true
   },
   "outputs": [],
   "source": [
    "from sympy import fibonacci, Matrix, init_printing\n",
    "\n",
    "init_printing()"
   ]
  },
  {
   "cell_type": "code",
   "execution_count": 57,
   "metadata": {
    "collapsed": false
   },
   "outputs": [],
   "source": [
    "(opt, cost), memo_table = parens_str_proxy(w={i:fibonacci(i+1) for i in range(10)}, memo_table=True)"
   ]
  },
  {
   "cell_type": "code",
   "execution_count": 58,
   "metadata": {
    "collapsed": false
   },
   "outputs": [
    {
     "data": {
      "text/plain": [
       "('((((((((▢ ▢) ▢) ▢) ▢) ▢) ▢) ▢) ▢)', 3024)"
      ]
     },
     "execution_count": 58,
     "metadata": {},
     "output_type": "execute_result"
    }
   ],
   "source": [
    "opt, cost"
   ]
  },
  {
   "cell_type": "code",
   "execution_count": 59,
   "metadata": {
    "collapsed": false
   },
   "outputs": [
    {
     "data": {
      "text/plain": [
       "{(0, 0): ('▢', 0),\n",
       " (0, 1): ('(▢ ▢)', 2),\n",
       " (0, 2): ('((▢ ▢) ▢)', 8),\n",
       " (0, 3): ('(((▢ ▢) ▢) ▢)', 23),\n",
       " (0, 4): ('((((▢ ▢) ▢) ▢) ▢)', 63),\n",
       " (0, 5): ('(((((▢ ▢) ▢) ▢) ▢) ▢)', 167),\n",
       " (0, 6): ('((((((▢ ▢) ▢) ▢) ▢) ▢) ▢)', 440),\n",
       " (0, 7): ('(((((((▢ ▢) ▢) ▢) ▢) ▢) ▢) ▢)', 1154),\n",
       " (0, 8): ('((((((((▢ ▢) ▢) ▢) ▢) ▢) ▢) ▢) ▢)', 3024),\n",
       " (1, 1): ('▢', 0),\n",
       " (1, 2): ('(▢ ▢)', 6),\n",
       " (1, 3): ('((▢ ▢) ▢)', 21),\n",
       " (1, 4): ('(((▢ ▢) ▢) ▢)', 61),\n",
       " (1, 5): ('((((▢ ▢) ▢) ▢) ▢)', 165),\n",
       " (1, 6): ('(((((▢ ▢) ▢) ▢) ▢) ▢)', 438),\n",
       " (1, 7): ('((((((▢ ▢) ▢) ▢) ▢) ▢) ▢)', 1152),\n",
       " (1, 8): ('(((((((▢ ▢) ▢) ▢) ▢) ▢) ▢) ▢)', 3022),\n",
       " (2, 2): ('▢', 0),\n",
       " (2, 3): ('(▢ ▢)', 30),\n",
       " (2, 4): ('((▢ ▢) ▢)', 110),\n",
       " (2, 5): ('(((▢ ▢) ▢) ▢)', 318),\n",
       " (2, 6): ('((((▢ ▢) ▢) ▢) ▢)', 864),\n",
       " (2, 7): ('(((((▢ ▢) ▢) ▢) ▢) ▢)', 2292),\n",
       " (2, 8): ('((((((▢ ▢) ▢) ▢) ▢) ▢) ▢)', 6032),\n",
       " (3, 3): ('▢', 0),\n",
       " (3, 4): ('(▢ ▢)', 120),\n",
       " (3, 5): ('((▢ ▢) ▢)', 432),\n",
       " (3, 6): ('(((▢ ▢) ▢) ▢)', 1251),\n",
       " (3, 7): ('((((▢ ▢) ▢) ▢) ▢)', 3393),\n",
       " (3, 8): ('(((((▢ ▢) ▢) ▢) ▢) ▢)', 9003),\n",
       " (4, 4): ('▢', 0),\n",
       " (4, 5): ('(▢ ▢)', 520),\n",
       " (4, 6): ('((▢ ▢) ▢)', 1885),\n",
       " (4, 7): ('(((▢ ▢) ▢) ▢)', 5455),\n",
       " (4, 8): ('((((▢ ▢) ▢) ▢) ▢)', 14805),\n",
       " (5, 5): ('▢', 0),\n",
       " (5, 6): ('(▢ ▢)', 2184),\n",
       " (5, 7): ('((▢ ▢) ▢)', 7896),\n",
       " (5, 8): ('(((▢ ▢) ▢) ▢)', 22856),\n",
       " (6, 6): ('▢', 0),\n",
       " (6, 7): ('(▢ ▢)', 9282),\n",
       " (6, 8): ('((▢ ▢) ▢)', 33592),\n",
       " (7, 7): ('▢', 0),\n",
       " (7, 8): ('(▢ ▢)', 39270),\n",
       " (8, 8): ('▢', 0)}"
      ]
     },
     "execution_count": 59,
     "metadata": {},
     "output_type": "execute_result"
    }
   ],
   "source": [
    "{k:(thunk(), cost) for k,(thunk, cost) in memo_table.items()}"
   ]
  },
  {
   "cell_type": "markdown",
   "metadata": {},
   "source": [
    "http://oeis.org/A180664"
   ]
  },
  {
   "cell_type": "code",
   "execution_count": 60,
   "metadata": {
    "collapsed": true
   },
   "outputs": [],
   "source": [
    "def to_matrix_cost(dim, memo_table):\n",
    "    n, m = dim\n",
    "    return Matrix(n, m, lambda n,k: memo_table.get((n, k), (lambda: None, 0))[-1])"
   ]
  },
  {
   "cell_type": "code",
   "execution_count": 61,
   "metadata": {
    "collapsed": false
   },
   "outputs": [
    {
     "data": {
      "image/png": "[encoded data removed]",
      "text/latex": [
       "$$\\left[\\begin{matrix}0 & 2 & 8 & 23 & 63 & 167 & 440 & 1154 & 3024\\\\0 & 0 & 6 & 21 & 61 & 165 & 438 & 1152 & 3022\\\\0 & 0 & 0 & 30 & 110 & 318 & 864 & 2292 & 6032\\\\0 & 0 & 0 & 0 & 120 & 432 & 1251 & 3393 & 9003\\\\0 & 0 & 0 & 0 & 0 & 520 & 1885 & 5455 & 14805\\\\0 & 0 & 0 & 0 & 0 & 0 & 2184 & 7896 & 22856\\\\0 & 0 & 0 & 0 & 0 & 0 & 0 & 9282 & 33592\\\\0 & 0 & 0 & 0 & 0 & 0 & 0 & 0 & 39270\\\\0 & 0 & 0 & 0 & 0 & 0 & 0 & 0 & 0\\end{matrix}\\right]$$"
      ],
      "text/plain": [
       "⎡0  2  8  23  63   167  440   1154  3024 ⎤\n",
       "⎢                                        ⎥\n",
       "⎢0  0  6  21  61   165  438   1152  3022 ⎥\n",
       "⎢                                        ⎥\n",
       "⎢0  0  0  30  110  318  864   2292  6032 ⎥\n",
       "⎢                                        ⎥\n",
       "⎢0  0  0  0   120  432  1251  3393  9003 ⎥\n",
       "⎢                                        ⎥\n",
       "⎢0  0  0  0    0   520  1885  5455  14805⎥\n",
       "⎢                                        ⎥\n",
       "⎢0  0  0  0    0    0   2184  7896  22856⎥\n",
       "⎢                                        ⎥\n",
       "⎢0  0  0  0    0    0    0    9282  33592⎥\n",
       "⎢                                        ⎥\n",
       "⎢0  0  0  0    0    0    0     0    39270⎥\n",
       "⎢                                        ⎥\n",
       "⎣0  0  0  0    0    0    0     0      0  ⎦"
      ]
     },
     "execution_count": 61,
     "metadata": {},
     "output_type": "execute_result"
    }
   ],
   "source": [
    "to_matrix_cost(dim=(9,9), memo_table=memo_table)"
   ]
  },
  {
   "cell_type": "markdown",
   "metadata": {},
   "source": [
    "# `longest_common_subsequence`"
   ]
  },
  {
   "cell_type": "code",
   "execution_count": 211,
   "metadata": {
    "collapsed": true
   },
   "outputs": [],
   "source": [
    "@memo_holder\n",
    "def longest_common_subsequence(A, B, gap_A, gap_B, \n",
    "                               equal=lambda a, b: 1, shrink_A=lambda a: 0, shrink_B=lambda b: 0,\n",
    "                               reduce=sum):\n",
    "    \n",
    "    T = {}\n",
    "    \n",
    "    T.update({(i, 0):([gap_A]*i, 0) for i in range(len(A)+1)})\n",
    "    T.update({(0, j):([gap_B]*j, 0) for j in range(len(B)+1)})\n",
    "    \n",
    "    def combine(w, z):\n",
    "        alpha, beta = zip(w, z)\n",
    "        return list(chain.from_iterable(alpha)), reduce(beta)\n",
    "    \n",
    "    for i, a in enumerate(A, start=1):\n",
    "        for j, b in enumerate(B, start=1):\n",
    "            T[i, j] = combine(T[i-1, j-1], ([a], equal(a, b))) if a == b else max(\n",
    "                combine(T[i, j-1], ([gap_B], -shrink_B(b))), \n",
    "                combine(T[i-1, j], ([gap_A], -shrink_A(a))),\n",
    "                key=lambda t: t[-1])\n",
    "    \n",
    "    opt, cost = T[len(A), len(B)]\n",
    "    return (opt, cost), T\n",
    "\n",
    "def pprint_memo_table(T, joiner, do=str):\n",
    "    return {k:(joiner.join(map(do, v[0])), v[1]) for k, v in T.items()}"
   ]
  },
  {
   "cell_type": "code",
   "execution_count": 224,
   "metadata": {
    "collapsed": false
   },
   "outputs": [],
   "source": [
    "(opt, cost), memo_table = longest_common_subsequence(A='ADCAAB', \n",
    "                                                     B='BAABDCDCAACACBA', gap_A='▢', gap_B='○', \n",
    "                                                     #shrink_B=lambda b:1,\n",
    "                                                     memo_table=True)"
   ]
  },
  {
   "cell_type": "code",
   "execution_count": 225,
   "metadata": {
    "collapsed": false
   },
   "outputs": [
    {
     "name": "stdout",
     "output_type": "stream",
     "text": [
      "BAABDCDCAACACBA\n",
      "○○A○○○DC○A○A○B○\n"
     ]
    }
   ],
   "source": [
    "print('BAABDCDCAACACBA') \n",
    "print(''.join(opt))"
   ]
  },
  {
   "cell_type": "code",
   "execution_count": 226,
   "metadata": {
    "collapsed": false,
    "scrolled": false
   },
   "outputs": [
    {
     "data": {
      "text/plain": [
       "{(0, 0): ('', 0),\n",
       " (0, 1): ('○', 0),\n",
       " (0, 2): ('○○', 0),\n",
       " (0, 3): ('○○○', 0),\n",
       " (0, 4): ('○○○○', 0),\n",
       " (0, 5): ('○○○○○', 0),\n",
       " (0, 6): ('○○○○○○', 0),\n",
       " (0, 7): ('○○○○○○○', 0),\n",
       " (0, 8): ('○○○○○○○○', 0),\n",
       " (0, 9): ('○○○○○○○○○', 0),\n",
       " (0, 10): ('○○○○○○○○○○', 0),\n",
       " (0, 11): ('○○○○○○○○○○○', 0),\n",
       " (0, 12): ('○○○○○○○○○○○○', 0),\n",
       " (0, 13): ('○○○○○○○○○○○○○', 0),\n",
       " (0, 14): ('○○○○○○○○○○○○○○', 0),\n",
       " (0, 15): ('○○○○○○○○○○○○○○○', 0),\n",
       " (1, 0): ('▢', 0),\n",
       " (1, 1): ('▢○', 0),\n",
       " (1, 2): ('○A', 1),\n",
       " (1, 3): ('○○A', 1),\n",
       " (1, 4): ('○○A○', 1),\n",
       " (1, 5): ('○○A○○', 1),\n",
       " (1, 6): ('○○A○○○', 1),\n",
       " (1, 7): ('○○A○○○○', 1),\n",
       " (1, 8): ('○○A○○○○○', 1),\n",
       " (1, 9): ('○○○○○○○○A', 1),\n",
       " (1, 10): ('○○○○○○○○○A', 1),\n",
       " (1, 11): ('○○○○○○○○○A○', 1),\n",
       " (1, 12): ('○○○○○○○○○○○A', 1),\n",
       " (1, 13): ('○○○○○○○○○○○A○', 1),\n",
       " (1, 14): ('○○○○○○○○○○○A○○', 1),\n",
       " (1, 15): ('○○○○○○○○○○○○○○A', 1),\n",
       " (2, 0): ('▢▢', 0),\n",
       " (2, 1): ('▢▢○', 0),\n",
       " (2, 2): ('○A▢', 1),\n",
       " (2, 3): ('○A▢○', 1),\n",
       " (2, 4): ('○A▢○○', 1),\n",
       " (2, 5): ('○○A○D', 2),\n",
       " (2, 6): ('○○A○D○', 2),\n",
       " (2, 7): ('○○A○○○D', 2),\n",
       " (2, 8): ('○○A○○○D○', 2),\n",
       " (2, 9): ('○○A○○○D○○', 2),\n",
       " (2, 10): ('○○A○○○D○○○', 2),\n",
       " (2, 11): ('○○A○○○D○○○○', 2),\n",
       " (2, 12): ('○○A○○○D○○○○○', 2),\n",
       " (2, 13): ('○○A○○○D○○○○○○', 2),\n",
       " (2, 14): ('○○A○○○D○○○○○○○', 2),\n",
       " (2, 15): ('○○A○○○D○○○○○○○○', 2),\n",
       " (3, 0): ('▢▢▢', 0),\n",
       " (3, 1): ('▢▢▢○', 0),\n",
       " (3, 2): ('○A▢▢', 1),\n",
       " (3, 3): ('○A▢▢○', 1),\n",
       " (3, 4): ('○A▢▢○○', 1),\n",
       " (3, 5): ('○○A○D▢', 2),\n",
       " (3, 6): ('○○A○DC', 3),\n",
       " (3, 7): ('○○A○DC○', 3),\n",
       " (3, 8): ('○○A○○○DC', 3),\n",
       " (3, 9): ('○○A○○○DC○', 3),\n",
       " (3, 10): ('○○A○○○DC○○', 3),\n",
       " (3, 11): ('○○A○○○D○○○C', 3),\n",
       " (3, 12): ('○○A○○○D○○○C○', 3),\n",
       " (3, 13): ('○○A○○○D○○○○○C', 3),\n",
       " (3, 14): ('○○A○○○D○○○○○C○', 3),\n",
       " (3, 15): ('○○A○○○D○○○○○C○○', 3),\n",
       " (4, 0): ('▢▢▢▢', 0),\n",
       " (4, 1): ('▢▢▢▢○', 0),\n",
       " (4, 2): ('▢▢▢○A', 1),\n",
       " (4, 3): ('○A▢▢A', 2),\n",
       " (4, 4): ('○A▢▢A○', 2),\n",
       " (4, 5): ('○A▢▢A○○', 2),\n",
       " (4, 6): ('○○A○DC▢', 3),\n",
       " (4, 7): ('○○A○DC▢○', 3),\n",
       " (4, 8): ('○○A○DC▢○○', 3),\n",
       " (4, 9): ('○○A○○○DCA', 4),\n",
       " (4, 10): ('○○A○○○DC○A', 4),\n",
       " (4, 11): ('○○A○○○DC○A○', 4),\n",
       " (4, 12): ('○○A○○○D○○○CA', 4),\n",
       " (4, 13): ('○○A○○○D○○○CA○', 4),\n",
       " (4, 14): ('○○A○○○D○○○CA○○', 4),\n",
       " (4, 15): ('○○A○○○D○○○○○C○A', 4),\n",
       " (5, 0): ('▢▢▢▢▢', 0),\n",
       " (5, 1): ('▢▢▢▢▢○', 0),\n",
       " (5, 2): ('▢▢▢▢○A', 1),\n",
       " (5, 3): ('▢▢▢○AA', 2),\n",
       " (5, 4): ('▢▢▢○AA○', 2),\n",
       " (5, 5): ('▢▢▢○AA○○', 2),\n",
       " (5, 6): ('○○A○DC▢▢', 3),\n",
       " (5, 7): ('○○A○DC▢▢○', 3),\n",
       " (5, 8): ('○○A○DC▢▢○○', 3),\n",
       " (5, 9): ('○○A○DC▢○○A', 4),\n",
       " (5, 10): ('○○A○○○DCAA', 5),\n",
       " (5, 11): ('○○A○○○DCAA○', 5),\n",
       " (5, 12): ('○○A○○○DC○A○A', 5),\n",
       " (5, 13): ('○○A○○○DC○A○A○', 5),\n",
       " (5, 14): ('○○A○○○DC○A○A○○', 5),\n",
       " (5, 15): ('○○A○○○D○○○CA○○A', 5),\n",
       " (6, 0): ('▢▢▢▢▢▢', 0),\n",
       " (6, 1): ('▢▢▢▢▢B', 1),\n",
       " (6, 2): ('▢▢▢▢▢B○', 1),\n",
       " (6, 3): ('▢▢▢○AA▢', 2),\n",
       " (6, 4): ('▢▢▢○AAB', 3),\n",
       " (6, 5): ('▢▢▢○AAB○', 3),\n",
       " (6, 6): ('▢▢▢○AAB○○', 3),\n",
       " (6, 7): ('▢▢▢○AAB○○○', 3),\n",
       " (6, 8): ('▢▢▢○AAB○○○○', 3),\n",
       " (6, 9): ('○○A○DC▢○○A▢', 4),\n",
       " (6, 10): ('○○A○○○DCAA▢', 5),\n",
       " (6, 11): ('○○A○○○DCAA▢○', 5),\n",
       " (6, 12): ('○○A○○○DCAA▢○○', 5),\n",
       " (6, 13): ('○○A○○○DCAA▢○○○', 5),\n",
       " (6, 14): ('○○A○○○DC○A○A○B', 6),\n",
       " (6, 15): ('○○A○○○DC○A○A○B○', 6)}"
      ]
     },
     "execution_count": 226,
     "metadata": {},
     "output_type": "execute_result"
    }
   ],
   "source": [
    "pprint_memo_table(memo_table, joiner='')"
   ]
  },
  {
   "cell_type": "code",
   "execution_count": 215,
   "metadata": {
    "collapsed": false
   },
   "outputs": [],
   "source": [
    "(opt, cost), memo_table = longest_common_subsequence(A=[0,1,1,2,3,5,8,13,21,34,55], \n",
    "                                                     B=[1, 1, 2, 5, 14, 42, 132, 429, 1430, 4862, 16796, 58786, 208012, 742900, 2674440,], \n",
    "                                                     gap_A='▢', gap_B='○', \n",
    "                                                     #shrink_B=lambda b:1,\n",
    "                                                     memo_table=True)"
   ]
  },
  {
   "cell_type": "code",
   "execution_count": 216,
   "metadata": {
    "collapsed": false
   },
   "outputs": [
    {
     "name": "stdout",
     "output_type": "stream",
     "text": [
      "▢,1,1,2,▢,5,▢,▢,▢,▢,▢,○,○,○,○,○,○,○,○,○,○,○\n"
     ]
    }
   ],
   "source": [
    "print(','.join(map(str, opt)))"
   ]
  },
  {
   "cell_type": "code",
   "execution_count": 217,
   "metadata": {
    "collapsed": false,
    "scrolled": false
   },
   "outputs": [
    {
     "data": {
      "text/plain": [
       "{(0, 0): ('', 0),\n",
       " (0, 1): ('○', 0),\n",
       " (0, 2): ('○,○', 0),\n",
       " (0, 3): ('○,○,○', 0),\n",
       " (0, 4): ('○,○,○,○', 0),\n",
       " (0, 5): ('○,○,○,○,○', 0),\n",
       " (0, 6): ('○,○,○,○,○,○', 0),\n",
       " (0, 7): ('○,○,○,○,○,○,○', 0),\n",
       " (0, 8): ('○,○,○,○,○,○,○,○', 0),\n",
       " (0, 9): ('○,○,○,○,○,○,○,○,○', 0),\n",
       " (0, 10): ('○,○,○,○,○,○,○,○,○,○', 0),\n",
       " (0, 11): ('○,○,○,○,○,○,○,○,○,○,○', 0),\n",
       " (0, 12): ('○,○,○,○,○,○,○,○,○,○,○,○', 0),\n",
       " (0, 13): ('○,○,○,○,○,○,○,○,○,○,○,○,○', 0),\n",
       " (0, 14): ('○,○,○,○,○,○,○,○,○,○,○,○,○,○', 0),\n",
       " (0, 15): ('○,○,○,○,○,○,○,○,○,○,○,○,○,○,○', 0),\n",
       " (1, 0): ('▢', 0),\n",
       " (1, 1): ('▢,○', 0),\n",
       " (1, 2): ('▢,○,○', 0),\n",
       " (1, 3): ('▢,○,○,○', 0),\n",
       " (1, 4): ('▢,○,○,○,○', 0),\n",
       " (1, 5): ('▢,○,○,○,○,○', 0),\n",
       " (1, 6): ('▢,○,○,○,○,○,○', 0),\n",
       " (1, 7): ('▢,○,○,○,○,○,○,○', 0),\n",
       " (1, 8): ('▢,○,○,○,○,○,○,○,○', 0),\n",
       " (1, 9): ('▢,○,○,○,○,○,○,○,○,○', 0),\n",
       " (1, 10): ('▢,○,○,○,○,○,○,○,○,○,○', 0),\n",
       " (1, 11): ('▢,○,○,○,○,○,○,○,○,○,○,○', 0),\n",
       " (1, 12): ('▢,○,○,○,○,○,○,○,○,○,○,○,○', 0),\n",
       " (1, 13): ('▢,○,○,○,○,○,○,○,○,○,○,○,○,○', 0),\n",
       " (1, 14): ('▢,○,○,○,○,○,○,○,○,○,○,○,○,○,○', 0),\n",
       " (1, 15): ('▢,○,○,○,○,○,○,○,○,○,○,○,○,○,○,○', 0),\n",
       " (2, 0): ('▢,▢', 0),\n",
       " (2, 1): ('▢,1', 1),\n",
       " (2, 2): ('▢,○,1', 1),\n",
       " (2, 3): ('▢,○,1,○', 1),\n",
       " (2, 4): ('▢,○,1,○,○', 1),\n",
       " (2, 5): ('▢,○,1,○,○,○', 1),\n",
       " (2, 6): ('▢,○,1,○,○,○,○', 1),\n",
       " (2, 7): ('▢,○,1,○,○,○,○,○', 1),\n",
       " (2, 8): ('▢,○,1,○,○,○,○,○,○', 1),\n",
       " (2, 9): ('▢,○,1,○,○,○,○,○,○,○', 1),\n",
       " (2, 10): ('▢,○,1,○,○,○,○,○,○,○,○', 1),\n",
       " (2, 11): ('▢,○,1,○,○,○,○,○,○,○,○,○', 1),\n",
       " (2, 12): ('▢,○,1,○,○,○,○,○,○,○,○,○,○', 1),\n",
       " (2, 13): ('▢,○,1,○,○,○,○,○,○,○,○,○,○,○', 1),\n",
       " (2, 14): ('▢,○,1,○,○,○,○,○,○,○,○,○,○,○,○', 1),\n",
       " (2, 15): ('▢,○,1,○,○,○,○,○,○,○,○,○,○,○,○,○', 1),\n",
       " (3, 0): ('▢,▢,▢', 0),\n",
       " (3, 1): ('▢,▢,1', 1),\n",
       " (3, 2): ('▢,1,1', 2),\n",
       " (3, 3): ('▢,1,1,○', 2),\n",
       " (3, 4): ('▢,1,1,○,○', 2),\n",
       " (3, 5): ('▢,1,1,○,○,○', 2),\n",
       " (3, 6): ('▢,1,1,○,○,○,○', 2),\n",
       " (3, 7): ('▢,1,1,○,○,○,○,○', 2),\n",
       " (3, 8): ('▢,1,1,○,○,○,○,○,○', 2),\n",
       " (3, 9): ('▢,1,1,○,○,○,○,○,○,○', 2),\n",
       " (3, 10): ('▢,1,1,○,○,○,○,○,○,○,○', 2),\n",
       " (3, 11): ('▢,1,1,○,○,○,○,○,○,○,○,○', 2),\n",
       " (3, 12): ('▢,1,1,○,○,○,○,○,○,○,○,○,○', 2),\n",
       " (3, 13): ('▢,1,1,○,○,○,○,○,○,○,○,○,○,○', 2),\n",
       " (3, 14): ('▢,1,1,○,○,○,○,○,○,○,○,○,○,○,○', 2),\n",
       " (3, 15): ('▢,1,1,○,○,○,○,○,○,○,○,○,○,○,○,○', 2),\n",
       " (4, 0): ('▢,▢,▢,▢', 0),\n",
       " (4, 1): ('▢,▢,1,▢', 1),\n",
       " (4, 2): ('▢,1,1,▢', 2),\n",
       " (4, 3): ('▢,1,1,2', 3),\n",
       " (4, 4): ('▢,1,1,2,○', 3),\n",
       " (4, 5): ('▢,1,1,2,○,○', 3),\n",
       " (4, 6): ('▢,1,1,2,○,○,○', 3),\n",
       " (4, 7): ('▢,1,1,2,○,○,○,○', 3),\n",
       " (4, 8): ('▢,1,1,2,○,○,○,○,○', 3),\n",
       " (4, 9): ('▢,1,1,2,○,○,○,○,○,○', 3),\n",
       " (4, 10): ('▢,1,1,2,○,○,○,○,○,○,○', 3),\n",
       " (4, 11): ('▢,1,1,2,○,○,○,○,○,○,○,○', 3),\n",
       " (4, 12): ('▢,1,1,2,○,○,○,○,○,○,○,○,○', 3),\n",
       " (4, 13): ('▢,1,1,2,○,○,○,○,○,○,○,○,○,○', 3),\n",
       " (4, 14): ('▢,1,1,2,○,○,○,○,○,○,○,○,○,○,○', 3),\n",
       " (4, 15): ('▢,1,1,2,○,○,○,○,○,○,○,○,○,○,○,○', 3),\n",
       " (5, 0): ('▢,▢,▢,▢,▢', 0),\n",
       " (5, 1): ('▢,▢,1,▢,▢', 1),\n",
       " (5, 2): ('▢,1,1,▢,▢', 2),\n",
       " (5, 3): ('▢,1,1,2,▢', 3),\n",
       " (5, 4): ('▢,1,1,2,▢,○', 3),\n",
       " (5, 5): ('▢,1,1,2,▢,○,○', 3),\n",
       " (5, 6): ('▢,1,1,2,▢,○,○,○', 3),\n",
       " (5, 7): ('▢,1,1,2,▢,○,○,○,○', 3),\n",
       " (5, 8): ('▢,1,1,2,▢,○,○,○,○,○', 3),\n",
       " (5, 9): ('▢,1,1,2,▢,○,○,○,○,○,○', 3),\n",
       " (5, 10): ('▢,1,1,2,▢,○,○,○,○,○,○,○', 3),\n",
       " (5, 11): ('▢,1,1,2,▢,○,○,○,○,○,○,○,○', 3),\n",
       " (5, 12): ('▢,1,1,2,▢,○,○,○,○,○,○,○,○,○', 3),\n",
       " (5, 13): ('▢,1,1,2,▢,○,○,○,○,○,○,○,○,○,○', 3),\n",
       " (5, 14): ('▢,1,1,2,▢,○,○,○,○,○,○,○,○,○,○,○', 3),\n",
       " (5, 15): ('▢,1,1,2,▢,○,○,○,○,○,○,○,○,○,○,○,○', 3),\n",
       " (6, 0): ('▢,▢,▢,▢,▢,▢', 0),\n",
       " (6, 1): ('▢,▢,1,▢,▢,▢', 1),\n",
       " (6, 2): ('▢,1,1,▢,▢,▢', 2),\n",
       " (6, 3): ('▢,1,1,2,▢,▢', 3),\n",
       " (6, 4): ('▢,1,1,2,▢,5', 4),\n",
       " (6, 5): ('▢,1,1,2,▢,5,○', 4),\n",
       " (6, 6): ('▢,1,1,2,▢,5,○,○', 4),\n",
       " (6, 7): ('▢,1,1,2,▢,5,○,○,○', 4),\n",
       " (6, 8): ('▢,1,1,2,▢,5,○,○,○,○', 4),\n",
       " (6, 9): ('▢,1,1,2,▢,5,○,○,○,○,○', 4),\n",
       " (6, 10): ('▢,1,1,2,▢,5,○,○,○,○,○,○', 4),\n",
       " (6, 11): ('▢,1,1,2,▢,5,○,○,○,○,○,○,○', 4),\n",
       " (6, 12): ('▢,1,1,2,▢,5,○,○,○,○,○,○,○,○', 4),\n",
       " (6, 13): ('▢,1,1,2,▢,5,○,○,○,○,○,○,○,○,○', 4),\n",
       " (6, 14): ('▢,1,1,2,▢,5,○,○,○,○,○,○,○,○,○,○', 4),\n",
       " (6, 15): ('▢,1,1,2,▢,5,○,○,○,○,○,○,○,○,○,○,○', 4),\n",
       " (7, 0): ('▢,▢,▢,▢,▢,▢,▢', 0),\n",
       " (7, 1): ('▢,▢,1,▢,▢,▢,▢', 1),\n",
       " (7, 2): ('▢,1,1,▢,▢,▢,▢', 2),\n",
       " (7, 3): ('▢,1,1,2,▢,▢,▢', 3),\n",
       " (7, 4): ('▢,1,1,2,▢,5,▢', 4),\n",
       " (7, 5): ('▢,1,1,2,▢,5,▢,○', 4),\n",
       " (7, 6): ('▢,1,1,2,▢,5,▢,○,○', 4),\n",
       " (7, 7): ('▢,1,1,2,▢,5,▢,○,○,○', 4),\n",
       " (7, 8): ('▢,1,1,2,▢,5,▢,○,○,○,○', 4),\n",
       " (7, 9): ('▢,1,1,2,▢,5,▢,○,○,○,○,○', 4),\n",
       " (7, 10): ('▢,1,1,2,▢,5,▢,○,○,○,○,○,○', 4),\n",
       " (7, 11): ('▢,1,1,2,▢,5,▢,○,○,○,○,○,○,○', 4),\n",
       " (7, 12): ('▢,1,1,2,▢,5,▢,○,○,○,○,○,○,○,○', 4),\n",
       " (7, 13): ('▢,1,1,2,▢,5,▢,○,○,○,○,○,○,○,○,○', 4),\n",
       " (7, 14): ('▢,1,1,2,▢,5,▢,○,○,○,○,○,○,○,○,○,○', 4),\n",
       " (7, 15): ('▢,1,1,2,▢,5,▢,○,○,○,○,○,○,○,○,○,○,○', 4),\n",
       " (8, 0): ('▢,▢,▢,▢,▢,▢,▢,▢', 0),\n",
       " (8, 1): ('▢,▢,1,▢,▢,▢,▢,▢', 1),\n",
       " (8, 2): ('▢,1,1,▢,▢,▢,▢,▢', 2),\n",
       " (8, 3): ('▢,1,1,2,▢,▢,▢,▢', 3),\n",
       " (8, 4): ('▢,1,1,2,▢,5,▢,▢', 4),\n",
       " (8, 5): ('▢,1,1,2,▢,5,▢,▢,○', 4),\n",
       " (8, 6): ('▢,1,1,2,▢,5,▢,▢,○,○', 4),\n",
       " (8, 7): ('▢,1,1,2,▢,5,▢,▢,○,○,○', 4),\n",
       " (8, 8): ('▢,1,1,2,▢,5,▢,▢,○,○,○,○', 4),\n",
       " (8, 9): ('▢,1,1,2,▢,5,▢,▢,○,○,○,○,○', 4),\n",
       " (8, 10): ('▢,1,1,2,▢,5,▢,▢,○,○,○,○,○,○', 4),\n",
       " (8, 11): ('▢,1,1,2,▢,5,▢,▢,○,○,○,○,○,○,○', 4),\n",
       " (8, 12): ('▢,1,1,2,▢,5,▢,▢,○,○,○,○,○,○,○,○', 4),\n",
       " (8, 13): ('▢,1,1,2,▢,5,▢,▢,○,○,○,○,○,○,○,○,○', 4),\n",
       " (8, 14): ('▢,1,1,2,▢,5,▢,▢,○,○,○,○,○,○,○,○,○,○', 4),\n",
       " (8, 15): ('▢,1,1,2,▢,5,▢,▢,○,○,○,○,○,○,○,○,○,○,○', 4),\n",
       " (9, 0): ('▢,▢,▢,▢,▢,▢,▢,▢,▢', 0),\n",
       " (9, 1): ('▢,▢,1,▢,▢,▢,▢,▢,▢', 1),\n",
       " (9, 2): ('▢,1,1,▢,▢,▢,▢,▢,▢', 2),\n",
       " (9, 3): ('▢,1,1,2,▢,▢,▢,▢,▢', 3),\n",
       " (9, 4): ('▢,1,1,2,▢,5,▢,▢,▢', 4),\n",
       " (9, 5): ('▢,1,1,2,▢,5,▢,▢,▢,○', 4),\n",
       " (9, 6): ('▢,1,1,2,▢,5,▢,▢,▢,○,○', 4),\n",
       " (9, 7): ('▢,1,1,2,▢,5,▢,▢,▢,○,○,○', 4),\n",
       " (9, 8): ('▢,1,1,2,▢,5,▢,▢,▢,○,○,○,○', 4),\n",
       " (9, 9): ('▢,1,1,2,▢,5,▢,▢,▢,○,○,○,○,○', 4),\n",
       " (9, 10): ('▢,1,1,2,▢,5,▢,▢,▢,○,○,○,○,○,○', 4),\n",
       " (9, 11): ('▢,1,1,2,▢,5,▢,▢,▢,○,○,○,○,○,○,○', 4),\n",
       " (9, 12): ('▢,1,1,2,▢,5,▢,▢,▢,○,○,○,○,○,○,○,○', 4),\n",
       " (9, 13): ('▢,1,1,2,▢,5,▢,▢,▢,○,○,○,○,○,○,○,○,○', 4),\n",
       " (9, 14): ('▢,1,1,2,▢,5,▢,▢,▢,○,○,○,○,○,○,○,○,○,○', 4),\n",
       " (9, 15): ('▢,1,1,2,▢,5,▢,▢,▢,○,○,○,○,○,○,○,○,○,○,○', 4),\n",
       " (10, 0): ('▢,▢,▢,▢,▢,▢,▢,▢,▢,▢', 0),\n",
       " (10, 1): ('▢,▢,1,▢,▢,▢,▢,▢,▢,▢', 1),\n",
       " (10, 2): ('▢,1,1,▢,▢,▢,▢,▢,▢,▢', 2),\n",
       " (10, 3): ('▢,1,1,2,▢,▢,▢,▢,▢,▢', 3),\n",
       " (10, 4): ('▢,1,1,2,▢,5,▢,▢,▢,▢', 4),\n",
       " (10, 5): ('▢,1,1,2,▢,5,▢,▢,▢,▢,○', 4),\n",
       " (10, 6): ('▢,1,1,2,▢,5,▢,▢,▢,▢,○,○', 4),\n",
       " (10, 7): ('▢,1,1,2,▢,5,▢,▢,▢,▢,○,○,○', 4),\n",
       " (10, 8): ('▢,1,1,2,▢,5,▢,▢,▢,▢,○,○,○,○', 4),\n",
       " (10, 9): ('▢,1,1,2,▢,5,▢,▢,▢,▢,○,○,○,○,○', 4),\n",
       " (10, 10): ('▢,1,1,2,▢,5,▢,▢,▢,▢,○,○,○,○,○,○', 4),\n",
       " (10, 11): ('▢,1,1,2,▢,5,▢,▢,▢,▢,○,○,○,○,○,○,○', 4),\n",
       " (10, 12): ('▢,1,1,2,▢,5,▢,▢,▢,▢,○,○,○,○,○,○,○,○', 4),\n",
       " (10, 13): ('▢,1,1,2,▢,5,▢,▢,▢,▢,○,○,○,○,○,○,○,○,○', 4),\n",
       " (10, 14): ('▢,1,1,2,▢,5,▢,▢,▢,▢,○,○,○,○,○,○,○,○,○,○', 4),\n",
       " (10, 15): ('▢,1,1,2,▢,5,▢,▢,▢,▢,○,○,○,○,○,○,○,○,○,○,○', 4),\n",
       " (11, 0): ('▢,▢,▢,▢,▢,▢,▢,▢,▢,▢,▢', 0),\n",
       " (11, 1): ('▢,▢,1,▢,▢,▢,▢,▢,▢,▢,▢', 1),\n",
       " (11, 2): ('▢,1,1,▢,▢,▢,▢,▢,▢,▢,▢', 2),\n",
       " (11, 3): ('▢,1,1,2,▢,▢,▢,▢,▢,▢,▢', 3),\n",
       " (11, 4): ('▢,1,1,2,▢,5,▢,▢,▢,▢,▢', 4),\n",
       " (11, 5): ('▢,1,1,2,▢,5,▢,▢,▢,▢,▢,○', 4),\n",
       " (11, 6): ('▢,1,1,2,▢,5,▢,▢,▢,▢,▢,○,○', 4),\n",
       " (11, 7): ('▢,1,1,2,▢,5,▢,▢,▢,▢,▢,○,○,○', 4),\n",
       " (11, 8): ('▢,1,1,2,▢,5,▢,▢,▢,▢,▢,○,○,○,○', 4),\n",
       " (11, 9): ('▢,1,1,2,▢,5,▢,▢,▢,▢,▢,○,○,○,○,○', 4),\n",
       " (11, 10): ('▢,1,1,2,▢,5,▢,▢,▢,▢,▢,○,○,○,○,○,○', 4),\n",
       " (11, 11): ('▢,1,1,2,▢,5,▢,▢,▢,▢,▢,○,○,○,○,○,○,○', 4),\n",
       " (11, 12): ('▢,1,1,2,▢,5,▢,▢,▢,▢,▢,○,○,○,○,○,○,○,○', 4),\n",
       " (11, 13): ('▢,1,1,2,▢,5,▢,▢,▢,▢,▢,○,○,○,○,○,○,○,○,○', 4),\n",
       " (11, 14): ('▢,1,1,2,▢,5,▢,▢,▢,▢,▢,○,○,○,○,○,○,○,○,○,○', 4),\n",
       " (11, 15): ('▢,1,1,2,▢,5,▢,▢,▢,▢,▢,○,○,○,○,○,○,○,○,○,○,○', 4)}"
      ]
     },
     "execution_count": 217,
     "metadata": {},
     "output_type": "execute_result"
    }
   ],
   "source": [
    "pprint_memo_table(memo_table, joiner=',')"
   ]
  },
  {
   "cell_type": "markdown",
   "metadata": {},
   "source": [
    "---\n",
    "<a rel=\"license\" href=\"http://creativecommons.org/licenses/by-nc-sa/4.0/\"><img alt=\"Creative Commons License\" style=\"border-width:0\" src=\"https://i.creativecommons.org/l/by-nc-sa/4.0/88x31.png\" /></a><br />This work is licensed under a <a rel=\"license\" href=\"http://creativecommons.org/licenses/by-nc-sa/4.0/\">Creative Commons Attribution-NonCommercial-ShareAlike 4.0 International License</a>."
   ]
  }
 ],
 "metadata": {
  "kernelspec": {
   "display_name": "Python 3",
   "language": "python",
   "name": "python3"
  },
  "language_info": {
   "codemirror_mode": {
    "name": "ipython",
    "version": 3
   },
   "file_extension": ".py",
   "mimetype": "text/x-python",
   "name": "python",
   "nbconvert_exporter": "python",
   "pygments_lexer": "ipython3",
   "version": "3.5.2"
  }
 },
 "nbformat": 4,
 "nbformat_minor": 0
}
