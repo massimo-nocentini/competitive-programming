{
 "cells": [
  {
   "cell_type": "markdown",
   "metadata": {},
   "source": [
    "<div align=\"right\">\n",
    "Massimo Nocentini<br>\n",
    "<small>\n",
    "<br>September 21, 2016: Monge arrays\n",
    "</small>\n",
    "<br>\n",
    "<img src=\"http://www.cerm.unifi.it/chianti/images/logo%20unifi_positivo.jpg\" \n",
    "        alt=\"UniFI logo\" style=\"float: right; width: 20%; height: 20%;\">\n",
    "</div>\n",
    "<br>\n",
    "<div align=\"center\"><br>\n",
    "<b>Abstract</b><br>\n",
    "This document collects ideas about <i>dynamic programming</i> and related concepts,\n",
    "such as recurrence relations and matrices.\n",
    "</div>"
   ]
  },
  {
   "cell_type": "markdown",
   "metadata": {},
   "source": [
    "# Matrices"
   ]
  },
  {
   "cell_type": "markdown",
   "metadata": {},
   "source": [
    "## Monge arrays\n",
    "\n",
    "Have a look at https://en.wikipedia.org/wiki/Monge_array"
   ]
  },
  {
   "cell_type": "code",
   "execution_count": 69,
   "metadata": {
    "collapsed": true
   },
   "outputs": [],
   "source": [
    "import operator\n",
    "from itertools import count, zip_longest\n",
    "from collections import OrderedDict\n",
    "\n",
    "def parity_numbered_rows(matrix, parity, include_index=False):\n",
    "    start = 0 if parity == 'even' else 1\n",
    "    return [(i, r) if include_index else r \n",
    "            for i in range(start, len(matrix), 2)\n",
    "            for r in [matrix[i]]]\n",
    "    \n",
    "def argmin(iterable, only_index=True):\n",
    "    index, minimum = index_min = min(enumerate(iterable), key=operator.itemgetter(1))\n",
    "    return index if only_index else index_min\n",
    "\n",
    "def interleaving(one, another):\n",
    "    for o, a in zip_longest(one, another):\n",
    "        yield o\n",
    "        if a: yield a\n",
    "\n",
    "def is_sorted(iterable, pred=lambda l, g: l <= g):\n",
    "    _, *rest = iterable\n",
    "    return all(pred(l, g) for l, g in zip(iterable, rest))\n",
    "            \n",
    "def minima_indexes(matrix):\n",
    "    \n",
    "    if len(matrix) == 1: return [argmin(matrix.pop())]\n",
    "    \n",
    "    recursion = minima_indexes(parity_numbered_rows(matrix, parity='even'))\n",
    "    even_minima = OrderedDict((i, m) for i, m in zip(count(start=0, step=2), recursion))\n",
    "    odd_minima = [argmin(odd_r[start:end]) + start\n",
    "                  for o, odd_r in parity_numbered_rows(matrix, parity='odd', include_index=True)\n",
    "                  for start in [even_minima[o-1]]\n",
    "                  for end in [even_minima[o+1]+1 if o+1 in even_minima else None]]\n",
    "    \n",
    "    return list(interleaving(even_minima.values(), odd_minima))\n",
    "\n",
    "def minima(matrix):\n",
    "    return [matrix[i][m] for i, m in enumerate(minima_indexes(matrix))]\n",
    "\n",
    "def is_not_monge(matrix):\n",
    "    return any(any(matrix[r][m] > matrix[r][i] for i in range(m)) \n",
    "               for r, m in enumerate(minima_indexes(matrix)))\n",
    "    "
   ]
  },
  {
   "cell_type": "markdown",
   "metadata": {},
   "source": [
    "The following *is* a Monge array:"
   ]
  },
  {
   "cell_type": "code",
   "execution_count": 70,
   "metadata": {
    "collapsed": false
   },
   "outputs": [
    {
     "data": {
      "text/plain": [
       "[10, 16, 22, 6, 23, 6, 34]"
      ]
     },
     "execution_count": 70,
     "metadata": {},
     "output_type": "execute_result"
    }
   ],
   "source": [
    "matrix = [\n",
    "    [10, 17, 13, 28, 23],\n",
    "    [17, 22, 16, 29, 23],\n",
    "    [24, 28, 22, 34, 24],\n",
    "    [11, 13, 6, 17, 7],\n",
    "    [45, 44, 32, 37, 23],\n",
    "    [36, 33, 19, 21, 6],\n",
    "    [75, 66, 51, 53, 34],\n",
    "]\n",
    "\n",
    "minima(matrix)"
   ]
  },
  {
   "cell_type": "code",
   "execution_count": 71,
   "metadata": {
    "collapsed": false
   },
   "outputs": [
    {
     "data": {
      "text/plain": [
       "[0, 2, 2, 2, 4, 4, 4]"
      ]
     },
     "execution_count": 71,
     "metadata": {},
     "output_type": "execute_result"
    }
   ],
   "source": [
    "minima_indexes(matrix)"
   ]
  },
  {
   "cell_type": "code",
   "execution_count": 72,
   "metadata": {
    "collapsed": false
   },
   "outputs": [
    {
     "data": {
      "text/plain": [
       "False"
      ]
     },
     "execution_count": 72,
     "metadata": {},
     "output_type": "execute_result"
    }
   ],
   "source": [
    "is_not_monge(matrix)"
   ]
  },
  {
   "cell_type": "markdown",
   "metadata": {},
   "source": [
    "The following *is not* a Monge array:"
   ]
  },
  {
   "cell_type": "code",
   "execution_count": 73,
   "metadata": {
    "collapsed": false
   },
   "outputs": [
    {
     "data": {
      "text/plain": [
       "[22, 7, 30, 6, 8]"
      ]
     },
     "execution_count": 73,
     "metadata": {},
     "output_type": "execute_result"
    }
   ],
   "source": [
    "matrix = [\n",
    "    [37, 23, 22, 32],\n",
    "    [21, 6, 7, 10],\n",
    "    [53, 34, 30, 31],\n",
    "    [32, 13, 9, 6],\n",
    "    [43, 21, 15, 8],\n",
    "]\n",
    "\n",
    "minima(matrix) # produces a wrong answer!!!"
   ]
  },
  {
   "cell_type": "code",
   "execution_count": 74,
   "metadata": {
    "collapsed": false
   },
   "outputs": [
    {
     "data": {
      "text/plain": [
       "[2, 2, 2, 3, 3]"
      ]
     },
     "execution_count": 74,
     "metadata": {},
     "output_type": "execute_result"
    }
   ],
   "source": [
    "minima_indexes(matrix)"
   ]
  },
  {
   "cell_type": "code",
   "execution_count": 75,
   "metadata": {
    "collapsed": false
   },
   "outputs": [
    {
     "data": {
      "text/plain": [
       "True"
      ]
     },
     "execution_count": 75,
     "metadata": {},
     "output_type": "execute_result"
    }
   ],
   "source": [
    "is_not_monge(matrix)"
   ]
  },
  {
   "cell_type": "markdown",
   "metadata": {},
   "source": [
    "---\n",
    "<a rel=\"license\" href=\"http://creativecommons.org/licenses/by-nc-sa/4.0/\"><img alt=\"Creative Commons License\" style=\"border-width:0\" src=\"https://i.creativecommons.org/l/by-nc-sa/4.0/88x31.png\" /></a><br />This work is licensed under a <a rel=\"license\" href=\"http://creativecommons.org/licenses/by-nc-sa/4.0/\">Creative Commons Attribution-NonCommercial-ShareAlike 4.0 International License</a>."
   ]
  }
 ],
 "metadata": {
  "kernelspec": {
   "display_name": "Python 3",
   "language": "python",
   "name": "python3"
  },
  "language_info": {
   "codemirror_mode": {
    "name": "ipython",
    "version": 3
   },
   "file_extension": ".py",
   "mimetype": "text/x-python",
   "name": "python",
   "nbconvert_exporter": "python",
   "pygments_lexer": "ipython3",
   "version": "3.5.1"
  }
 },
 "nbformat": 4,
 "nbformat_minor": 0
}
