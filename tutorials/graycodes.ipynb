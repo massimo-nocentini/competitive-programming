{
 "cells": [
  {
   "cell_type": "markdown",
   "metadata": {},
   "source": [
    "<div align=\"right\">Massimo Nocentini\n",
    "<br>June 7, 2016: theoretical intro\n",
    "<br>May 19, 2016: BRGC\n",
    "</div>\n",
    "\n",
    "<div align=\"center\">\n",
    "<b>Abstract</b><br>\n",
    "This document collect some theory and arguments about <i>Gray codes</i>.\n",
    "</div>"
   ]
  },
  {
   "cell_type": "code",
   "execution_count": 39,
   "metadata": {
    "collapsed": false
   },
   "outputs": [],
   "source": [
    "%run ../python-libs/inpututils.py\n",
    "%run ../python-libs/graycodes.py\n",
    "%run ../python-libs/bits.py"
   ]
  },
  {
   "cell_type": "markdown",
   "metadata": {},
   "source": [
    "# Combinatorial Generation\n",
    "\n",
    "The theory described here is given by [Frank Ruskey][fr] and adapted from his [Combinatorial Generation][cg] book. We use the following arguments to implement some Python functions, available [here][libs:gray]. In this introduction we report some concepts and definitions from Ruskey that we believe interesting and necessary for what follows, starting with the meaning of *Combinatorial Generation*:\n",
    "\n",
    ">*Let's look at all the possibilities.* This phrase sums up the outlook of this book. In\n",
    "computer science, mathematics, and in other fields it is often necessary to examine all of\n",
    "a finite number of possibilities in order to solve a problem or gain insight into the solution\n",
    "of a problem. These possibilities often have an underlying combinatorial structure which\n",
    "can be exploited in order to obtain an efficient algorithm for generating some appropriate\n",
    "representation of them.\n",
    "\n",
    "About *complexity*:\n",
    "\n",
    ">Not much attention has been paid to the model of computation in the area of combinatorial\n",
    "generation. For the most part authors use the random access machine model. This is more\n",
    "or less like counting operations in a Pascal program, with the understanding that integers\n",
    "can be arbitrarily large and the assumption that standard arithmetic operations can be\n",
    "done in constant time. For large integers this is an unrealistic assumption. It is generally\n",
    "the case that integers are small in generation algorithms, but that they are large in ranking\n",
    "and unranking algorithms. We will therefore measure ranking and unranking algorithms in\n",
    "terms of the number of arithmetic operations used.\n",
    "\n",
    "About *analysis*:\n",
    "\n",
    ">There are two terms that are used throughout the book. We strive to develop algorithms\n",
    "that have these properties. \n",
    "   - **CAT** algorithms: the holy grail of generating combinatorial objects is to find an algorithm\n",
    "   that runs in Constant Amortized Time. This means that the amount of computation, after\n",
    "   a small amount of preprocessing, is proportional to the number of objects that are listed.\n",
    "   *We do not count the time to actually output or process the objects; we are only concerned\n",
    "   with the amount of data structure change that occurs as the objects are being generated*. \n",
    "   Suppose that the input to our generation algorithm is n, and that this will produce $N$\n",
    "   objects, each of \"size\" $n$. A CAT algorithm has running time $\\mathcal{O}(N)$. In the typical \n",
    "   application of combinatorial generation, each object, as it is produced, is processed somehow.\n",
    "   If this processing takes time $\\mathcal{O}(n)$, then having a CAT algorithm has no advantage over\n",
    "   having one with running time $\\mathcal{O}(nN)$, since the total running time is $\\mathcal{O}(nN)$ \n",
    "   in either case.\n",
    "   - **BEST** algorithms: this means *Backtracking Ensuring Success at Terminals*. In other\n",
    "   words, the algorithm is of the backtracking type, but every leaf of the backtracking tree is\n",
    "   an object of the desired type; it is a *success*.\n",
    "\n",
    "*Don't count the output* principle:\n",
    "\n",
    ">There are are many papers about generating combinatorial objects that describe an\n",
    "$\\mathcal{O}(nN)$ running time as *optimal*, because this is the amount of output produced by the\n",
    "algorithm — each object has size $n$ and there are $N$ objects in total. This is a misguided\n",
    "notion that has its roots in the way lower bounds are discussed in the traditional introduction\n",
    "to complexity theory course. There the *trivial lower bound* says that the amount of output\n",
    "gives a lower bound on the amount of computation — of course it says the same thing in\n",
    "our setting, *but the amount of output is the wrong thing to measure*.\n",
    ">>**Don't Count the Output Principle**: In combinatorial generation it is the\n",
    "amount of data structure change that should be measured in determining the complexity \n",
    "of an algorithm; the time required to output (and process) each object should be ignored.\n",
    "\n",
    ">The *trivial lower bound* for combinatorial generation is $\\mathcal{Θ}(N )$; it is independent of $n$.\n",
    "Now back to our typical application,\n",
    "where processing each object took time $\\mathcal{O}(n)$ even though our generation algorithm was\n",
    "CAT. Wouldn't it be nice if the $\\mathcal{O}(nN)$ could be brought down to $\\mathcal{O}(N)$? \n",
    "This is frequently possible! If you go back and observe how successive objects are processed, *it is often the\n",
    "case that the amount of processing required is proportional to the amount of change that\n",
    "successive objects undergo.*\n",
    "\n",
    "A last concept, *ordering*:\n",
    "\n",
    ">*Lexicographic* order is based on the familiar idea as the ordering of words in dictionaries.\n",
    "The only requirement is that *the letters that make up the alphabet of the language be\n",
    "ordered*. In the definitions below we use $\\prec$ to denote the assumed underlying ordering of\n",
    "the symbols of the alphabet and $<$ to denote orderings of strings (and, of course, integers). \n",
    "We remark again that in most instances the alphabet is the set of natural numbers under the usual numeric ordering\n",
    "$0 \\prec 1 \\prec 2 \\prec \\ldots$.\n",
    "\n",
    "We report definitions of three orderings:\n",
    "\n",
    "   - *lexicographic* (or *lex*) order, denoted by $<_{l}$: \n",
    "   $a_1 a_2 \\ldots a_n <_l b_1 b_2 \\ldots b_m$ if either\n",
    "      1. for some $k$, $a_k \\prec b_k$ and $a_i = b_i$ for $i\\in\\lbrace 1, 2, \\ldots , k − 1\\rbrace$, or\n",
    "      2. $n < m$ and $a_i = b_i$ for $i \\in\\lbrace 1, 2, \\ldots , n\\rbrace$.\n",
    "   - *reverse lexicographic* (or *relex*) order, denoted by $<_{r}$: $a_1 a_2 \\ldots a_n <_r b_1 b_2 \\ldots b_m$\n",
    "   if $b_1 b_2 \\ldots b_m <_l a_1 a_2 \\ldots a_n$ in lex order.\n",
    "   - *co-lexicographic* (or *colex*) order, denoted by $<_{c}$: $a_1 a_2 \\ldots a_n <_c b_1 b_2 \\ldots b_m$\n",
    "   if $a_n \\ldots a_2 a_1 <_l b_m \\ldots b_2 b_1$ in lex order.\n",
    "\n",
    "[fr]:http://webhome.cs.uvic.ca/~ruskey/\n",
    "[cg]:http://www.1stworks.com/ref/RuskeyCombGen.pdf\n",
    "[libs:gray]:https://github.com/massimo-nocentini/competitive-programming/blob/master/python-libs/graycodes.py"
   ]
  },
  {
   "cell_type": "markdown",
   "metadata": {},
   "source": [
    "# Binary Reflected Gray Codes\n",
    "\n",
    "Here we introduce combinatorial Gray codes, which are lists of combinatorial\n",
    "objects such that are pairwise *close*. Quoting Ruskey:\n",
    "\n",
    ">Suppose that we wish to list all $2^n$ bitstrings of length $n$, in such a way that each bitstring\n",
    "differs from its predecessor by a single bit. Such lists are called *binary Gray codes*, named\n",
    "after Frank Gray who used them in a patent he obtained for \"pulse code communication\".\n",
    "\n",
    "Using *reflection*, it yields a recursive definition:\n",
    "\n",
    ">There is a very simple recursive algorithm for generating one particular Gray code, known\n",
    "as the *binary reflected Gray code (BRGC)*.\n",
    "The binary reflected Gray code on *n* elements, $\\textbf{G}_n$, is defined recursively by letting\n",
    "$\\textbf{G}_0$ be the single element sequence containing the empty string $\\epsilon$, \n",
    "and letting $\\textbf{G}_n$ be the list obtained by prefixing each element of $\\textbf{G}_{n−1}$ \n",
    "with a 0 and then prefixing each element of $\\textbf{G}_{n−1}$ *in reversed order* with a 1. For example: \n",
    "$\\textbf{G}_1 = (0,1), \\textbf{G}_2 = (00, 01, 11, 10), \\textbf{G}_3 = (000, 001, 011, 010, 110, 111, 101, 100)$.\n",
    "The $n$-dimensional hypercube, or $n$-cube, $Q_n$ , may be considered as the graph whose\n",
    "vertices consist of all bitstrings of length $n$ and where two vertices are joined by an edge\n",
    "if they differ by a single bit. The problem of finding a Gray code corresponds to finding a\n",
    "Hamilton path in $Q_n$: observe that the binary reflected Gray\n",
    "code actually defines a Hamiltonian cycle on the $n$-cube since the first and last bitstrings\n",
    "only differ by a single bit.\n",
    "\n",
    "There is an interesting connection between the Towers of Hanoi problem, the binary\n",
    "reflected Gray code, and ordinary counting in binary:\n",
    "\n",
    ">Now suppose that the disks are numbered $0, 1, \\ldots , n-1$ where 0 is the smallest disk and\n",
    "$n-1$ is the largest disk. Let $T_n$ denote the sequence of disks that are moved in solving the\n",
    "$n$ disk Towers of Hanoi problem. Looking at the following table, $T_3 = 0, 1, 0, 2, 0, 1, 0$. \n",
    "It turns out that the number at position k in T_n, zero-based, \n",
    "is the index of the bit that changes in the bitstring of $\\textbf{G}_n$ in position $k$, \n",
    "and that this is equal to the position $k$ \n",
    "of the rightmost 0, counting from the right, in the bitstring when counting in binary.\n",
    "The sequence $T_n$ is called the transition sequence of the BRGC. Every Hamilton path on\n",
    "the $n$-cube has a transition sequence and these paths are often specified by their transition\n",
    "sequences.\n",
    "$$\n",
    "\\begin{array}{ccc}\n",
    "\\text{binary} & \\text{Gray code} & T_n\\\\\n",
    "\\hline\n",
    "000 & 000 & 0 \\\\\n",
    "001 & 001 & 1 \\\\\n",
    "010 & 011 & 0 \\\\\n",
    "011 & 010 & 2 \\\\\n",
    "100 & 110 & 0 \\\\\n",
    "101 & 111 & 1 \\\\\n",
    "110 & 101 & 0 \\\\\n",
    "111 & 100 &  \\\\\n",
    "\\end{array}\n",
    "$$\n",
    "\n",
    "We will first derive two functions, for *ranking* and *unranking* gray codes and, lately, a function to efficiently compute the position of the rightmost 0 when counting in binary."
   ]
  },
  {
   "cell_type": "markdown",
   "metadata": {},
   "source": [
    "## *Ranking* Gray codes\n",
    "\n",
    "As a notational convenience we will now assume that the Gray code\n",
    "bitstrings are indexed $g_{n} \\ldots g_1$, in contrast to the usual 0-based indexing.\n",
    "\n",
    "Let $r$, standing for *rank*, be a function defined inductively as follows:\n",
    "$$\n",
    "    r()=0 \\\\\n",
    "    r(0 g_{n-1} \\ldots g_{1} ) = r(g_{n-1} \\ldots g_{1} ) \\\\\n",
    "    r(1 g_{n-1} \\ldots g_{1} ) = 2^{n-1} + \\bar{r}(g_{n-1} \\ldots g_{1} )\n",
    "$$\n",
    "where auxiliary function $\\bar{r}$ is defined as:\n",
    "$$\n",
    "    \\bar{r}()=0 \\\\\n",
    "    \\bar{r}(0 g_{n-1} \\ldots g_{1} ) = 2^{n-1} + \\bar{r}(g_{n-1} \\ldots g_{1} )  \\\\\n",
    "    \\bar{r}(1 g_{n-1} \\ldots g_{1} ) = r(g_{n-1} \\ldots g_{1} )\n",
    "$$\n",
    "\n",
    "In Ruskey words, slightly modified:\n",
    "\n",
    ">Let $\\textbf{g}=g_{n}\\ldots g_{1}$ be a Gray code and assume $r(g_{n}\\ldots g_{1})=(b_{n-1}\\ldots b_{0})_{2}$. This mutual recursive definition may be interpreted as setting $b_{n−1}$ to 0 or 1, depending upon whether\n",
    "the term $2^{n−1}$ in the binary expansion is present or not. The repeated application of these\n",
    "recurrence relations to a bitstring may then be thought of as sweeping functions $r$ or $\\bar{r}$ from left-to-right as illustrated in the example below, where $\\textbf{g}=g_{n}\\ldots g_{1} = 111010101$:\n",
    "\n",
    "$$\n",
    "\\begin{array}{cccccccccc}\n",
    "       & g_{9} & g_{8} & g_{7} & g_{6} & g_{5} & g_{4} & g_{3} & g_{2} & g_{1} \\\\\n",
    "     r & 1 & 1 & 1 & 0 & 1 & 0 & 1 & 0 & 1 \\\\\n",
    "     1 & \\bar{r} & 1 & 1 & 0 & 1 & 0 & 1 & 0 & 1 \\\\\n",
    "     1 & 0 & r & 1 & 0 & 1 & 0 & 1 & 0 & 1 \\\\\n",
    "     1 & 0 & 1 & \\bar{r} & 0 & 1 & 0 & 1 & 0 & 1 \\\\\n",
    "     1 & 0 & 1 & 1 & \\bar{r} & 1 & 0 & 1 & 0 & 1 \\\\\n",
    "     1 & 0 & 1 & 1 & 0 & r & 0 & 1 & 0 & 1 \\\\\n",
    "     1 & 0 & 1 & 1 & 0 & 0 & r & 1 & 0 & 1 \\\\\n",
    "     1 & 0 & 1 & 1 & 0 & 0 & 1 & \\bar{r} & 0 & 1 \\\\\n",
    "     1 & 0 & 1 & 1 & 0 & 0 & 1 & 1 & \\bar{r} & 1 \\\\\n",
    "     1 & 0 & 1 & 1 & 0 & 0 & 1 & 1 & 0 & r \\\\\n",
    "     b_{8} & b_{7} & b_{6} & b_{5} & b_{4} & b_{3} & b_{2} & b_{1} & b_{0} \\\\\n",
    "\\end{array}\n",
    "$$\n",
    "\n",
    ">With $g_{n+1}$ = 0, note that an $r$ always has a 0 to its left and a $\\bar{r}$ has a 1 to its left. Thus\n",
    "for each sub-sequence $b_{i}\\,\\sigma\\,g_{i}$, where $\\sigma\\in\\lbrace r, \\bar{r}\\rbrace$, there are *four* possibilities $\\lbrace 0\\,r\\,0, 0\\,r\\,1, 1\\,\\bar{r}\\,0, 1\\,\\bar{r}\\,1\\rbrace$. The resulting values of $b_{i−1}$ are $\\lbrace 0, 1, 1, 0 \\rbrace$ in those four cases, respectively:\n",
    "\n",
    "$$\n",
    "\\begin{array}{ccc}\n",
    "    b_{i} & \\sigma & g_{\\hat{i}} \\\\\n",
    "     & \\downarrow & \\\\\n",
    "    b_{i} & b_{i-1} & \\sigma' \\\\\n",
    "\\end{array}\n",
    "$$\n",
    "\n",
    ">where $\\downarrow$ is the application of function $\\sigma \\in \\lbrace r, \\bar{r}\\rbrace$, which sets $b_{i-1}$ and function $\\sigma'$ according to the mutual definition. From this we observe that $b_{i−1} = b_i \\oplus g_{\\hat{i}}$ , where $\\oplus$ denotes exclusive-or: the bit below an $r$ or $\\bar{r}$ is the exclusive-or of the bits left and right of the $r$ or $\\bar{r}$. Therefore the following holds:\n",
    "\n",
    "$$ r(g_{n}\\ldots g_{1})=(b_{n-1}\\ldots b_{0})_{2} \\rightarrow b_{i−1} = b_i \\oplus g_{\\hat{i}} $$\n",
    "\n",
    ">where $g_{\\hat{i}} = g_{i-1}$.\n",
    " \n",
    "We can use the above argument to produce the Gray code with generic symbol $g_{i-1}$, zero-based indexing, in rank or position $k$ (named $b$ above) using the relation $k_i \\oplus k_{i−1} =  g_{i-1}$ and visualized as:\n",
    "\n",
    "$$\n",
    "\\begin{array}{ccccc}\n",
    "    b_{i} & & b_{i-1} & & b_{i-2} \\\\\n",
    "    \\oplus & \\searrow & \\oplus & \\searrow & \\oplus \\\\\n",
    "    b_{i+1} & & b_{i} & & b_{i-1} \\\\\n",
    "    = & & = & & = \\\\\n",
    "    g_{i} & & g_{i-1} & & g_{i-2} \\\\\n",
    "\\end{array}\n",
    "$$\n",
    "\n",
    "observe that the former and latter rows stay steal, only the middle is shifted to the right."
   ]
  },
  {
   "cell_type": "markdown",
   "metadata": {},
   "source": [
    "### Indirect generation\n",
    "\n",
    "Python function `graycode_unrank` that implements arguments above is pretty elegant; however, this generation is *indirect* since it does not provide the *position* of the changing bit among adjacent codes:"
   ]
  },
  {
   "cell_type": "code",
   "execution_count": 26,
   "metadata": {
    "collapsed": false
   },
   "outputs": [
    {
     "data": {
      "text/markdown": [
       "```python\n",
       "def graycode_unrank(k): \n",
       "    \"\"\"\n",
       "    Return the *graycode* in position `k` respect binary reflected construction.\n",
       "    \n",
       "    Of course, argument `k` should be a *non-negative* integer.\n",
       "\n",
       "    Examples\n",
       "    ========\n",
       "\n",
       "    >>> bin(graycode_unrank(0b101100110))\n",
       "    '0b111010101'\n",
       "\n",
       "    \"\"\"\n",
       "    g = k ^ (k >> 1)\n",
       "    return g\n",
       "\n",
       "```"
      ],
      "text/plain": [
       "<IPython.core.display.Markdown object>"
      ]
     },
     "execution_count": 26,
     "metadata": {},
     "output_type": "execute_result"
    }
   ],
   "source": [
    "python_code(graycode_unrank)"
   ]
  },
  {
   "cell_type": "markdown",
   "metadata": {},
   "source": [
    "The following is an iterable of Gray codes we saw in the example above, namely all of them of length 3, pretty-printed:"
   ]
  },
  {
   "cell_type": "code",
   "execution_count": 27,
   "metadata": {
    "collapsed": false
   },
   "outputs": [
    {
     "name": "stdout",
     "output_type": "stream",
     "text": [
      "0b000\n",
      "0b001\n",
      "0b011\n",
      "0b010\n",
      "0b110\n",
      "0b111\n",
      "0b101\n",
      "0b100\n"
     ]
    }
   ],
   "source": [
    "print('\\n'.join(list(binary_reflected_graycodes(3, justified=True))))"
   ]
  },
  {
   "cell_type": "markdown",
   "metadata": {},
   "source": [
    "Moreover, we have implemented an *operator* which allows us to process an iterable of codes pairwise, possibly plugging-in custom behavior via `lambda` expressions. Previous table with the position of the changing-bit can be rebuilt as follows:"
   ]
  },
  {
   "cell_type": "code",
   "execution_count": 28,
   "metadata": {
    "collapsed": false
   },
   "outputs": [
    {
     "name": "stdout",
     "output_type": "stream",
     "text": [
      "0b0\t0b0\t0\n",
      "0b1\t0b1\t1\n",
      "0b10\t0b11\t0\n",
      "0b11\t0b10\t2\n",
      "0b100\t0b110\t0\n",
      "0b101\t0b111\t1\n",
      "0b110\t0b101\t0\n",
      "0b111\t0b100\t2\n"
     ]
    }
   ],
   "source": [
    "from itertools import count\n",
    "\n",
    "example_graycodes = binary_reflected_graycodes(length=3)\n",
    "for c, (o, s, p, r) in zip(count(), binary_reflected_graycodes_reduce(example_graycodes)):\n",
    "    print('{}\\t{}\\t{}'.format(bin(c), bin(o), p))"
   ]
  },
  {
   "cell_type": "markdown",
   "metadata": {},
   "source": [
    "### Direct generation\n",
    "\n",
    "It is possible to write a function `graycodes_direct` which provides codes and changing-bit positions in parallel, here is the code:"
   ]
  },
  {
   "cell_type": "code",
   "execution_count": 36,
   "metadata": {
    "collapsed": false
   },
   "outputs": [
    {
     "data": {
      "text/markdown": [
       "```python\n",
       "def graycodes_direct(n):\n",
       "    \"\"\"\n",
       "    Returns an iterable of Gray codes of length `n`, each paired with changing-bit positions.\n",
       "\n",
       "    \"\"\"\n",
       "    code = 0\n",
       "\n",
       "    def gen(i):\n",
       "        nonlocal code\n",
       "        if i > -1:\n",
       "            yield from gen(i-1)\n",
       "            code = toggle_bit(code, i)\n",
       "            yield code, i\n",
       "            yield from gen(i-1)\n",
       "             \n",
       "\n",
       "    yield code, 0\n",
       "    yield from gen(n-1)\n",
       "\n",
       "```"
      ],
      "text/plain": [
       "<IPython.core.display.Markdown object>"
      ]
     },
     "execution_count": 36,
     "metadata": {},
     "output_type": "execute_result"
    }
   ],
   "source": [
    "python_code(graycodes_direct)"
   ]
  },
  {
   "cell_type": "markdown",
   "metadata": {},
   "source": [
    "and can be used to build the same example table; observe that the changing-bit positions sequence is shifted *forward* by one:"
   ]
  },
  {
   "cell_type": "code",
   "execution_count": 38,
   "metadata": {
    "collapsed": false
   },
   "outputs": [
    {
     "name": "stdout",
     "output_type": "stream",
     "text": [
      "0b0\t0b0\t0\n",
      "0b1\t0b1\t0\n",
      "0b10\t0b11\t1\n",
      "0b11\t0b10\t0\n",
      "0b100\t0b110\t2\n",
      "0b101\t0b111\t0\n",
      "0b110\t0b101\t1\n",
      "0b111\t0b100\t0\n"
     ]
    }
   ],
   "source": [
    "for i, (code, changingbit_position) in zip(count(), graycodes_direct(3)):\n",
    "    print('{}\\t{}\\t{}'.format(bin(i),bin(code), changingbit_position))"
   ]
  },
  {
   "cell_type": "markdown",
   "metadata": {},
   "source": [
    "## *Unranking* Gray codes\n",
    "\n",
    "Although not required, we can work the relation $k_{i−1} = k_i \\oplus  g_{i-1}$ backwards, namely given a Gray code `g` find the corresponding position or rank `k`. To succeed, we think inductively as follows: rewrite the same schema, starting from the very left, namely the most significant part\n",
    "\n",
    "$$\n",
    "\\begin{array}{ccccc}\n",
    "    b_{n-1} & & b_{n-2} & & b_{n-3} \\\\\n",
    "    = & \\searrow & = & \\searrow & = \\\\\n",
    "    0 & & b_{n-1} & & b_{n-2} \\\\\n",
    "    \\oplus & & \\oplus & & \\oplus \\\\\n",
    "    g_{n-1} & & g_{n-2} & & g_{n-3} \\\\\n",
    "\\end{array}\n",
    "$$\n",
    "\n",
    "where the row in the middle starts with 0 because it is shifted to the right by one. Doing the leftmost $\\oplus$ and copying it according to the arrow -- after all, the middle row *is* the first one, just shifted -- we get:\n",
    "\n",
    "$$\n",
    "\\begin{array}{ccccc}\n",
    "    g_{n-1} & & b_{n-2} & & b_{n-3} \\\\\n",
    "    = & \\searrow & = & \\searrow & = \\\\\n",
    "    0 & & g_{n-1} & & b_{n-2} \\\\\n",
    "    \\oplus & & \\oplus & & \\oplus \\\\\n",
    "    g_{n-1} & & g_{n-2} & & g_{n-3} \\\\\n",
    "\\end{array}\n",
    "$$\n",
    "\n",
    "We can complete the induction steps, obtaining:\n",
    "\n",
    "$$\n",
    "\\begin{array}{ccccc}\n",
    "    g_{n-1} & & g_{n-2}\\oplus g_{n-1} & & g_{n-3}\\oplus g_{n-2}\\oplus g_{n-1} \\\\\n",
    "    = & \\searrow & = & \\searrow & = \\\\\n",
    "    0 & & g_{n-1} & & g_{n-2}\\oplus g_{n-1} \\\\\n",
    "    \\oplus & & \\oplus & & \\oplus \\\\\n",
    "    g_{n-1} & & g_{n-2} & & g_{n-3} \\\\\n",
    "\\end{array}\n",
    "$$\n",
    "\n",
    "it seems that we have to *cumulate* the given gray code. In order to derive working Python code, we can split the above schema according the following equivalent one:\n",
    "\n",
    "$$\n",
    "\\begin{array}{ccc}\n",
    "    b_{n-1} & b_{n-2} & b_{n-3} \\\\\n",
    "    = & = & = \\\\\n",
    "    g_{n-1} & g_{n-1} & g_{n-1} \\\\\n",
    "     & \\oplus & \\oplus \\\\\n",
    "      & g_{n-2} & g_{n-2} \\\\\n",
    "     &  & \\oplus \\\\\n",
    "      &  & g_{n-3} \\\\\n",
    "\\end{array}\n",
    "$$\n",
    "\n",
    "\n",
    "This argument is implemented in function `gray_position`, where we code the repetition of each symbol $g_{i}$ building a sequence of ones of the correct length at each iteration, multiplied by a check that ensure that such symbol is actually 1:"
   ]
  },
  {
   "cell_type": "code",
   "execution_count": 40,
   "metadata": {
    "collapsed": false
   },
   "outputs": [
    {
     "data": {
      "text/markdown": [
       "```python\n",
       "def graycode_rank(g):\n",
       "    \"\"\"\n",
       "    Returns the *position* (namely *ranking*) of graycode `g` respect binary reflected construction.\n",
       "\n",
       "    Examples\n",
       "    ========\n",
       "\n",
       "    >>> bin(graycode_rank(0b111010101))\n",
       "    '0b101100110'\n",
       "\n",
       "    \"\"\"\n",
       "    k=0\n",
       "    for i in reversed(range(g.bit_length())):\n",
       "        k ^= set_all(i+1) * is_on(g, i)\n",
       "\n",
       "    return k\n",
       "\n",
       "```"
      ],
      "text/plain": [
       "<IPython.core.display.Markdown object>"
      ]
     },
     "execution_count": 40,
     "metadata": {},
     "output_type": "execute_result"
    }
   ],
   "source": [
    "python_code(graycode_rank)"
   ]
  },
  {
   "cell_type": "markdown",
   "metadata": {},
   "source": [
    "where auxiliary functions are defined as follows:"
   ]
  },
  {
   "cell_type": "code",
   "execution_count": 41,
   "metadata": {
    "collapsed": false
   },
   "outputs": [
    {
     "data": {
      "text/markdown": [
       "```python\n",
       "def is_on(S, j): \n",
       "    \"\"\"\n",
       "    Returns 1 if and only if the `j`-th item of the set `S` is on.\n",
       "\n",
       "    Examples\n",
       "    ========\n",
       "\n",
       "    Check if the 3-th and then 2-nd item of the set is on:\n",
       "    >>> S = 0b101010\n",
       "    >>> is_on(S, 3), is_on(S, 2)\n",
       "    (1, 0)\n",
       "\n",
       "    \"\"\"\n",
       "    return (S & (1 << j)) >> j\n",
       "\n",
       "def set_all(n):\n",
       "    return (1 << n) - 1\n",
       "\n",
       "```"
      ],
      "text/plain": [
       "<IPython.core.display.Markdown object>"
      ]
     },
     "execution_count": 41,
     "metadata": {},
     "output_type": "execute_result"
    }
   ],
   "source": [
    "python_code(is_on, set_all)"
   ]
  },
  {
   "cell_type": "markdown",
   "metadata": {},
   "source": [
    "---\n",
    "<a rel=\"license\" href=\"http://creativecommons.org/licenses/by-nc/4.0/\"><img alt=\"Creative Commons License\" style=\"border-width:0\" src=\"https://i.creativecommons.org/l/by-nc/4.0/88x31.png\" /></a><br /><span xmlns:dct=\"http://purl.org/dc/terms/\" property=\"dct:title\">Gray codes tutorial</span> by <a xmlns:cc=\"http://creativecommons.org/ns#\" href=\"massimo.nocentini@unifi.it\" property=\"cc:attributionName\" rel=\"cc:attributionURL\">Massimo Nocentini</a> is licensed under a <a rel=\"license\" href=\"http://creativecommons.org/licenses/by-nc/4.0/\">Creative Commons Attribution-NonCommercial 4.0 International License</a>.<br />Based on a work at <a xmlns:dct=\"http://purl.org/dc/terms/\" href=\"https://github.com/massimo-nocentini/competitive-programming/blob/master/tutorials/graycodes.ipynb\" rel=\"dct:source\">https://github.com/massimo-nocentini/competitive-programming/blob/master/tutorials/graycodes.ipynb</a>."
   ]
  }
 ],
 "metadata": {
  "kernelspec": {
   "display_name": "Python 3",
   "language": "python",
   "name": "python3"
  },
  "language_info": {
   "codemirror_mode": {
    "name": "ipython",
    "version": 3
   },
   "file_extension": ".py",
   "mimetype": "text/x-python",
   "name": "python",
   "nbconvert_exporter": "python",
   "pygments_lexer": "ipython3",
   "version": "3.5.1"
  }
 },
 "nbformat": 4,
 "nbformat_minor": 0
}
