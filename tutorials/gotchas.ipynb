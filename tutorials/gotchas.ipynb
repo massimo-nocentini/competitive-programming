{
 "cells": [
  {
   "cell_type": "markdown",
   "metadata": {},
   "source": [
    "<div align=\"right\">\n",
    "Massimo Nocentini<br>\n",
    "<br>April 28, 2016: counting sort\n",
    "<br>April 26, 2016: hidden squares, Bunch pattern\n",
    "</div>\n",
    "<br>\n",
    "<div align=\"center\">\n",
    "<b>Abstract</b><br>\n",
    "This document collect some gotchas and experiment in Python, to understand objects and execution pitfalls.\n",
    "</div>"
   ]
  },
  {
   "cell_type": "markdown",
   "metadata": {},
   "source": [
    "# Some gotchas\n",
    "\n",
    "The following notebook collect some cell to understand -- the hard way -- little, but *subtle*, concepts.\n",
    "\n",
    "The main reference from which they are taken is the book by [Magnus Lie Hetland][hetland], in pure [Python][py].\n",
    "\n",
    "[hetland]:http://hetland.org/writing/python-algorithms/\n",
    "[py]:http://www.python.org"
   ]
  },
  {
   "cell_type": "code",
   "execution_count": 25,
   "metadata": {
    "collapsed": true
   },
   "outputs": [],
   "source": [
    "from collections import defaultdict, Counter\n",
    "\n",
    "import matplotlib.pyplot as plt\n",
    "\n",
    "%matplotlib inline\n",
    "plt.rcParams['figure.figsize'] = (8, 8)"
   ]
  },
  {
   "cell_type": "markdown",
   "metadata": {},
   "source": [
    "## A grouping pattern, avoiding *quadratic* time"
   ]
  },
  {
   "cell_type": "markdown",
   "metadata": {},
   "source": [
    "Assume to have two lists that have to be related in some way, namely using a predicate $P$. In the following example we want to build a list of all pairs (boy,girl) such that their names starts with the same letter. Here the input:"
   ]
  },
  {
   "cell_type": "code",
   "execution_count": 2,
   "metadata": {
    "collapsed": true
   },
   "outputs": [],
   "source": [
    "girls = ['alice', 'allie', 'bernice', 'brenda', 'clarice', 'cilly']\n",
    "boys = ['chris', 'christopher', 'arald', 'arnold', 'bob']"
   ]
  },
  {
   "cell_type": "markdown",
   "metadata": {},
   "source": [
    "the bad way, quadratic time:"
   ]
  },
  {
   "cell_type": "code",
   "execution_count": 5,
   "metadata": {
    "collapsed": false
   },
   "outputs": [
    {
     "data": {
      "text/plain": [
       "[('chris', 'clarice'),\n",
       " ('chris', 'cilly'),\n",
       " ('christopher', 'clarice'),\n",
       " ('christopher', 'cilly'),\n",
       " ('arald', 'alice'),\n",
       " ('arald', 'allie'),\n",
       " ('arnold', 'alice'),\n",
       " ('arnold', 'allie'),\n",
       " ('bob', 'bernice'),\n",
       " ('bob', 'brenda')]"
      ]
     },
     "execution_count": 5,
     "metadata": {},
     "output_type": "execute_result"
    }
   ],
   "source": [
    "[(b, g) for b in boys for g in girls if b[0] == g[0]]"
   ]
  },
  {
   "cell_type": "markdown",
   "metadata": {},
   "source": [
    "there is a better approach avoiding quadratic time, toward [`defaultdict`][dd]:\n",
    "\n",
    "[dd]:https://docs.python.org/3/library/collections.html#defaultdict-objects"
   ]
  },
  {
   "cell_type": "code",
   "execution_count": 7,
   "metadata": {
    "collapsed": false
   },
   "outputs": [
    {
     "data": {
      "text/plain": [
       "[('chris', 'clarice'),\n",
       " ('chris', 'cilly'),\n",
       " ('christopher', 'clarice'),\n",
       " ('christopher', 'cilly'),\n",
       " ('arald', 'alice'),\n",
       " ('arald', 'allie'),\n",
       " ('arnold', 'alice'),\n",
       " ('arnold', 'allie'),\n",
       " ('bob', 'bernice'),\n",
       " ('bob', 'brenda')]"
      ]
     },
     "execution_count": 7,
     "metadata": {},
     "output_type": "execute_result"
    }
   ],
   "source": [
    "letterGirls = {}\n",
    "for girl in girls:\n",
    "    letterGirls.setdefault(girl[0], []).append(girl)\n",
    "\n",
    "[(b, g) for b in boys for g in letterGirls[b[0]]]"
   ]
  },
  {
   "cell_type": "markdown",
   "metadata": {},
   "source": [
    "However there is an even better solution, as pointed out in the [example][e] subsection of the previous link: use `defaultdict` instead of repeating call `setdefault` method for each new key. From the official documentation:\n",
    "\n",
    "[e]:https://docs.python.org/3/library/collections.html#defaultdict-examples"
   ]
  },
  {
   "cell_type": "code",
   "execution_count": 10,
   "metadata": {
    "collapsed": false
   },
   "outputs": [
    {
     "data": {
      "text/plain": [
       "[('blue', [2, 4]), ('red', [1]), ('yellow', [1, 3])]"
      ]
     },
     "execution_count": 10,
     "metadata": {},
     "output_type": "execute_result"
    }
   ],
   "source": [
    ">>> s = [('yellow', 1), ('blue', 2), ('yellow', 3), ('blue', 4), ('red', 1)]\n",
    ">>> d = defaultdict(list)\n",
    ">>> for k, v in s:\n",
    "...     d[k].append(v)\n",
    "...\n",
    ">>> list(d.items())\n",
    "[('blue', [2, 4]), ('red', [1]), ('yellow', [1, 3])]"
   ]
  },
  {
   "cell_type": "markdown",
   "metadata": {},
   "source": [
    "## The *Bunch* pattern"
   ]
  },
  {
   "cell_type": "markdown",
   "metadata": {},
   "source": [
    "Hetland, pag. 34, propose the following pattern to build a container of properties in order to avoid vanilla dict (adjusting from item 4.18 of Alex Martelli's [*Python Cookbook*][cb]):\n",
    "\n",
    "[cb]:http://shop.oreilly.com/product/9780596007973.do"
   ]
  },
  {
   "cell_type": "code",
   "execution_count": 12,
   "metadata": {
    "collapsed": false
   },
   "outputs": [],
   "source": [
    "class Bunch(dict):\n",
    "    def __init__(self, *args, **kwds):\n",
    "        super(Bunch, self).__init__(*args, **kwds)\n",
    "        self.__dict__ = self"
   ]
  },
  {
   "cell_type": "code",
   "execution_count": 15,
   "metadata": {
    "collapsed": false
   },
   "outputs": [
    {
     "data": {
      "text/plain": [
       "{'left': 'a', 'right': 'b'}"
      ]
     },
     "execution_count": 15,
     "metadata": {},
     "output_type": "execute_result"
    }
   ],
   "source": [
    ">>> T = Bunch\n",
    ">>> t = T(left=T(left=\"a\", right=\"b\"), right=T(left=\"c\"))\n",
    ">>> t.left"
   ]
  },
  {
   "cell_type": "code",
   "execution_count": 16,
   "metadata": {
    "collapsed": false
   },
   "outputs": [
    {
     "data": {
      "text/plain": [
       "'b'"
      ]
     },
     "execution_count": 16,
     "metadata": {},
     "output_type": "execute_result"
    }
   ],
   "source": [
    ">>> t.left.right"
   ]
  },
  {
   "cell_type": "code",
   "execution_count": 17,
   "metadata": {
    "collapsed": false
   },
   "outputs": [
    {
     "data": {
      "text/plain": [
       "'b'"
      ]
     },
     "execution_count": 17,
     "metadata": {},
     "output_type": "execute_result"
    }
   ],
   "source": [
    ">>> t['left']['right']"
   ]
  },
  {
   "cell_type": "code",
   "execution_count": 18,
   "metadata": {
    "collapsed": false
   },
   "outputs": [
    {
     "data": {
      "text/plain": [
       "True"
      ]
     },
     "execution_count": 18,
     "metadata": {},
     "output_type": "execute_result"
    }
   ],
   "source": [
    ">>> \"left\" in t.right"
   ]
  },
  {
   "cell_type": "code",
   "execution_count": 19,
   "metadata": {
    "collapsed": false
   },
   "outputs": [
    {
     "data": {
      "text/plain": [
       "False"
      ]
     },
     "execution_count": 19,
     "metadata": {},
     "output_type": "execute_result"
    }
   ],
   "source": [
    "\"right\" in t.right"
   ]
  },
  {
   "cell_type": "markdown",
   "metadata": {},
   "source": [
    "However inheriting from `dict` is discouraged by Alex:\n",
    "\n",
    ">A further tempting but not fully sound alternative is to have the Bunch class inherit\n",
    "from `dict`, and set attribute access special methods equal to the item access special\n",
    "methods, as follows:\n",
    "\n",
    "    class DictBunch(dict):\n",
    "        __getattr__ = dict.__getitem__\n",
    "        __setattr__ = dict.__setitem__\n",
    "        __delattr__ = dict.__delitem__\n",
    "\n",
    ">One problem with this approach is that, with this definition, an instance x of\n",
    "`DictBunch` has many attributes it doesn't really have, because it inherits all the\n",
    "attributes (methods, actually, but there's no significant difference in this context) of\n",
    "`dict`. So, you can’t meaningfully check `hasattr(x, someattr)` , as you could with the\n",
    "classes `Bunch` and `EvenSimplerBunch` (which sets the dictionary directly, without using `update`) \n",
    "previously shown, unless you can somehow rule\n",
    "out the value of someattr being any of several common words such as `keys` , `pop` ,\n",
    "and `get`. Python’s distinction between attributes and items is really a wellspring of clarity and\n",
    "simplicity. Unfortunately, many newcomers to Python wrongly believe that it would\n",
    "be better to confuse items with attributes, generally because of previous experience\n",
    "with JavaScript and other such languages, in which attributes and items are regularly\n",
    "confused. But educating newcomers is a much better idea than promoting item/\n",
    "attribute confusion.\n",
    "\n",
    "Alex original definition reads as follows:"
   ]
  },
  {
   "cell_type": "code",
   "execution_count": 21,
   "metadata": {
    "collapsed": true
   },
   "outputs": [],
   "source": [
    "class Bunch(object):\n",
    "    def __init__(self, **kwds):\n",
    "        self.__dict__.update(kwds)"
   ]
  },
  {
   "cell_type": "markdown",
   "metadata": {},
   "source": [
    "It is interesting to observe that this idiom has been merged within the *standard library*, starting from Python **3.3**, as with the name of [`SimpleNamespace`][sn]:\n",
    "\n",
    "[sn]:https://docs.python.org/3/library/types.html#types.SimpleNamespace"
   ]
  },
  {
   "cell_type": "code",
   "execution_count": 22,
   "metadata": {
    "collapsed": false
   },
   "outputs": [
    {
     "data": {
      "text/plain": [
       "namespace(coord=32, datum=64, squared=4096)"
      ]
     },
     "execution_count": 22,
     "metadata": {},
     "output_type": "execute_result"
    }
   ],
   "source": [
    "from types import SimpleNamespace\n",
    "\n",
    "x, y = 32, 64\n",
    "point = SimpleNamespace(datum=y, squared=y*y, coord=x)\n",
    "point"
   ]
  },
  {
   "cell_type": "code",
   "execution_count": 23,
   "metadata": {
    "collapsed": false
   },
   "outputs": [
    {
     "data": {
      "text/plain": [
       "(64, 4096, 32)"
      ]
     },
     "execution_count": 23,
     "metadata": {},
     "output_type": "execute_result"
    }
   ],
   "source": [
    "point.datum, point.squared, point.coord"
   ]
  },
  {
   "cell_type": "code",
   "execution_count": 24,
   "metadata": {
    "collapsed": false
   },
   "outputs": [
    {
     "ename": "TypeError",
     "evalue": "'types.SimpleNamespace' object is not iterable",
     "output_type": "error",
     "traceback": [
      "\u001b[1;31m---------------------------------------------------------------------------\u001b[0m",
      "\u001b[1;31mTypeError\u001b[0m                                 Traceback (most recent call last)",
      "\u001b[1;32m<ipython-input-24-755eb5da0d04>\u001b[0m in \u001b[0;36m<module>\u001b[1;34m()\u001b[0m\n\u001b[1;32m----> 1\u001b[1;33m \u001b[1;33m[\u001b[0m\u001b[0mi\u001b[0m \u001b[1;32mfor\u001b[0m \u001b[0mi\u001b[0m \u001b[1;32min\u001b[0m \u001b[0mpoint\u001b[0m\u001b[1;33m]\u001b[0m\u001b[1;33m\u001b[0m\u001b[0m\n\u001b[0m",
      "\u001b[1;31mTypeError\u001b[0m: 'types.SimpleNamespace' object is not iterable"
     ]
    }
   ],
   "source": [
    "[i for i in point]"
   ]
  },
  {
   "cell_type": "markdown",
   "metadata": {},
   "source": [
    "If you need `point` to be iterable use the structured object [`namedtuple`][nt] instead.\n",
    "\n",
    "[nt]:https://docs.python.org/3/library/collections.html#collections.namedtuple"
   ]
  },
  {
   "cell_type": "markdown",
   "metadata": {},
   "source": [
    "## Python's `list.append` isn't Lisp's `cons`"
   ]
  },
  {
   "cell_type": "markdown",
   "metadata": {},
   "source": [
    "Python `list` objects behave like `stack` objects, such that it is *cheap* to `append` and `pop` at the *top*, which is the *right* end. On the other hand, Lisp `pair` objects allows us to *easily* `cons` on the *beginning*, the very *opposite* direction."
   ]
  },
  {
   "cell_type": "code",
   "execution_count": 37,
   "metadata": {
    "collapsed": false
   },
   "outputs": [],
   "source": [
    "def fast_countdown(count):\n",
    "    nums = []\n",
    "    for i in range(count):\n",
    "        nums.append(i)\n",
    "    nums.reverse()\n",
    "    return nums\n",
    "\n",
    "def slow_countdown(count):\n",
    "    nums = []\n",
    "    for i in range(count):\n",
    "        nums.insert(0, i)\n",
    "    return nums\n",
    "\n",
    "def printer(lst, chunk=10):\n",
    "    print(\"{}...{}\".format(\" \".join(map(str, lst[:chunk])),\n",
    "                           \" \".join(map(str, lst[-chunk:]))))"
   ]
  },
  {
   "cell_type": "code",
   "execution_count": 38,
   "metadata": {
    "collapsed": false
   },
   "outputs": [
    {
     "name": "stdout",
     "output_type": "stream",
     "text": [
      "100 loops, best of 3: 7.84 ms per loop\n",
      "99999 99998 99997 99996 99995 99994 99993 99992 99991 99990...9 8 7 6 5 4 3 2 1 0\n"
     ]
    }
   ],
   "source": [
    "%timeit nums = fast_countdown(10**5)\n",
    "printer(nums)"
   ]
  },
  {
   "cell_type": "code",
   "execution_count": 39,
   "metadata": {
    "collapsed": false
   },
   "outputs": [
    {
     "name": "stdout",
     "output_type": "stream",
     "text": [
      "1 loop, best of 3: 2.86 s per loop\n",
      "99999 99998 99997 99996 99995 99994 99993 99992 99991 99990...9 8 7 6 5 4 3 2 1 0\n"
     ]
    }
   ],
   "source": [
    "%timeit nums = slow_countdown(10**5)\n",
    "printer(nums)"
   ]
  },
  {
   "cell_type": "markdown",
   "metadata": {},
   "source": [
    "Citing Hetland, pag 11:\n",
    "\n",
    "> Python lists aren’t really lists in the traditional computer science sense of the word, and that explains the puzzle of why append is so much more efficient than insert . A classical list - a so-called linked list - is implemented as a series of nodes, each (except for the last) keeping a reference to the next. \n",
    "The underlying implementation of Python’s list type is a bit different. Instead of several separate nodes\n",
    "referencing each other, a list is basically a single, contiguous slab of memory - what is usually known as an\n",
    "array. This leads to some important differences from linked lists. For example, while iterating over the contents\n",
    "of the list is equally efficient for both kinds (except for some overhead in the linked list), directly accessing an element at a given index is much more efficient in an array. This is because the position of the element can be\n",
    "calculated, and the right memory location can be accessed directly. In a linked list, however, one would have to\n",
    "traverse the list from the beginning.\n",
    "The difference we've been bumping up against, though, has to do with insertion. In a linked list, once you know\n",
    "where you want to insert something, insertion is cheap; it takes roughly the same amount of time, no matter how\n",
    "many elements the list contains. That's not the case with arrays: An insertion would have to move all elements\n",
    "that are to the right of the insertion point, possibly even moving all the elements to a larger array, if needed.\n",
    "A specific solution for appending is to use what’s often called a dynamic array, or vector. 4 The idea is to allocate an array that is too big and then to reallocate it in linear time whenever it overflows. It might seem that this makes the append just as bad as the insert. In both cases, we risk having to move a large number of elements.\n",
    "The main difference is that it happens less often with the append. In fact, if we can ensure that we always move\n",
    "to an array that is bigger than the last by a fixed percentage (say 20 percent or even 100 percent), the average\n",
    "cost, amortized over many appends, is constant."
   ]
  },
  {
   "cell_type": "markdown",
   "metadata": {},
   "source": [
    "### enhance with `deque` objects"
   ]
  },
  {
   "cell_type": "markdown",
   "metadata": {},
   "source": [
    "`deque` implements *FIFO* queues: they are as cheap to append to the right as a normal `list`, but enhance it to *cheaply* insert on the *front* too:"
   ]
  },
  {
   "cell_type": "code",
   "execution_count": 1,
   "metadata": {
    "collapsed": true
   },
   "outputs": [],
   "source": [
    "from collections import deque\n",
    "\n",
    "def enhanced_slow_countdown(count):\n",
    "    nums = deque()\n",
    "    for i in range(count):\n",
    "        nums.appendleft(i)\n",
    "    return nums"
   ]
  },
  {
   "cell_type": "code",
   "execution_count": 41,
   "metadata": {
    "collapsed": false
   },
   "outputs": [
    {
     "name": "stdout",
     "output_type": "stream",
     "text": [
      "100 loops, best of 3: 8.22 ms per loop\n",
      "99999 99998 99997 99996 99995 99994 99993 99992 99991 99990...9 8 7 6 5 4 3 2 1 0\n"
     ]
    }
   ],
   "source": [
    "%timeit nums = enhanced_slow_countdown(10**5)\n",
    "printer(nums)"
   ]
  },
  {
   "cell_type": "markdown",
   "metadata": {},
   "source": [
    "## Hidden squares"
   ]
  },
  {
   "cell_type": "markdown",
   "metadata": {},
   "source": [
    "### concerning `list`s and `set`s"
   ]
  },
  {
   "cell_type": "code",
   "execution_count": 2,
   "metadata": {
    "collapsed": false
   },
   "outputs": [],
   "source": [
    "from random import randrange\n",
    "\n",
    "max_value = 10000\n",
    "checks = 1000\n",
    "L = [randrange(max_value) for i in range(checks)]"
   ]
  },
  {
   "cell_type": "code",
   "execution_count": 43,
   "metadata": {
    "collapsed": false
   },
   "outputs": [
    {
     "name": "stdout",
     "output_type": "stream",
     "text": [
      "10 loops, best of 3: 18 ms per loop\n"
     ]
    }
   ],
   "source": [
    "%timeit [randrange(max_value) in L for _ in range(checks)]"
   ]
  },
  {
   "cell_type": "code",
   "execution_count": 44,
   "metadata": {
    "collapsed": false
   },
   "outputs": [
    {
     "name": "stdout",
     "output_type": "stream",
     "text": [
      "1000 loops, best of 3: 1.11 ms per loop\n"
     ]
    }
   ],
   "source": [
    "S = set(L)\n",
    "\n",
    "%timeit [randrange(max_value) in S for _ in range(checks)]"
   ]
  },
  {
   "cell_type": "markdown",
   "metadata": {},
   "source": [
    "Hetland's words, pag. 35:\n",
    "\n",
    ">They're both pretty fast, and it might seem pointless to create a set from the list—unnecessary work, right? Well,\n",
    "it depends. If you're going to do many membership checks, it might pay off, because membership checks are linear\n",
    "for lists and constant for sets. What if, for example, you were to gradually add values to a collection and for each step check whether the value was already added? [...] Using a list would give you quadratic running time, whereas using a set would be linear. That’s a huge difference. **The lesson is that it's important to pick the right built-in data structure for the job.**"
   ]
  },
  {
   "cell_type": "code",
   "execution_count": 67,
   "metadata": {
    "collapsed": false
   },
   "outputs": [
    {
     "data": {
      "text/plain": [
       "[1, 2, 3, 4, 5, 6]"
      ]
     },
     "execution_count": 67,
     "metadata": {},
     "output_type": "execute_result"
    }
   ],
   "source": [
    "lists = [[1, 2], [3, 4, 5], [6]]\n",
    "sum(lists, [])"
   ]
  },
  {
   "cell_type": "markdown",
   "metadata": {},
   "source": [
    "Hetland, pag.36:\n",
    "\n",
    ">This works, and it even looks rather elegant, but it really isn't. You see, under the covers, the sum function doesn't know all too much about what you’re summing, and it has to do one addition after another. That way, you're right back at the quadratic running time of the += example for strings. Here's a better way: Just try timing both versions. As long as lists is pretty short, there won't be much difference, but it shouldn't\n",
    "take long before the sum version is thoroughly beaten."
   ]
  },
  {
   "cell_type": "code",
   "execution_count": 69,
   "metadata": {
    "collapsed": false
   },
   "outputs": [
    {
     "data": {
      "text/plain": [
       "[1, 2, 3, 4, 5, 6]"
      ]
     },
     "execution_count": 69,
     "metadata": {},
     "output_type": "execute_result"
    }
   ],
   "source": [
    "res = []\n",
    "for lst in lists:\n",
    "    res.extend(lst)\n",
    "res"
   ]
  },
  {
   "cell_type": "markdown",
   "metadata": {},
   "source": [
    "### concerning `string`s"
   ]
  },
  {
   "cell_type": "code",
   "execution_count": 63,
   "metadata": {
    "collapsed": false
   },
   "outputs": [],
   "source": [
    "def string_producer(length=10**7):\n",
    "    return ''.join([chr(randrange(ord('a'), ord('z'))) for _ in range(length)])"
   ]
  },
  {
   "cell_type": "code",
   "execution_count": 64,
   "metadata": {
    "collapsed": false
   },
   "outputs": [
    {
     "name": "stdout",
     "output_type": "stream",
     "text": [
      "1 loop, best of 3: 14.9 s per loop\n"
     ]
    }
   ],
   "source": [
    "%%timeit # %% means 'cell-wise'\n",
    "\n",
    "s = \"\"\n",
    "for chunk in string_producer():\n",
    "    s += chunk"
   ]
  },
  {
   "cell_type": "markdown",
   "metadata": {},
   "source": [
    "maybe some optimization is performed because `s` is a `string` object."
   ]
  },
  {
   "cell_type": "code",
   "execution_count": 65,
   "metadata": {
    "collapsed": false
   },
   "outputs": [
    {
     "name": "stdout",
     "output_type": "stream",
     "text": [
      "1 loop, best of 3: 14.7 s per loop\n"
     ]
    }
   ],
   "source": [
    "%%timeit\n",
    "\n",
    "chunks = []\n",
    "for chunk in string_producer():\n",
    "    chunks.append(chunk)\n",
    "s = ''.join(chunks)"
   ]
  },
  {
   "cell_type": "markdown",
   "metadata": {},
   "source": [
    "a better approach using constant `append` to the top"
   ]
  },
  {
   "cell_type": "code",
   "execution_count": 66,
   "metadata": {
    "collapsed": false
   },
   "outputs": [
    {
     "name": "stdout",
     "output_type": "stream",
     "text": [
      "1 loop, best of 3: 14.2 s per loop\n"
     ]
    }
   ],
   "source": [
    "%timeit s = ''.join(string_producer())"
   ]
  },
  {
   "cell_type": "markdown",
   "metadata": {},
   "source": [
    "maybe a little better since it doesn't loop with `for` explicitly."
   ]
  },
  {
   "cell_type": "markdown",
   "metadata": {},
   "source": [
    "# Counting"
   ]
  },
  {
   "cell_type": "markdown",
   "metadata": {},
   "source": [
    "## Max permutation\n",
    "\n",
    "The following function `max_perm` computes the maximum permutation that can be applied given a desired one; namely,\n",
    "it produces a new permutation that moves as many elements as it can, in order to ensure the `one-to-one` property. It can be seen as a function that *fixes* a given permutation according to the required behavior."
   ]
  },
  {
   "cell_type": "code",
   "execution_count": 11,
   "metadata": {
    "collapsed": true
   },
   "outputs": [],
   "source": [
    "def perm_isomorphism(M, domain):\n",
    "    iso = dict(enumerate(domain))\n",
    "    return [iso[M[i]] for i in range(len(M))]\n",
    "\n",
    "def fix_perm(M, fix):\n",
    "    return [M[i] if i in fix else i for i in range(len(M))]"
   ]
  },
  {
   "cell_type": "markdown",
   "metadata": {},
   "source": [
    "The following is a naive implementation, recursive but in $\\mathcal{O}(n^{2})$, where $n$ is the permutation length."
   ]
  },
  {
   "cell_type": "code",
   "execution_count": 12,
   "metadata": {
    "collapsed": true
   },
   "outputs": [],
   "source": [
    "def naive_max_perm(M, A=None):\n",
    "    '''\n",
    "    Fix a permutation such that it is one-to-one and maximal, recursively.\n",
    "    \n",
    "    consumes:\n",
    "    M - a permutation as a list of integers\n",
    "    A - a set of positions allowed to move\n",
    "    \n",
    "    produces:\n",
    "    a set `fix` such that makes M maximal, ensuring to be one-to-one\n",
    "    '''\n",
    "    if A is None: A = set(range(len(M))) # init to handle first invocation, all elems can move\n",
    "    \n",
    "    if len(A) is 1: return A # recursion base, unary perm can move, trivial\n",
    "    \n",
    "    B = set(M[i] for i in A) # b in B iff b is desired by someone\n",
    "    C = A - B # c in C iff c isn't desired, so discard it\n",
    "    return naive_max_perm(M, A - C) if C else A # recur with desired position only"
   ]
  },
  {
   "cell_type": "code",
   "execution_count": 7,
   "metadata": {
    "collapsed": false
   },
   "outputs": [
    {
     "data": {
      "text/plain": [
       "['a', 'b', 'c', 'd', 'e', 'f', 'g', 'h']"
      ]
     },
     "execution_count": 7,
     "metadata": {},
     "output_type": "execute_result"
    }
   ],
   "source": [
    "identity = range(8)\n",
    "letters = \"abcdefgh\"\n",
    "perm_isomorphism(identity, letters)"
   ]
  },
  {
   "cell_type": "code",
   "execution_count": 8,
   "metadata": {
    "collapsed": false
   },
   "outputs": [
    {
     "data": {
      "text/plain": [
       "['c', 'c', 'a', 'f', 'd', 'e', 'h', 'e']"
      ]
     },
     "execution_count": 8,
     "metadata": {},
     "output_type": "execute_result"
    }
   ],
   "source": [
    "M = [2, 2, 0, 5, 3, 4, 7, 4]\n",
    "perm_isomorphism(M, letters)"
   ]
  },
  {
   "cell_type": "code",
   "execution_count": 13,
   "metadata": {
    "collapsed": false
   },
   "outputs": [
    {
     "data": {
      "text/plain": [
       "['c', 'b', 'a', 'f', 'd', 'e', 'g', 'h']"
      ]
     },
     "execution_count": 13,
     "metadata": {},
     "output_type": "execute_result"
    }
   ],
   "source": [
    "fix = naive_max_perm(M)\n",
    "max_M = fix_perm(M, fix)\n",
    "perm_isomorphism(max_M, letters)"
   ]
  },
  {
   "cell_type": "markdown",
   "metadata": {},
   "source": [
    "Hetland, pag. 78:\n",
    "\n",
    ">The function naive_max_perm receives a set `A` of remaining people and creates a set `B` of seats that are pointed\n",
    "to. If it finds an element in `A` that is not in `B`, it removes the element and solves the remaining problem recursively. Let's use the implementation on our example, M = `[2, 2, 0, 5, 3, 5, 7, 4]`:\n",
    " \n",
    "    naive_max_perm(M)\n",
    "    {0, 2, 5}\n",
    " \n",
    ">So, a, c, and f can take part in the permutation. The others will have to sit in nonfavorite seats.\n",
    "The implementation isn't too bad. The handy set type lets us manipulate sets with ready-made high-level operations,\n",
    "rather than having to implement them ourselves. There are some problems, though. For one thing, we might want an\n",
    "iterative solution. [...] A worse problem, though, is that the algorithm is quadratic! (Exercise 4-10 asks you to show this.) The most wasteful operation is the repeated creation of the set B. If we could just keep track of which chairs are no longer pointed to, we could eliminate this operation entirely. One way of doing this would be to keep a count for each element. We could decrement the count for chair x when a person pointing to x is eliminated, and if x ever got a count of zero, both person and chair x would be out of the game.\n",
    ">>This idea of reference counting can be useful in general. It is, for example, a basic component in many systems\n",
    "for garbage collection (a form of memory management that automatically deallocates objects that are no longer useful). You'll see this technique again in the discussion of topological sorting.\n",
    "\n",
    ">There may be more than one element to be eliminated at any one time, but we can just put any new ones we\n",
    "come across into a “to-do” list and deal with them later. If we needed to make sure the elements were eliminated in\n",
    "the order in which we discover that they’re no longer useful, we would need to use a first-in, first-out queue such as the deque class (discussed in Chapter 5). We don’t really care, so we could use a set, for example, but just appending to and popping from a list will probably give us quite a bit less overhead. But feel free to experiment, of course."
   ]
  },
  {
   "cell_type": "code",
   "execution_count": 14,
   "metadata": {
    "collapsed": true
   },
   "outputs": [],
   "source": [
    "def max_perm(M):\n",
    "    n = len(M) # How many elements?\n",
    "    A = set(range(n)) # A = {0, 1, ... , n-1}\n",
    "    count = Counter(M) # desired positions by frequencies\n",
    "    Q = deque([i for i in A if not count[i]]) # useless elements\n",
    "    while Q: # While useless elts. left...\n",
    "        i = Q.pop() # get one of them\n",
    "        A.remove(i) # remove it from the maximal permutation\n",
    "        j = M[i] # get its desired position\n",
    "        count[j] -= 1 # and release it for someone else\n",
    "        if not count[j]: # if such position isn't desired anymore\n",
    "            Q.appendleft(j) # enqueue such position in order to discard it            \n",
    "    return A"
   ]
  },
  {
   "cell_type": "code",
   "execution_count": 15,
   "metadata": {
    "collapsed": false
   },
   "outputs": [
    {
     "data": {
      "text/plain": [
       "['c', 'b', 'a', 'f', 'd', 'e', 'g', 'h']"
      ]
     },
     "execution_count": 15,
     "metadata": {},
     "output_type": "execute_result"
    }
   ],
   "source": [
    "fix = max_perm(M)\n",
    "max_M = fix_perm(M, fix)\n",
    "perm_isomorphism(max_M, letters)"
   ]
  },
  {
   "cell_type": "markdown",
   "metadata": {},
   "source": [
    "## Counting Sort"
   ]
  },
  {
   "cell_type": "markdown",
   "metadata": {},
   "source": [
    "Hetland, pag 85:\n",
    "\n",
    ">By default, I'm just sorting objects based on their values. By supplying a key function, you can sort by\n",
    "anything you’d like. Note that the keys must be integers in a limited range. If this range is $0\\ldots k-1$, running time is then $\\mathcal{O}(n + k)$. (Note that although the common implementation simply counts the elements and then figures out where to put them in `B`, Python makes it easy to just build value lists for each key and then\n",
    "concatenate them.) If several values have the same key, they'll end up in the original order with respect to\n",
    "each other. Sorting algorithms with this property are called *stable*."
   ]
  },
  {
   "cell_type": "code",
   "execution_count": 55,
   "metadata": {
    "collapsed": true
   },
   "outputs": [],
   "source": [
    "def counting_sort(A, key=None, sort_boundary=None):\n",
    "    '''\n",
    "    Sorts the given collection A in linear time, assuming their elements are hashable.\n",
    "    \n",
    "    This implementation implements a vanilla counting sort, working in linear time respect\n",
    "    iterable length and spacing between objects. It works best if elements are evenly, namely\n",
    "    *uniformly* distributed in the domain; on contrast, if they are sparse and concentrated \n",
    "    next accumulation points, traversing distances between them is time consuming. \n",
    "    If `sort_boundary` is instantiated to a float within [0,1], then the domain is ordered\n",
    "    using a classic loglinear algorithm before building the result.\n",
    "    '''\n",
    "    if key is None: key = lambda x: x\n",
    "        \n",
    "    B, C = [], defaultdict(list)\n",
    "    for x in A:\n",
    "        C[key(x)].append(x)\n",
    "    \n",
    "    domain = sorted(C) if sort_boundary and len(C) <= len(A)*sort_boundary else range(min(C), max(C)+1)\n",
    "    for k in domain:\n",
    "        B.extend(C[k])\n",
    "        \n",
    "    return B"
   ]
  },
  {
   "cell_type": "code",
   "execution_count": 62,
   "metadata": {
    "collapsed": true
   },
   "outputs": [],
   "source": [
    "A = [randrange(50) for i in range(2*10**3)]"
   ]
  },
  {
   "cell_type": "code",
   "execution_count": 63,
   "metadata": {
    "collapsed": false
   },
   "outputs": [],
   "source": [
    "assert sorted(A) == counting_sort(A)"
   ]
  },
  {
   "cell_type": "code",
   "execution_count": 81,
   "metadata": {
    "collapsed": false
   },
   "outputs": [
    {
     "data": {
      "image/png": "[encoded data removed]",
      "text/plain": [
       "<matplotlib.figure.Figure at 0x7fbe1e535668>"
      ]
     },
     "metadata": {},
     "output_type": "display_data"
    }
   ],
   "source": [
    "n, bins, patches = plt.hist(A, 10, normed=0,facecolor='green', alpha=0.5)\n",
    "plt.xlabel('elements')\n",
    "plt.ylabel('frequencies')\n",
    "plt.grid(True)\n",
    "plt.show()"
   ]
  },
  {
   "cell_type": "code",
   "execution_count": 82,
   "metadata": {
    "collapsed": false
   },
   "outputs": [
    {
     "name": "stdout",
     "output_type": "stream",
     "text": [
      "1000 loops, best of 3: 428 µs per loop\n"
     ]
    }
   ],
   "source": [
    "%timeit counting_sort(A)"
   ]
  },
  {
   "cell_type": "code",
   "execution_count": 83,
   "metadata": {
    "collapsed": false
   },
   "outputs": [
    {
     "name": "stdout",
     "output_type": "stream",
     "text": [
      "1000 loops, best of 3: 429 µs per loop\n"
     ]
    }
   ],
   "source": [
    "%timeit counting_sort(A, sort_boundary=1)"
   ]
  },
  {
   "cell_type": "code",
   "execution_count": 99,
   "metadata": {
    "collapsed": false
   },
   "outputs": [],
   "source": [
    "B = [randrange(50) for i in range(10**3)] + [10**4 + randrange(50) for i in range(10**3)]"
   ]
  },
  {
   "cell_type": "code",
   "execution_count": 103,
   "metadata": {
    "collapsed": false
   },
   "outputs": [
    {
     "data": {
      "image/png": "[encoded data removed]",
      "text/plain": [
       "<matplotlib.figure.Figure at 0x7fbe1e2dc320>"
      ]
     },
     "metadata": {},
     "output_type": "display_data"
    }
   ],
   "source": [
    "n, bins, patches = plt.hist(B, 100, normed=0,facecolor='green', alpha=0.5)\n",
    "plt.xlabel('elements')\n",
    "plt.ylabel('frequencies')\n",
    "plt.grid(True)\n",
    "plt.show()"
   ]
  },
  {
   "cell_type": "code",
   "execution_count": 104,
   "metadata": {
    "collapsed": true
   },
   "outputs": [],
   "source": [
    "assert sorted(B) == counting_sort(B)"
   ]
  },
  {
   "cell_type": "code",
   "execution_count": 105,
   "metadata": {
    "collapsed": false
   },
   "outputs": [
    {
     "name": "stdout",
     "output_type": "stream",
     "text": [
      "100 loops, best of 3: 3.53 ms per loop\n"
     ]
    }
   ],
   "source": [
    "%timeit counting_sort(B)"
   ]
  },
  {
   "cell_type": "code",
   "execution_count": 106,
   "metadata": {
    "collapsed": false
   },
   "outputs": [
    {
     "name": "stdout",
     "output_type": "stream",
     "text": [
      "1000 loops, best of 3: 470 µs per loop\n"
     ]
    }
   ],
   "source": [
    "%timeit counting_sort(B, sort_boundary=1/8)"
   ]
  },
  {
   "cell_type": "markdown",
   "metadata": {},
   "source": [
    "---\n",
    "<a rel=\"license\" href=\"http://creativecommons.org/licenses/by-nc/4.0/\"><img alt=\"Creative Commons License\" style=\"border-width:0\" src=\"https://i.creativecommons.org/l/by-nc/4.0/88x31.png\" /></a><br /><span xmlns:dct=\"http://purl.org/dc/terms/\" property=\"dct:title\">Gotchas tutorial</span> by <a xmlns:cc=\"http://creativecommons.org/ns#\" href=\"mailto:massimo.nocentini@unifi.it\" property=\"cc:attributionName\" rel=\"cc:attributionURL\">Massimo Nocentini</a> is licensed under a <a rel=\"license\" href=\"http://creativecommons.org/licenses/by-nc/4.0/\">Creative Commons Attribution-NonCommercial 4.0 International License</a>.<br />Based on a work at <a xmlns:dct=\"http://purl.org/dc/terms/\" href=\"https://github.com/massimo-nocentini/competitive-programming/blob/master/tutorials/gotchas.ipynb\" rel=\"dct:source\">https://github.com/massimo-nocentini/competitive-programming/blob/master/tutorials/gotchas.ipynb</a>."
   ]
  }
 ],
 "metadata": {
  "kernelspec": {
   "display_name": "Python 3",
   "language": "python",
   "name": "python3"
  },
  "language_info": {
   "codemirror_mode": {
    "name": "ipython",
    "version": 3
   },
   "file_extension": ".py",
   "mimetype": "text/x-python",
   "name": "python",
   "nbconvert_exporter": "python",
   "pygments_lexer": "ipython3",
   "version": "3.5.1"
  }
 },
 "nbformat": 4,
 "nbformat_minor": 0
}
