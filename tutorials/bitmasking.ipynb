{
 "cells": [
  {
   "cell_type": "markdown",
   "metadata": {},
   "source": [
    "<div align=\"right\">Massimo Nocentini<br>May 21, 2016: basics, subsets sums</div>\n",
    "\n",
    "<div align=\"center\">\n",
    "**Abstract**<br>\n",
    "This document collect some examples about *bit manipulation techniques* and some application of them to contest problems\n",
    "</div>"
   ]
  },
  {
   "cell_type": "markdown",
   "metadata": {},
   "source": [
    "# Intro\n",
    "\n",
    "The current notebook born with the aim to collect introductory material, references, tutorial, code snippet and challenging problems around the topic of *bit manipulation techniques*. It follows to fullfil our need to get a deep understanding of this topic to be competitive in programming (contests).\n",
    "\n",
    "First of all a collection of general references follows:\n",
    "\n",
    "   - [__The Aggregate Magic Algorithms__][aggregate], by _Department of Electrical and Computer Engineering at the University of Kentucky_\n",
    "   - [__Bit Twiddling Hacks__][seander], by _Sean Eron Anderson_\n",
    "   \n",
    "On the other hand, the following pages have a spirit toward programming contests:\n",
    "\n",
    "   - [__CPSC 490 202 - Problem Solving in Computer Science__][CPSC 490 202 current] ([old][CPSC 490 202 old] version)\n",
    "   \n",
    "[aggregate]:http://aggregate.org/MAGIC/\n",
    "[seander]:http://graphics.stanford.edu/~seander/bithacks.html\n",
    "\n",
    "[CPSC 490 202 old]:http://www.ugrad.cs.ubc.ca/~cs490/sec202/\n",
    "[CPSC 490 202 current]:http://www.ugrad.cs.ubc.ca/~cs490/2015W2/"
   ]
  },
  {
   "cell_type": "markdown",
   "metadata": {},
   "source": [
    "# *bit masking* core idea\n",
    "\n",
    "In this section we study [this][basic] introductory document, where the first paragraph reads:\n",
    "\n",
    ">Suppose you have a set of objects and you want some way to represent which objects to pick and\n",
    "which ones not to pick. How do you represent that in in a program? More generally, *how do you\n",
    "represent a subest of a set*? We can represent whether an object *is picked or not by a single bit*! Using a boolean to represent this is an overkill in terms of memory usage. However, neither C++ nor Java has any data type representing a single bit, so how can we cut down the memory usage?\n",
    "**The answer is to use an integer!** We know an integer is just a bunch of bits stringed together, so\n",
    "why don’t we use the integer to represent the entire set?\n",
    "\n",
    "> For example, suppose in a set of 5 objects, we have picked the 1st, 3rd, and 4th object. The bitmask to represent this in binary is 01101 or 13 in decimal (in the notes, the 1st bit will always be the least significant bit and\n",
    "will always appear at the very right). *We have just cut down the memory usage from five booleans to\n",
    "a single integer*!\n",
    "\n",
    "Then follows a list of basic manipulations, which we coded in [this][our:bits] Python module, loaded in the next cell; two functions deserve attention, namely `subsets` and `subsets_of`, read the docstring for info.\n",
    "\n",
    "[basic]:http://www.ugrad.cs.ubc.ca/~cs490/sec202/notes/intro/bitmask.pdf\n",
    "[our:bits]:https://github.com/massimo-nocentini/competitive-programming/blob/master/python-libs/bits.py"
   ]
  },
  {
   "cell_type": "code",
   "execution_count": 12,
   "metadata": {
    "collapsed": false
   },
   "outputs": [],
   "source": [
    "%matplotlib inline\n",
    "%run ../python-libs/bits.py\n",
    "%run ../python-libs/timing.py"
   ]
  },
  {
   "cell_type": "markdown",
   "metadata": {},
   "source": [
    "# Sum of subsets: a first example"
   ]
  },
  {
   "cell_type": "markdown",
   "metadata": {},
   "source": [
    "## With \"usual\" subsets generation\n",
    "\n",
    "Previous doc finishes with an first application of bitmasking, here the request:\n",
    "\n",
    ">Bitmask is an efficient and convenient way to represent subsets. For example, **given a set of numbers,\n",
    "we want to find the sum of all subsets**. This is easy to code using bitmasks. Furthermore, we can use\n",
    "an array to store all the results (imagine storing the results when you are using an array to represent\n",
    "the subset)!\n",
    "\n",
    "The following cell contains a pythonic implementation of their code, which is given in `C`: generator `subsets` yields subsets one by one, such that a successor subset `s` is computed by a previous subset `p` by *increment*, namely `s = p + 1`."
   ]
  },
  {
   "cell_type": "code",
   "execution_count": 20,
   "metadata": {
    "collapsed": true
   },
   "outputs": [],
   "source": [
    "def subsets_sums(S):\n",
    "    \"\"\"\n",
    "    Returns a map of `(s, v)`, where `s` is a subset of `S`, and `v` is `sum(i in S & s)`.\n",
    "    \"\"\"\n",
    "    n = len(S)\n",
    "    sums = [0 for _ in range(1 << n)]\n",
    "    for s in subsets(n):\n",
    "        for j, v in enumerate(S):\n",
    "            sums[s] += is_on(s, j, return_int=True) * v\n",
    "    \n",
    "    return sums"
   ]
  },
  {
   "cell_type": "markdown",
   "metadata": {},
   "source": [
    "As a first experiment, let `S` be a list of 4 random integers, each one less than $2^{8}$."
   ]
  },
  {
   "cell_type": "code",
   "execution_count": 21,
   "metadata": {
    "collapsed": false
   },
   "outputs": [
    {
     "data": {
      "text/plain": [
       "[5, 118, 172, 97]"
      ]
     },
     "execution_count": 21,
     "metadata": {},
     "output_type": "execute_result"
    }
   ],
   "source": [
    "from random import randrange\n",
    "S = [randrange(1 << 8) for _ in range(1 << 2)]\n",
    "S"
   ]
  },
  {
   "cell_type": "markdown",
   "metadata": {},
   "source": [
    "We time the execution of the function `subsets_sums` applied to `S` and bind `sums` to the resulting mapping:"
   ]
  },
  {
   "cell_type": "code",
   "execution_count": 22,
   "metadata": {
    "collapsed": false
   },
   "outputs": [
    {
     "name": "stdout",
     "output_type": "stream",
     "text": [
      "Elapsed time: 0.00027037 secs\n"
     ]
    }
   ],
   "source": [
    "with timing(lambda: subsets_sums(S)) as (sums, start, end):\n",
    "    print(\"Elapsed time: {:.5} secs\".format(end-start))"
   ]
  },
  {
   "cell_type": "markdown",
   "metadata": {},
   "source": [
    "Have a look at results, after the definition of the pretty printing utility `pretty_dict`:"
   ]
  },
  {
   "cell_type": "code",
   "execution_count": 23,
   "metadata": {
    "collapsed": false
   },
   "outputs": [],
   "source": [
    "def pretty_dict(sums):\n",
    "    \"\"\"\n",
    "    Utility pretty printer.\n",
    "    \"\"\"\n",
    "    return {pretty_mask(j, coding='little', width=len(S)): v for j, v in enumerate(sums)}"
   ]
  },
  {
   "cell_type": "code",
   "execution_count": 24,
   "metadata": {
    "collapsed": false
   },
   "outputs": [
    {
     "data": {
      "text/plain": [
       "{'0000': 0,\n",
       " '0001': 97,\n",
       " '0010': 172,\n",
       " '0011': 269,\n",
       " '0100': 118,\n",
       " '0101': 215,\n",
       " '0110': 290,\n",
       " '0111': 387,\n",
       " '1000': 5,\n",
       " '1001': 102,\n",
       " '1010': 177,\n",
       " '1011': 274,\n",
       " '1100': 123,\n",
       " '1101': 220,\n",
       " '1110': 295,\n",
       " '1111': 392}"
      ]
     },
     "execution_count": 24,
     "metadata": {},
     "output_type": "execute_result"
    }
   ],
   "source": [
    "pretty_dict(sums)"
   ]
  },
  {
   "cell_type": "markdown",
   "metadata": {},
   "source": [
    "### Repeating experiments\n",
    "\n",
    "Moreover, we repeat the above experiment for lists of integers with different lengths to understand the *exponential* complexity of *subsets* enumeration: the longer list will have **24 integers** and it took aproximately **5 minutes** to return an answer."
   ]
  },
  {
   "cell_type": "code",
   "execution_count": 16,
   "metadata": {
    "collapsed": false
   },
   "outputs": [
    {
     "data": {
      "image/png": "[encoded data removed]",
      "text/plain": [
       "<matplotlib.figure.Figure at 0x7f1d17007dd8>"
      ]
     },
     "metadata": {},
     "output_type": "display_data"
    }
   ],
   "source": [
    "def doer(i):\n",
    "    \"\"\"\n",
    "    Repeat the previous experiment with lists of integers with lengths up to `l`.\n",
    "    \"\"\"\n",
    "    S = [randrange(1 << 8) for _ in range(i)]\n",
    "    with timing(lambda: subsets_sums(S)) as (sums, start, end):\n",
    "        return end - start\n",
    "\n",
    "import matplotlib.pyplot as plt\n",
    "\n",
    "l = range(25)\n",
    "line, = plt.plot(l, list(map(doer, l)), '--', linewidth=2)\n",
    "\n",
    "plt.xlabel(\"lengths\")\n",
    "plt.ylabel(\"secs\")\n",
    "plt.show()"
   ]
  }
 ],
 "metadata": {
  "kernelspec": {
   "display_name": "Python 3",
   "language": "python",
   "name": "python3"
  },
  "language_info": {
   "codemirror_mode": {
    "name": "ipython",
    "version": 3
   },
   "file_extension": ".py",
   "mimetype": "text/x-python",
   "name": "python",
   "nbconvert_exporter": "python",
   "pygments_lexer": "ipython3",
   "version": "3.5.1"
  }
 },
 "nbformat": 4,
 "nbformat_minor": 0
}
