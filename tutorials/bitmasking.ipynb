{
 "cells": [
  {
   "cell_type": "markdown",
   "metadata": {},
   "source": [
    "<div align=\"right\">\n",
    "Massimo Nocentini\n",
    "<br>May 25, 2016: Polyominoes\n",
    "<br>May 23, 2016: n-Queens\n",
    "<br>May 22, 2016: subsets sums with Gray codes\n",
    "<br>May 21, 2016: basics, subsets sums\n",
    "</div>\n",
    "\n",
    "<div align=\"center\">\n",
    "<b>Abstract</b><br>\n",
    "This document collect some examples about *bit manipulation techniques* and some application of them to contest problems\n",
    "</div>"
   ]
  },
  {
   "cell_type": "markdown",
   "metadata": {},
   "source": [
    "# Intro\n",
    "\n",
    "The current notebook born with the aim to collect introductory material, references, tutorial, code snippet and challenging problems around the topic of *bit manipulation techniques*. It follows to fullfil our need to get a deep understanding of this topic to be competitive in programming (contests).\n",
    "\n",
    "First of all a collection of general references follows:\n",
    "\n",
    "   - [__The Aggregate Magic Algorithms__][aggregate], by _Department of Electrical and Computer Engineering at the University of Kentucky_\n",
    "   - [__Bit Twiddling Hacks__][seander], by _Sean Eron Anderson_\n",
    "   \n",
    "On the other hand, the following pages have a spirit toward programming contests:\n",
    "\n",
    "   - [__CPSC 490 202 - Problem Solving in Computer Science__][CPSC 490 202 current] ([old][CPSC 490 202 old] version)\n",
    "   \n",
    "[aggregate]:http://aggregate.org/MAGIC/\n",
    "[seander]:http://graphics.stanford.edu/~seander/bithacks.html\n",
    "\n",
    "[CPSC 490 202 old]:http://www.ugrad.cs.ubc.ca/~cs490/sec202/\n",
    "[CPSC 490 202 current]:http://www.ugrad.cs.ubc.ca/~cs490/2015W2/"
   ]
  },
  {
   "cell_type": "markdown",
   "metadata": {},
   "source": [
    "# *bit masking* core idea\n",
    "\n",
    "In this section we study [this][basic] introductory document, where the first paragraph reads:\n",
    "\n",
    ">Suppose you have a set of objects and you want some way to represent which objects to pick and\n",
    "which ones not to pick. How do you represent that in in a program? More generally, *how do you\n",
    "represent a subest of a set*? We can represent whether an object *is picked or not by a single bit*! Using a boolean to represent this is an overkill in terms of memory usage. However, neither C++ nor Java has any data type representing a single bit, so how can we cut down the memory usage?\n",
    "**The answer is to use an integer!** We know an integer is just a bunch of bits stringed together, so\n",
    "why don’t we use the integer to represent the entire set?\n",
    "\n",
    "> For example, suppose in a set of 5 objects, we have picked the 1st, 3rd, and 4th object. The bitmask to represent this in binary is 01101 or 13 in decimal (in the notes, the 1st bit will always be the least significant bit and\n",
    "will always appear at the very right). *We have just cut down the memory usage from five booleans to\n",
    "a single integer*!\n",
    "\n",
    "Then follows a list of basic manipulations, which we coded in [this][our:bits] Python module, loaded in the next cell; two functions deserve attention, namely `subsets` and `subsets_of`, read the docstring for info.\n",
    "\n",
    "[basic]:http://www.ugrad.cs.ubc.ca/~cs490/sec202/notes/intro/bitmask.pdf\n",
    "[our:bits]:https://github.com/massimo-nocentini/competitive-programming/blob/master/python-libs/bits.py"
   ]
  },
  {
   "cell_type": "code",
   "execution_count": 6,
   "metadata": {
    "collapsed": false
   },
   "outputs": [],
   "source": [
    "%matplotlib inline\n",
    "%run ../python-libs/bits.py\n",
    "%run ../python-libs/timing.py\n",
    "%run ../python-libs/graycodes.py\n",
    "%run ../python-libs/symbols.py"
   ]
  },
  {
   "cell_type": "markdown",
   "metadata": {},
   "source": [
    "# Sum of subsets: a first example"
   ]
  },
  {
   "cell_type": "markdown",
   "metadata": {},
   "source": [
    "## With \"usual\" subsets generation\n",
    "\n",
    "Previous doc finishes with an first application of bitmasking, here the request:\n",
    "\n",
    ">Bitmask is an efficient and convenient way to represent subsets. For example, **given a set of numbers,\n",
    "we want to find the sum of all subsets**. This is easy to code using bitmasks. Furthermore, we can use\n",
    "an array to store all the results (imagine storing the results when you are using an array to represent\n",
    "the subset)!\n",
    "\n",
    "The following cell contains a pythonic implementation of their code, which is given in `C`: generator `subsets` yields subsets one by one, such that a successor subset `s` is computed by a previous subset `p` by *increment*, namely `s = p + 1`."
   ]
  },
  {
   "cell_type": "code",
   "execution_count": 2,
   "metadata": {
    "collapsed": true
   },
   "outputs": [],
   "source": [
    "def subsets_sums(S):\n",
    "    \"\"\"\n",
    "    Returns a map of `(s, v)`, where `s` is a subset of `S`, and `v` is `sum(i in S & s)`.\n",
    "    \"\"\"\n",
    "    n = len(S)\n",
    "    sums = [0 for _ in range(1 << n)]\n",
    "    for s in subsets(n):\n",
    "        for j, v in enumerate(S):\n",
    "            sums[s] += is_on(s, j, return_int=True) * v\n",
    "    \n",
    "    return sums"
   ]
  },
  {
   "cell_type": "markdown",
   "metadata": {},
   "source": [
    "As a first experiment, let `S` be a list of 4 random integers, each one less than $2^{8}$."
   ]
  },
  {
   "cell_type": "code",
   "execution_count": 3,
   "metadata": {
    "collapsed": false
   },
   "outputs": [
    {
     "data": {
      "text/plain": [
       "[184, 150, 30, 153]"
      ]
     },
     "execution_count": 3,
     "metadata": {},
     "output_type": "execute_result"
    }
   ],
   "source": [
    "from random import randrange\n",
    "S = [randrange(1 << 8) for _ in range(1 << 2)]\n",
    "S"
   ]
  },
  {
   "cell_type": "markdown",
   "metadata": {},
   "source": [
    "We time the execution of the function `subsets_sums` applied to `S` and bind `sums` to the resulting mapping:"
   ]
  },
  {
   "cell_type": "code",
   "execution_count": 4,
   "metadata": {
    "collapsed": false
   },
   "outputs": [
    {
     "name": "stdout",
     "output_type": "stream",
     "text": [
      "Elapsed time: 0.00037456 secs\n"
     ]
    }
   ],
   "source": [
    "with timing(lambda: subsets_sums(S)) as (sums, start, end):\n",
    "    print(\"Elapsed time: {:.5} secs\".format(end-start))"
   ]
  },
  {
   "cell_type": "markdown",
   "metadata": {},
   "source": [
    "Have a look at results, after the definition of the pretty printing utility `pretty_dict`:"
   ]
  },
  {
   "cell_type": "code",
   "execution_count": 5,
   "metadata": {
    "collapsed": false
   },
   "outputs": [],
   "source": [
    "def pretty(sums):\n",
    "    \"\"\"\n",
    "    Utility pretty printer.\n",
    "    \"\"\"\n",
    "    return {pretty_mask(j, coding='little', width=len(S)): v for j, v in enumerate(sums)}"
   ]
  },
  {
   "cell_type": "code",
   "execution_count": 6,
   "metadata": {
    "collapsed": false
   },
   "outputs": [
    {
     "data": {
      "text/plain": [
       "{'0000': 0,\n",
       " '0001': 153,\n",
       " '0010': 30,\n",
       " '0011': 183,\n",
       " '0100': 150,\n",
       " '0101': 303,\n",
       " '0110': 180,\n",
       " '0111': 333,\n",
       " '1000': 184,\n",
       " '1001': 337,\n",
       " '1010': 214,\n",
       " '1011': 367,\n",
       " '1100': 334,\n",
       " '1101': 487,\n",
       " '1110': 364,\n",
       " '1111': 517}"
      ]
     },
     "execution_count": 6,
     "metadata": {},
     "output_type": "execute_result"
    }
   ],
   "source": [
    "pretty(sums)"
   ]
  },
  {
   "cell_type": "markdown",
   "metadata": {},
   "source": [
    "### Repeating experiments"
   ]
  },
  {
   "cell_type": "code",
   "execution_count": 7,
   "metadata": {
    "collapsed": true
   },
   "outputs": [],
   "source": [
    "def plotter(do, n):\n",
    "    \n",
    "    import matplotlib.pyplot as plt\n",
    "\n",
    "    def doer(i):\n",
    "        \"\"\"\n",
    "        Repeat the previous experiment with lists of integers lengths `i`.\n",
    "        \"\"\"\n",
    "        S = [randrange(1 << 8) for _ in range(i)]\n",
    "        with timing(lambda: do(S)) as (sums, start, end):\n",
    "            return end - start\n",
    "\n",
    "    l = range(n)\n",
    "    line, = plt.plot(l, list(map(doer, l)), '--', linewidth=2)\n",
    "\n",
    "    plt.xlabel(\"lengths\")\n",
    "    plt.ylabel(\"secs\")\n",
    "    plt.show()"
   ]
  },
  {
   "cell_type": "markdown",
   "metadata": {},
   "source": [
    "Moreover, we repeat the above experiment for lists of integers with different lengths to understand the *exponential* complexity of *subsets* enumeration: the longer list will have **24 integers** and it took aproximately **5 minutes** to return an answer."
   ]
  },
  {
   "cell_type": "code",
   "execution_count": 13,
   "metadata": {
    "collapsed": false
   },
   "outputs": [
    {
     "data": {
      "image/png": "[encoded data removed]",
      "text/plain": [
       "<matplotlib.figure.Figure at 0x7ff06d2a2048>"
      ]
     },
     "metadata": {},
     "output_type": "display_data"
    }
   ],
   "source": [
    "plotter(subsets_sums, n=25)"
   ]
  },
  {
   "cell_type": "markdown",
   "metadata": {},
   "source": [
    "## Subsets enumeration as Gray codes"
   ]
  },
  {
   "cell_type": "markdown",
   "metadata": {},
   "source": [
    "Another order of generation can be used for subsets, namely we see each subset as a [Gray code][gray]. In this way we know that consecutive subsets differs *exactly* by one bit, which is the same to say that they have the same objects but one, so *one* object goes away or comes in. \n",
    "\n",
    "Here is the a new function `subsets_sums_gray` that uses two hooks; given two consecutive subsets and `p` is the position of the bit `b` that toggles, if `b` switches *off* then `off` hook removes the corresponding value `S[p]` from the sum cumulated up to now, otherwise `add` hook adds `S[p]` to the sum.\n",
    "\n",
    "[gray]:http://nbviewer.jupyter.org/github/massimo-nocentini/competitive-programming/blob/master/tutorials/graycodes.ipynb?flush_cache=true"
   ]
  },
  {
   "cell_type": "code",
   "execution_count": 8,
   "metadata": {
    "collapsed": false
   },
   "outputs": [],
   "source": [
    "def subsets_sums_gray(S):\n",
    "    \"\"\"\n",
    "    Returns a map of `(s, v)`, where `s` is a subset of `S`, and `v` is `sum(i in S & s)`.\n",
    "    \"\"\"\n",
    "    return list(high(gray_codes(length=len(S)),                \n",
    "                on= lambda p, r: r + S[p],                      \n",
    "                off=lambda p, r: r - S[p], \n",
    "                redux=0))"
   ]
  },
  {
   "cell_type": "markdown",
   "metadata": {},
   "source": [
    "We time the new experiment applying it to the same list of integers `S`:"
   ]
  },
  {
   "cell_type": "code",
   "execution_count": 9,
   "metadata": {
    "collapsed": false
   },
   "outputs": [
    {
     "name": "stdout",
     "output_type": "stream",
     "text": [
      "Elapsed time: 0.00019288 secs\n"
     ]
    }
   ],
   "source": [
    "with timing(lambda: subsets_sums_gray(S)) as (res, start, end):\n",
    "    \n",
    "    print(\"Elapsed time: {:.5} secs\".format(end-start))\n",
    "    \n",
    "    sums_gray = [0 for _ in range(1 << len(S))]\n",
    "    for o, s, p, r in res:\n",
    "        sums_gray[s] = r"
   ]
  },
  {
   "cell_type": "markdown",
   "metadata": {},
   "source": [
    "and we pretty print the subsets sums"
   ]
  },
  {
   "cell_type": "code",
   "execution_count": 10,
   "metadata": {
    "collapsed": false
   },
   "outputs": [
    {
     "data": {
      "text/plain": [
       "{'0000': 0,\n",
       " '0001': 153,\n",
       " '0010': 30,\n",
       " '0011': 183,\n",
       " '0100': 150,\n",
       " '0101': 303,\n",
       " '0110': 180,\n",
       " '0111': 333,\n",
       " '1000': 184,\n",
       " '1001': 337,\n",
       " '1010': 214,\n",
       " '1011': 367,\n",
       " '1100': 334,\n",
       " '1101': 487,\n",
       " '1110': 364,\n",
       " '1111': 517}"
      ]
     },
     "execution_count": 10,
     "metadata": {},
     "output_type": "execute_result"
    }
   ],
   "source": [
    "pretty(sums_gray)"
   ]
  },
  {
   "cell_type": "markdown",
   "metadata": {},
   "source": [
    "checking that the answers are the same"
   ]
  },
  {
   "cell_type": "code",
   "execution_count": 11,
   "metadata": {
    "collapsed": true
   },
   "outputs": [],
   "source": [
    "assert sums == sums_gray"
   ]
  },
  {
   "cell_type": "markdown",
   "metadata": {},
   "source": [
    "We repeat the experiment for lists of integers of different lengths as done before:"
   ]
  },
  {
   "cell_type": "code",
   "execution_count": 12,
   "metadata": {
    "collapsed": false
   },
   "outputs": [
    {
     "data": {
      "image/png": "[encoded data removed]",
      "text/plain": [
       "<matplotlib.figure.Figure at 0x7ff095831cc0>"
      ]
     },
     "metadata": {},
     "output_type": "display_data"
    }
   ],
   "source": [
    "plotter(subsets_sums_gray, n=25)"
   ]
  },
  {
   "cell_type": "markdown",
   "metadata": {},
   "source": [
    "using this order of subsets generations we gain approximately a **10-factor** respect the \"usual\" generation order."
   ]
  },
  {
   "cell_type": "markdown",
   "metadata": {},
   "source": [
    "# $n$-Queens problem\n",
    "\n",
    "In this section we provide a pythonic implementation of the $n$-Queens problem, using the approach described by [Ruskey][ruskey] in Chapter 3 of his book [Combinatorial Generation][cg]. We use three *bit masks*, namely integers, to represent whether a row, a raising $\\nearrow$ and a falling $\\searrow$ diagonal are \"under attack\" by an already placed queen, instead of three boolean arrays. It is sufficient to use *one* bit only to represent that a cell on a diagonal is under attack because:\n",
    "\n",
    "   - if the diagonal is raising, call it $d_\\nearrow$, then $a_{r_{1}, c_{1}}\\in d_\\nearrow \\wedge a_{r_{2}, c_{2}} \\in d_\\nearrow$ if and only if $r_{1}+c_{1}=r_{2}+c_{2}$; in words, the sum of the row and column indices is constant along raising diagonals.\n",
    "   - if the diagonal is falling, call it $d_\\searrow$, then $a_{r_{1}, c_{1}}\\in d_\\searrow \\wedge a_{r_{2}, c_{2}} \\in d_\\searrow$ if and only if $c_{1}-r_{1}=c_{2}-r_{2}$; in words, the difference of the column and row indices is constant along falling diagonals.\n",
    "   \n",
    "Here's the code:\n",
    "\n",
    "[ruskey]:http://webhome.cs.uvic.ca/~ruskey/\n",
    "[cg]:http://www.1stworks.com/ref/RuskeyCombGen.pdf"
   ]
  },
  {
   "cell_type": "code",
   "execution_count": 15,
   "metadata": {
    "collapsed": false
   },
   "outputs": [],
   "source": [
    "def queens(n):\n",
    "    \"\"\"\n",
    "    Return an iterable of solutions to the `n`-Queens problem.\n",
    "    \"\"\"\n",
    "    sol = [0] * n\n",
    "    \n",
    "    def gen(c, rows, raises, falls):\n",
    "        \n",
    "        for r in range(n):\n",
    "            \n",
    "            raising = c + r\n",
    "            falling = (c - r) % (2*n-1) # we use a modular ring in order to handle the case r > c, in this way\n",
    "                                        # negative positions appear in the most significant part of `falls`\n",
    "            \n",
    "            if is_on(rows, r) and is_on(raises, raising) and is_on(falls, falling):\n",
    "                \n",
    "                sol[c] = r\n",
    "                \n",
    "                yield from [sol] if c == n-1 else gen(c+1, \n",
    "                                                      clear_bit(rows, r), \n",
    "                                                      clear_bit(raises, raising), \n",
    "                                                      clear_bit(falls, falling))\n",
    "                \n",
    "    return gen(0, set_all(n), set_all(2*n-1), set_all(2*n-1))\n",
    "\n",
    "def pretty(sol):\n",
    "    n = len(sol)\n",
    "    s = \"\"\n",
    "    for r in range(n):\n",
    "        pos = sol.index(r)\n",
    "        s += \"|{}|\\n\".format(\"|\".join('Q' if c == pos else ' ' for c in range(n)))\n",
    "    return s"
   ]
  },
  {
   "cell_type": "markdown",
   "metadata": {},
   "source": [
    "Simple case with a $5\\times 5$ board, so an instance of $5$-Queens problem:"
   ]
  },
  {
   "cell_type": "code",
   "execution_count": 16,
   "metadata": {
    "collapsed": false
   },
   "outputs": [
    {
     "name": "stdout",
     "output_type": "stream",
     "text": [
      "sol 0:\n",
      "|Q| | | | |\n",
      "| | | |Q| |\n",
      "| |Q| | | |\n",
      "| | | | |Q|\n",
      "| | |Q| | |\n",
      "\n",
      "sol 1:\n",
      "|Q| | | | |\n",
      "| | |Q| | |\n",
      "| | | | |Q|\n",
      "| |Q| | | |\n",
      "| | | |Q| |\n",
      "\n",
      "sol 2:\n",
      "| | |Q| | |\n",
      "|Q| | | | |\n",
      "| | | |Q| |\n",
      "| |Q| | | |\n",
      "| | | | |Q|\n",
      "\n",
      "sol 3:\n",
      "| | | |Q| |\n",
      "|Q| | | | |\n",
      "| | |Q| | |\n",
      "| | | | |Q|\n",
      "| |Q| | | |\n",
      "\n",
      "sol 4:\n",
      "| |Q| | | |\n",
      "| | | |Q| |\n",
      "|Q| | | | |\n",
      "| | |Q| | |\n",
      "| | | | |Q|\n",
      "\n",
      "sol 5:\n",
      "| | | | |Q|\n",
      "| | |Q| | |\n",
      "|Q| | | | |\n",
      "| | | |Q| |\n",
      "| |Q| | | |\n",
      "\n",
      "sol 6:\n",
      "| |Q| | | |\n",
      "| | | | |Q|\n",
      "| | |Q| | |\n",
      "|Q| | | | |\n",
      "| | | |Q| |\n",
      "\n",
      "sol 7:\n",
      "| | | | |Q|\n",
      "| |Q| | | |\n",
      "| | | |Q| |\n",
      "|Q| | | | |\n",
      "| | |Q| | |\n",
      "\n",
      "sol 8:\n",
      "| | | |Q| |\n",
      "| |Q| | | |\n",
      "| | | | |Q|\n",
      "| | |Q| | |\n",
      "|Q| | | | |\n",
      "\n",
      "sol 9:\n",
      "| | |Q| | |\n",
      "| | | | |Q|\n",
      "| |Q| | | |\n",
      "| | | |Q| |\n",
      "|Q| | | | |\n",
      "\n"
     ]
    }
   ],
   "source": [
    "for i, s in enumerate(queens(5)):\n",
    "    print(\"sol {}:\\n{}\".format(i, pretty(s)))"
   ]
  },
  {
   "cell_type": "markdown",
   "metadata": {},
   "source": [
    "A more demanding case $20$-Queens, build the generator for solutions:"
   ]
  },
  {
   "cell_type": "code",
   "execution_count": 13,
   "metadata": {
    "collapsed": false
   },
   "outputs": [],
   "source": [
    "more_queens = queens(20)"
   ]
  },
  {
   "cell_type": "markdown",
   "metadata": {},
   "source": [
    "and ask for the first 5 of them; in this case we see that some time is required to reach the first leaf in the *backtracking tree* which is also a valid solution."
   ]
  },
  {
   "cell_type": "code",
   "execution_count": 14,
   "metadata": {
    "collapsed": false
   },
   "outputs": [
    {
     "name": "stdout",
     "output_type": "stream",
     "text": [
      "Solution computed in 3.1767 secs:\n",
      "|Q| | | | | | | | | | | | | | | | | | | |\n",
      "| | | |Q| | | | | | | | | | | | | | | | |\n",
      "| |Q| | | | | | | | | | | | | | | | | | |\n",
      "| | | | |Q| | | | | | | | | | | | | | | |\n",
      "| | |Q| | | | | | | | | | | | | | | | | |\n",
      "| | | | | | | | | | | | | | | | | | |Q| |\n",
      "| | | | | | | | | | | | | | | | |Q| | | |\n",
      "| | | | | | | | | | | | | | |Q| | | | | |\n",
      "| | | | | | | | | | | |Q| | | | | | | | |\n",
      "| | | | | | | | | | | | | | | |Q| | | | |\n",
      "| | | | | | | | | | | | | | | | | | | |Q|\n",
      "| | | | | | | |Q| | | | | | | | | | | | |\n",
      "| | | | | |Q| | | | | | | | | | | | | | |\n",
      "| | | | | | | | | | | | | | | | | |Q| | |\n",
      "| | | | | | |Q| | | | | | | | | | | | | |\n",
      "| | | | | | | | | | | | |Q| | | | | | | |\n",
      "| | | | | | | | | | |Q| | | | | | | | | |\n",
      "| | | | | | | | |Q| | | | | | | | | | | |\n",
      "| | | | | | | | | | | | | |Q| | | | | | |\n",
      "| | | | | | | | | |Q| | | | | | | | | | |\n",
      "\n",
      "Solution computed in 8.9407e-05 secs:\n",
      "|Q| | | | | | | | | | | | | | | | | | | |\n",
      "| | | |Q| | | | | | | | | | | | | | | | |\n",
      "| |Q| | | | | | | | | | | | | | | | | | |\n",
      "| | | | |Q| | | | | | | | | | | | | | | |\n",
      "| | |Q| | | | | | | | | | | | | | | | | |\n",
      "| | | | | | | | | | | | | | | | |Q| | | |\n",
      "| | | | | | | | | | | | | | | | | | |Q| |\n",
      "| | | | | | | | | | | | | | | |Q| | | | |\n",
      "| | | | | | | | | | | |Q| | | | | | | | |\n",
      "| | | | | | | | | | | | | | |Q| | | | | |\n",
      "| | | | | | | | | | | | | | | | | | | |Q|\n",
      "| | | | | | | |Q| | | | | | | | | | | | |\n",
      "| | | | | |Q| | | | | | | | | | | | | | |\n",
      "| | | | | | | | | | | | | | | | | |Q| | |\n",
      "| | | | | | |Q| | | | | | | | | | | | | |\n",
      "| | | | | | | | | | | | |Q| | | | | | | |\n",
      "| | | | | | | | | | |Q| | | | | | | | | |\n",
      "| | | | | | | | |Q| | | | | | | | | | | |\n",
      "| | | | | | | | | | | | | |Q| | | | | | |\n",
      "| | | | | | | | | |Q| | | | | | | | | | |\n",
      "\n",
      "Solution computed in 0.56432 secs:\n",
      "|Q| | | | | | | | | | | | | | | | | | | |\n",
      "| | | |Q| | | | | | | | | | | | | | | | |\n",
      "| |Q| | | | | | | | | | | | | | | | | | |\n",
      "| | | | |Q| | | | | | | | | | | | | | | |\n",
      "| | |Q| | | | | | | | | | | | | | | | | |\n",
      "| | | | | | | | | | | | | | | |Q| | | | |\n",
      "| | | | | | | | | | | | | | | | | | | |Q|\n",
      "| | | | | | | | | | | | | | | | |Q| | | |\n",
      "| | | | | | | | | | | |Q| | | | | | | | |\n",
      "| | | | | | | | | | | | | |Q| | | | | | |\n",
      "| | | | | | | | | | | | | | | | | |Q| | |\n",
      "| | | | | | |Q| | | | | | | | | | | | | |\n",
      "| | | | | | | | | | | | | | | | | | |Q| |\n",
      "| | | | | |Q| | | | | | | | | | | | | | |\n",
      "| | | | | | | |Q| | | | | | | | | | | | |\n",
      "| | | | | | | | | |Q| | | | | | | | | | |\n",
      "| | | | | | | | | | | | |Q| | | | | | | |\n",
      "| | | | | | | | | | | | | | |Q| | | | | |\n",
      "| | | | | | | | |Q| | | | | | | | | | | |\n",
      "| | | | | | | | | | |Q| | | | | | | | | |\n",
      "\n",
      "Solution computed in 0.3538 secs:\n",
      "|Q| | | | | | | | | | | | | | | | | | | |\n",
      "| | | |Q| | | | | | | | | | | | | | | | |\n",
      "| |Q| | | | | | | | | | | | | | | | | | |\n",
      "| | | | |Q| | | | | | | | | | | | | | | |\n",
      "| | |Q| | | | | | | | | | | | | | | | | |\n",
      "| | | | | | | | | | | | | | | |Q| | | | |\n",
      "| | | | | | | | | | | |Q| | | | | | | | |\n",
      "| | | | | | | | | | | | | | |Q| | | | | |\n",
      "| | | | | | | | | | | | | | | | |Q| | | |\n",
      "| | | | | | | | | | | | | |Q| | | | | | |\n",
      "| | | | | | | | | | | | | | | | | | | |Q|\n",
      "| | | | | | | | |Q| | | | | | | | | | | |\n",
      "| | | | | | | | | | | | | | | | | | |Q| |\n",
      "| | | | | |Q| | | | | | | | | | | | | | |\n",
      "| | | | | | | | | | | | | | | | | |Q| | |\n",
      "| | | | | | | | | | |Q| | | | | | | | | |\n",
      "| | | | | | | | | | | | |Q| | | | | | | |\n",
      "| | | | | | |Q| | | | | | | | | | | | | |\n",
      "| | | | | | | | | |Q| | | | | | | | | | |\n",
      "| | | | | | | |Q| | | | | | | | | | | | |\n",
      "\n",
      "Solution computed in 0.08652 secs:\n",
      "|Q| | | | | | | | | | | | | | | | | | | |\n",
      "| | | |Q| | | | | | | | | | | | | | | | |\n",
      "| |Q| | | | | | | | | | | | | | | | | | |\n",
      "| | | | |Q| | | | | | | | | | | | | | | |\n",
      "| | |Q| | | | | | | | | | | | | | | | | |\n",
      "| | | | | | | | | | | | | | |Q| | | | | |\n",
      "| | | | | | | | | | | |Q| | | | | | | | |\n",
      "| | | | | | | | | | | | | | | |Q| | | | |\n",
      "| | | | | | | | | | | | |Q| | | | | | | |\n",
      "| | | | | | | | | | | | | | | | | | | |Q|\n",
      "| | | | | | | | | | | | | | | | |Q| | | |\n",
      "| | | | | | | | | | | | | | | | | | |Q| |\n",
      "| | | | | | | | | |Q| | | | | | | | | | |\n",
      "| | | | | |Q| | | | | | | | | | | | | | |\n",
      "| | | | | | | | | | | | | | | | | |Q| | |\n",
      "| | | | | | | | | | |Q| | | | | | | | | |\n",
      "| | | | | | | |Q| | | | | | | | | | | | |\n",
      "| | | | | | | | | | | | | |Q| | | | | | |\n",
      "| | | | | | |Q| | | | | | | | | | | | | |\n",
      "| | | | | | | | |Q| | | | | | | | | | | |\n",
      "\n"
     ]
    }
   ],
   "source": [
    "for i in range(5):\n",
    "    with timing(lambda: next(more_queens)) as (s, start, end):\n",
    "        print(\"Solution computed in {:.5} secs:\\n{}\".format(end-start, pretty(s)))"
   ]
  },
  {
   "cell_type": "markdown",
   "metadata": {},
   "source": [
    "# Polyominoes problem\n",
    "\n",
    "In this section we play with [polyominoes][poly], formalized by prof. [Golomb][golomb]; we arrived here by reading the chapter about backtracking in the volume of Ruskey.\n",
    "\n",
    "Maybe the hardest part is understand how to represent the board and the state (free/occupied) of each cell; moreover, the question about how a shape, and its orientation, is interesting too. We answer to each one:\n",
    "\n",
    "   - a board with $r$ rows and $c$ columns\n",
    "     $$\n",
    "     \\begin{array}{c|c|c|c|c}\n",
    "     0 & r & 2r & \\ldots & (c-1)r \\\\\n",
    "     \\hline\n",
    "     1 & r+1 & 2r+1 & \\ldots & (c-1)r+1 \\\\\n",
    "     \\hline\n",
    "     \\vdots & \\vdots & \\vdots & \\ddots & \\vdots \\\\\n",
    "     \\hline\n",
    "     r-1 & 2r-1 & \\ldots & \\ldots & rc-1\\\\\n",
    "     \\end{array}\n",
    "     $$\n",
    "     is represented by an *integer* with $rc$ bits; this is because we want to use *bit masking* techniques and\n",
    "     it is efficient to find the next *free* cell (using the utility function `low_bit`), which correspond to\n",
    "     the position of the first bit 1 from the right, namely the least significant part.\n",
    "   - a *shape* is a collection of cells, usually sharing an edge pairwise. We choose to represent a shape as a\n",
    "     `lambda` expression, that consumes the *anchor* position as a pair of row and column indices, \n",
    "     and returns a list of\n",
    "     orientations, namely positions coding a possible symmetry, reflection or rotation of the shape; therefore, \n",
    "     each orientation is a sequence of positions too. \n",
    "     \n",
    "     By *anchor* we mean the position in which the top-left cell\n",
    "     of a shape orientation will be placed in the next *free* cell in the board; every orientation should be\n",
    "     relative to the *anchor* provided, here an example, where the *anchor* is _always_ given at position `(r,c)`\n",
    "     \n",
    "                *                     (r-2,c+2)\n",
    "                *   ->                (r-1,c+2)\n",
    "            * * *       (r,c) (r,c+1) (r, c+2)\n",
    "     so the orientation is coded as the iterable `((r,c), (r,c+1), (r-2,c+2), (r-1,c+2), (r, c+2))`.\n",
    "     The section about *pentominoes* contains many examples of shapes coding.\n",
    "\n",
    "The following code implements a *backtracking* function that yields a sequence of tiling of a given board, possibly containing some forbidden cells, according to a set of available shapes.\n",
    "\n",
    "[poly]:https://en.wikipedia.org/wiki/Polyomino\n",
    "[golomb]:https://en.wikipedia.org/wiki/Solomon_W._Golomb"
   ]
  },
  {
   "cell_type": "code",
   "execution_count": 172,
   "metadata": {
    "collapsed": false
   },
   "outputs": [],
   "source": [
    "def polyominoes(dim, shapes, availables='ones', max_depth_reached=None, forbidden=[]):\n",
    "    \"\"\"\n",
    "    Returns an iterable of arrangements for the Polyominos problem.\n",
    "    \"\"\"\n",
    "    rows, cols = dim\n",
    "    sol = []\n",
    "    if not availables or availables == 'ones':\n",
    "        availables = [1]*len(shapes) \n",
    "    elif availables == 'inf': \n",
    "        availables = [-1]*len(shapes)\n",
    "    \n",
    "    def place(S, positions):\n",
    "        for r, c in positions:\n",
    "            S = clear_bit(S, r + rows*c)\n",
    "        return S\n",
    "    \n",
    "    def gen(positions, attempts):\n",
    "    \n",
    "        p = low_bit(positions)\n",
    "        \n",
    "        c, r = divmod(p, rows)\n",
    "        \n",
    "        for i, block in enumerate(s(r, c) for s in shapes):\n",
    "            \n",
    "            if not availables[i]: continue\n",
    "            \n",
    "            for j, orientation in enumerate(block):\n",
    "                \n",
    "                if all(0 <= rr < rows and 0 <= cc < cols and is_on(positions, rr + rows*cc) \n",
    "                       for rr, cc in orientation):\n",
    "                    \n",
    "                    sol.append((p, i, j, orientation))\n",
    "                    \n",
    "                    availables[i] -= 1\n",
    "                    new_positions = place(positions, orientation)\n",
    "                        \n",
    "                    yield from [sol] if not new_positions or not attempts else gen(new_positions, attempts-1)\n",
    "                \n",
    "                    sol.pop()\n",
    "                    availables[i] += 1\n",
    "        \n",
    "    return gen(place(set_all(rows*cols), forbidden), max_depth_reached or -1)\n",
    "\n",
    "def pretty(sol, dim, symbols):\n",
    "    from collections import defaultdict\n",
    "    table = defaultdict(lambda: ' ')\n",
    "    for p, i, j, pairs in sol:\n",
    "        for r, c in pairs:\n",
    "            table[r,c] = symbols[i]\n",
    "    \n",
    "    rows, cols = dim\n",
    "    s = \"┌\" + (\"─\" * (2*cols + 1)) + \"┐\\n\"\n",
    "    for r in range(rows): \n",
    "        s += '│ ' + ' '.join(table[r, c] for c in range(cols)) + ' │\\n'\n",
    "    s += \"└\" + (\"─\" * (2*cols + 1)) + \"┘\"\n",
    "    return s"
   ]
  },
  {
   "cell_type": "markdown",
   "metadata": {},
   "source": [
    "## Pentominoes\n",
    "\n",
    "The first instance we would like to study are shapes composed of 5 cells, also called [pentominoes][penta]; the next code define all shapes and their orientations: \n",
    "\n",
    "[penta]:https://en.wikipedia.org/wiki/Pentomino"
   ]
  },
  {
   "cell_type": "code",
   "execution_count": 173,
   "metadata": {
    "collapsed": false
   },
   "outputs": [],
   "source": [
    "\"\"\"\n",
    "  *\n",
    "* * *\n",
    "  *\n",
    "\"\"\"\n",
    "X_shape = lambda r, c: [((r, c), (r-1, c+1), (r, c+1), (r+1, c+1), (r, c+2))]\n",
    "\n",
    "\"\"\"\n",
    "*\n",
    "*\n",
    "*\n",
    "*\n",
    "*\n",
    "\n",
    "* * * * *\n",
    "\"\"\"\n",
    "I_shape = lambda r, c: [((r, c), (r+1,c), (r+2,c), (r+3,c), (r+4,c)),\n",
    "                        ((r, c), (r,c+1), (r,c+2), (r,c+3), (r,c+4))]\n",
    "\n",
    "\"\"\"\n",
    "*\n",
    "*\n",
    "* * *\n",
    "\n",
    "* * *\n",
    "    *\n",
    "    *\n",
    "\n",
    "    *\n",
    "    *\n",
    "* * *\n",
    "\n",
    "* * *\n",
    "*\n",
    "*\n",
    "\"\"\"\n",
    "V_shape = lambda r, c: [((r,c), (r+1,c), (r+2,c), (r+2, c+1), (r+2, c+2)),\n",
    "                        ((r,c), (r, c+1), (r,c+2), (r+1, c+2), (r+2, c+2)),\n",
    "                        ((r,c), (r,c+1), (r-2,c+2), (r-1,c+2), (r, c+2)),\n",
    "                        ((r,c), (r+1,c), (r+2,c), (r,c+1), (r, c+2))]\n",
    "\n",
    "\"\"\"\n",
    "* *\n",
    "*\n",
    "* *\n",
    "\n",
    "* * *\n",
    "*   *\n",
    "\n",
    "*   *\n",
    "* * *\n",
    "\n",
    "* *\n",
    "  *\n",
    "* *  \n",
    "\"\"\"\n",
    "U_shape = lambda r, c: [((r,c), (r+1,c), (r+2,c), (r,c+1), (r+2,c+1)),\n",
    "                        ((r,c), (r+1,c), (r, c+1), (r,c+2), (r+1,c+2)),\n",
    "                        ((r,c), (r+1, c), (r+1, c+1), (r, c+2), (r+1, c+2)),\n",
    "                        ((r,c), (r+2, c), (r, c+1), (r+1, c+1), (r+2, c+1)),]\n",
    "\n",
    "\"\"\"\n",
    "*\n",
    "* *\n",
    "  * *\n",
    "  \n",
    "* *\n",
    "  * *\n",
    "    *\n",
    "\n",
    "    *\n",
    "  * *\n",
    "* *\n",
    "\n",
    "  * *\n",
    "* *\n",
    "*\n",
    "\"\"\"\n",
    "W_shape = lambda r, c: [((r,c), (r+1,c), (r+1,c+1), (r+2,c+1), (r+2,c+2)),\n",
    "                        ((r,c), (r,c+1), (r+1,c+1), (r+1,c+2), (r+2,c+2)),\n",
    "                        ((r,c), (r-1,c+1), (r,c+1), (r-2,c+2), (r-1,c+2)),\n",
    "                        ((r,c), (r+1,c), (r-1,c+1), (r,c+1), (r-1,c+2)),]\n",
    "\n",
    "\"\"\"\n",
    "* * *\n",
    "  *\n",
    "  *\n",
    "  \n",
    "*\n",
    "* * *\n",
    "*\n",
    "\n",
    "    *\n",
    "* * *\n",
    "    *\n",
    "\n",
    "  *\n",
    "  *\n",
    "* * *\n",
    "\"\"\"\n",
    "T_shape = lambda r, c: [((r,c), (r,c+1), (r+1,c+1), (r+2,c+1), (r,c+2)),\n",
    "                        ((r,c), (r+1,c), (r+2,c), (r+1,c+1), (r+1,c+2)),\n",
    "                        ((r,c), (r,c+1), (r-1,c+2), (r,c+2), (r+1,c+2)),\n",
    "                        ((r,c), (r-2,c+1), (r-1,c+1), (r,c+1), (r,c+2)),]\n",
    "\n",
    "\"\"\"\n",
    "*\n",
    "* * *\n",
    "    *\n",
    "\n",
    "    *\n",
    "* * *\n",
    "*\n",
    "\n",
    "  * *  \n",
    "  * \n",
    "* *\n",
    "\n",
    "* *\n",
    "  *\n",
    "  * *\n",
    "\"\"\"\n",
    "Z_shape = lambda r, c: [((r,c), (r+1,c), (r+1,c+1), (r+1,c+2), (r+2,c+2)),\n",
    "                        ((r,c), (r+1,c), (r,c+1), (r-1,c+2), (r,c+2)),\n",
    "                        ((r,c), (r-2,c+1), (r-1,c+1), (r,c+1), (r-2,c+2)),\n",
    "                        ((r,c), (r,c+1), (r+1,c+1), (r+2,c+1), (r+2,c+2)),]\n",
    "\n",
    "\"\"\"\n",
    "*\n",
    "* *\n",
    "  *\n",
    "  *\n",
    "  \n",
    "  *\n",
    "* *\n",
    "*\n",
    "*\n",
    "\n",
    "*\n",
    "*\n",
    "* *\n",
    "  *\n",
    "  \n",
    "  *\n",
    "  *\n",
    "* *\n",
    "*\n",
    "\n",
    "  * * *\n",
    "* *\n",
    "\n",
    "* *\n",
    "  * * *\n",
    "\n",
    "* * *\n",
    "    * *\n",
    "\n",
    "    * *\n",
    "* * *\n",
    "\"\"\"\n",
    "N_shape = lambda r, c: [((r,c), (r+1,c), (r+1,c+1), (r+2,c+1), (r+3,c+1)),\n",
    "                        ((r,c), (r+1,c), (r+2,c), (r-1,c+1), (r,c+1)),\n",
    "                        ((r,c), (r+1,c), (r+2,c), (r+2,c+1), (r+3,c+1)),\n",
    "                        ((r,c), (r+1,c), (r-2,c+1), (r-1,c+1), (r,c+1)),\n",
    "                        ((r,c), (r-1,c+1), (r,c+1), (r-1,c+2), (r-1,c+3)),\n",
    "                        ((r,c), (r,c+1), (r+1,c+1), (r+1,c+2), (r+1,c+3)),\n",
    "                        ((r,c), (r,c+1), (r,c+2), (r+1,c+2), (r+1,c+3)),\n",
    "                        ((r,c), (r,c+1), (r-1,c+2), (r,c+2), (r-1,c+3)),]\n",
    "\n",
    "\"\"\"\n",
    "*\n",
    "*\n",
    "*\n",
    "* *\n",
    "  \n",
    "  *\n",
    "  *\n",
    "  *\n",
    "* *\n",
    "\n",
    "* *\n",
    "  *\n",
    "  *\n",
    "  *\n",
    "  \n",
    "* *\n",
    "*\n",
    "*\n",
    "*\n",
    "\n",
    "*\n",
    "* * * *\n",
    "\n",
    "* * * *\n",
    "*\n",
    "\n",
    "      *\n",
    "* * * *\n",
    "\n",
    "* * * *\n",
    "      *\n",
    "\n",
    "\"\"\"\n",
    "L_shape = lambda r, c: [((r,c), (r+1,c), (r+2,c), (r+3,c), (r+3,c+1)),\n",
    "                        ((r,c), (r-3,c+1), (r-2,c+1), (r-1,c+1), (r,c+1)),                        \n",
    "                        ((r,c), (r,c+1), (r+1,c+1), (r+2,c+1), (r+3,c+1)),                        \n",
    "                        ((r,c), (r+1,c), (r+2,c), (r+3,c), (r,c+1)),                        \n",
    "                        ((r,c), (r+1,c), (r+1,c+1), (r+1,c+2), (r+1,c+3)),                        \n",
    "                        ((r,c), (r+1,c), (r,c+1), (r,c+2), (r,c+3)),                        \n",
    "                        ((r,c), (r,c+1), (r,c+2), (r-1,c+3), (r,c+3)),                        \n",
    "                        ((r,c), (r,c+1), (r,c+2), (r,c+3), (r+1,c+3)),]\n",
    "\n",
    "\"\"\"\n",
    "*\n",
    "* *\n",
    "*\n",
    "*\n",
    "\n",
    "*\n",
    "*\n",
    "* *\n",
    "*\n",
    "\n",
    "  *\n",
    "* *\n",
    "  *\n",
    "  *\n",
    "  \n",
    "  *\n",
    "  *\n",
    "* *\n",
    "  *\n",
    "\n",
    "* * * *\n",
    "    *\n",
    "    \n",
    "    *\n",
    "* * * *\n",
    "\n",
    "* * * *\n",
    "  *\n",
    "  \n",
    "  *\n",
    "* * * *    \n",
    "\"\"\"\n",
    "Y_shape = lambda r, c: [((r,c), (r+1,c), (r+2,c), (r+3,c), (r+1,c+1)),\n",
    "                        ((r,c), (r+1,c), (r+2,c), (r+3,c), (r+2,c+1)),                        \n",
    "                        ((r,c), (r-1,c+1), (r,c+1), (r+1,c+1), (r+2,c+1)),                        \n",
    "                        ((r,c), (r-2,c+1), (r-1,c+1), (r,c+1), (r+1,c+1)),                        \n",
    "                        ((r,c), (r,c+1), (r,c+2), (r+1,c+2), (r,c+3)),                        \n",
    "                        ((r,c), (r,c+1), (r-1,c+2), (r,c+2), (r,c+3)),                        \n",
    "                        ((r,c), (r,c+1), (r+1,c+1), (r,c+2), (r,c+3)),                        \n",
    "                        ((r,c), (r-1,c+1), (r,c+1), (r,c+2), (r,c+3)),]\n",
    "\n",
    "\"\"\"\n",
    "*\n",
    "* * *\n",
    "  *\n",
    "  \n",
    "    *\n",
    "* * *\n",
    "  *\n",
    " \n",
    "  *\n",
    "* * *\n",
    "*\n",
    "\n",
    "  *\n",
    "* * *\n",
    "    *\n",
    "  \n",
    "  *\n",
    "  * *\n",
    "* *\n",
    "\n",
    "  *\n",
    "* *\n",
    "  * *\n",
    "  \n",
    "* *\n",
    "  * *\n",
    "  *\n",
    "  \n",
    "  * *\n",
    "* *\n",
    "  *\n",
    "\"\"\"\n",
    "F_shape = lambda r, c: [((r,c), (r+1,c), (r+1,c+1), (r+2,c+1), (r+1,c+2)),\n",
    "                        ((r,c), (r,c+1), (r+1,c+1), (r-1,c+2), (r,c+2)),                        \n",
    "                        ((r,c), (r+1,c), (r-1,c+1), (r,c+1), (r,c+2)),                        \n",
    "                        ((r,c), (r-1,c+1), (r,c+1), (r,c+2), (r+1,c+2)),                                                \n",
    "                        ((r,c), (r-2,c+1), (r-1,c+1), (r,c+1), (r-1,c+2)),                                                \n",
    "                        ((r,c), (r-1,c+1), (r,c+1), (r+1,c+1), (r+1,c+2)),                                                \n",
    "                        ((r,c), (r,c+1), (r+1,c+1), (r+2,c+1), (r+1,c+2)),\n",
    "                        ((r,c), (r-1,c+1), (r,c+1), (r+1,c+1), (r-1,c+2)),]\n",
    "\n",
    "\"\"\"\n",
    "*\n",
    "* *\n",
    "* *\n",
    "\n",
    "  *\n",
    "* *\n",
    "* *\n",
    "\n",
    "  * *\n",
    "* * *\n",
    "\n",
    "* *\n",
    "* * *\n",
    "\n",
    "* * *\n",
    "* *\n",
    "\n",
    "* * *\n",
    "  * *\n",
    "  \n",
    "* *\n",
    "* *\n",
    "*\n",
    "\n",
    "* *\n",
    "* *\n",
    "  *\n",
    "\"\"\"\n",
    "P_shape = lambda r, c: [((r,c), (r+1,c), (r+2,c), (r+1,c+1), (r+2,c+1)),\n",
    "                        ((r,c), (r+1,c), (r-1,c+1), (r,c+1), (r+1,c+1)),                        \n",
    "                        ((r,c), (r-1,c+1), (r,c+1), (r-1,c+2), (r,c+2)),                                                \n",
    "                        ((r,c), (r+1,c), (r,c+1), (r+1,c+1), (r+1,c+2)),                                                \n",
    "                        ((r,c), (r+1,c), (r,c+1), (r+1,c+1), (r,c+2)),                                                  \n",
    "                        ((r,c), (r,c+1), (r+1,c+1), (r,c+2), (r+1,c+2)),                                                \n",
    "                        ((r,c), (r+1,c), (r+2,c), (r,c+1), (r+1,c+1)),                        \n",
    "                        ((r,c), (r+1,c), (r,c+1), (r+1,c+1), (r+2,c+1)),]\n"
   ]
  },
  {
   "cell_type": "markdown",
   "metadata": {},
   "source": [
    "In order to tile a board, we use all of them:"
   ]
  },
  {
   "cell_type": "code",
   "execution_count": 174,
   "metadata": {
    "collapsed": true
   },
   "outputs": [],
   "source": [
    "shapes =  [X_shape, I_shape, V_shape, U_shape, W_shape, T_shape, \n",
    "           Z_shape, N_shape, L_shape, Y_shape, F_shape, P_shape]"
   ]
  },
  {
   "cell_type": "markdown",
   "metadata": {},
   "source": [
    "so, we are now ready to tile a board with 6 rows and 10 columns, where no cell is forbidden and only *one* piece is available for each shape: "
   ]
  },
  {
   "cell_type": "code",
   "execution_count": 175,
   "metadata": {
    "collapsed": false
   },
   "outputs": [],
   "source": [
    "dim = (6,10)\n",
    "polys_sols = polyominoes(dim, shapes, availables='ones', forbidden=[])"
   ]
  },
  {
   "cell_type": "markdown",
   "metadata": {},
   "source": [
    "and pretty print the first 10 solutions:"
   ]
  },
  {
   "cell_type": "code",
   "execution_count": 176,
   "metadata": {
    "collapsed": false,
    "scrolled": false
   },
   "outputs": [
    {
     "name": "stdout",
     "output_type": "stream",
     "text": [
      "1-st solution computed in 0.0437 secs:\n",
      "┌─────────────────────┐\n",
      "│ β δ δ δ ε ε ι ι ι ι │\n",
      "│ β δ θ δ α ε ε λ λ ι │\n",
      "│ β θ θ α α α ε η λ λ │\n",
      "│ β θ γ μ α η η η λ ζ │\n",
      "│ β θ γ μ μ η κ ζ ζ ζ │\n",
      "│ γ γ γ μ μ κ κ κ κ ζ │\n",
      "└─────────────────────┘\n",
      "2-sn solution computed in 0.337 secs:\n",
      "┌─────────────────────┐\n",
      "│ β δ δ δ η η α ζ ζ ζ │\n",
      "│ β δ θ δ η α α α ζ κ │\n",
      "│ β θ θ η η λ α ε ζ κ │\n",
      "│ β θ γ λ λ λ ε ε κ κ │\n",
      "│ β θ γ ι λ ε ε μ μ κ │\n",
      "│ γ γ γ ι ι ι ι μ μ μ │\n",
      "└─────────────────────┘\n",
      "3-rd solution computed in 0.00713 secs:\n",
      "┌─────────────────────┐\n",
      "│ β δ δ δ η η ι ι ι ι │\n",
      "│ β δ θ δ η ε ε λ λ ι │\n",
      "│ β θ θ η η α ε ε λ λ │\n",
      "│ β θ γ μ α α α ε λ ζ │\n",
      "│ β θ γ μ μ α κ ζ ζ ζ │\n",
      "│ γ γ γ μ μ κ κ κ κ ζ │\n",
      "└─────────────────────┘\n",
      "4-th solution computed in 0.837 secs:\n",
      "┌─────────────────────┐\n",
      "│ β ε ε ζ ζ ζ ι ι ι ι │\n",
      "│ β κ ε ε ζ λ θ θ θ ι │\n",
      "│ β κ κ ε ζ λ λ λ θ θ │\n",
      "│ β κ γ δ δ α λ η η μ │\n",
      "│ β κ γ δ α α α η μ μ │\n",
      "│ γ γ γ δ δ α η η μ μ │\n",
      "└─────────────────────┘\n",
      "5-th solution computed in 0.227 secs:\n",
      "┌─────────────────────┐\n",
      "│ β ε ε ζ ζ ζ ι ι ι ι │\n",
      "│ β κ ε ε ζ λ θ θ θ ι │\n",
      "│ β κ κ ε ζ λ λ λ θ θ │\n",
      "│ β κ γ μ η η λ α δ δ │\n",
      "│ β κ γ μ μ η α α α δ │\n",
      "│ γ γ γ μ μ η η α δ δ │\n",
      "└─────────────────────┘\n",
      "6-th solution computed in 0.558 secs:\n",
      "┌─────────────────────┐\n",
      "│ β ε ε μ μ μ ζ δ δ δ │\n",
      "│ β κ ε ε μ μ ζ δ θ δ │\n",
      "│ β κ κ ε α ζ ζ ζ θ θ │\n",
      "│ β κ γ α α α λ η η θ │\n",
      "│ β κ γ ι α λ λ λ η θ │\n",
      "│ γ γ γ ι ι ι ι λ η η │\n",
      "└─────────────────────┘\n",
      "7-th solution computed in 0.186 secs:\n",
      "┌─────────────────────┐\n",
      "│ β θ θ θ ε ε η η μ μ │\n",
      "│ β ι ι θ θ ε ε η μ μ │\n",
      "│ β ι ζ ζ ζ λ ε η η μ │\n",
      "│ β ι γ ζ λ λ λ α δ δ │\n",
      "│ β ι γ ζ λ κ α α α δ │\n",
      "│ γ γ γ κ κ κ κ α δ δ │\n",
      "└─────────────────────┘\n",
      "8-th solution computed in 0.46 secs:\n",
      "┌─────────────────────┐\n",
      "│ β ι ι ι ι η κ κ κ κ │\n",
      "│ β ι θ η η η λ λ κ ζ │\n",
      "│ β θ θ η α λ λ ζ ζ ζ │\n",
      "│ β θ γ α α α λ ε ε ζ │\n",
      "│ β θ γ δ α δ ε ε μ μ │\n",
      "│ γ γ γ δ δ δ ε μ μ μ │\n",
      "└─────────────────────┘\n",
      "9-th solution computed in 0.000686 secs:\n",
      "┌─────────────────────┐\n",
      "│ β ι ι ι ι η κ κ κ κ │\n",
      "│ β ι θ η η η λ λ κ ζ │\n",
      "│ β θ θ η α λ λ ζ ζ ζ │\n",
      "│ β θ γ α α α λ ε ε ζ │\n",
      "│ β θ γ δ α δ μ μ ε ε │\n",
      "│ γ γ γ δ δ δ μ μ μ ε │\n",
      "└─────────────────────┘\n",
      "10-th solution computed in 0.493 secs:\n",
      "┌─────────────────────┐\n",
      "│ β ι ι ι ι ε ε ζ ζ ζ │\n",
      "│ β κ η η ι α ε ε ζ θ │\n",
      "│ β κ κ η α α α ε ζ θ │\n",
      "│ β κ γ η η α λ λ θ θ │\n",
      "│ β κ γ μ μ λ λ δ θ δ │\n",
      "│ γ γ γ μ μ μ λ δ δ δ │\n",
      "└─────────────────────┘\n"
     ]
    }
   ],
   "source": [
    "for i in range(10):\n",
    "    with timing(lambda: next(polys_sols)) as (s, start, end):\n",
    "        t = (end - start, 'secs')\n",
    "        t = (t[0] / 60, 'mins') if t[0] > 59 else t\n",
    "        t = (t[0] / 60, 'hours') if t[0] > 59 else t\n",
    "        o = \"st\" if not i else \"sn\"\n",
    "        print(\"{}-{} solution computed in {:.3} {}:\\n{}\".format(i+1, o if i < 2 else (\"rd\" if i == 2 else \"th\"), \n",
    "                                                                *t, pretty(s, dim, lower_greek_symbols())))"
   ]
  },
  {
   "cell_type": "markdown",
   "metadata": {},
   "source": [
    "Moreover, it is possible to count all solutions, namely tilings, with the following code:"
   ]
  },
  {
   "cell_type": "code",
   "execution_count": null,
   "metadata": {
    "collapsed": false
   },
   "outputs": [],
   "source": [
    "with timing(lambda: len(list(polys_sols))) as (t, start, end):\n",
    "    print(\"{} sols in {} secs\".format(t, end-start))"
   ]
  },
  {
   "cell_type": "markdown",
   "metadata": {},
   "source": [
    "On the other hand, the following is another board with some forbidden cells and 3 pieces for each shape are available:"
   ]
  },
  {
   "cell_type": "code",
   "execution_count": 160,
   "metadata": {
    "collapsed": false
   },
   "outputs": [],
   "source": [
    "dim = (6,10)\n",
    "polys_sols = Y_mino(dim, shapes, availables=[3]*len(shapes), forbidden=[(0,0), (1,0), (2,0), (3,0), (4,0), \n",
    "                                                               (1,9),(2,9),(3,9),(4,9), (5,9),\n",
    "                                                               (1,5), (2, 4), (2, 5), (3, 4), (3,5)])"
   ]
  },
  {
   "cell_type": "markdown",
   "metadata": {},
   "source": [
    "and pretty print the first 10 solutions:"
   ]
  },
  {
   "cell_type": "code",
   "execution_count": 161,
   "metadata": {
    "collapsed": false
   },
   "outputs": [
    {
     "name": "stdout",
     "output_type": "stream",
     "text": [
      "1-st solution computed in 0.0114 secs:\n",
      "┌─────────────────────┐\n",
      "│   β β ι ι ι ι μ μ μ │\n",
      "│   β β ι ι   ι μ μ   │\n",
      "│   β β ι     γ ι ι   │\n",
      "│   β β ι     γ γ ι   │\n",
      "│   β β ι γ γ γ γ ι   │\n",
      "│ β β β β β γ γ γ ι   │\n",
      "└─────────────────────┘\n",
      "2-sn solution computed in 0.00898 secs:\n",
      "┌─────────────────────┐\n",
      "│   β β ι ι ι ι γ γ γ │\n",
      "│   β β ι ι   ι γ θ   │\n",
      "│   β β ι     γ γ θ   │\n",
      "│   β β ι     γ θ θ   │\n",
      "│   β β ι γ γ γ θ ι   │\n",
      "│ β β β β β ι ι ι ι   │\n",
      "└─────────────────────┘\n",
      "3-rd solution computed in 0.00149 secs:\n",
      "┌─────────────────────┐\n",
      "│   β β ι ι ι ι ζ ζ ζ │\n",
      "│   β β ι ι   ι κ ζ   │\n",
      "│   β β ι     γ κ ζ   │\n",
      "│   β β ι     γ κ κ   │\n",
      "│   β β ι γ γ γ κ ι   │\n",
      "│ β β β β β ι ι ι ι   │\n",
      "└─────────────────────┘\n",
      "4-th solution computed in 0.00289 secs:\n",
      "┌─────────────────────┐\n",
      "│   β β ι ι ι ι μ μ μ │\n",
      "│   β β ι ι   ι μ μ   │\n",
      "│   β β ι     γ μ μ   │\n",
      "│   β β ι     γ μ μ   │\n",
      "│   β β ι γ γ γ μ ι   │\n",
      "│ β β β β β ι ι ι ι   │\n",
      "└─────────────────────┘\n",
      "5-th solution computed in 0.0013 secs:\n",
      "┌─────────────────────┐\n",
      "│   β β ι ι ι ι γ γ γ │\n",
      "│   β β ι ι   ι γ κ   │\n",
      "│   β β ι     γ γ κ   │\n",
      "│   β β ι     γ κ κ   │\n",
      "│   β β ι γ γ γ κ κ   │\n",
      "│ β β β β β κ κ κ κ   │\n",
      "└─────────────────────┘\n",
      "6-th solution computed in 0.00125 secs:\n",
      "┌─────────────────────┐\n",
      "│   β β ι ι ι ι ζ ζ ζ │\n",
      "│   β β ι ι   ι θ ζ   │\n",
      "│   β β ι     γ θ ζ   │\n",
      "│   β β ι     γ θ θ   │\n",
      "│   β β ι γ γ γ κ θ   │\n",
      "│ β β β β β κ κ κ κ   │\n",
      "└─────────────────────┘\n",
      "7-th solution computed in 0.00452 secs:\n",
      "┌─────────────────────┐\n",
      "│   β β ι ι ι ι μ μ μ │\n",
      "│   β β ι ι   ι μ μ   │\n",
      "│   β β ι     γ μ μ   │\n",
      "│   β β ι     γ μ μ   │\n",
      "│   β β ι γ γ γ κ μ   │\n",
      "│ β β β β β κ κ κ κ   │\n",
      "└─────────────────────┘\n",
      "8-th solution computed in 0.0142 secs:\n",
      "┌─────────────────────┐\n",
      "│   β β ι ι ι ι μ μ μ │\n",
      "│   β β ι ι   ι μ μ   │\n",
      "│   β β ι     γ γ γ   │\n",
      "│   β β ι     γ μ μ   │\n",
      "│   β β ι θ θ γ μ μ   │\n",
      "│ β β β β β θ θ θ μ   │\n",
      "└─────────────────────┘\n",
      "9-th solution computed in 0.002 secs:\n",
      "┌─────────────────────┐\n",
      "│   β β ι ι ι ι μ μ μ │\n",
      "│   β β ι ι   ι μ μ   │\n",
      "│   β β ι     δ δ κ   │\n",
      "│   β β ι     δ κ κ   │\n",
      "│   β β ι θ θ δ δ κ   │\n",
      "│ β β β β β θ θ θ κ   │\n",
      "└─────────────────────┘\n",
      "10-th solution computed in 0.00124 secs:\n",
      "┌─────────────────────┐\n",
      "│   β β ι ι ι ι μ μ μ │\n",
      "│   β β ι ι   ι μ μ   │\n",
      "│   β β ι     δ δ δ   │\n",
      "│   β β ι     δ λ δ   │\n",
      "│   β β ι θ θ λ λ λ   │\n",
      "│ β β β β β θ θ θ λ   │\n",
      "└─────────────────────┘\n"
     ]
    }
   ],
   "source": [
    "for i in range(10):\n",
    "    with timing(lambda: next(polys_sols)) as (s, start, end):\n",
    "        t = (end - start, 'secs')\n",
    "        t = (t[0] / 60, 'mins') if t[0] > 59 else t\n",
    "        t = (t[0] / 60, 'hours') if t[0] > 59 else t\n",
    "        o = \"st\" if not i else \"sn\"\n",
    "        print(\"{}-{} solution computed in {:.3} {}:\\n{}\".format(i+1, o if i < 2 else (\"rd\" if i == 2 else \"th\"), \n",
    "                                                                *t, pretty(s, dim, lower_greek_symbols())))"
   ]
  },
  {
   "cell_type": "markdown",
   "metadata": {},
   "source": [
    "## Fibonacci tilings\n",
    "\n",
    "It is interesting to way we define shape because allows us to build shapes composed of a *different* number of cells. In the following cell we define two shapes that resembles a *Fibonacci* schema:"
   ]
  },
  {
   "cell_type": "code",
   "execution_count": 99,
   "metadata": {
    "collapsed": true
   },
   "outputs": [],
   "source": [
    "\"\"\"\n",
    "*\n",
    "\"\"\"\n",
    "square_shape = lambda r, c: [((r, c),)]\n",
    "\n",
    "\"\"\"\n",
    "* *\n",
    "\n",
    "*\n",
    "*\n",
    "\"\"\"\n",
    "domino_shape = lambda r, c: [((r, c), (r, c+1)),\n",
    "                             ((r, c), (r+1, c))]"
   ]
  },
  {
   "cell_type": "markdown",
   "metadata": {},
   "source": [
    "collect them together:"
   ]
  },
  {
   "cell_type": "code",
   "execution_count": 107,
   "metadata": {
    "collapsed": true
   },
   "outputs": [],
   "source": [
    "fibonacci_shapes = [square_shape, domino_shape]"
   ]
  },
  {
   "cell_type": "markdown",
   "metadata": {},
   "source": [
    "and use an infinite copy of pieces for each shape to tile a strip with 12 columns:"
   ]
  },
  {
   "cell_type": "code",
   "execution_count": 163,
   "metadata": {
    "collapsed": true
   },
   "outputs": [],
   "source": [
    "dim = (1,12)\n",
    "fibonacci_sols = polyominoes(dim, fibonacci_shapes, availables='inf', forbidden=[])"
   ]
  },
  {
   "cell_type": "markdown",
   "metadata": {},
   "source": [
    "as the theory confirms, there are 233 way to tile such strip:"
   ]
  },
  {
   "cell_type": "code",
   "execution_count": 164,
   "metadata": {
    "collapsed": false
   },
   "outputs": [
    {
     "name": "stdout",
     "output_type": "stream",
     "text": [
      "233 sols in 0.01463627815246582 secs\n"
     ]
    }
   ],
   "source": [
    "with timing(lambda: len(list(fibonacci_sols))) as (t, start, end):\n",
    "    print(\"{} sols in {} secs\".format(t, end-start))"
   ]
  },
  {
   "cell_type": "markdown",
   "metadata": {},
   "source": [
    "To see the pattern, we can tile a greater board:"
   ]
  },
  {
   "cell_type": "code",
   "execution_count": 170,
   "metadata": {
    "collapsed": true
   },
   "outputs": [],
   "source": [
    "dim = (3,50)\n",
    "fibonacci_sols = polyominoes(dim, fibonacci_shapes, availables='inf', forbidden=[])"
   ]
  },
  {
   "cell_type": "markdown",
   "metadata": {},
   "source": [
    "and pretty print the first 10 solutions:"
   ]
  },
  {
   "cell_type": "code",
   "execution_count": 171,
   "metadata": {
    "collapsed": false
   },
   "outputs": [
    {
     "name": "stdout",
     "output_type": "stream",
     "text": [
      "1-st solution computed in 0.0039 secs:\n",
      "┌─────────────────────────────────────────────────────────────────────────────────────────────────────┐\n",
      "│ α α α α α α α α α α α α α α α α α α α α α α α α α α α α α α α α α α α α α α α α α α α α α α α α α α │\n",
      "│ α α α α α α α α α α α α α α α α α α α α α α α α α α α α α α α α α α α α α α α α α α α α α α α α α α │\n",
      "│ α α α α α α α α α α α α α α α α α α α α α α α α α α α α α α α α α α α α α α α α α α α α α α α α α α │\n",
      "└─────────────────────────────────────────────────────────────────────────────────────────────────────┘\n",
      "2-sn solution computed in 8.32e-05 secs:\n",
      "┌─────────────────────────────────────────────────────────────────────────────────────────────────────┐\n",
      "│ α α α α α α α α α α α α α α α α α α α α α α α α α α α α α α α α α α α α α α α α α α α α α α α α α α │\n",
      "│ α α α α α α α α α α α α α α α α α α α α α α α α α α α α α α α α α α α α α α α α α α α α α α α α α β │\n",
      "│ α α α α α α α α α α α α α α α α α α α α α α α α α α α α α α α α α α α α α α α α α α α α α α α α α β │\n",
      "└─────────────────────────────────────────────────────────────────────────────────────────────────────┘\n",
      "3-rd solution computed in 7.8e-05 secs:\n",
      "┌─────────────────────────────────────────────────────────────────────────────────────────────────────┐\n",
      "│ α α α α α α α α α α α α α α α α α α α α α α α α α α α α α α α α α α α α α α α α α α α α α α α α α β │\n",
      "│ α α α α α α α α α α α α α α α α α α α α α α α α α α α α α α α α α α α α α α α α α α α α α α α α α β │\n",
      "│ α α α α α α α α α α α α α α α α α α α α α α α α α α α α α α α α α α α α α α α α α α α α α α α α α α │\n",
      "└─────────────────────────────────────────────────────────────────────────────────────────────────────┘\n",
      "4-th solution computed in 0.000101 secs:\n",
      "┌─────────────────────────────────────────────────────────────────────────────────────────────────────┐\n",
      "│ α α α α α α α α α α α α α α α α α α α α α α α α α α α α α α α α α α α α α α α α α α α α α α α α α α │\n",
      "│ α α α α α α α α α α α α α α α α α α α α α α α α α α α α α α α α α α α α α α α α α α α α α α α α α α │\n",
      "│ α α α α α α α α α α α α α α α α α α α α α α α α α α α α α α α α α α α α α α α α α α α α α α α α β β │\n",
      "└─────────────────────────────────────────────────────────────────────────────────────────────────────┘\n",
      "5-th solution computed in 7.32e-05 secs:\n",
      "┌─────────────────────────────────────────────────────────────────────────────────────────────────────┐\n",
      "│ α α α α α α α α α α α α α α α α α α α α α α α α α α α α α α α α α α α α α α α α α α α α α α α α α β │\n",
      "│ α α α α α α α α α α α α α α α α α α α α α α α α α α α α α α α α α α α α α α α α α α α α α α α α α β │\n",
      "│ α α α α α α α α α α α α α α α α α α α α α α α α α α α α α α α α α α α α α α α α α α α α α α α α β β │\n",
      "└─────────────────────────────────────────────────────────────────────────────────────────────────────┘\n",
      "6-th solution computed in 0.000106 secs:\n",
      "┌─────────────────────────────────────────────────────────────────────────────────────────────────────┐\n",
      "│ α α α α α α α α α α α α α α α α α α α α α α α α α α α α α α α α α α α α α α α α α α α α α α α α α α │\n",
      "│ α α α α α α α α α α α α α α α α α α α α α α α α α α α α α α α α α α α α α α α α α α α α α α α α β β │\n",
      "│ α α α α α α α α α α α α α α α α α α α α α α α α α α α α α α α α α α α α α α α α α α α α α α α α α α │\n",
      "└─────────────────────────────────────────────────────────────────────────────────────────────────────┘\n",
      "7-th solution computed in 9.89e-05 secs:\n",
      "┌─────────────────────────────────────────────────────────────────────────────────────────────────────┐\n",
      "│ α α α α α α α α α α α α α α α α α α α α α α α α α α α α α α α α α α α α α α α α α α α α α α α α α α │\n",
      "│ α α α α α α α α α α α α α α α α α α α α α α α α α α α α α α α α α α α α α α α α α α α α α α α α β β │\n",
      "│ α α α α α α α α α α α α α α α α α α α α α α α α α α α α α α α α α α α α α α α α α α α α α α α α β β │\n",
      "└─────────────────────────────────────────────────────────────────────────────────────────────────────┘\n",
      "8-th solution computed in 0.000113 secs:\n",
      "┌─────────────────────────────────────────────────────────────────────────────────────────────────────┐\n",
      "│ α α α α α α α α α α α α α α α α α α α α α α α α α α α α α α α α α α α α α α α α α α α α α α α α α α │\n",
      "│ α α α α α α α α α α α α α α α α α α α α α α α α α α α α α α α α α α α α α α α α α α α α α α α α β α │\n",
      "│ α α α α α α α α α α α α α α α α α α α α α α α α α α α α α α α α α α α α α α α α α α α α α α α α β α │\n",
      "└─────────────────────────────────────────────────────────────────────────────────────────────────────┘\n",
      "9-th solution computed in 6.99e-05 secs:\n",
      "┌─────────────────────────────────────────────────────────────────────────────────────────────────────┐\n",
      "│ α α α α α α α α α α α α α α α α α α α α α α α α α α α α α α α α α α α α α α α α α α α α α α α α α α │\n",
      "│ α α α α α α α α α α α α α α α α α α α α α α α α α α α α α α α α α α α α α α α α α α α α α α α α β β │\n",
      "│ α α α α α α α α α α α α α α α α α α α α α α α α α α α α α α α α α α α α α α α α α α α α α α α α β β │\n",
      "└─────────────────────────────────────────────────────────────────────────────────────────────────────┘\n",
      "10-th solution computed in 7.39e-05 secs:\n",
      "┌─────────────────────────────────────────────────────────────────────────────────────────────────────┐\n",
      "│ α α α α α α α α α α α α α α α α α α α α α α α α α α α α α α α α α α α α α α α α α α α α α α α α α β │\n",
      "│ α α α α α α α α α α α α α α α α α α α α α α α α α α α α α α α α α α α α α α α α α α α α α α α α β β │\n",
      "│ α α α α α α α α α α α α α α α α α α α α α α α α α α α α α α α α α α α α α α α α α α α α α α α α β α │\n",
      "└─────────────────────────────────────────────────────────────────────────────────────────────────────┘\n"
     ]
    }
   ],
   "source": [
    "for i in range(10):\n",
    "    with timing(lambda: next(fibonacci_sols)) as (s, start, end):\n",
    "        t = (end - start, 'secs')\n",
    "        t = (t[0] / 60, 'mins') if t[0] > 59 else t\n",
    "        t = (t[0] / 60, 'hours') if t[0] > 59 else t\n",
    "        o = \"st\" if not i else \"sn\"\n",
    "        print(\"{}-{} solution computed in {:.3} {}:\\n{}\".format(i+1, o if i < 2 else (\"rd\" if i == 2 else \"th\"), \n",
    "                                                                *t, pretty(s, dim, lower_greek_symbols())))"
   ]
  },
  {
   "cell_type": "code",
   "execution_count": null,
   "metadata": {
    "collapsed": true
   },
   "outputs": [],
   "source": []
  }
 ],
 "metadata": {
  "kernelspec": {
   "display_name": "Python 3",
   "language": "python",
   "name": "python3"
  },
  "language_info": {
   "codemirror_mode": {
    "name": "ipython",
    "version": 3
   },
   "file_extension": ".py",
   "mimetype": "text/x-python",
   "name": "python",
   "nbconvert_exporter": "python",
   "pygments_lexer": "ipython3",
   "version": "3.5.1"
  }
 },
 "nbformat": 4,
 "nbformat_minor": 0
}
