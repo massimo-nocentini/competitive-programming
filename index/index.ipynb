{
 "cells": [
  {
   "cell_type": "markdown",
   "metadata": {},
   "source": [
    "# Competitive Programming\n",
    "\n",
    "In [my repo][my] I put my programming training, mostly based on the [CP book][cpbook], against \n",
    "[UVa judge][UVa:judge]. \n",
    "\n",
    "This document is an index of the problems I've worked on, possibly with some comments.\n",
    "\n",
    "[cpbook]:http://cpbook.net/#CP3details\n",
    "[UVa:judge]:https://uva.onlinejudge.org/index.php?option=com_frontpage&Itemid=1\n",
    "[my]:https://github.com/massimo-nocentini/competitive-programming"
   ]
  },
  {
   "cell_type": "code",
   "execution_count": 1,
   "metadata": {
    "collapsed": true
   },
   "outputs": [],
   "source": [
    "from sympy import *\n",
    "\n",
    "init_printing()"
   ]
  },
  {
   "cell_type": "markdown",
   "metadata": {},
   "source": [
    "## Python libs\n",
    "\n",
    "My plan is to use Python as the primary language to solve problems; for this reason,\n",
    "the [`python-libs`][python:libs] directory contains useful definitions to ease solving, \n",
    "such as [input utils][libs:input], [sorting and ordering][libs:sorting], \n",
    "[behavior][libs:behavior], [bit manipulation][libs:bit:manipulation].\n",
    "\n",
    "[python:libs]:https://github.com/massimo-nocentini/competitive-programming/tree/master/python-libs\n",
    "[libs:input]:https://github.com/massimo-nocentini/competitive-programming/blob/master/python-libs/inpututils.py\n",
    "[libs:sorting]:https://github.com/massimo-nocentini/competitive-programming/blob/master/python-libs/sorting.py\n",
    "[libs:behavior]:https://github.com/massimo-nocentini/competitive-programming/blob/master/python-libs/behavior.py\n",
    "[libs:bit:manipulation]:https://github.com/massimo-nocentini/competitive-programming/blob/master/python-libs/bits.py"
   ]
  },
  {
   "cell_type": "markdown",
   "metadata": {},
   "source": [
    "## WIP problems"
   ]
  },
  {
   "cell_type": "markdown",
   "metadata": {},
   "source": [
    "## RTE problems"
   ]
  },
  {
   "cell_type": "markdown",
   "metadata": {},
   "source": [
    "[UVa 11093][UVa11093]: **Just Finish it up** ([code][UVa11093:code])<br>\n",
    "locally seems to work, although the judge cannot exec it\n",
    "\n",
    "[UVa11093]:https://uva.onlinejudge.org/index.php?option=com_onlinejudge&Itemid=8&page=show_problem&problem=2034\n",
    "[UVa11093:code]:https://github.com/massimo-nocentini/competitive-programming/blob/master/UVa/11093.py"
   ]
  },
  {
   "cell_type": "markdown",
   "metadata": {},
   "source": [
    "## Solved problems\n",
    "The following content grows as a stack, namely most recently solved on top:\n"
   ]
  },
  {
   "cell_type": "markdown",
   "metadata": {},
   "source": [
    "[UVa 11173][UVa11173]: **Gray codes** ([code][UVa11173:code])<br>\n",
    "elegant solution using bits manipulation, maybe the set of test cases is quite big, my sol runs in 2.48 sec, against a time limit of 3 sec. The theory behind this sol is given by [Frank Ruskey][fr] in his [Combinatorial Generation][cg] book.\n",
    "\n",
    "Let $r$, standing for *rank*, be a function defined inductively as follows:\n",
    "$$\n",
    "    r()=0 \\\\\n",
    "    r(0 g_{n-1} \\ldots g_{1} ) = r(g_{n-1} \\ldots g_{1} ) \\\\\n",
    "    r(1 g_{n-1} \\ldots g_{1} ) = 2^{n-1} + \\bar{r}(g_{n-1} \\ldots g_{1} )\n",
    "$$\n",
    "where auxiliary function $\\bar{r}$ is defined as:\n",
    "$$\n",
    "    \\bar{r}()=0 \\\\\n",
    "    \\bar{r}(0 g_{n-1} \\ldots g_{1} ) = 2^{n-1} + \\bar{r}(g_{n-1} \\ldots g_{1} )  \\\\\n",
    "    \\bar{r}(1 g_{n-1} \\ldots g_{1} ) = r(g_{n-1} \\ldots g_{1} )\n",
    "$$\n",
    "\n",
    "In Ruskey words, slightly modified:\n",
    "\n",
    ">Let $\\textbf{g}=g_{n}\\ldots g_{1}$ be a Gray code and assume $r(g_{n}\\ldots g_{1})=(b_{n-1}\\ldots b_{0})_{2}$. This mutual recursive definition may be interpreted as setting $b_{n−1}$ to 0 or 1, depending upon whether\n",
    "the term $2^{n−1}$ in the binary expansion is present or not. The repeated application of these\n",
    "recurrence relations to a bitstring may then be thought of as sweeping functions $r$ or $\\bar{r}$ from left-to-right as illustrated in the example below, where $\\textbf{g}=g_{n}\\ldots g_{1} = 111010101$:\n",
    "\n",
    "$$\n",
    "\\begin{array}{cccccccccc}\n",
    "       & g_{9} & g_{8} & g_{7} & g_{6} & g_{5} & g_{4} & g_{3} & g_{2} & g_{1} \\\\\n",
    "     r & 1 & 1 & 1 & 0 & 1 & 0 & 1 & 0 & 1 \\\\\n",
    "     1 & \\bar{r} & 1 & 1 & 0 & 1 & 0 & 1 & 0 & 1 \\\\\n",
    "     1 & 0 & r & 1 & 0 & 1 & 0 & 1 & 0 & 1 \\\\\n",
    "     1 & 0 & 1 & \\bar{r} & 0 & 1 & 0 & 1 & 0 & 1 \\\\\n",
    "     1 & 0 & 1 & 1 & \\bar{r} & 1 & 0 & 1 & 0 & 1 \\\\\n",
    "     1 & 0 & 1 & 1 & 0 & r & 0 & 1 & 0 & 1 \\\\\n",
    "     1 & 0 & 1 & 1 & 0 & 0 & r & 1 & 0 & 1 \\\\\n",
    "     1 & 0 & 1 & 1 & 0 & 0 & 1 & \\bar{r} & 0 & 1 \\\\\n",
    "     1 & 0 & 1 & 1 & 0 & 0 & 1 & 1 & \\bar{r} & 1 \\\\\n",
    "     1 & 0 & 1 & 1 & 0 & 0 & 1 & 1 & 0 & r \\\\\n",
    "     b_{8} & b_{7} & b_{6} & b_{5} & b_{4} & b_{3} & b_{2} & b_{1} & b_{0} \\\\\n",
    "\\end{array}\n",
    "$$\n",
    "\n",
    ">With $g_{n+1}$ = 0, note that an $r$ always has a 0 to its left and a $\\bar{r}$ has a 1 to its left. Thus\n",
    "for each sub-sequence $b_{i}\\,\\sigma\\,g_{i}$, where $\\sigma\\in\\lbrace r, \\bar{r}\\rbrace$, there are *four* possibilities $\\lbrace 0\\,r\\,0, 0\\,r\\,1, 1\\,\\bar{r}\\,0, 1\\,\\bar{r}\\,1\\rbrace$. The resulting values of $b_{i−1}$ are $\\lbrace 0, 1, 1, 0 \\rbrace$ in those four cases, respectively:\n",
    "\n",
    "$$\n",
    "\\begin{array}{ccc}\n",
    "    b_{i} & \\sigma & g_{\\hat{i}} \\\\\n",
    "     & \\downarrow & \\\\\n",
    "    b_{i} & b_{i-1} & \\sigma' \\\\\n",
    "\\end{array}\n",
    "$$\n",
    "\n",
    ">where $\\downarrow$ is the application of function $\\sigma \\in \\lbrace r, \\bar{r}\\rbrace$, which sets $b_{i-1}$ and function $\\sigma'$ according to the mutual definition. From this we observe that $b_{i−1} = b_i \\oplus g_{\\hat{i}}$ , where $\\oplus$ denotes exclusive-or: the bit below an $r$ or $\\bar{r}$ is the exclusive-or of the bits left and right of the $r$ or $\\bar{r}$. Therefore the following holds:\n",
    "\n",
    "$$ r(g_{n}\\ldots g_{1})=(b_{n-1}\\ldots b_{0})_{2} \\rightarrow b_{i−1} = b_i \\oplus g_{\\hat{i}} $$\n",
    "\n",
    ">where $g_{\\hat{i}} = g_{i-1}$.\n",
    " \n",
    "We can use the above argument to produce the Gray code with generic symbol $g_{i-1}$, zero-based indexing, in rank or position $k$ (named $b$ above) using the relation $k_i \\oplus k_{i−1} =  g_{i-1}$ and visualized as:\n",
    "\n",
    "$$\n",
    "\\begin{array}{ccccc}\n",
    "    b_{i} & & b_{i-1} & & b_{i-2} \\\\\n",
    "    \\oplus & \\searrow & \\oplus & \\searrow & \\oplus \\\\\n",
    "    b_{i+1} & & b_{i} & & b_{i-1} \\\\\n",
    "    = & & = & & = \\\\\n",
    "    g_{i} & & g_{i-1} & & g_{i-2} \\\\\n",
    "\\end{array}\n",
    "$$\n",
    "\n",
    "observe that the former and latter rows stay steal, only the middle is shifted to the right. Python code that implements the writing above is pretty elegant:\n",
    "    \n",
    "    def gray_code(k): \n",
    "        g = k ^ (k >> 1)\n",
    "        return g\n",
    "\n",
    "and do a quick check against the Ruskey's example:\n",
    "\n",
    "    >>>bin(gray_code(0b101100110))\n",
    "    '0b111010101'\n",
    "    \n",
    "---\n",
    "\n",
    "Although not required, we can work the relation $k_{i−1} = k_i \\oplus  g_{i-1}$ backwards, namely given a Gray code `g` find the corresponding position or rank `k`. To succeed, we think inductively as follows: rewrite the same schema, starting from the very left, namely the most significant part\n",
    "\n",
    "$$\n",
    "\\begin{array}{ccccc}\n",
    "    b_{n-1} & & b_{n-2} & & b_{n-3} \\\\\n",
    "    = & \\searrow & = & \\searrow & = \\\\\n",
    "    0 & & b_{n-1} & & b_{n-2} \\\\\n",
    "    \\oplus & & \\oplus & & \\oplus \\\\\n",
    "    g_{n-1} & & g_{n-2} & & g_{n-3} \\\\\n",
    "\\end{array}\n",
    "$$\n",
    "\n",
    "where the row in the middle starts with 0 because it is shifted to the right by one. Doing the leftmost $\\oplus$ and copying it according to the arrow -- after all, the middle row *is* the first one, just shifted -- we get:\n",
    "\n",
    "$$\n",
    "\\begin{array}{ccccc}\n",
    "    g_{n-1} & & b_{n-2} & & b_{n-3} \\\\\n",
    "    = & \\searrow & = & \\searrow & = \\\\\n",
    "    0 & & g_{n-1} & & b_{n-2} \\\\\n",
    "    \\oplus & & \\oplus & & \\oplus \\\\\n",
    "    g_{n-1} & & g_{n-2} & & g_{n-3} \\\\\n",
    "\\end{array}\n",
    "$$\n",
    "\n",
    "We can complete the induction steps, obtaining:\n",
    "\n",
    "$$\n",
    "\\begin{array}{ccccc}\n",
    "    g_{n-1} & & g_{n-2}\\oplus g_{n-1} & & g_{n-3}\\oplus g_{n-2}\\oplus g_{n-1} \\\\\n",
    "    = & \\searrow & = & \\searrow & = \\\\\n",
    "    0 & & g_{n-1} & & g_{n-2}\\oplus g_{n-1} \\\\\n",
    "    \\oplus & & \\oplus & & \\oplus \\\\\n",
    "    g_{n-1} & & g_{n-2} & & g_{n-3} \\\\\n",
    "\\end{array}\n",
    "$$\n",
    "\n",
    "it seems that we have to *cumulate* the given gray code. In order to derive working Python code, we can split the above schema according the following equivalent one:\n",
    "\n",
    "$$\n",
    "\\begin{array}{ccc}\n",
    "    b_{n-1} & b_{n-2} & b_{n-3} \\\\\n",
    "    = & = & = \\\\\n",
    "    g_{n-1} & g_{n-1} & g_{n-1} \\\\\n",
    "     & \\oplus & \\oplus \\\\\n",
    "      & g_{n-2} & g_{n-2} \\\\\n",
    "     &  & \\oplus \\\\\n",
    "      &  & g_{n-3} \\\\\n",
    "\\end{array}\n",
    "$$\n",
    "\n",
    "Hence the following implementation can be written\n",
    "\n",
    "    def gray_position(g):\n",
    "        k=0\n",
    "        for i in reversed(range(g.bit_length())):\n",
    "            k ^= all_on(i+1) * is_on(g, i)\n",
    "        return k\n",
    "\n",
    "where auxiliary functions are defined as follows:\n",
    "\n",
    "    def all_on(i): \n",
    "        return (1 << i) - 1\n",
    "\n",
    "    def is_on(n, i, return_int=False): \n",
    "        res = n & (1 << i)\n",
    "        return res if return_int else bool(res)\n",
    "\n",
    "We code the repetition of each symbol $g_{i}$ building a sequence of ones of the correct length at each iteration, multiplied by a check that ensure that such symbol is actually 1. Let us check our code against the gray code in the example above:\n",
    "\n",
    "    >>>bin(gray_position(0b111010101))\n",
    "    '0b101100110'\n",
    "\n",
    "    \n",
    "[fr]:http://webhome.cs.uvic.ca/~ruskey/\n",
    "[cg]:http://www.1stworks.com/ref/RuskeyCombGen.pdf\n",
    "[UVa11173]:https://uva.onlinejudge.org/index.php?option=com_onlinejudge&Itemid=8&page=show_problem&problem=2114\n",
    "[UVa11173:code]:https://github.com/massimo-nocentini/competitive-programming/blob/master/UVa/11173.py"
   ]
  },
  {
   "cell_type": "markdown",
   "metadata": {},
   "source": [
    "[UVa 11040][UVa11040]: **Add bricks in the wall** ([code][UVa11040:code])<br>\n",
    "probably TLE if exaustive search is done via backtrack. The problem has\n",
    "a recursive structure, where α, β and γ are given integers:\n",
    "\n",
    "          α    \n",
    "         δ ε\n",
    "        β ζ γ\n",
    "\n",
    " Solving the system of equations respect to ζ:\n",
    "\n",
    "        δ = β + ζ\n",
    "        ε = ζ + γ\n",
    "        α = δ + ε\n",
    "\n",
    " yields ζ = (α - β - γ)/2 . According to the problem rules, \n",
    " we use the former two equations in the system to fill both δ and ε.\n",
    " Observe that this holds within the *whole* triangle, therefore it is possible to\n",
    " build it during input scan, avoiding to fill it bottom-up.\n",
    "     \n",
    "[UVa11040]:https://uva.onlinejudge.org/index.php?option=com_onlinejudge&Itemid=8&category=624&page=show_problem&problem=1981\n",
    "[UVa11040:code]:https://github.com/massimo-nocentini/competitive-programming/blob/master/UVa/11040.py"
   ]
  },
  {
   "cell_type": "markdown",
   "metadata": {},
   "source": [
    "[UVa 101][UVa101]: **The Block Problem** ([code][UVa101:code])<br>\n",
    "a sort of *double dispatching* to implement an *automaton* of commands; moreover, nice play with Python `list`s used as stacks.\n",
    "\n",
    "[UVa101]:https://uva.onlinejudge.org/index.php?option=com_onlinejudge&Itemid=8&page=show_problem&problem=37\n",
    "[UVa101:code]:https://github.com/massimo-nocentini/competitive-programming/blob/master/UVa/101.py\n"
   ]
  },
  {
   "cell_type": "markdown",
   "metadata": {},
   "source": [
    "[UVa 11942][UVa11942]: **Lumberjack Sequencing** ([code][UVa11942:code])<br>\n",
    "use Python condition concatenation `a < b < c < d < e < f < g < h < i < j` for asc/des order checks.\n",
    "\n",
    "\n",
    "[UVa11942]:https://uva.onlinejudge.org/index.php?option=com_onlinejudge&Itemid=8&page=show_problem&problem=3093\n",
    "[UVa11942:code]:https://github.com/massimo-nocentini/competitive-programming/blob/master/UVa/11942.py\n"
   ]
  },
  {
   "cell_type": "markdown",
   "metadata": {},
   "source": [
    "[UVa 11559][UVa11559]: **Event Planning** ([code][UVa11559:code])\n",
    "\n",
    "\n",
    "[UVa11559]:https://uva.onlinejudge.org/index.php?option=com_onlinejudge&Itemid=8&category=608&page=show_problem&problem=2595\n",
    "[UVa11559:code]:https://github.com/massimo-nocentini/competitive-programming/blob/master/UVa/11559.py\n"
   ]
  },
  {
   "cell_type": "markdown",
   "metadata": {},
   "source": [
    "[UVa 11332][UVa11332]: **Summing Digits** ([code][UVa11332:code])<br>\n",
    "use Python facilities to write an integer `n` in base 10; the sum of its digits is `sum(map(int, str(n)))`.\n",
    "\n",
    "[UVa11332]:https://uva.onlinejudge.org/index.php?option=com_onlinejudge&Itemid=8&category=608&page=show_problem&problem=2307\n",
    "[UVa11332:code]:https://github.com/massimo-nocentini/competitive-programming/blob/master/UVa/11332.py"
   ]
  },
  {
   "cell_type": "markdown",
   "metadata": {},
   "source": [
    "[UVa 10114][UVa10114]: **Loansome Car Buyer** ([code][UVa10114:code])<br>\n",
    "one pass after filling vector 'piggyback', as time series for deprecation percentages\n",
    "\n",
    "[UVa10114]:https://uva.onlinejudge.org/index.php?option=com_onlinejudge&Itemid=8&category=608&page=show_problem&problem=1055\n",
    "[UVa10114:code]:https://github.com/massimo-nocentini/competitive-programming/blob/master/UVa/10114.py"
   ]
  },
  {
   "cell_type": "markdown",
   "metadata": {},
   "source": [
    "[UVa 11547][UVa11547]: **Automatic Answer** ([code][UVa11547:code])<br>\n",
    "if `a` is an integer, apply `a // 10 % 10` to get digit in decine position\n",
    "\n",
    "[UVa11547]:https://uva.onlinejudge.org/index.php?option=com_onlinejudge&Itemid=8&category=607&page=show_problem&problem=2542\n",
    "[UVa11547:code]:https://github.com/massimo-nocentini/competitive-programming/blob/master/UVa/11547.py\n"
   ]
  },
  {
   "cell_type": "markdown",
   "metadata": {},
   "source": [
    "[UVa 11727][UVa11727]: **Cost Cutting** ([code][UVa11727:code])\n",
    "\n",
    "[UVa11727]:https://uva.onlinejudge.org/index.php?option=com_onlinejudge&Itemid=8&page=show_problem&problem=2827\n",
    "[UVa11727:code]:https://github.com/massimo-nocentini/competitive-programming/blob/master/UVa/11727.py"
   ]
  },
  {
   "cell_type": "markdown",
   "metadata": {},
   "source": [
    "[UVa 11498][UVa11498]: **Division of Nlogonia** ([code][UVa11498:code])\n",
    "\n",
    "[UVa11498]:https://uva.onlinejudge.org/index.php?option=com_onlinejudge&Itemid=8&page=show_problem&problem=2493\n",
    "[UVa11498:code]:https://github.com/massimo-nocentini/competitive-programming/blob/master/UVa/11498.py"
   ]
  },
  {
   "cell_type": "markdown",
   "metadata": {},
   "source": [
    "[UVa 11172][UVa11172]: **Relational Operator** ([code][UVa11172:code])\n",
    "\n",
    "[UVa11172]:https://uva.onlinejudge.org/index.php?option=com_onlinejudge&Itemid=8&page=show_problem&problem=2113\n",
    "[UVa11172:code]:https://github.com/massimo-nocentini/competitive-programming/blob/master/UVa/11172.py"
   ]
  }
 ],
 "metadata": {
  "kernelspec": {
   "display_name": "Python 3",
   "language": "python",
   "name": "python3"
  },
  "language_info": {
   "codemirror_mode": {
    "name": "ipython",
    "version": 3
   },
   "file_extension": ".py",
   "mimetype": "text/x-python",
   "name": "python",
   "nbconvert_exporter": "python",
   "pygments_lexer": "ipython3",
   "version": "3.5.1"
  }
 },
 "nbformat": 4,
 "nbformat_minor": 0
}
